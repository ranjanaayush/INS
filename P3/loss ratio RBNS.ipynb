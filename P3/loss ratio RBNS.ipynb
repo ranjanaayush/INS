{
 "cells": [
  {
   "cell_type": "code",
   "execution_count": 1,
   "id": "e8e00cca-bdc5-4fac-a976-84310a2136a4",
   "metadata": {},
   "outputs": [
    {
     "name": "stderr",
     "output_type": "stream",
     "text": [
      "\n",
      "Attaching package: 'lubridate'\n",
      "\n",
      "\n",
      "The following objects are masked from 'package:data.table':\n",
      "\n",
      "    hour, isoweek, mday, minute, month, quarter, second, wday, week,\n",
      "    yday, year\n",
      "\n",
      "\n",
      "The following objects are masked from 'package:base':\n",
      "\n",
      "    date, intersect, setdiff, union\n",
      "\n",
      "\n",
      "\n",
      "Attaching package: 'cowplot'\n",
      "\n",
      "\n",
      "The following object is masked from 'package:lubridate':\n",
      "\n",
      "    stamp\n",
      "\n",
      "\n",
      "-- \u001b[1mAttaching packages\u001b[22m ------------------------------------------------------------------------------ tidymodels 1.1.0 --\n",
      "\n",
      "\u001b[32mv\u001b[39m \u001b[34mbroom       \u001b[39m 1.0.5     \u001b[32mv\u001b[39m \u001b[34mrsample     \u001b[39m 1.1.1\n",
      "\u001b[32mv\u001b[39m \u001b[34mdials       \u001b[39m 1.2.0     \u001b[32mv\u001b[39m \u001b[34mtibble      \u001b[39m 3.2.1\n",
      "\u001b[32mv\u001b[39m \u001b[34mdplyr       \u001b[39m 1.1.4     \u001b[32mv\u001b[39m \u001b[34mtidyr       \u001b[39m 1.3.1\n",
      "\u001b[32mv\u001b[39m \u001b[34minfer       \u001b[39m 1.0.4     \u001b[32mv\u001b[39m \u001b[34mtune        \u001b[39m 1.1.1\n",
      "\u001b[32mv\u001b[39m \u001b[34mmodeldata   \u001b[39m 1.1.0     \u001b[32mv\u001b[39m \u001b[34mworkflows   \u001b[39m 1.1.3\n",
      "\u001b[32mv\u001b[39m \u001b[34mparsnip     \u001b[39m 1.1.0     \u001b[32mv\u001b[39m \u001b[34mworkflowsets\u001b[39m 1.0.1\n",
      "\u001b[32mv\u001b[39m \u001b[34mpurrr       \u001b[39m 1.0.2     \u001b[32mv\u001b[39m \u001b[34myardstick   \u001b[39m 1.3.1\n",
      "\u001b[32mv\u001b[39m \u001b[34mrecipes     \u001b[39m 1.0.6     \n",
      "\n",
      "-- \u001b[1mConflicts\u001b[22m --------------------------------------------------------------------------------- tidymodels_conflicts() --\n",
      "\u001b[31mx\u001b[39m \u001b[34mdplyr\u001b[39m::\u001b[32mbetween()\u001b[39m    masks \u001b[34mdata.table\u001b[39m::between()\n",
      "\u001b[31mx\u001b[39m \u001b[34mpurrr\u001b[39m::\u001b[32mdiscard()\u001b[39m    masks \u001b[34mscales\u001b[39m::discard()\n",
      "\u001b[31mx\u001b[39m \u001b[34mtidyr\u001b[39m::\u001b[32mextract()\u001b[39m    masks \u001b[34mmagrittr\u001b[39m::extract()\n",
      "\u001b[31mx\u001b[39m \u001b[34mdplyr\u001b[39m::\u001b[32mfilter()\u001b[39m     masks \u001b[34mstats\u001b[39m::filter()\n",
      "\u001b[31mx\u001b[39m \u001b[34mdplyr\u001b[39m::\u001b[32mfirst()\u001b[39m      masks \u001b[34mdata.table\u001b[39m::first()\n",
      "\u001b[31mx\u001b[39m \u001b[34mdplyr\u001b[39m::\u001b[32mgroup_rows()\u001b[39m masks \u001b[34mkableExtra\u001b[39m::group_rows()\n",
      "\u001b[31mx\u001b[39m \u001b[34mdplyr\u001b[39m::\u001b[32mlag()\u001b[39m        masks \u001b[34mstats\u001b[39m::lag()\n",
      "\u001b[31mx\u001b[39m \u001b[34mdplyr\u001b[39m::\u001b[32mlast()\u001b[39m       masks \u001b[34mdata.table\u001b[39m::last()\n",
      "\u001b[31mx\u001b[39m \u001b[34mpurrr\u001b[39m::\u001b[32mset_names()\u001b[39m  masks \u001b[34mmagrittr\u001b[39m::set_names()\n",
      "\u001b[31mx\u001b[39m \u001b[34mdplyr\u001b[39m::\u001b[32mslice()\u001b[39m      masks \u001b[34mxgboost\u001b[39m::slice()\n",
      "\u001b[31mx\u001b[39m \u001b[34mrecipes\u001b[39m::\u001b[32mstep()\u001b[39m     masks \u001b[34mstats\u001b[39m::step()\n",
      "\u001b[31mx\u001b[39m \u001b[34mpurrr\u001b[39m::\u001b[32mtranspose()\u001b[39m  masks \u001b[34mdata.table\u001b[39m::transpose()\n",
      "\u001b[34m*\u001b[39m Dig deeper into tidy modeling with R at \u001b[32mhttps://www.tmwr.org\u001b[39m\n",
      "\n"
     ]
    }
   ],
   "source": [
    "library(knitr)\n",
    "library(rmdformats)\n",
    "library(data.table)\n",
    "library(magrittr)\n",
    "library(lubridate)\n",
    "library(ggplot2)\n",
    "library(cowplot)\n",
    "library(repr)\n",
    "library(kableExtra)\n",
    "library(formattable)\n",
    "library(IRdisplay) # displays tables when in ipynb format\n",
    "\n",
    "library(xgboost)\n",
    "library(tidymodels)\n",
    "#library(SHAPforxgboost)\n",
    "\n",
    "\n",
    "source(\"./Baudry_functions_v2.R\")"
   ]
  },
  {
   "cell_type": "code",
   "execution_count": 2,
   "id": "3cfa2f16-8030-473a-bae0-c0826e7a06d0",
   "metadata": {},
   "outputs": [],
   "source": [
    "dt_PhoneData <- simulate_central_scenario(1234)\n"
   ]
  },
  {
   "cell_type": "code",
   "execution_count": 3,
   "id": "9fe6498d-792c-40a1-bb4e-9e54a5903791",
   "metadata": {},
   "outputs": [],
   "source": [
    "\n",
    "\n",
    "dt_polclaim <- join_policy_claim(dt_PhoneData,\n",
    "                                 date_pol_start = \"date_UW\",\n",
    "                                 date_pol_end = \"date_lapse\",\n",
    "                                 date_occur = \"date_occur\")\n"
   ]
  },
  {
   "cell_type": "code",
   "execution_count": 4,
   "id": "f9f4067b-a89d-4429-b1c2-846ebd3a74c0",
   "metadata": {},
   "outputs": [],
   "source": [
    "\n",
    "lst_Date_slice <- floor_date(seq(as.Date(\"2008/1/1\"), as.Date(\"2024/12/31\"), by = 180), unit= \"second\") \n",
    "dt_polclaim <- time_slice_polclaim(dt_polclaim, lst_Date_slice)"
   ]
  },
  {
   "cell_type": "code",
   "execution_count": 5,
   "id": "da9ddff5-da78-4366-8217-6973cb980936",
   "metadata": {},
   "outputs": [
    {
     "data": {
      "text/html": [
       "<table class=\"dataframe\">\n",
       "<caption>A data.table: 6 × 51</caption>\n",
       "<thead>\n",
       "\t<tr><th scope=col>pol_number</th><th scope=col>clm_number</th><th scope=col>claim_type</th><th scope=col>claim_count</th><th scope=col>claim_sev</th><th scope=col>date_occur</th><th scope=col>date_report</th><th scope=col>date_pay</th><th scope=col>claim_cost</th><th scope=col>date_pol_start</th><th scope=col>...</th><th scope=col>P_t_20200427</th><th scope=col>P_t_20201024</th><th scope=col>P_t_20210422</th><th scope=col>P_t_20211019</th><th scope=col>P_t_20220417</th><th scope=col>P_t_20221014</th><th scope=col>P_t_20230412</th><th scope=col>P_t_20231009</th><th scope=col>P_t_20240406</th><th scope=col>P_t_20241003</th></tr>\n",
       "\t<tr><th scope=col>&lt;chr&gt;</th><th scope=col>&lt;chr&gt;</th><th scope=col>&lt;chr&gt;</th><th scope=col>&lt;dbl&gt;</th><th scope=col>&lt;dbl&gt;</th><th scope=col>&lt;dttm&gt;</th><th scope=col>&lt;dttm&gt;</th><th scope=col>&lt;dttm&gt;</th><th scope=col>&lt;dbl&gt;</th><th scope=col>&lt;dttm&gt;</th><th scope=col>...</th><th scope=col>&lt;dbl&gt;</th><th scope=col>&lt;dbl&gt;</th><th scope=col>&lt;dbl&gt;</th><th scope=col>&lt;dbl&gt;</th><th scope=col>&lt;dbl&gt;</th><th scope=col>&lt;dbl&gt;</th><th scope=col>&lt;dbl&gt;</th><th scope=col>&lt;dbl&gt;</th><th scope=col>&lt;dbl&gt;</th><th scope=col>&lt;dbl&gt;</th></tr>\n",
       "</thead>\n",
       "<tbody>\n",
       "\t<tr><td>200801010001</td><td>NA          </td><td>NA</td><td>0</td><td>0.0000000</td><td>2199-12-31 23:59:59</td><td>2199-12-31 23:59:59</td><td>2199-12-31 23:59:59</td><td>  0</td><td>2008-01-01</td><td>...</td><td>  0</td><td>  0</td><td>  0</td><td>  0</td><td>  0</td><td>  0</td><td>  0</td><td>  0</td><td>  0</td><td>  0</td></tr>\n",
       "\t<tr><td>200801010002</td><td>201008260001</td><td>B </td><td>1</td><td>0.2424128</td><td>2008-10-20 00:00:00</td><td>2010-08-26 00:00:00</td><td>2012-09-07 00:00:00</td><td>221</td><td>2008-01-01</td><td>...</td><td>221</td><td>221</td><td>221</td><td>221</td><td>221</td><td>221</td><td>221</td><td>221</td><td>221</td><td>221</td></tr>\n",
       "\t<tr><td>200801010003</td><td>NA          </td><td>NA</td><td>0</td><td>0.0000000</td><td>2199-12-31 23:59:59</td><td>2199-12-31 23:59:59</td><td>2199-12-31 23:59:59</td><td>  0</td><td>2008-01-01</td><td>...</td><td>  0</td><td>  0</td><td>  0</td><td>  0</td><td>  0</td><td>  0</td><td>  0</td><td>  0</td><td>  0</td><td>  0</td></tr>\n",
       "\t<tr><td>200801010004</td><td>NA          </td><td>NA</td><td>0</td><td>0.0000000</td><td>2199-12-31 23:59:59</td><td>2199-12-31 23:59:59</td><td>2199-12-31 23:59:59</td><td>  0</td><td>2008-01-01</td><td>...</td><td>  0</td><td>  0</td><td>  0</td><td>  0</td><td>  0</td><td>  0</td><td>  0</td><td>  0</td><td>  0</td><td>  0</td></tr>\n",
       "\t<tr><td>200801010005</td><td>201004280001</td><td>B </td><td>1</td><td>0.1973073</td><td>2008-06-23 00:00:00</td><td>2010-04-28 00:00:00</td><td>2012-04-17 00:00:00</td><td>180</td><td>2008-01-01</td><td>...</td><td>180</td><td>180</td><td>180</td><td>180</td><td>180</td><td>180</td><td>180</td><td>180</td><td>180</td><td>180</td></tr>\n",
       "\t<tr><td>200801010006</td><td>NA          </td><td>NA</td><td>0</td><td>0.0000000</td><td>2199-12-31 23:59:59</td><td>2199-12-31 23:59:59</td><td>2199-12-31 23:59:59</td><td>  0</td><td>2008-01-01</td><td>...</td><td>  0</td><td>  0</td><td>  0</td><td>  0</td><td>  0</td><td>  0</td><td>  0</td><td>  0</td><td>  0</td><td>  0</td></tr>\n",
       "</tbody>\n",
       "</table>\n"
      ],
      "text/latex": [
       "A data.table: 6 × 51\n",
       "\\begin{tabular}{lllllllllllllllllllll}\n",
       " pol\\_number & clm\\_number & claim\\_type & claim\\_count & claim\\_sev & date\\_occur & date\\_report & date\\_pay & claim\\_cost & date\\_pol\\_start & ... & P\\_t\\_20200427 & P\\_t\\_20201024 & P\\_t\\_20210422 & P\\_t\\_20211019 & P\\_t\\_20220417 & P\\_t\\_20221014 & P\\_t\\_20230412 & P\\_t\\_20231009 & P\\_t\\_20240406 & P\\_t\\_20241003\\\\\n",
       " <chr> & <chr> & <chr> & <dbl> & <dbl> & <dttm> & <dttm> & <dttm> & <dbl> & <dttm> & ... & <dbl> & <dbl> & <dbl> & <dbl> & <dbl> & <dbl> & <dbl> & <dbl> & <dbl> & <dbl>\\\\\n",
       "\\hline\n",
       "\t 200801010001 & NA           & NA & 0 & 0.0000000 & 2199-12-31 23:59:59 & 2199-12-31 23:59:59 & 2199-12-31 23:59:59 &   0 & 2008-01-01 & ... &   0 &   0 &   0 &   0 &   0 &   0 &   0 &   0 &   0 &   0\\\\\n",
       "\t 200801010002 & 201008260001 & B  & 1 & 0.2424128 & 2008-10-20 00:00:00 & 2010-08-26 00:00:00 & 2012-09-07 00:00:00 & 221 & 2008-01-01 & ... & 221 & 221 & 221 & 221 & 221 & 221 & 221 & 221 & 221 & 221\\\\\n",
       "\t 200801010003 & NA           & NA & 0 & 0.0000000 & 2199-12-31 23:59:59 & 2199-12-31 23:59:59 & 2199-12-31 23:59:59 &   0 & 2008-01-01 & ... &   0 &   0 &   0 &   0 &   0 &   0 &   0 &   0 &   0 &   0\\\\\n",
       "\t 200801010004 & NA           & NA & 0 & 0.0000000 & 2199-12-31 23:59:59 & 2199-12-31 23:59:59 & 2199-12-31 23:59:59 &   0 & 2008-01-01 & ... &   0 &   0 &   0 &   0 &   0 &   0 &   0 &   0 &   0 &   0\\\\\n",
       "\t 200801010005 & 201004280001 & B  & 1 & 0.1973073 & 2008-06-23 00:00:00 & 2010-04-28 00:00:00 & 2012-04-17 00:00:00 & 180 & 2008-01-01 & ... & 180 & 180 & 180 & 180 & 180 & 180 & 180 & 180 & 180 & 180\\\\\n",
       "\t 200801010006 & NA           & NA & 0 & 0.0000000 & 2199-12-31 23:59:59 & 2199-12-31 23:59:59 & 2199-12-31 23:59:59 &   0 & 2008-01-01 & ... &   0 &   0 &   0 &   0 &   0 &   0 &   0 &   0 &   0 &   0\\\\\n",
       "\\end{tabular}\n"
      ],
      "text/markdown": [
       "\n",
       "A data.table: 6 × 51\n",
       "\n",
       "| pol_number &lt;chr&gt; | clm_number &lt;chr&gt; | claim_type &lt;chr&gt; | claim_count &lt;dbl&gt; | claim_sev &lt;dbl&gt; | date_occur &lt;dttm&gt; | date_report &lt;dttm&gt; | date_pay &lt;dttm&gt; | claim_cost &lt;dbl&gt; | date_pol_start &lt;dttm&gt; | ... ... | P_t_20200427 &lt;dbl&gt; | P_t_20201024 &lt;dbl&gt; | P_t_20210422 &lt;dbl&gt; | P_t_20211019 &lt;dbl&gt; | P_t_20220417 &lt;dbl&gt; | P_t_20221014 &lt;dbl&gt; | P_t_20230412 &lt;dbl&gt; | P_t_20231009 &lt;dbl&gt; | P_t_20240406 &lt;dbl&gt; | P_t_20241003 &lt;dbl&gt; |\n",
       "|---|---|---|---|---|---|---|---|---|---|---|---|---|---|---|---|---|---|---|---|---|\n",
       "| 200801010001 | NA           | NA | 0 | 0.0000000 | 2199-12-31 23:59:59 | 2199-12-31 23:59:59 | 2199-12-31 23:59:59 |   0 | 2008-01-01 | ... |   0 |   0 |   0 |   0 |   0 |   0 |   0 |   0 |   0 |   0 |\n",
       "| 200801010002 | 201008260001 | B  | 1 | 0.2424128 | 2008-10-20 00:00:00 | 2010-08-26 00:00:00 | 2012-09-07 00:00:00 | 221 | 2008-01-01 | ... | 221 | 221 | 221 | 221 | 221 | 221 | 221 | 221 | 221 | 221 |\n",
       "| 200801010003 | NA           | NA | 0 | 0.0000000 | 2199-12-31 23:59:59 | 2199-12-31 23:59:59 | 2199-12-31 23:59:59 |   0 | 2008-01-01 | ... |   0 |   0 |   0 |   0 |   0 |   0 |   0 |   0 |   0 |   0 |\n",
       "| 200801010004 | NA           | NA | 0 | 0.0000000 | 2199-12-31 23:59:59 | 2199-12-31 23:59:59 | 2199-12-31 23:59:59 |   0 | 2008-01-01 | ... |   0 |   0 |   0 |   0 |   0 |   0 |   0 |   0 |   0 |   0 |\n",
       "| 200801010005 | 201004280001 | B  | 1 | 0.1973073 | 2008-06-23 00:00:00 | 2010-04-28 00:00:00 | 2012-04-17 00:00:00 | 180 | 2008-01-01 | ... | 180 | 180 | 180 | 180 | 180 | 180 | 180 | 180 | 180 | 180 |\n",
       "| 200801010006 | NA           | NA | 0 | 0.0000000 | 2199-12-31 23:59:59 | 2199-12-31 23:59:59 | 2199-12-31 23:59:59 |   0 | 2008-01-01 | ... |   0 |   0 |   0 |   0 |   0 |   0 |   0 |   0 |   0 |   0 |\n",
       "\n"
      ],
      "text/plain": [
       "  pol_number   clm_number   claim_type claim_count claim_sev\n",
       "1 200801010001 NA           NA         0           0.0000000\n",
       "2 200801010002 201008260001 B          1           0.2424128\n",
       "3 200801010003 NA           NA         0           0.0000000\n",
       "4 200801010004 NA           NA         0           0.0000000\n",
       "5 200801010005 201004280001 B          1           0.1973073\n",
       "6 200801010006 NA           NA         0           0.0000000\n",
       "  date_occur          date_report         date_pay            claim_cost\n",
       "1 2199-12-31 23:59:59 2199-12-31 23:59:59 2199-12-31 23:59:59   0       \n",
       "2 2008-10-20 00:00:00 2010-08-26 00:00:00 2012-09-07 00:00:00 221       \n",
       "3 2199-12-31 23:59:59 2199-12-31 23:59:59 2199-12-31 23:59:59   0       \n",
       "4 2199-12-31 23:59:59 2199-12-31 23:59:59 2199-12-31 23:59:59   0       \n",
       "5 2008-06-23 00:00:00 2010-04-28 00:00:00 2012-04-17 00:00:00 180       \n",
       "6 2199-12-31 23:59:59 2199-12-31 23:59:59 2199-12-31 23:59:59   0       \n",
       "  date_pol_start ... P_t_20200427 P_t_20201024 P_t_20210422 P_t_20211019\n",
       "1 2008-01-01     ...   0            0            0            0         \n",
       "2 2008-01-01     ... 221          221          221          221         \n",
       "3 2008-01-01     ...   0            0            0            0         \n",
       "4 2008-01-01     ...   0            0            0            0         \n",
       "5 2008-01-01     ... 180          180          180          180         \n",
       "6 2008-01-01     ...   0            0            0            0         \n",
       "  P_t_20220417 P_t_20221014 P_t_20230412 P_t_20231009 P_t_20240406 P_t_20241003\n",
       "1   0            0            0            0            0            0         \n",
       "2 221          221          221          221          221          221         \n",
       "3   0            0            0            0            0            0         \n",
       "4   0            0            0            0            0            0         \n",
       "5 180          180          180          180          180          180         \n",
       "6   0            0            0            0            0            0         "
      ]
     },
     "metadata": {},
     "output_type": "display_data"
    }
   ],
   "source": [
    "head(dt_polclaim)"
   ]
  },
  {
   "cell_type": "code",
   "execution_count": 6,
   "id": "2959775e-296b-4665-bcf7-4d12ae695f90",
   "metadata": {},
   "outputs": [
    {
     "name": "stdout",
     "output_type": "stream",
     "text": [
      "       Occurrence Delay Report Delay Payment Delay\n",
      "Max            365.0000     912.0000      912.0000\n",
      "Min              0.0000     376.0000      405.0000\n",
      "Mean           178.5693     729.7584      733.3302\n",
      "Median         176.0000     725.0000      730.0000\n"
     ]
    }
   ],
   "source": [
    "# Convert columns to Date format if not already\n",
    "dt_polclaim$date_occur <- as.Date(dt_polclaim$date_occur)\n",
    "dt_polclaim$date_report <- as.Date(dt_polclaim$date_report)\n",
    "dt_polclaim$date_pay <- as.Date(dt_polclaim$date_pay)\n",
    "dt_polclaim$date_pol_start <- as.Date(dt_polclaim$date_pol_start)\n",
    "\n",
    "# Filter out rows where any of the dates are '2199-12-31'\n",
    "dt_polclaim <- dt_polclaim[!(date_occur == \"2199-12-31\" | date_report == \"2199-12-31\" | date_pay == \"2199-12-31\")]\n",
    "\n",
    "# Calculate the delays\n",
    "dt_polclaim[, occ_delay := as.numeric(difftime(date_occur, date_pol_start, units = \"days\"))]\n",
    "dt_polclaim[, report_delay := as.numeric(difftime(date_report, date_occur, units = \"days\"))]\n",
    "dt_polclaim[, pay_delay := as.numeric(difftime(date_pay, date_report, units = \"days\"))]\n",
    "\n",
    "# Calculate the statistics (max, min, mean, median) for each delay\n",
    "delay_stats <- matrix(nrow = 4, ncol = 3, \n",
    "                     dimnames = list(c(\"Max\", \"Min\", \"Mean\", \"Median\"), \n",
    "                                     c(\"Occurrence Delay\", \"Report Delay\", \"Payment Delay\")))\n",
    "\n",
    "# Filling the matrix with values\n",
    "delay_stats[\"Max\", \"Occurrence Delay\"] <- max(dt_polclaim$occ_delay, na.rm = TRUE)\n",
    "delay_stats[\"Min\", \"Occurrence Delay\"] <- min(dt_polclaim$occ_delay, na.rm = TRUE)\n",
    "delay_stats[\"Mean\", \"Occurrence Delay\"] <- mean(dt_polclaim$occ_delay, na.rm = TRUE)\n",
    "delay_stats[\"Median\", \"Occurrence Delay\"] <- median(dt_polclaim$occ_delay, na.rm = TRUE)\n",
    "\n",
    "delay_stats[\"Max\", \"Report Delay\"] <- max(dt_polclaim$report_delay, na.rm = TRUE)\n",
    "delay_stats[\"Min\", \"Report Delay\"] <- min(dt_polclaim$report_delay, na.rm = TRUE)\n",
    "delay_stats[\"Mean\", \"Report Delay\"] <- mean(dt_polclaim$report_delay, na.rm = TRUE)\n",
    "delay_stats[\"Median\", \"Report Delay\"] <- median(dt_polclaim$report_delay, na.rm = TRUE)\n",
    "\n",
    "delay_stats[\"Max\", \"Payment Delay\"] <- max(dt_polclaim$pay_delay, na.rm = TRUE)\n",
    "delay_stats[\"Min\", \"Payment Delay\"] <- min(dt_polclaim$pay_delay, na.rm = TRUE)\n",
    "delay_stats[\"Mean\", \"Payment Delay\"] <- mean(dt_polclaim$pay_delay, na.rm = TRUE)\n",
    "delay_stats[\"Median\", \"Payment Delay\"] <- median(dt_polclaim$pay_delay, na.rm = TRUE)\n",
    "\n",
    "# Print the matrix\n",
    "print(delay_stats)\n"
   ]
  },
  {
   "cell_type": "code",
   "execution_count": 7,
   "id": "b9a9bbd6-5ea7-4906-b40e-7ec7cfba0947",
   "metadata": {},
   "outputs": [
    {
     "name": "stdout",
     "output_type": "stream",
     "text": [
      "[1] \"2008-01-01\"\n",
      "[1] \"2008-06-29\"\n",
      "[1] \"2008-12-26\"\n",
      "[1] \"2009-06-24\"\n",
      "[1] \"2009-12-21\"\n",
      "[1] \"2010-06-19\"\n",
      "[1] \"2010-12-16\"\n",
      "[1] \"2011-06-14\"\n",
      "[1] \"2011-12-11\"\n",
      "[1] \"2012-06-08\"\n",
      "[1] \"2012-12-05\"\n",
      "[1] \"2013-06-03\"\n",
      "[1] \"2013-11-30\"\n",
      "[1] \"2014-05-29\"\n",
      "[1] \"2014-11-25\"\n",
      "[1] \"2015-05-24\"\n",
      "[1] \"2015-11-20\"\n",
      "[1] \"2016-05-18\"\n",
      "[1] \"2016-11-14\"\n",
      "[1] \"2017-05-13\"\n",
      "[1] \"2017-11-09\"\n",
      "[1] \"2018-05-08\"\n",
      "[1] \"2018-11-04\"\n",
      "[1] \"2019-05-03\"\n",
      "[1] \"2019-10-30\"\n",
      "[1] \"2020-04-27\"\n",
      "[1] \"2020-10-24\"\n",
      "[1] \"2021-04-22\"\n",
      "[1] \"2021-10-19\"\n",
      "[1] \"2022-04-17\"\n",
      "[1] \"2022-10-14\"\n",
      "[1] \"2023-04-12\"\n",
      "[1] \"2023-10-09\"\n",
      "[1] \"2024-04-06\"\n",
      "[1] \"2024-10-03\"\n"
     ]
    }
   ],
   "source": [
    "# Define the start and end dates\n",
    "start_date <- as.Date(\"2008-01-01\")\n",
    "end_date <- as.Date(\"2024-12-31\")\n",
    "\n",
    "# Create a sequence of dates for every 180 days\n",
    "slices <- seq(start_date, end_date, by = \"180 days\")\n",
    "\n",
    "# Print the extracted dates from \"P_t_YYYYMMDD\" format\n",
    "for (i in 1:length(slices)) {\n",
    "  date_str <- format(slices[i], \"%Y%m%d\")\n",
    "  print(as.Date(date_str, format=\"%Y%m%d\"))\n",
    "}\n"
   ]
  },
  {
   "cell_type": "code",
   "execution_count": 8,
   "id": "b24f16f6-c89c-4c67-a1d8-f38783c0762d",
   "metadata": {},
   "outputs": [
    {
     "name": "stdout",
     "output_type": "stream",
     "text": [
      "[1] \"Valuation Date (t_i): 2014-11-25\"\n",
      "[1] \"Delta: 15\"\n"
     ]
    }
   ],
   "source": [
    "# Set valuation date to the 13th slice\n",
    "i <- valuation <- 15\n",
    "\n",
    "# Get the valuation date (13th slice)\n",
    "t_i <- lst_Date_slice[i]\n",
    "\n",
    "# Calculate delta (distance to the nearest end of the slice sequence)\n",
    "delta <- min(i, length(lst_Date_slice) - i + 1)\n",
    "\n",
    "# Print the results\n",
    "print(paste(\"Valuation Date (t_i):\", t_i))\n",
    "print(paste(\"Delta:\", delta))\n"
   ]
  },
  {
   "cell_type": "code",
   "execution_count": 9,
   "id": "535886e7-ff4e-453b-b34d-42b4bf21e902",
   "metadata": {},
   "outputs": [],
   "source": [
    "RBNS_Train_ijk <- function(dt_policy_claim, date_i, j_dev_period, k, reserving_dates, model_vars) {\n",
    "\n",
    "  date_i <- as.Date(date_i)\n",
    "  \n",
    "  date_k <- (reserving_dates[which(reserving_dates == date_i) - k + 1])\n",
    "  date_j <- (reserving_dates[which(reserving_dates == date_k) - j_dev_period])\n",
    "  \n",
    "  date_lookup <- (reserving_dates[which(reserving_dates == date_i) - j_dev_period - k + 1])\n",
    "  target_lookup <- (reserving_dates[which(reserving_dates == date_i) - k])\n",
    "  target_lookup_next <- (reserving_dates[which(reserving_dates == date_i) - k + 1])\n",
    "\n",
    "  dt_policy_claim <- dt_policy_claim[(date_report <= date_lookup) & (date_pay > date_lookup)]\n",
    "\n",
    "  dt_policy_claim[, ':='(\n",
    "    date_lookup = date_lookup,\n",
    "    delay_train = as.numeric(date_lookup - date_pol_start), # Delay between policy start and date_lookup\n",
    "    j = j_dev_period,  # Dev period J\n",
    "    k = k,  # Model type K\n",
    "    target = ifelse(date_pay <= target_lookup, 0, ifelse(date_pay <= target_lookup_next, claim_cost, 0))\n",
    "  )]\n",
    "  \n",
    "  # Calculate premium and loss for the training set (Aggregated by year)\n",
    "  dt_policy_claim[, Premium := sum(Price), by = year(date_pol_start)]  # Total premium per year\n",
    "  dt_policy_claim[, Loss := sum(claim_cost), by = year(date_pol_start)]  # Total loss per year\n",
    "  \n",
    "  # Calculate loss ratio for the training data: Loss ratio = Loss / Premium\n",
    "  dt_policy_claim[, Loss_Ratio := Loss / Premium]\n",
    "\n",
    "  # Returning the necessary columns for model training\n",
    "  return(dt_policy_claim[, model_vars, with = FALSE])\n",
    "}\n"
   ]
  },
  {
   "cell_type": "code",
   "execution_count": 10,
   "id": "1e78d614-3e42-4304-9476-66fe933af190",
   "metadata": {},
   "outputs": [],
   "source": [
    "RBNS_Test_ijk <- function(dt_policy_claim, date_i, j_dev_period, k, reserving_dates, model_vars) {\n",
    "  \n",
    "  # Convert date_i (valuation date) and end_date to Date format\n",
    "  date_i <- as.Date(date_i)\n",
    "  end_date <- as.Date(\"2018-11-04\")  # End date for test data\n",
    "  \n",
    "  # Filter the test data to include only claims where date_report is between date_i and end_date\n",
    "  dt_test <- dt_policy_claim[date_report >= date_i & date_report <= end_date]\n",
    "  \n",
    "  # Date adjustments based on dev period and k (same logic as before)\n",
    "  date_lookup_test <- end_date  # Set the date_lookup_test to the end date (2018-12-31)\n",
    "  \n",
    "  # Calculate the target lookups based on the end date\n",
    "  target_lookup_end <- (reserving_dates[which(reserving_dates == date_lookup_test) + j_dev_period - 1])\n",
    "  target_lookup_end_next <- (reserving_dates[which(reserving_dates == date_lookup_test) + j_dev_period])\n",
    "  \n",
    "  # Filter for RBNS claims: Reported but not settled (i.e., date_report <= date_lookup_test and date_lookup_test < date_pay)\n",
    "  dt_test <- dt_test[date_report <= date_lookup_test & date_lookup_test < date_pay]\n",
    "  \n",
    "  # Add necessary columns for model testing\n",
    "  dt_test[, ':='(\n",
    "    date_lookup_test = date_lookup_test,  # Use end date as lookup date\n",
    "    delay_train = as.numeric(date_lookup_test - date_pol_start),  # Delay between policy start and date_lookup_test\n",
    "    j = j_dev_period,  # Development period\n",
    "    k = k,  # Model type (fixed)\n",
    "    target = ifelse(date_pay <= target_lookup_end, 0, ifelse(date_pay <= target_lookup_end_next, claim_cost, 0))  # Adjust target calculation based on end date lookups\n",
    "  )]\n",
    "\n",
    "    dt_test[is.na(target), target := 0]\n",
    "  \n",
    "  # Return the dataset with selected model variables for prediction\n",
    "  return(dt_test[, model_vars, with = FALSE])\n",
    "}\n"
   ]
  },
  {
   "cell_type": "code",
   "execution_count": 11,
   "id": "f3b55e31-b364-4a6a-9296-9041694408e8",
   "metadata": {},
   "outputs": [],
   "source": [
    "\n",
    "RBNS_Train <- function(dt_policy_claim, date_i, i, k, reserving_dates, model_vars) {\n",
    "# Create a combined TRAIN dataset across all k and j combos\n",
    "  for (k in 1:k){\n",
    "    if (k==1) dt_train <- NULL\n",
    "    for (j in 1:(i - k + 1)){\n",
    "      dt_train <- rbind(dt_train, RBNS_Train_ijk(dt_polclaim, date_i, j, k,reserving_dates, model_vars))\n",
    "    }\n",
    "  }  \n",
    "  return(dt_train)\n",
    "}"
   ]
  },
  {
   "cell_type": "code",
   "execution_count": 12,
   "id": "e9107a84-d9d3-4858-8bd5-4bc17d1d3a43",
   "metadata": {},
   "outputs": [],
   "source": [
    "\n",
    "\n",
    "RBNS_Test <- function(dt_policy_claim, date_i, delta, k, reserving_dates, model_vars) {\n",
    "  \n",
    "  # Create a combined TEST dataset across all k and j combos\n",
    "  for (k in 1:k){\n",
    "    if (k==1) dt_test <- NULL\n",
    "    for (j in 1:(delta - k + 1)){\n",
    "      dt_test <- rbind(dt_test, RBNS_Test_ijk(dt_polclaim, date_i, j, k,reserving_dates, model_vars))\n",
    "    }\n",
    "  }\n",
    "  \n",
    "  return(dt_test)\n",
    "}\n"
   ]
  },
  {
   "cell_type": "code",
   "execution_count": 13,
   "id": "a095c82f-85c5-40f4-8cab-787d5b59d517",
   "metadata": {},
   "outputs": [
    {
     "name": "stderr",
     "output_type": "stream",
     "text": [
      "Warning message in eval(jsub, SDenv, parent.frame()):\n",
      "\"Incompatible methods (\"-.POSIXt\", \"-.Date\") for \"-\"\"\n",
      "Warning message in eval(jsub, SDenv, parent.frame()):\n",
      "\"Incompatible methods (\"-.POSIXt\", \"-.Date\") for \"-\"\"\n",
      "Warning message in eval(jsub, SDenv, parent.frame()):\n",
      "\"Incompatible methods (\"-.POSIXt\", \"-.Date\") for \"-\"\"\n",
      "Warning message in eval(jsub, SDenv, parent.frame()):\n",
      "\"Incompatible methods (\"-.POSIXt\", \"-.Date\") for \"-\"\"\n",
      "Warning message in eval(jsub, SDenv, parent.frame()):\n",
      "\"Incompatible methods (\"-.POSIXt\", \"-.Date\") for \"-\"\"\n",
      "Warning message in eval(jsub, SDenv, parent.frame()):\n",
      "\"Incompatible methods (\"-.POSIXt\", \"-.Date\") for \"-\"\"\n",
      "Warning message in eval(jsub, SDenv, parent.frame()):\n",
      "\"Incompatible methods (\"-.POSIXt\", \"-.Date\") for \"-\"\"\n",
      "Warning message in eval(jsub, SDenv, parent.frame()):\n",
      "\"Incompatible methods (\"-.POSIXt\", \"-.Date\") for \"-\"\"\n",
      "Warning message in eval(jsub, SDenv, parent.frame()):\n",
      "\"Incompatible methods (\"-.POSIXt\", \"-.Date\") for \"-\"\"\n",
      "Warning message in eval(jsub, SDenv, parent.frame()):\n",
      "\"Incompatible methods (\"-.POSIXt\", \"-.Date\") for \"-\"\"\n",
      "Warning message in eval(jsub, SDenv, parent.frame()):\n",
      "\"Incompatible methods (\"-.POSIXt\", \"-.Date\") for \"-\"\"\n",
      "Warning message in eval(jsub, SDenv, parent.frame()):\n",
      "\"Incompatible methods (\"-.POSIXt\", \"-.Date\") for \"-\"\"\n",
      "Warning message in eval(jsub, SDenv, parent.frame()):\n",
      "\"Incompatible methods (\"-.POSIXt\", \"-.Date\") for \"-\"\"\n",
      "Warning message in eval(jsub, SDenv, parent.frame()):\n",
      "\"Incompatible methods (\"-.POSIXt\", \"-.Date\") for \"-\"\"\n",
      "Warning message in eval(jsub, SDenv, parent.frame()):\n",
      "\"Incompatible methods (\"-.POSIXt\", \"-.Date\") for \"-\"\"\n"
     ]
    }
   ],
   "source": [
    "#define modelVars\n",
    "RBNS_model_vars <- c(\"clm_number\",\n",
    "                     \"pol_number\",\n",
    "                     \"j\",\n",
    "                     \"k\",\n",
    "                     \"date_pol_start\",\n",
    "                     \"date_occur\",\n",
    "                     \"date_report\",\n",
    "                     \"date_pay\",\n",
    "                     \"Cover\",\n",
    "                     \"claim_type\",\n",
    "                     \"Brand\",\n",
    "                     \"Model\",\n",
    "                     \"Price\",\n",
    "                     \"target\"\n",
    "    )\n",
    "\n",
    "\n",
    "# Create a combined TRAIN dataset for k = 1 and all valid j delay values\n",
    "dt_RBNS_train <- RBNS_Train(dt_polclaim, t_i, i, k = 1, lst_Date_slice, RBNS_model_vars)\n",
    "\n",
    "# Create a combined TEST dataset for k = 1 and all valid j delay values\n",
    "dt_RBNS_test <- RBNS_Test(dt_polclaim, t_i, delta, k = 1, lst_Date_slice, RBNS_model_vars)\n"
   ]
  },
  {
   "cell_type": "code",
   "execution_count": 14,
   "id": "5d8798f1-c657-4f8b-b368-de4e0b002a2c",
   "metadata": {},
   "outputs": [],
   "source": [
    "\n",
    "\n",
    "# Add a flag to determine which rows are from the trainset and which from the test set\n",
    "dt_RBNS_train[, flgTrain := 1]\n",
    "dt_RBNS_test[, flgTrain := 0]\n",
    "\n",
    "# combine into a single RBNS dataset   \n",
    "dt_All_RBNS <- rbind(dt_RBNS_train, dt_RBNS_test)\n",
    "#write.csv(dt_All_RBNS,\"dt_All_RBNS.csv\", row.names = F)\n",
    "    \n"
   ]
  },
  {
   "cell_type": "code",
   "execution_count": 15,
   "id": "d6d10c4f-fbee-469c-bcb4-4c2aad5a8896",
   "metadata": {},
   "outputs": [
    {
     "data": {
      "text/plain": [
       "\n",
       "     0      1 \n",
       "125055  51836 "
      ]
     },
     "metadata": {},
     "output_type": "display_data"
    }
   ],
   "source": [
    "table(dt_All_RBNS$flgTrain)  "
   ]
  },
  {
   "cell_type": "code",
   "execution_count": 16,
   "id": "19484e66-1d1f-4fa0-9667-be7438aca523",
   "metadata": {},
   "outputs": [
    {
     "data": {
      "text/html": [
       "<table class=\"dataframe\">\n",
       "<caption>A data.table: 6 × 15</caption>\n",
       "<thead>\n",
       "\t<tr><th scope=col>clm_number</th><th scope=col>pol_number</th><th scope=col>j</th><th scope=col>k</th><th scope=col>date_pol_start</th><th scope=col>date_occur</th><th scope=col>date_report</th><th scope=col>date_pay</th><th scope=col>Cover</th><th scope=col>claim_type</th><th scope=col>Brand</th><th scope=col>Model</th><th scope=col>Price</th><th scope=col>target</th><th scope=col>flgTrain</th></tr>\n",
       "\t<tr><th scope=col>&lt;chr&gt;</th><th scope=col>&lt;chr&gt;</th><th scope=col>&lt;int&gt;</th><th scope=col>&lt;int&gt;</th><th scope=col>&lt;date&gt;</th><th scope=col>&lt;date&gt;</th><th scope=col>&lt;date&gt;</th><th scope=col>&lt;date&gt;</th><th scope=col>&lt;chr&gt;</th><th scope=col>&lt;chr&gt;</th><th scope=col>&lt;dbl&gt;</th><th scope=col>&lt;dbl&gt;</th><th scope=col>&lt;dbl&gt;</th><th scope=col>&lt;dbl&gt;</th><th scope=col>&lt;dbl&gt;</th></tr>\n",
       "</thead>\n",
       "<tbody>\n",
       "\t<tr><td>201112220001</td><td>200808190027</td><td>1</td><td>1</td><td>2008-08-19</td><td>2009-06-23</td><td>2011-12-22</td><td>2014-06-21</td><td>BO </td><td>B</td><td>3</td><td>2</td><td>397</td><td> 76</td><td>1</td></tr>\n",
       "\t<tr><td>201201100001</td><td>200808240029</td><td>1</td><td>1</td><td>2008-08-24</td><td>2009-08-18</td><td>2012-01-10</td><td>2014-05-30</td><td>BOT</td><td>T</td><td>1</td><td>2</td><td>794</td><td>746</td><td>1</td></tr>\n",
       "\t<tr><td>201201300001</td><td>200809040041</td><td>1</td><td>1</td><td>2008-09-04</td><td>2009-08-01</td><td>2012-01-30</td><td>2014-07-30</td><td>BO </td><td>B</td><td>4</td><td>3</td><td>229</td><td> 25</td><td>1</td></tr>\n",
       "\t<tr><td>201202040002</td><td>200809240041</td><td>1</td><td>1</td><td>2008-09-24</td><td>2009-09-22</td><td>2012-02-04</td><td>2014-08-04</td><td>BO </td><td>B</td><td>1</td><td>3</td><td>913</td><td> 95</td><td>1</td></tr>\n",
       "\t<tr><td>201201160002</td><td>200810190029</td><td>1</td><td>1</td><td>2008-10-19</td><td>2009-07-18</td><td>2012-01-16</td><td>2014-06-21</td><td>BO </td><td>B</td><td>1</td><td>3</td><td>913</td><td>431</td><td>1</td></tr>\n",
       "\t<tr><td>201203060001</td><td>200810220005</td><td>1</td><td>1</td><td>2008-10-22</td><td>2009-09-06</td><td>2012-03-06</td><td>2014-09-04</td><td>B  </td><td>B</td><td>1</td><td>2</td><td>794</td><td>105</td><td>1</td></tr>\n",
       "</tbody>\n",
       "</table>\n"
      ],
      "text/latex": [
       "A data.table: 6 × 15\n",
       "\\begin{tabular}{lllllllllllllll}\n",
       " clm\\_number & pol\\_number & j & k & date\\_pol\\_start & date\\_occur & date\\_report & date\\_pay & Cover & claim\\_type & Brand & Model & Price & target & flgTrain\\\\\n",
       " <chr> & <chr> & <int> & <int> & <date> & <date> & <date> & <date> & <chr> & <chr> & <dbl> & <dbl> & <dbl> & <dbl> & <dbl>\\\\\n",
       "\\hline\n",
       "\t 201112220001 & 200808190027 & 1 & 1 & 2008-08-19 & 2009-06-23 & 2011-12-22 & 2014-06-21 & BO  & B & 3 & 2 & 397 &  76 & 1\\\\\n",
       "\t 201201100001 & 200808240029 & 1 & 1 & 2008-08-24 & 2009-08-18 & 2012-01-10 & 2014-05-30 & BOT & T & 1 & 2 & 794 & 746 & 1\\\\\n",
       "\t 201201300001 & 200809040041 & 1 & 1 & 2008-09-04 & 2009-08-01 & 2012-01-30 & 2014-07-30 & BO  & B & 4 & 3 & 229 &  25 & 1\\\\\n",
       "\t 201202040002 & 200809240041 & 1 & 1 & 2008-09-24 & 2009-09-22 & 2012-02-04 & 2014-08-04 & BO  & B & 1 & 3 & 913 &  95 & 1\\\\\n",
       "\t 201201160002 & 200810190029 & 1 & 1 & 2008-10-19 & 2009-07-18 & 2012-01-16 & 2014-06-21 & BO  & B & 1 & 3 & 913 & 431 & 1\\\\\n",
       "\t 201203060001 & 200810220005 & 1 & 1 & 2008-10-22 & 2009-09-06 & 2012-03-06 & 2014-09-04 & B   & B & 1 & 2 & 794 & 105 & 1\\\\\n",
       "\\end{tabular}\n"
      ],
      "text/markdown": [
       "\n",
       "A data.table: 6 × 15\n",
       "\n",
       "| clm_number &lt;chr&gt; | pol_number &lt;chr&gt; | j &lt;int&gt; | k &lt;int&gt; | date_pol_start &lt;date&gt; | date_occur &lt;date&gt; | date_report &lt;date&gt; | date_pay &lt;date&gt; | Cover &lt;chr&gt; | claim_type &lt;chr&gt; | Brand &lt;dbl&gt; | Model &lt;dbl&gt; | Price &lt;dbl&gt; | target &lt;dbl&gt; | flgTrain &lt;dbl&gt; |\n",
       "|---|---|---|---|---|---|---|---|---|---|---|---|---|---|---|\n",
       "| 201112220001 | 200808190027 | 1 | 1 | 2008-08-19 | 2009-06-23 | 2011-12-22 | 2014-06-21 | BO  | B | 3 | 2 | 397 |  76 | 1 |\n",
       "| 201201100001 | 200808240029 | 1 | 1 | 2008-08-24 | 2009-08-18 | 2012-01-10 | 2014-05-30 | BOT | T | 1 | 2 | 794 | 746 | 1 |\n",
       "| 201201300001 | 200809040041 | 1 | 1 | 2008-09-04 | 2009-08-01 | 2012-01-30 | 2014-07-30 | BO  | B | 4 | 3 | 229 |  25 | 1 |\n",
       "| 201202040002 | 200809240041 | 1 | 1 | 2008-09-24 | 2009-09-22 | 2012-02-04 | 2014-08-04 | BO  | B | 1 | 3 | 913 |  95 | 1 |\n",
       "| 201201160002 | 200810190029 | 1 | 1 | 2008-10-19 | 2009-07-18 | 2012-01-16 | 2014-06-21 | BO  | B | 1 | 3 | 913 | 431 | 1 |\n",
       "| 201203060001 | 200810220005 | 1 | 1 | 2008-10-22 | 2009-09-06 | 2012-03-06 | 2014-09-04 | B   | B | 1 | 2 | 794 | 105 | 1 |\n",
       "\n"
      ],
      "text/plain": [
       "  clm_number   pol_number   j k date_pol_start date_occur date_report\n",
       "1 201112220001 200808190027 1 1 2008-08-19     2009-06-23 2011-12-22 \n",
       "2 201201100001 200808240029 1 1 2008-08-24     2009-08-18 2012-01-10 \n",
       "3 201201300001 200809040041 1 1 2008-09-04     2009-08-01 2012-01-30 \n",
       "4 201202040002 200809240041 1 1 2008-09-24     2009-09-22 2012-02-04 \n",
       "5 201201160002 200810190029 1 1 2008-10-19     2009-07-18 2012-01-16 \n",
       "6 201203060001 200810220005 1 1 2008-10-22     2009-09-06 2012-03-06 \n",
       "  date_pay   Cover claim_type Brand Model Price target flgTrain\n",
       "1 2014-06-21 BO    B          3     2     397    76    1       \n",
       "2 2014-05-30 BOT   T          1     2     794   746    1       \n",
       "3 2014-07-30 BO    B          4     3     229    25    1       \n",
       "4 2014-08-04 BO    B          1     3     913    95    1       \n",
       "5 2014-06-21 BO    B          1     3     913   431    1       \n",
       "6 2014-09-04 B     B          1     2     794   105    1       "
      ]
     },
     "metadata": {},
     "output_type": "display_data"
    },
    {
     "data": {
      "text/html": [
       "<style>\n",
       ".list-inline {list-style: none; margin:0; padding: 0}\n",
       ".list-inline>li {display: inline-block}\n",
       ".list-inline>li:not(:last-child)::after {content: \"\\00b7\"; padding: 0 .5ex}\n",
       "</style>\n",
       "<ol class=list-inline><li>51836</li><li>15</li></ol>\n"
      ],
      "text/latex": [
       "\\begin{enumerate*}\n",
       "\\item 51836\n",
       "\\item 15\n",
       "\\end{enumerate*}\n"
      ],
      "text/markdown": [
       "1. 51836\n",
       "2. 15\n",
       "\n",
       "\n"
      ],
      "text/plain": [
       "[1] 51836    15"
      ]
     },
     "metadata": {},
     "output_type": "display_data"
    },
    {
     "data": {
      "text/html": [
       "<table class=\"dataframe\">\n",
       "<caption>A data.table: 6 × 15</caption>\n",
       "<thead>\n",
       "\t<tr><th scope=col>clm_number</th><th scope=col>pol_number</th><th scope=col>j</th><th scope=col>k</th><th scope=col>date_pol_start</th><th scope=col>date_occur</th><th scope=col>date_report</th><th scope=col>date_pay</th><th scope=col>Cover</th><th scope=col>claim_type</th><th scope=col>Brand</th><th scope=col>Model</th><th scope=col>Price</th><th scope=col>target</th><th scope=col>flgTrain</th></tr>\n",
       "\t<tr><th scope=col>&lt;chr&gt;</th><th scope=col>&lt;chr&gt;</th><th scope=col>&lt;int&gt;</th><th scope=col>&lt;int&gt;</th><th scope=col>&lt;date&gt;</th><th scope=col>&lt;date&gt;</th><th scope=col>&lt;date&gt;</th><th scope=col>&lt;date&gt;</th><th scope=col>&lt;chr&gt;</th><th scope=col>&lt;chr&gt;</th><th scope=col>&lt;dbl&gt;</th><th scope=col>&lt;dbl&gt;</th><th scope=col>&lt;dbl&gt;</th><th scope=col>&lt;dbl&gt;</th><th scope=col>&lt;dbl&gt;</th></tr>\n",
       "</thead>\n",
       "<tbody>\n",
       "\t<tr><td>200912140002</td><td>200804100009</td><td>10</td><td>1</td><td>2008-04-10</td><td>2008-05-08</td><td>2009-12-14</td><td>2012-06-13</td><td>B </td><td>B</td><td>1</td><td>3</td><td>913</td><td>0</td><td>1</td></tr>\n",
       "\t<tr><td>200912200003</td><td>200805080007</td><td>10</td><td>1</td><td>2008-05-08</td><td>2008-07-02</td><td>2009-12-20</td><td>2012-03-27</td><td>B </td><td>B</td><td>2</td><td>0</td><td>550</td><td>0</td><td>1</td></tr>\n",
       "\t<tr><td>200911150001</td><td>200806170040</td><td>10</td><td>1</td><td>2008-06-17</td><td>2008-06-20</td><td>2009-11-15</td><td>2012-05-15</td><td>BO</td><td>B</td><td>4</td><td>2</td><td>199</td><td>0</td><td>1</td></tr>\n",
       "\t<tr><td>200910260001</td><td>200807060050</td><td>10</td><td>1</td><td>2008-07-06</td><td>2008-07-15</td><td>2009-10-26</td><td>2012-02-20</td><td>BO</td><td>B</td><td>1</td><td>3</td><td>913</td><td>0</td><td>1</td></tr>\n",
       "\t<tr><td>200905200001</td><td>200801150002</td><td>11</td><td>1</td><td>2008-01-15</td><td>2008-02-07</td><td>2009-05-20</td><td>2011-08-16</td><td>B </td><td>B</td><td>2</td><td>3</td><td>837</td><td>0</td><td>1</td></tr>\n",
       "\t<tr><td>200905040001</td><td>200801270002</td><td>11</td><td>1</td><td>2008-01-27</td><td>2008-02-08</td><td>2009-05-04</td><td>2011-03-03</td><td>B </td><td>B</td><td>3</td><td>2</td><td>397</td><td>0</td><td>1</td></tr>\n",
       "</tbody>\n",
       "</table>\n"
      ],
      "text/latex": [
       "A data.table: 6 × 15\n",
       "\\begin{tabular}{lllllllllllllll}\n",
       " clm\\_number & pol\\_number & j & k & date\\_pol\\_start & date\\_occur & date\\_report & date\\_pay & Cover & claim\\_type & Brand & Model & Price & target & flgTrain\\\\\n",
       " <chr> & <chr> & <int> & <int> & <date> & <date> & <date> & <date> & <chr> & <chr> & <dbl> & <dbl> & <dbl> & <dbl> & <dbl>\\\\\n",
       "\\hline\n",
       "\t 200912140002 & 200804100009 & 10 & 1 & 2008-04-10 & 2008-05-08 & 2009-12-14 & 2012-06-13 & B  & B & 1 & 3 & 913 & 0 & 1\\\\\n",
       "\t 200912200003 & 200805080007 & 10 & 1 & 2008-05-08 & 2008-07-02 & 2009-12-20 & 2012-03-27 & B  & B & 2 & 0 & 550 & 0 & 1\\\\\n",
       "\t 200911150001 & 200806170040 & 10 & 1 & 2008-06-17 & 2008-06-20 & 2009-11-15 & 2012-05-15 & BO & B & 4 & 2 & 199 & 0 & 1\\\\\n",
       "\t 200910260001 & 200807060050 & 10 & 1 & 2008-07-06 & 2008-07-15 & 2009-10-26 & 2012-02-20 & BO & B & 1 & 3 & 913 & 0 & 1\\\\\n",
       "\t 200905200001 & 200801150002 & 11 & 1 & 2008-01-15 & 2008-02-07 & 2009-05-20 & 2011-08-16 & B  & B & 2 & 3 & 837 & 0 & 1\\\\\n",
       "\t 200905040001 & 200801270002 & 11 & 1 & 2008-01-27 & 2008-02-08 & 2009-05-04 & 2011-03-03 & B  & B & 3 & 2 & 397 & 0 & 1\\\\\n",
       "\\end{tabular}\n"
      ],
      "text/markdown": [
       "\n",
       "A data.table: 6 × 15\n",
       "\n",
       "| clm_number &lt;chr&gt; | pol_number &lt;chr&gt; | j &lt;int&gt; | k &lt;int&gt; | date_pol_start &lt;date&gt; | date_occur &lt;date&gt; | date_report &lt;date&gt; | date_pay &lt;date&gt; | Cover &lt;chr&gt; | claim_type &lt;chr&gt; | Brand &lt;dbl&gt; | Model &lt;dbl&gt; | Price &lt;dbl&gt; | target &lt;dbl&gt; | flgTrain &lt;dbl&gt; |\n",
       "|---|---|---|---|---|---|---|---|---|---|---|---|---|---|---|\n",
       "| 200912140002 | 200804100009 | 10 | 1 | 2008-04-10 | 2008-05-08 | 2009-12-14 | 2012-06-13 | B  | B | 1 | 3 | 913 | 0 | 1 |\n",
       "| 200912200003 | 200805080007 | 10 | 1 | 2008-05-08 | 2008-07-02 | 2009-12-20 | 2012-03-27 | B  | B | 2 | 0 | 550 | 0 | 1 |\n",
       "| 200911150001 | 200806170040 | 10 | 1 | 2008-06-17 | 2008-06-20 | 2009-11-15 | 2012-05-15 | BO | B | 4 | 2 | 199 | 0 | 1 |\n",
       "| 200910260001 | 200807060050 | 10 | 1 | 2008-07-06 | 2008-07-15 | 2009-10-26 | 2012-02-20 | BO | B | 1 | 3 | 913 | 0 | 1 |\n",
       "| 200905200001 | 200801150002 | 11 | 1 | 2008-01-15 | 2008-02-07 | 2009-05-20 | 2011-08-16 | B  | B | 2 | 3 | 837 | 0 | 1 |\n",
       "| 200905040001 | 200801270002 | 11 | 1 | 2008-01-27 | 2008-02-08 | 2009-05-04 | 2011-03-03 | B  | B | 3 | 2 | 397 | 0 | 1 |\n",
       "\n"
      ],
      "text/plain": [
       "  clm_number   pol_number   j  k date_pol_start date_occur date_report\n",
       "1 200912140002 200804100009 10 1 2008-04-10     2008-05-08 2009-12-14 \n",
       "2 200912200003 200805080007 10 1 2008-05-08     2008-07-02 2009-12-20 \n",
       "3 200911150001 200806170040 10 1 2008-06-17     2008-06-20 2009-11-15 \n",
       "4 200910260001 200807060050 10 1 2008-07-06     2008-07-15 2009-10-26 \n",
       "5 200905200001 200801150002 11 1 2008-01-15     2008-02-07 2009-05-20 \n",
       "6 200905040001 200801270002 11 1 2008-01-27     2008-02-08 2009-05-04 \n",
       "  date_pay   Cover claim_type Brand Model Price target flgTrain\n",
       "1 2012-06-13 B     B          1     3     913   0      1       \n",
       "2 2012-03-27 B     B          2     0     550   0      1       \n",
       "3 2012-05-15 BO    B          4     2     199   0      1       \n",
       "4 2012-02-20 BO    B          1     3     913   0      1       \n",
       "5 2011-08-16 B     B          2     3     837   0      1       \n",
       "6 2011-03-03 B     B          3     2     397   0      1       "
      ]
     },
     "metadata": {},
     "output_type": "display_data"
    }
   ],
   "source": [
    "head(dt_RBNS_train)\n",
    "dim(dt_RBNS_train)\n",
    "\n",
    "tail(dt_RBNS_train)\n",
    "\n",
    "\n"
   ]
  },
  {
   "cell_type": "code",
   "execution_count": 17,
   "id": "a0a6dcf9-b238-44f0-aa7f-ec2fbca9c8bc",
   "metadata": {},
   "outputs": [
    {
     "data": {
      "text/html": [
       "<table class=\"dataframe\">\n",
       "<caption>A data.table: 6 × 15</caption>\n",
       "<thead>\n",
       "\t<tr><th scope=col>clm_number</th><th scope=col>pol_number</th><th scope=col>j</th><th scope=col>k</th><th scope=col>date_pol_start</th><th scope=col>date_occur</th><th scope=col>date_report</th><th scope=col>date_pay</th><th scope=col>Cover</th><th scope=col>claim_type</th><th scope=col>Brand</th><th scope=col>Model</th><th scope=col>Price</th><th scope=col>target</th><th scope=col>flgTrain</th></tr>\n",
       "\t<tr><th scope=col>&lt;chr&gt;</th><th scope=col>&lt;chr&gt;</th><th scope=col>&lt;int&gt;</th><th scope=col>&lt;int&gt;</th><th scope=col>&lt;date&gt;</th><th scope=col>&lt;date&gt;</th><th scope=col>&lt;date&gt;</th><th scope=col>&lt;date&gt;</th><th scope=col>&lt;chr&gt;</th><th scope=col>&lt;chr&gt;</th><th scope=col>&lt;dbl&gt;</th><th scope=col>&lt;dbl&gt;</th><th scope=col>&lt;dbl&gt;</th><th scope=col>&lt;dbl&gt;</th><th scope=col>&lt;dbl&gt;</th></tr>\n",
       "</thead>\n",
       "<tbody>\n",
       "\t<tr><td>201607100001</td><td>201301200019</td><td>1</td><td>1</td><td>2013-01-20</td><td>2014-01-10</td><td>2016-07-10</td><td>2019-01-08</td><td>BOT</td><td>B</td><td>3</td><td>2</td><td>397</td><td>159</td><td>0</td></tr>\n",
       "\t<tr><td>201606170001</td><td>201302090032</td><td>1</td><td>1</td><td>2013-02-09</td><td>2014-01-02</td><td>2016-06-17</td><td>2018-12-13</td><td>BOT</td><td>T</td><td>1</td><td>3</td><td>913</td><td>907</td><td>0</td></tr>\n",
       "\t<tr><td>201608190001</td><td>201304010030</td><td>1</td><td>1</td><td>2013-04-01</td><td>2014-02-19</td><td>2016-08-19</td><td>2018-11-23</td><td>BO </td><td>O</td><td>3</td><td>2</td><td>397</td><td>156</td><td>0</td></tr>\n",
       "\t<tr><td>201609280001</td><td>201304030024</td><td>1</td><td>1</td><td>2013-04-03</td><td>2014-03-31</td><td>2016-09-28</td><td>2018-12-13</td><td>BOT</td><td>B</td><td>2</td><td>3</td><td>837</td><td> 72</td><td>0</td></tr>\n",
       "\t<tr><td>201609230001</td><td>201304180015</td><td>1</td><td>1</td><td>2013-04-18</td><td>2014-03-26</td><td>2016-09-23</td><td>2019-02-09</td><td>BOT</td><td>T</td><td>1</td><td>2</td><td>794</td><td>793</td><td>0</td></tr>\n",
       "\t<tr><td>201606140001</td><td>201304180032</td><td>1</td><td>1</td><td>2013-04-18</td><td>2013-12-22</td><td>2016-06-14</td><td>2018-12-13</td><td>BO </td><td>O</td><td>4</td><td>2</td><td>199</td><td>125</td><td>0</td></tr>\n",
       "</tbody>\n",
       "</table>\n"
      ],
      "text/latex": [
       "A data.table: 6 × 15\n",
       "\\begin{tabular}{lllllllllllllll}\n",
       " clm\\_number & pol\\_number & j & k & date\\_pol\\_start & date\\_occur & date\\_report & date\\_pay & Cover & claim\\_type & Brand & Model & Price & target & flgTrain\\\\\n",
       " <chr> & <chr> & <int> & <int> & <date> & <date> & <date> & <date> & <chr> & <chr> & <dbl> & <dbl> & <dbl> & <dbl> & <dbl>\\\\\n",
       "\\hline\n",
       "\t 201607100001 & 201301200019 & 1 & 1 & 2013-01-20 & 2014-01-10 & 2016-07-10 & 2019-01-08 & BOT & B & 3 & 2 & 397 & 159 & 0\\\\\n",
       "\t 201606170001 & 201302090032 & 1 & 1 & 2013-02-09 & 2014-01-02 & 2016-06-17 & 2018-12-13 & BOT & T & 1 & 3 & 913 & 907 & 0\\\\\n",
       "\t 201608190001 & 201304010030 & 1 & 1 & 2013-04-01 & 2014-02-19 & 2016-08-19 & 2018-11-23 & BO  & O & 3 & 2 & 397 & 156 & 0\\\\\n",
       "\t 201609280001 & 201304030024 & 1 & 1 & 2013-04-03 & 2014-03-31 & 2016-09-28 & 2018-12-13 & BOT & B & 2 & 3 & 837 &  72 & 0\\\\\n",
       "\t 201609230001 & 201304180015 & 1 & 1 & 2013-04-18 & 2014-03-26 & 2016-09-23 & 2019-02-09 & BOT & T & 1 & 2 & 794 & 793 & 0\\\\\n",
       "\t 201606140001 & 201304180032 & 1 & 1 & 2013-04-18 & 2013-12-22 & 2016-06-14 & 2018-12-13 & BO  & O & 4 & 2 & 199 & 125 & 0\\\\\n",
       "\\end{tabular}\n"
      ],
      "text/markdown": [
       "\n",
       "A data.table: 6 × 15\n",
       "\n",
       "| clm_number &lt;chr&gt; | pol_number &lt;chr&gt; | j &lt;int&gt; | k &lt;int&gt; | date_pol_start &lt;date&gt; | date_occur &lt;date&gt; | date_report &lt;date&gt; | date_pay &lt;date&gt; | Cover &lt;chr&gt; | claim_type &lt;chr&gt; | Brand &lt;dbl&gt; | Model &lt;dbl&gt; | Price &lt;dbl&gt; | target &lt;dbl&gt; | flgTrain &lt;dbl&gt; |\n",
       "|---|---|---|---|---|---|---|---|---|---|---|---|---|---|---|\n",
       "| 201607100001 | 201301200019 | 1 | 1 | 2013-01-20 | 2014-01-10 | 2016-07-10 | 2019-01-08 | BOT | B | 3 | 2 | 397 | 159 | 0 |\n",
       "| 201606170001 | 201302090032 | 1 | 1 | 2013-02-09 | 2014-01-02 | 2016-06-17 | 2018-12-13 | BOT | T | 1 | 3 | 913 | 907 | 0 |\n",
       "| 201608190001 | 201304010030 | 1 | 1 | 2013-04-01 | 2014-02-19 | 2016-08-19 | 2018-11-23 | BO  | O | 3 | 2 | 397 | 156 | 0 |\n",
       "| 201609280001 | 201304030024 | 1 | 1 | 2013-04-03 | 2014-03-31 | 2016-09-28 | 2018-12-13 | BOT | B | 2 | 3 | 837 |  72 | 0 |\n",
       "| 201609230001 | 201304180015 | 1 | 1 | 2013-04-18 | 2014-03-26 | 2016-09-23 | 2019-02-09 | BOT | T | 1 | 2 | 794 | 793 | 0 |\n",
       "| 201606140001 | 201304180032 | 1 | 1 | 2013-04-18 | 2013-12-22 | 2016-06-14 | 2018-12-13 | BO  | O | 4 | 2 | 199 | 125 | 0 |\n",
       "\n"
      ],
      "text/plain": [
       "  clm_number   pol_number   j k date_pol_start date_occur date_report\n",
       "1 201607100001 201301200019 1 1 2013-01-20     2014-01-10 2016-07-10 \n",
       "2 201606170001 201302090032 1 1 2013-02-09     2014-01-02 2016-06-17 \n",
       "3 201608190001 201304010030 1 1 2013-04-01     2014-02-19 2016-08-19 \n",
       "4 201609280001 201304030024 1 1 2013-04-03     2014-03-31 2016-09-28 \n",
       "5 201609230001 201304180015 1 1 2013-04-18     2014-03-26 2016-09-23 \n",
       "6 201606140001 201304180032 1 1 2013-04-18     2013-12-22 2016-06-14 \n",
       "  date_pay   Cover claim_type Brand Model Price target flgTrain\n",
       "1 2019-01-08 BOT   B          3     2     397   159    0       \n",
       "2 2018-12-13 BOT   T          1     3     913   907    0       \n",
       "3 2018-11-23 BO    O          3     2     397   156    0       \n",
       "4 2018-12-13 BOT   B          2     3     837    72    0       \n",
       "5 2019-02-09 BOT   T          1     2     794   793    0       \n",
       "6 2018-12-13 BO    O          4     2     199   125    0       "
      ]
     },
     "metadata": {},
     "output_type": "display_data"
    },
    {
     "data": {
      "text/html": [
       "<style>\n",
       ".list-inline {list-style: none; margin:0; padding: 0}\n",
       ".list-inline>li {display: inline-block}\n",
       ".list-inline>li:not(:last-child)::after {content: \"\\00b7\"; padding: 0 .5ex}\n",
       "</style>\n",
       "<ol class=list-inline><li>125055</li><li>15</li></ol>\n"
      ],
      "text/latex": [
       "\\begin{enumerate*}\n",
       "\\item 125055\n",
       "\\item 15\n",
       "\\end{enumerate*}\n"
      ],
      "text/markdown": [
       "1. 125055\n",
       "2. 15\n",
       "\n",
       "\n"
      ],
      "text/plain": [
       "[1] 125055     15"
      ]
     },
     "metadata": {},
     "output_type": "display_data"
    },
    {
     "data": {
      "text/html": [
       "<table class=\"dataframe\">\n",
       "<caption>A data.table: 6 × 15</caption>\n",
       "<thead>\n",
       "\t<tr><th scope=col>clm_number</th><th scope=col>pol_number</th><th scope=col>j</th><th scope=col>k</th><th scope=col>date_pol_start</th><th scope=col>date_occur</th><th scope=col>date_report</th><th scope=col>date_pay</th><th scope=col>Cover</th><th scope=col>claim_type</th><th scope=col>Brand</th><th scope=col>Model</th><th scope=col>Price</th><th scope=col>target</th><th scope=col>flgTrain</th></tr>\n",
       "\t<tr><th scope=col>&lt;chr&gt;</th><th scope=col>&lt;chr&gt;</th><th scope=col>&lt;int&gt;</th><th scope=col>&lt;int&gt;</th><th scope=col>&lt;date&gt;</th><th scope=col>&lt;date&gt;</th><th scope=col>&lt;date&gt;</th><th scope=col>&lt;date&gt;</th><th scope=col>&lt;chr&gt;</th><th scope=col>&lt;chr&gt;</th><th scope=col>&lt;dbl&gt;</th><th scope=col>&lt;dbl&gt;</th><th scope=col>&lt;dbl&gt;</th><th scope=col>&lt;dbl&gt;</th><th scope=col>&lt;dbl&gt;</th></tr>\n",
       "</thead>\n",
       "<tbody>\n",
       "\t<tr><td>201809050011</td><td>201703200028</td><td>15</td><td>1</td><td>2017-03-20</td><td>2017-04-06</td><td>2018-09-05</td><td>2020-06-01</td><td>BOT</td><td>B</td><td>2</td><td>0</td><td>550</td><td>0</td><td>0</td></tr>\n",
       "\t<tr><td>201810150013</td><td>201703290049</td><td>15</td><td>1</td><td>2017-03-29</td><td>2017-05-03</td><td>2018-10-15</td><td>2020-11-05</td><td>BO </td><td>B</td><td>1</td><td>2</td><td>794</td><td>0</td><td>0</td></tr>\n",
       "\t<tr><td>201811040010</td><td>201705130039</td><td>15</td><td>1</td><td>2017-05-13</td><td>2017-07-03</td><td>2018-11-04</td><td>2020-09-01</td><td>BO </td><td>B</td><td>1</td><td>2</td><td>794</td><td>0</td><td>0</td></tr>\n",
       "\t<tr><td>201810230011</td><td>201705150023</td><td>15</td><td>1</td><td>2017-05-15</td><td>2017-07-07</td><td>2018-10-23</td><td>2020-12-29</td><td>BOT</td><td>B</td><td>4</td><td>3</td><td>229</td><td>0</td><td>0</td></tr>\n",
       "\t<tr><td>201810030007</td><td>201705200002</td><td>15</td><td>1</td><td>2017-05-20</td><td>2017-05-25</td><td>2018-10-03</td><td>2020-07-27</td><td>B  </td><td>B</td><td>1</td><td>3</td><td>913</td><td>0</td><td>0</td></tr>\n",
       "\t<tr><td>201810300017</td><td>201705230020</td><td>15</td><td>1</td><td>2017-05-23</td><td>2017-07-05</td><td>2018-10-30</td><td>2021-02-14</td><td>BOT</td><td>B</td><td>2</td><td>2</td><td>728</td><td>0</td><td>0</td></tr>\n",
       "</tbody>\n",
       "</table>\n"
      ],
      "text/latex": [
       "A data.table: 6 × 15\n",
       "\\begin{tabular}{lllllllllllllll}\n",
       " clm\\_number & pol\\_number & j & k & date\\_pol\\_start & date\\_occur & date\\_report & date\\_pay & Cover & claim\\_type & Brand & Model & Price & target & flgTrain\\\\\n",
       " <chr> & <chr> & <int> & <int> & <date> & <date> & <date> & <date> & <chr> & <chr> & <dbl> & <dbl> & <dbl> & <dbl> & <dbl>\\\\\n",
       "\\hline\n",
       "\t 201809050011 & 201703200028 & 15 & 1 & 2017-03-20 & 2017-04-06 & 2018-09-05 & 2020-06-01 & BOT & B & 2 & 0 & 550 & 0 & 0\\\\\n",
       "\t 201810150013 & 201703290049 & 15 & 1 & 2017-03-29 & 2017-05-03 & 2018-10-15 & 2020-11-05 & BO  & B & 1 & 2 & 794 & 0 & 0\\\\\n",
       "\t 201811040010 & 201705130039 & 15 & 1 & 2017-05-13 & 2017-07-03 & 2018-11-04 & 2020-09-01 & BO  & B & 1 & 2 & 794 & 0 & 0\\\\\n",
       "\t 201810230011 & 201705150023 & 15 & 1 & 2017-05-15 & 2017-07-07 & 2018-10-23 & 2020-12-29 & BOT & B & 4 & 3 & 229 & 0 & 0\\\\\n",
       "\t 201810030007 & 201705200002 & 15 & 1 & 2017-05-20 & 2017-05-25 & 2018-10-03 & 2020-07-27 & B   & B & 1 & 3 & 913 & 0 & 0\\\\\n",
       "\t 201810300017 & 201705230020 & 15 & 1 & 2017-05-23 & 2017-07-05 & 2018-10-30 & 2021-02-14 & BOT & B & 2 & 2 & 728 & 0 & 0\\\\\n",
       "\\end{tabular}\n"
      ],
      "text/markdown": [
       "\n",
       "A data.table: 6 × 15\n",
       "\n",
       "| clm_number &lt;chr&gt; | pol_number &lt;chr&gt; | j &lt;int&gt; | k &lt;int&gt; | date_pol_start &lt;date&gt; | date_occur &lt;date&gt; | date_report &lt;date&gt; | date_pay &lt;date&gt; | Cover &lt;chr&gt; | claim_type &lt;chr&gt; | Brand &lt;dbl&gt; | Model &lt;dbl&gt; | Price &lt;dbl&gt; | target &lt;dbl&gt; | flgTrain &lt;dbl&gt; |\n",
       "|---|---|---|---|---|---|---|---|---|---|---|---|---|---|---|\n",
       "| 201809050011 | 201703200028 | 15 | 1 | 2017-03-20 | 2017-04-06 | 2018-09-05 | 2020-06-01 | BOT | B | 2 | 0 | 550 | 0 | 0 |\n",
       "| 201810150013 | 201703290049 | 15 | 1 | 2017-03-29 | 2017-05-03 | 2018-10-15 | 2020-11-05 | BO  | B | 1 | 2 | 794 | 0 | 0 |\n",
       "| 201811040010 | 201705130039 | 15 | 1 | 2017-05-13 | 2017-07-03 | 2018-11-04 | 2020-09-01 | BO  | B | 1 | 2 | 794 | 0 | 0 |\n",
       "| 201810230011 | 201705150023 | 15 | 1 | 2017-05-15 | 2017-07-07 | 2018-10-23 | 2020-12-29 | BOT | B | 4 | 3 | 229 | 0 | 0 |\n",
       "| 201810030007 | 201705200002 | 15 | 1 | 2017-05-20 | 2017-05-25 | 2018-10-03 | 2020-07-27 | B   | B | 1 | 3 | 913 | 0 | 0 |\n",
       "| 201810300017 | 201705230020 | 15 | 1 | 2017-05-23 | 2017-07-05 | 2018-10-30 | 2021-02-14 | BOT | B | 2 | 2 | 728 | 0 | 0 |\n",
       "\n"
      ],
      "text/plain": [
       "  clm_number   pol_number   j  k date_pol_start date_occur date_report\n",
       "1 201809050011 201703200028 15 1 2017-03-20     2017-04-06 2018-09-05 \n",
       "2 201810150013 201703290049 15 1 2017-03-29     2017-05-03 2018-10-15 \n",
       "3 201811040010 201705130039 15 1 2017-05-13     2017-07-03 2018-11-04 \n",
       "4 201810230011 201705150023 15 1 2017-05-15     2017-07-07 2018-10-23 \n",
       "5 201810030007 201705200002 15 1 2017-05-20     2017-05-25 2018-10-03 \n",
       "6 201810300017 201705230020 15 1 2017-05-23     2017-07-05 2018-10-30 \n",
       "  date_pay   Cover claim_type Brand Model Price target flgTrain\n",
       "1 2020-06-01 BOT   B          2     0     550   0      0       \n",
       "2 2020-11-05 BO    B          1     2     794   0      0       \n",
       "3 2020-09-01 BO    B          1     2     794   0      0       \n",
       "4 2020-12-29 BOT   B          4     3     229   0      0       \n",
       "5 2020-07-27 B     B          1     3     913   0      0       \n",
       "6 2021-02-14 BOT   B          2     2     728   0      0       "
      ]
     },
     "metadata": {},
     "output_type": "display_data"
    }
   ],
   "source": [
    "head(dt_RBNS_test)\n",
    "dim(dt_RBNS_test)\n",
    "\n",
    "tail(dt_RBNS_test)\n",
    "\n",
    "\n"
   ]
  },
  {
   "cell_type": "code",
   "execution_count": 18,
   "id": "1cc3a36d-b5f3-4217-b81e-26498086af71",
   "metadata": {},
   "outputs": [
    {
     "name": "stderr",
     "output_type": "stream",
     "text": [
      "Warning message in eval(jsub, SDenv, parent.frame()):\n",
      "\"Incompatible methods (\"-.POSIXt\", \"-.Date\") for \"-\"\"\n"
     ]
    }
   ],
   "source": [
    "# Set the key for data.table for efficient grouping and manipulation\n",
    "setkey(dt_All_RBNS, clm_number, k, j)\n",
    "\n",
    "# Calculate the count of occurrences by claim number\n",
    "dt_All_RBNS[, Count := .N, by = clm_number]\n",
    "\n",
    "# Create date and delay measures by converting from source seconds to day periods\n",
    "dt_All_RBNS[, ':='(\n",
    "  # Delay between policy start date and occurrence date\n",
    "  delay_uw_occ = ifelse(year(date_occur) == 2199,\n",
    "                        -1,\n",
    "                        ceiling(as.numeric(date_occur - date_pol_start))  # Direct date subtraction, result in days\n",
    "  ),\n",
    "  \n",
    "  # Delay between occurrence date and report date\n",
    "  delay_occ_rep = ifelse(year(date_occur) == 2199,\n",
    "                         -1,\n",
    "                         ceiling(as.numeric(date_report - date_occur))  # Direct date subtraction, result in days\n",
    "  ),\n",
    "  \n",
    "  # Delay between policy start date and valuation date (t_i)\n",
    "  delay_uw_val = ceiling(as.numeric(t_i - date_pol_start)),  # Direct date subtraction, result in days\n",
    "  \n",
    "  # Delay between report date and payment date\n",
    "  delay_rep_pay = ceiling(as.numeric(date_pay - date_report)),  # Direct date subtraction, result in days\n",
    "  \n",
    "  # Convert policy start date to days since 1970-01-01\n",
    "  date_uw = ceiling(as.numeric(date_pol_start)),  # Direct conversion of policy start to days since epoch\n",
    "  \n",
    "  # Handle Cover and claim_type as categorical variables\n",
    "  Cover = as.factor(Cover),\n",
    "  claim_type = as.factor(claim_type)\n",
    ")]\n"
   ]
  },
  {
   "cell_type": "code",
   "execution_count": 19,
   "id": "d08ebdc5-e7c9-48e5-a6c6-5d3574ea802e",
   "metadata": {},
   "outputs": [
    {
     "data": {
      "text/html": [
       "<table class=\"dataframe\">\n",
       "<caption>A data.table: 6 × 21</caption>\n",
       "<thead>\n",
       "\t<tr><th scope=col>clm_number</th><th scope=col>pol_number</th><th scope=col>j</th><th scope=col>k</th><th scope=col>date_pol_start</th><th scope=col>date_occur</th><th scope=col>date_report</th><th scope=col>date_pay</th><th scope=col>Cover</th><th scope=col>claim_type</th><th scope=col>...</th><th scope=col>Model</th><th scope=col>Price</th><th scope=col>target</th><th scope=col>flgTrain</th><th scope=col>Count</th><th scope=col>delay_uw_occ</th><th scope=col>delay_occ_rep</th><th scope=col>delay_uw_val</th><th scope=col>delay_rep_pay</th><th scope=col>date_uw</th></tr>\n",
       "\t<tr><th scope=col>&lt;chr&gt;</th><th scope=col>&lt;chr&gt;</th><th scope=col>&lt;int&gt;</th><th scope=col>&lt;int&gt;</th><th scope=col>&lt;date&gt;</th><th scope=col>&lt;date&gt;</th><th scope=col>&lt;date&gt;</th><th scope=col>&lt;date&gt;</th><th scope=col>&lt;fct&gt;</th><th scope=col>&lt;fct&gt;</th><th scope=col>...</th><th scope=col>&lt;dbl&gt;</th><th scope=col>&lt;dbl&gt;</th><th scope=col>&lt;dbl&gt;</th><th scope=col>&lt;dbl&gt;</th><th scope=col>&lt;int&gt;</th><th scope=col>&lt;dbl&gt;</th><th scope=col>&lt;dbl&gt;</th><th scope=col>&lt;dbl&gt;</th><th scope=col>&lt;dbl&gt;</th><th scope=col>&lt;dbl&gt;</th></tr>\n",
       "</thead>\n",
       "<tbody>\n",
       "\t<tr><td>200905040001</td><td>200801270002</td><td> 8</td><td>1</td><td>2008-01-27</td><td>2008-02-08</td><td>2009-05-04</td><td>2011-03-03</td><td>B</td><td>B</td><td>...</td><td>2</td><td>397</td><td>0</td><td>1</td><td>4</td><td>12</td><td>451</td><td>1416859695</td><td>668</td><td>13905</td></tr>\n",
       "\t<tr><td>200905040001</td><td>200801270002</td><td> 9</td><td>1</td><td>2008-01-27</td><td>2008-02-08</td><td>2009-05-04</td><td>2011-03-03</td><td>B</td><td>B</td><td>...</td><td>2</td><td>397</td><td>0</td><td>1</td><td>4</td><td>12</td><td>451</td><td>1416859695</td><td>668</td><td>13905</td></tr>\n",
       "\t<tr><td>200905040001</td><td>200801270002</td><td>10</td><td>1</td><td>2008-01-27</td><td>2008-02-08</td><td>2009-05-04</td><td>2011-03-03</td><td>B</td><td>B</td><td>...</td><td>2</td><td>397</td><td>0</td><td>1</td><td>4</td><td>12</td><td>451</td><td>1416859695</td><td>668</td><td>13905</td></tr>\n",
       "\t<tr><td>200905040001</td><td>200801270002</td><td>11</td><td>1</td><td>2008-01-27</td><td>2008-02-08</td><td>2009-05-04</td><td>2011-03-03</td><td>B</td><td>B</td><td>...</td><td>2</td><td>397</td><td>0</td><td>1</td><td>4</td><td>12</td><td>451</td><td>1416859695</td><td>668</td><td>13905</td></tr>\n",
       "\t<tr><td>200905200001</td><td>200801150002</td><td> 7</td><td>1</td><td>2008-01-15</td><td>2008-02-07</td><td>2009-05-20</td><td>2011-08-16</td><td>B</td><td>B</td><td>...</td><td>3</td><td>837</td><td>0</td><td>1</td><td>5</td><td>23</td><td>468</td><td>1416859707</td><td>818</td><td>13893</td></tr>\n",
       "\t<tr><td>200905200001</td><td>200801150002</td><td> 8</td><td>1</td><td>2008-01-15</td><td>2008-02-07</td><td>2009-05-20</td><td>2011-08-16</td><td>B</td><td>B</td><td>...</td><td>3</td><td>837</td><td>0</td><td>1</td><td>5</td><td>23</td><td>468</td><td>1416859707</td><td>818</td><td>13893</td></tr>\n",
       "</tbody>\n",
       "</table>\n"
      ],
      "text/latex": [
       "A data.table: 6 × 21\n",
       "\\begin{tabular}{lllllllllllllllllllll}\n",
       " clm\\_number & pol\\_number & j & k & date\\_pol\\_start & date\\_occur & date\\_report & date\\_pay & Cover & claim\\_type & ... & Model & Price & target & flgTrain & Count & delay\\_uw\\_occ & delay\\_occ\\_rep & delay\\_uw\\_val & delay\\_rep\\_pay & date\\_uw\\\\\n",
       " <chr> & <chr> & <int> & <int> & <date> & <date> & <date> & <date> & <fct> & <fct> & ... & <dbl> & <dbl> & <dbl> & <dbl> & <int> & <dbl> & <dbl> & <dbl> & <dbl> & <dbl>\\\\\n",
       "\\hline\n",
       "\t 200905040001 & 200801270002 &  8 & 1 & 2008-01-27 & 2008-02-08 & 2009-05-04 & 2011-03-03 & B & B & ... & 2 & 397 & 0 & 1 & 4 & 12 & 451 & 1416859695 & 668 & 13905\\\\\n",
       "\t 200905040001 & 200801270002 &  9 & 1 & 2008-01-27 & 2008-02-08 & 2009-05-04 & 2011-03-03 & B & B & ... & 2 & 397 & 0 & 1 & 4 & 12 & 451 & 1416859695 & 668 & 13905\\\\\n",
       "\t 200905040001 & 200801270002 & 10 & 1 & 2008-01-27 & 2008-02-08 & 2009-05-04 & 2011-03-03 & B & B & ... & 2 & 397 & 0 & 1 & 4 & 12 & 451 & 1416859695 & 668 & 13905\\\\\n",
       "\t 200905040001 & 200801270002 & 11 & 1 & 2008-01-27 & 2008-02-08 & 2009-05-04 & 2011-03-03 & B & B & ... & 2 & 397 & 0 & 1 & 4 & 12 & 451 & 1416859695 & 668 & 13905\\\\\n",
       "\t 200905200001 & 200801150002 &  7 & 1 & 2008-01-15 & 2008-02-07 & 2009-05-20 & 2011-08-16 & B & B & ... & 3 & 837 & 0 & 1 & 5 & 23 & 468 & 1416859707 & 818 & 13893\\\\\n",
       "\t 200905200001 & 200801150002 &  8 & 1 & 2008-01-15 & 2008-02-07 & 2009-05-20 & 2011-08-16 & B & B & ... & 3 & 837 & 0 & 1 & 5 & 23 & 468 & 1416859707 & 818 & 13893\\\\\n",
       "\\end{tabular}\n"
      ],
      "text/markdown": [
       "\n",
       "A data.table: 6 × 21\n",
       "\n",
       "| clm_number &lt;chr&gt; | pol_number &lt;chr&gt; | j &lt;int&gt; | k &lt;int&gt; | date_pol_start &lt;date&gt; | date_occur &lt;date&gt; | date_report &lt;date&gt; | date_pay &lt;date&gt; | Cover &lt;fct&gt; | claim_type &lt;fct&gt; | ... ... | Model &lt;dbl&gt; | Price &lt;dbl&gt; | target &lt;dbl&gt; | flgTrain &lt;dbl&gt; | Count &lt;int&gt; | delay_uw_occ &lt;dbl&gt; | delay_occ_rep &lt;dbl&gt; | delay_uw_val &lt;dbl&gt; | delay_rep_pay &lt;dbl&gt; | date_uw &lt;dbl&gt; |\n",
       "|---|---|---|---|---|---|---|---|---|---|---|---|---|---|---|---|---|---|---|---|---|\n",
       "| 200905040001 | 200801270002 |  8 | 1 | 2008-01-27 | 2008-02-08 | 2009-05-04 | 2011-03-03 | B | B | ... | 2 | 397 | 0 | 1 | 4 | 12 | 451 | 1416859695 | 668 | 13905 |\n",
       "| 200905040001 | 200801270002 |  9 | 1 | 2008-01-27 | 2008-02-08 | 2009-05-04 | 2011-03-03 | B | B | ... | 2 | 397 | 0 | 1 | 4 | 12 | 451 | 1416859695 | 668 | 13905 |\n",
       "| 200905040001 | 200801270002 | 10 | 1 | 2008-01-27 | 2008-02-08 | 2009-05-04 | 2011-03-03 | B | B | ... | 2 | 397 | 0 | 1 | 4 | 12 | 451 | 1416859695 | 668 | 13905 |\n",
       "| 200905040001 | 200801270002 | 11 | 1 | 2008-01-27 | 2008-02-08 | 2009-05-04 | 2011-03-03 | B | B | ... | 2 | 397 | 0 | 1 | 4 | 12 | 451 | 1416859695 | 668 | 13905 |\n",
       "| 200905200001 | 200801150002 |  7 | 1 | 2008-01-15 | 2008-02-07 | 2009-05-20 | 2011-08-16 | B | B | ... | 3 | 837 | 0 | 1 | 5 | 23 | 468 | 1416859707 | 818 | 13893 |\n",
       "| 200905200001 | 200801150002 |  8 | 1 | 2008-01-15 | 2008-02-07 | 2009-05-20 | 2011-08-16 | B | B | ... | 3 | 837 | 0 | 1 | 5 | 23 | 468 | 1416859707 | 818 | 13893 |\n",
       "\n"
      ],
      "text/plain": [
       "  clm_number   pol_number   j  k date_pol_start date_occur date_report\n",
       "1 200905040001 200801270002  8 1 2008-01-27     2008-02-08 2009-05-04 \n",
       "2 200905040001 200801270002  9 1 2008-01-27     2008-02-08 2009-05-04 \n",
       "3 200905040001 200801270002 10 1 2008-01-27     2008-02-08 2009-05-04 \n",
       "4 200905040001 200801270002 11 1 2008-01-27     2008-02-08 2009-05-04 \n",
       "5 200905200001 200801150002  7 1 2008-01-15     2008-02-07 2009-05-20 \n",
       "6 200905200001 200801150002  8 1 2008-01-15     2008-02-07 2009-05-20 \n",
       "  date_pay   Cover claim_type ... Model Price target flgTrain Count\n",
       "1 2011-03-03 B     B          ... 2     397   0      1        4    \n",
       "2 2011-03-03 B     B          ... 2     397   0      1        4    \n",
       "3 2011-03-03 B     B          ... 2     397   0      1        4    \n",
       "4 2011-03-03 B     B          ... 2     397   0      1        4    \n",
       "5 2011-08-16 B     B          ... 3     837   0      1        5    \n",
       "6 2011-08-16 B     B          ... 3     837   0      1        5    \n",
       "  delay_uw_occ delay_occ_rep delay_uw_val delay_rep_pay date_uw\n",
       "1 12           451           1416859695   668           13905  \n",
       "2 12           451           1416859695   668           13905  \n",
       "3 12           451           1416859695   668           13905  \n",
       "4 12           451           1416859695   668           13905  \n",
       "5 23           468           1416859707   818           13893  \n",
       "6 23           468           1416859707   818           13893  "
      ]
     },
     "metadata": {},
     "output_type": "display_data"
    },
    {
     "data": {
      "text/html": [
       "<style>\n",
       ".list-inline {list-style: none; margin:0; padding: 0}\n",
       ".list-inline>li {display: inline-block}\n",
       ".list-inline>li:not(:last-child)::after {content: \"\\00b7\"; padding: 0 .5ex}\n",
       "</style>\n",
       "<ol class=list-inline><li>176891</li><li>21</li></ol>\n"
      ],
      "text/latex": [
       "\\begin{enumerate*}\n",
       "\\item 176891\n",
       "\\item 21\n",
       "\\end{enumerate*}\n"
      ],
      "text/markdown": [
       "1. 176891\n",
       "2. 21\n",
       "\n",
       "\n"
      ],
      "text/plain": [
       "[1] 176891     21"
      ]
     },
     "metadata": {},
     "output_type": "display_data"
    },
    {
     "data": {
      "text/html": [
       "<table class=\"dataframe\">\n",
       "<caption>A data.table: 6 × 21</caption>\n",
       "<thead>\n",
       "\t<tr><th scope=col>clm_number</th><th scope=col>pol_number</th><th scope=col>j</th><th scope=col>k</th><th scope=col>date_pol_start</th><th scope=col>date_occur</th><th scope=col>date_report</th><th scope=col>date_pay</th><th scope=col>Cover</th><th scope=col>claim_type</th><th scope=col>...</th><th scope=col>Model</th><th scope=col>Price</th><th scope=col>target</th><th scope=col>flgTrain</th><th scope=col>Count</th><th scope=col>delay_uw_occ</th><th scope=col>delay_occ_rep</th><th scope=col>delay_uw_val</th><th scope=col>delay_rep_pay</th><th scope=col>date_uw</th></tr>\n",
       "\t<tr><th scope=col>&lt;chr&gt;</th><th scope=col>&lt;chr&gt;</th><th scope=col>&lt;int&gt;</th><th scope=col>&lt;int&gt;</th><th scope=col>&lt;date&gt;</th><th scope=col>&lt;date&gt;</th><th scope=col>&lt;date&gt;</th><th scope=col>&lt;date&gt;</th><th scope=col>&lt;fct&gt;</th><th scope=col>&lt;fct&gt;</th><th scope=col>...</th><th scope=col>&lt;dbl&gt;</th><th scope=col>&lt;dbl&gt;</th><th scope=col>&lt;dbl&gt;</th><th scope=col>&lt;dbl&gt;</th><th scope=col>&lt;int&gt;</th><th scope=col>&lt;dbl&gt;</th><th scope=col>&lt;dbl&gt;</th><th scope=col>&lt;dbl&gt;</th><th scope=col>&lt;dbl&gt;</th><th scope=col>&lt;dbl&gt;</th></tr>\n",
       "</thead>\n",
       "<tbody>\n",
       "\t<tr><td>201811040010</td><td>201705130039</td><td>10</td><td>1</td><td>2017-05-13</td><td>2017-07-03</td><td>2018-11-04</td><td>2020-09-01</td><td>BO</td><td>B</td><td>...</td><td>2</td><td>794</td><td>0</td><td>0</td><td>15</td><td>51</td><td>489</td><td>1416856301</td><td>667</td><td>17299</td></tr>\n",
       "\t<tr><td>201811040010</td><td>201705130039</td><td>11</td><td>1</td><td>2017-05-13</td><td>2017-07-03</td><td>2018-11-04</td><td>2020-09-01</td><td>BO</td><td>B</td><td>...</td><td>2</td><td>794</td><td>0</td><td>0</td><td>15</td><td>51</td><td>489</td><td>1416856301</td><td>667</td><td>17299</td></tr>\n",
       "\t<tr><td>201811040010</td><td>201705130039</td><td>12</td><td>1</td><td>2017-05-13</td><td>2017-07-03</td><td>2018-11-04</td><td>2020-09-01</td><td>BO</td><td>B</td><td>...</td><td>2</td><td>794</td><td>0</td><td>0</td><td>15</td><td>51</td><td>489</td><td>1416856301</td><td>667</td><td>17299</td></tr>\n",
       "\t<tr><td>201811040010</td><td>201705130039</td><td>13</td><td>1</td><td>2017-05-13</td><td>2017-07-03</td><td>2018-11-04</td><td>2020-09-01</td><td>BO</td><td>B</td><td>...</td><td>2</td><td>794</td><td>0</td><td>0</td><td>15</td><td>51</td><td>489</td><td>1416856301</td><td>667</td><td>17299</td></tr>\n",
       "\t<tr><td>201811040010</td><td>201705130039</td><td>14</td><td>1</td><td>2017-05-13</td><td>2017-07-03</td><td>2018-11-04</td><td>2020-09-01</td><td>BO</td><td>B</td><td>...</td><td>2</td><td>794</td><td>0</td><td>0</td><td>15</td><td>51</td><td>489</td><td>1416856301</td><td>667</td><td>17299</td></tr>\n",
       "\t<tr><td>201811040010</td><td>201705130039</td><td>15</td><td>1</td><td>2017-05-13</td><td>2017-07-03</td><td>2018-11-04</td><td>2020-09-01</td><td>BO</td><td>B</td><td>...</td><td>2</td><td>794</td><td>0</td><td>0</td><td>15</td><td>51</td><td>489</td><td>1416856301</td><td>667</td><td>17299</td></tr>\n",
       "</tbody>\n",
       "</table>\n"
      ],
      "text/latex": [
       "A data.table: 6 × 21\n",
       "\\begin{tabular}{lllllllllllllllllllll}\n",
       " clm\\_number & pol\\_number & j & k & date\\_pol\\_start & date\\_occur & date\\_report & date\\_pay & Cover & claim\\_type & ... & Model & Price & target & flgTrain & Count & delay\\_uw\\_occ & delay\\_occ\\_rep & delay\\_uw\\_val & delay\\_rep\\_pay & date\\_uw\\\\\n",
       " <chr> & <chr> & <int> & <int> & <date> & <date> & <date> & <date> & <fct> & <fct> & ... & <dbl> & <dbl> & <dbl> & <dbl> & <int> & <dbl> & <dbl> & <dbl> & <dbl> & <dbl>\\\\\n",
       "\\hline\n",
       "\t 201811040010 & 201705130039 & 10 & 1 & 2017-05-13 & 2017-07-03 & 2018-11-04 & 2020-09-01 & BO & B & ... & 2 & 794 & 0 & 0 & 15 & 51 & 489 & 1416856301 & 667 & 17299\\\\\n",
       "\t 201811040010 & 201705130039 & 11 & 1 & 2017-05-13 & 2017-07-03 & 2018-11-04 & 2020-09-01 & BO & B & ... & 2 & 794 & 0 & 0 & 15 & 51 & 489 & 1416856301 & 667 & 17299\\\\\n",
       "\t 201811040010 & 201705130039 & 12 & 1 & 2017-05-13 & 2017-07-03 & 2018-11-04 & 2020-09-01 & BO & B & ... & 2 & 794 & 0 & 0 & 15 & 51 & 489 & 1416856301 & 667 & 17299\\\\\n",
       "\t 201811040010 & 201705130039 & 13 & 1 & 2017-05-13 & 2017-07-03 & 2018-11-04 & 2020-09-01 & BO & B & ... & 2 & 794 & 0 & 0 & 15 & 51 & 489 & 1416856301 & 667 & 17299\\\\\n",
       "\t 201811040010 & 201705130039 & 14 & 1 & 2017-05-13 & 2017-07-03 & 2018-11-04 & 2020-09-01 & BO & B & ... & 2 & 794 & 0 & 0 & 15 & 51 & 489 & 1416856301 & 667 & 17299\\\\\n",
       "\t 201811040010 & 201705130039 & 15 & 1 & 2017-05-13 & 2017-07-03 & 2018-11-04 & 2020-09-01 & BO & B & ... & 2 & 794 & 0 & 0 & 15 & 51 & 489 & 1416856301 & 667 & 17299\\\\\n",
       "\\end{tabular}\n"
      ],
      "text/markdown": [
       "\n",
       "A data.table: 6 × 21\n",
       "\n",
       "| clm_number &lt;chr&gt; | pol_number &lt;chr&gt; | j &lt;int&gt; | k &lt;int&gt; | date_pol_start &lt;date&gt; | date_occur &lt;date&gt; | date_report &lt;date&gt; | date_pay &lt;date&gt; | Cover &lt;fct&gt; | claim_type &lt;fct&gt; | ... ... | Model &lt;dbl&gt; | Price &lt;dbl&gt; | target &lt;dbl&gt; | flgTrain &lt;dbl&gt; | Count &lt;int&gt; | delay_uw_occ &lt;dbl&gt; | delay_occ_rep &lt;dbl&gt; | delay_uw_val &lt;dbl&gt; | delay_rep_pay &lt;dbl&gt; | date_uw &lt;dbl&gt; |\n",
       "|---|---|---|---|---|---|---|---|---|---|---|---|---|---|---|---|---|---|---|---|---|\n",
       "| 201811040010 | 201705130039 | 10 | 1 | 2017-05-13 | 2017-07-03 | 2018-11-04 | 2020-09-01 | BO | B | ... | 2 | 794 | 0 | 0 | 15 | 51 | 489 | 1416856301 | 667 | 17299 |\n",
       "| 201811040010 | 201705130039 | 11 | 1 | 2017-05-13 | 2017-07-03 | 2018-11-04 | 2020-09-01 | BO | B | ... | 2 | 794 | 0 | 0 | 15 | 51 | 489 | 1416856301 | 667 | 17299 |\n",
       "| 201811040010 | 201705130039 | 12 | 1 | 2017-05-13 | 2017-07-03 | 2018-11-04 | 2020-09-01 | BO | B | ... | 2 | 794 | 0 | 0 | 15 | 51 | 489 | 1416856301 | 667 | 17299 |\n",
       "| 201811040010 | 201705130039 | 13 | 1 | 2017-05-13 | 2017-07-03 | 2018-11-04 | 2020-09-01 | BO | B | ... | 2 | 794 | 0 | 0 | 15 | 51 | 489 | 1416856301 | 667 | 17299 |\n",
       "| 201811040010 | 201705130039 | 14 | 1 | 2017-05-13 | 2017-07-03 | 2018-11-04 | 2020-09-01 | BO | B | ... | 2 | 794 | 0 | 0 | 15 | 51 | 489 | 1416856301 | 667 | 17299 |\n",
       "| 201811040010 | 201705130039 | 15 | 1 | 2017-05-13 | 2017-07-03 | 2018-11-04 | 2020-09-01 | BO | B | ... | 2 | 794 | 0 | 0 | 15 | 51 | 489 | 1416856301 | 667 | 17299 |\n",
       "\n"
      ],
      "text/plain": [
       "  clm_number   pol_number   j  k date_pol_start date_occur date_report\n",
       "1 201811040010 201705130039 10 1 2017-05-13     2017-07-03 2018-11-04 \n",
       "2 201811040010 201705130039 11 1 2017-05-13     2017-07-03 2018-11-04 \n",
       "3 201811040010 201705130039 12 1 2017-05-13     2017-07-03 2018-11-04 \n",
       "4 201811040010 201705130039 13 1 2017-05-13     2017-07-03 2018-11-04 \n",
       "5 201811040010 201705130039 14 1 2017-05-13     2017-07-03 2018-11-04 \n",
       "6 201811040010 201705130039 15 1 2017-05-13     2017-07-03 2018-11-04 \n",
       "  date_pay   Cover claim_type ... Model Price target flgTrain Count\n",
       "1 2020-09-01 BO    B          ... 2     794   0      0        15   \n",
       "2 2020-09-01 BO    B          ... 2     794   0      0        15   \n",
       "3 2020-09-01 BO    B          ... 2     794   0      0        15   \n",
       "4 2020-09-01 BO    B          ... 2     794   0      0        15   \n",
       "5 2020-09-01 BO    B          ... 2     794   0      0        15   \n",
       "6 2020-09-01 BO    B          ... 2     794   0      0        15   \n",
       "  delay_uw_occ delay_occ_rep delay_uw_val delay_rep_pay date_uw\n",
       "1 51           489           1416856301   667           17299  \n",
       "2 51           489           1416856301   667           17299  \n",
       "3 51           489           1416856301   667           17299  \n",
       "4 51           489           1416856301   667           17299  \n",
       "5 51           489           1416856301   667           17299  \n",
       "6 51           489           1416856301   667           17299  "
      ]
     },
     "metadata": {},
     "output_type": "display_data"
    }
   ],
   "source": [
    "head(dt_All_RBNS)\n",
    "dim(dt_All_RBNS)\n",
    "tail(dt_All_RBNS)"
   ]
  },
  {
   "cell_type": "code",
   "execution_count": 20,
   "id": "b6907955-7644-4eaa-92e4-cfb0ddca652a",
   "metadata": {},
   "outputs": [],
   "source": [
    "# Define predictors for training, excluding the Loss Ratio\n",
    "RBNS_predictors <- c(\"j\",\n",
    "                     \"k\",\n",
    "                     \"Cover\",\n",
    "                     \"claim_type\",\n",
    "                     \"Brand\",\n",
    "                     \"Model\",\n",
    "                     \"Price\",\n",
    "                     \"delay_occ_rep\")  # Ensure Loss Ratio is not here\n"
   ]
  },
  {
   "cell_type": "code",
   "execution_count": 21,
   "id": "813bbbb6-bee6-48bf-84c8-41f3905cd9eb",
   "metadata": {},
   "outputs": [],
   "source": [
    "RBNS_predictors <- c(\"j\",\n",
    "                     \"k\",\n",
    "                     \"Cover\",\n",
    "                     \"claim_type\",\n",
    "                     \"Brand\",\n",
    "                     \"Model\",\n",
    "                     \"Price\",\n",
    "                     #\"date_uw\",\n",
    "                     #\"delay_uw_occ\",\n",
    "                     \"delay_occ_rep\")\n",
    "\n",
    "rowList_RBNS <- list(train=dt_All_RBNS[, which(flgTrain==1)],\n",
    "                test=dt_All_RBNS[, which(flgTrain==0)],\n",
    "                all = 1:nrow(dt_All_RBNS))\n",
    "\n",
    "\n",
    "RBNS_rec <- recipe( ~ ., data = dt_All_RBNS[, RBNS_predictors, with = FALSE]) %>%\n",
    "  step_dummy(all_nominal(), one_hot = TRUE) %>%\n",
    "  prep()\n",
    "\n",
    "\n",
    "df.RBNS_train <- bake(RBNS_rec, new_data = dt_All_RBNS[rowList_RBNS$train,] )\n",
    "df.RBNS_test <- bake(RBNS_rec, new_data = dt_All_RBNS[rowList_RBNS$test,] )\n",
    "df.RBNS_all <- bake(RBNS_rec, new_data = dt_All_RBNS )\n",
    "\n",
    "\n",
    "xgb.RBNS_DMat.train <- xgb.DMatrix(data = as.matrix(df.RBNS_train),\n",
    "                              label = dt_All_RBNS[rowList_RBNS$train, target])\n",
    "\n",
    "xgb.RBNS_DMat.test <- xgb.DMatrix(data = as.matrix(df.RBNS_test),\n",
    "                              label = dt_All_RBNS[rowList_RBNS$test, target])\n",
    "\n",
    "xgb.RBNS_DMat.all <- xgb.DMatrix(data = as.matrix(df.RBNS_all),\n",
    "                             label = dt_All_RBNS[, target])\n"
   ]
  },
  {
   "cell_type": "code",
   "execution_count": 22,
   "id": "f24f4fde-ab31-41a8-8eb3-df4c1a1b3e29",
   "metadata": {},
   "outputs": [
    {
     "data": {
      "text/plain": [
       "   Min. 1st Qu.  Median    Mean 3rd Qu.    Max. \n",
       "   0.00    0.00    0.00   50.15    0.00  913.00 "
      ]
     },
     "metadata": {},
     "output_type": "display_data"
    },
    {
     "data": {
      "image/png": "[encoded data removed]",
      "text/plain": [
       "Plot with title \"Histogram of dt_All_RBNS[rowList_RBNS$train, target]\""
      ]
     },
     "metadata": {
      "image/png": {
       "height": 420,
       "width": 420
      }
     },
     "output_type": "display_data"
    }
   ],
   "source": [
    "summary(dt_All_RBNS[rowList_RBNS$train, target])\n",
    "hist(dt_All_RBNS[rowList_RBNS$train, target])"
   ]
  },
  {
   "cell_type": "code",
   "execution_count": 23,
   "id": "3ffcc35b-1b6d-4dd3-810a-95e02899d0a2",
   "metadata": {},
   "outputs": [
    {
     "name": "stdout",
     "output_type": "stream",
     "text": [
      "[1]\ttrain-tweedie-nloglik@1.5:40.801670+0.271591\ttest-tweedie-nloglik@1.5:40.801578+1.156319 \n",
      "Multiple eval metrics are present. Will use test_tweedie_nloglik@1.5 for early stopping.\n",
      "Will train until test_tweedie_nloglik@1.5 hasn't improved in 10 rounds.\n",
      "\n",
      "[11]\ttrain-tweedie-nloglik@1.5:27.266881+0.173483\ttest-tweedie-nloglik@1.5:27.274072+0.615479 \n",
      "[21]\ttrain-tweedie-nloglik@1.5:24.275788+0.094509\ttest-tweedie-nloglik@1.5:24.300656+0.454288 \n",
      "[31]\ttrain-tweedie-nloglik@1.5:23.630472+0.077050\ttest-tweedie-nloglik@1.5:23.660613+0.384540 \n",
      "[41]\ttrain-tweedie-nloglik@1.5:23.429003+0.082236\ttest-tweedie-nloglik@1.5:23.489581+0.354651 \n",
      "[51]\ttrain-tweedie-nloglik@1.5:23.340812+0.082599\ttest-tweedie-nloglik@1.5:23.420178+0.351033 \n",
      "[61]\ttrain-tweedie-nloglik@1.5:23.298960+0.083714\ttest-tweedie-nloglik@1.5:23.388117+0.348643 \n",
      "[71]\ttrain-tweedie-nloglik@1.5:23.272636+0.084397\ttest-tweedie-nloglik@1.5:23.387241+0.367110 \n",
      "[81]\ttrain-tweedie-nloglik@1.5:23.255857+0.086599\ttest-tweedie-nloglik@1.5:23.379835+0.373478 \n",
      "[91]\ttrain-tweedie-nloglik@1.5:23.237640+0.089164\ttest-tweedie-nloglik@1.5:23.398884+0.400135 \n",
      "Stopping. Best iteration:\n",
      "[81]\ttrain-tweedie-nloglik@1.5:23.255857+0.086599\ttest-tweedie-nloglik@1.5:23.379835+0.373478\n",
      "\n"
     ]
    }
   ],
   "source": [
    "param <- list(\n",
    "  objective = \"reg:tweedie\",\n",
    "  max_depth = 2L,            # tree-depth\n",
    "  subsample = 0.75,          # randomly sample rows before fitting each tree\n",
    "  colsample_bytree = 0.8,    # randomly sample columns before fitting each tree\n",
    "  min.child.weight = 10,     # minimum weight per leaf\n",
    "  eta = 0.1                  # Learning rate\n",
    ")\n",
    "\n",
    "\n",
    "# Train model with cross validation\n",
    "set.seed(1984) # for repeatability\n",
    "\n",
    "xgb_RBNS_CV <- xgb.cv(\n",
    "  params                 = param,\n",
    "  data                   = xgb.RBNS_DMat.train,\n",
    "  nrounds                = 500,        # Maximum number of trees to build\n",
    "  nfold = 5,\n",
    "  early_stopping_rounds  = 10L,        # Stops algorithm early if performance has not improved in \n",
    "  print_every_n          = 10L,        # How often to print to console\n",
    "  prediction             = TRUE        # Keeps the predictions\n",
    ")"
   ]
  },
  {
   "cell_type": "code",
   "execution_count": 24,
   "id": "2a449a85-b92b-4a46-b24b-4a6aa544f91f",
   "metadata": {},
   "outputs": [],
   "source": [
    "dt_All_RBNS[rowList_RBNS$train, preds_oof := xgb_RBNS_CV$pred]"
   ]
  },
  {
   "cell_type": "code",
   "execution_count": 25,
   "id": "0fc03ccb-83b3-4ff7-ac47-54883b69d237",
   "metadata": {},
   "outputs": [
    {
     "data": {
      "text/html": [
       "<table class=\"dataframe\">\n",
       "<caption>A data.table: 6 × 22</caption>\n",
       "<thead>\n",
       "\t<tr><th scope=col>clm_number</th><th scope=col>pol_number</th><th scope=col>j</th><th scope=col>k</th><th scope=col>date_pol_start</th><th scope=col>date_occur</th><th scope=col>date_report</th><th scope=col>date_pay</th><th scope=col>Cover</th><th scope=col>claim_type</th><th scope=col>...</th><th scope=col>Price</th><th scope=col>target</th><th scope=col>flgTrain</th><th scope=col>Count</th><th scope=col>delay_uw_occ</th><th scope=col>delay_occ_rep</th><th scope=col>delay_uw_val</th><th scope=col>delay_rep_pay</th><th scope=col>date_uw</th><th scope=col>preds_oof</th></tr>\n",
       "\t<tr><th scope=col>&lt;chr&gt;</th><th scope=col>&lt;chr&gt;</th><th scope=col>&lt;int&gt;</th><th scope=col>&lt;int&gt;</th><th scope=col>&lt;date&gt;</th><th scope=col>&lt;date&gt;</th><th scope=col>&lt;date&gt;</th><th scope=col>&lt;date&gt;</th><th scope=col>&lt;fct&gt;</th><th scope=col>&lt;fct&gt;</th><th scope=col>...</th><th scope=col>&lt;dbl&gt;</th><th scope=col>&lt;dbl&gt;</th><th scope=col>&lt;dbl&gt;</th><th scope=col>&lt;int&gt;</th><th scope=col>&lt;dbl&gt;</th><th scope=col>&lt;dbl&gt;</th><th scope=col>&lt;dbl&gt;</th><th scope=col>&lt;dbl&gt;</th><th scope=col>&lt;dbl&gt;</th><th scope=col>&lt;dbl&gt;</th></tr>\n",
       "</thead>\n",
       "<tbody>\n",
       "\t<tr><td>200905040001</td><td>200801270002</td><td> 8</td><td>1</td><td>2008-01-27</td><td>2008-02-08</td><td>2009-05-04</td><td>2011-03-03</td><td>B</td><td>B</td><td>...</td><td>397</td><td>0</td><td>1</td><td>4</td><td>12</td><td>451</td><td>1416859695</td><td>668</td><td>13905</td><td>0.0005107636</td></tr>\n",
       "\t<tr><td>200905040001</td><td>200801270002</td><td> 9</td><td>1</td><td>2008-01-27</td><td>2008-02-08</td><td>2009-05-04</td><td>2011-03-03</td><td>B</td><td>B</td><td>...</td><td>397</td><td>0</td><td>1</td><td>4</td><td>12</td><td>451</td><td>1416859695</td><td>668</td><td>13905</td><td>0.0014587329</td></tr>\n",
       "\t<tr><td>200905040001</td><td>200801270002</td><td>10</td><td>1</td><td>2008-01-27</td><td>2008-02-08</td><td>2009-05-04</td><td>2011-03-03</td><td>B</td><td>B</td><td>...</td><td>397</td><td>0</td><td>1</td><td>4</td><td>12</td><td>451</td><td>1416859695</td><td>668</td><td>13905</td><td>0.0012024755</td></tr>\n",
       "\t<tr><td>200905040001</td><td>200801270002</td><td>11</td><td>1</td><td>2008-01-27</td><td>2008-02-08</td><td>2009-05-04</td><td>2011-03-03</td><td>B</td><td>B</td><td>...</td><td>397</td><td>0</td><td>1</td><td>4</td><td>12</td><td>451</td><td>1416859695</td><td>668</td><td>13905</td><td>0.0006657771</td></tr>\n",
       "\t<tr><td>200905200001</td><td>200801150002</td><td> 7</td><td>1</td><td>2008-01-15</td><td>2008-02-07</td><td>2009-05-20</td><td>2011-08-16</td><td>B</td><td>B</td><td>...</td><td>837</td><td>0</td><td>1</td><td>5</td><td>23</td><td>468</td><td>1416859707</td><td>818</td><td>13893</td><td>0.0003094971</td></tr>\n",
       "\t<tr><td>200905200001</td><td>200801150002</td><td> 8</td><td>1</td><td>2008-01-15</td><td>2008-02-07</td><td>2009-05-20</td><td>2011-08-16</td><td>B</td><td>B</td><td>...</td><td>837</td><td>0</td><td>1</td><td>5</td><td>23</td><td>468</td><td>1416859707</td><td>818</td><td>13893</td><td>0.0013750661</td></tr>\n",
       "</tbody>\n",
       "</table>\n"
      ],
      "text/latex": [
       "A data.table: 6 × 22\n",
       "\\begin{tabular}{lllllllllllllllllllll}\n",
       " clm\\_number & pol\\_number & j & k & date\\_pol\\_start & date\\_occur & date\\_report & date\\_pay & Cover & claim\\_type & ... & Price & target & flgTrain & Count & delay\\_uw\\_occ & delay\\_occ\\_rep & delay\\_uw\\_val & delay\\_rep\\_pay & date\\_uw & preds\\_oof\\\\\n",
       " <chr> & <chr> & <int> & <int> & <date> & <date> & <date> & <date> & <fct> & <fct> & ... & <dbl> & <dbl> & <dbl> & <int> & <dbl> & <dbl> & <dbl> & <dbl> & <dbl> & <dbl>\\\\\n",
       "\\hline\n",
       "\t 200905040001 & 200801270002 &  8 & 1 & 2008-01-27 & 2008-02-08 & 2009-05-04 & 2011-03-03 & B & B & ... & 397 & 0 & 1 & 4 & 12 & 451 & 1416859695 & 668 & 13905 & 0.0005107636\\\\\n",
       "\t 200905040001 & 200801270002 &  9 & 1 & 2008-01-27 & 2008-02-08 & 2009-05-04 & 2011-03-03 & B & B & ... & 397 & 0 & 1 & 4 & 12 & 451 & 1416859695 & 668 & 13905 & 0.0014587329\\\\\n",
       "\t 200905040001 & 200801270002 & 10 & 1 & 2008-01-27 & 2008-02-08 & 2009-05-04 & 2011-03-03 & B & B & ... & 397 & 0 & 1 & 4 & 12 & 451 & 1416859695 & 668 & 13905 & 0.0012024755\\\\\n",
       "\t 200905040001 & 200801270002 & 11 & 1 & 2008-01-27 & 2008-02-08 & 2009-05-04 & 2011-03-03 & B & B & ... & 397 & 0 & 1 & 4 & 12 & 451 & 1416859695 & 668 & 13905 & 0.0006657771\\\\\n",
       "\t 200905200001 & 200801150002 &  7 & 1 & 2008-01-15 & 2008-02-07 & 2009-05-20 & 2011-08-16 & B & B & ... & 837 & 0 & 1 & 5 & 23 & 468 & 1416859707 & 818 & 13893 & 0.0003094971\\\\\n",
       "\t 200905200001 & 200801150002 &  8 & 1 & 2008-01-15 & 2008-02-07 & 2009-05-20 & 2011-08-16 & B & B & ... & 837 & 0 & 1 & 5 & 23 & 468 & 1416859707 & 818 & 13893 & 0.0013750661\\\\\n",
       "\\end{tabular}\n"
      ],
      "text/markdown": [
       "\n",
       "A data.table: 6 × 22\n",
       "\n",
       "| clm_number &lt;chr&gt; | pol_number &lt;chr&gt; | j &lt;int&gt; | k &lt;int&gt; | date_pol_start &lt;date&gt; | date_occur &lt;date&gt; | date_report &lt;date&gt; | date_pay &lt;date&gt; | Cover &lt;fct&gt; | claim_type &lt;fct&gt; | ... ... | Price &lt;dbl&gt; | target &lt;dbl&gt; | flgTrain &lt;dbl&gt; | Count &lt;int&gt; | delay_uw_occ &lt;dbl&gt; | delay_occ_rep &lt;dbl&gt; | delay_uw_val &lt;dbl&gt; | delay_rep_pay &lt;dbl&gt; | date_uw &lt;dbl&gt; | preds_oof &lt;dbl&gt; |\n",
       "|---|---|---|---|---|---|---|---|---|---|---|---|---|---|---|---|---|---|---|---|---|\n",
       "| 200905040001 | 200801270002 |  8 | 1 | 2008-01-27 | 2008-02-08 | 2009-05-04 | 2011-03-03 | B | B | ... | 397 | 0 | 1 | 4 | 12 | 451 | 1416859695 | 668 | 13905 | 0.0005107636 |\n",
       "| 200905040001 | 200801270002 |  9 | 1 | 2008-01-27 | 2008-02-08 | 2009-05-04 | 2011-03-03 | B | B | ... | 397 | 0 | 1 | 4 | 12 | 451 | 1416859695 | 668 | 13905 | 0.0014587329 |\n",
       "| 200905040001 | 200801270002 | 10 | 1 | 2008-01-27 | 2008-02-08 | 2009-05-04 | 2011-03-03 | B | B | ... | 397 | 0 | 1 | 4 | 12 | 451 | 1416859695 | 668 | 13905 | 0.0012024755 |\n",
       "| 200905040001 | 200801270002 | 11 | 1 | 2008-01-27 | 2008-02-08 | 2009-05-04 | 2011-03-03 | B | B | ... | 397 | 0 | 1 | 4 | 12 | 451 | 1416859695 | 668 | 13905 | 0.0006657771 |\n",
       "| 200905200001 | 200801150002 |  7 | 1 | 2008-01-15 | 2008-02-07 | 2009-05-20 | 2011-08-16 | B | B | ... | 837 | 0 | 1 | 5 | 23 | 468 | 1416859707 | 818 | 13893 | 0.0003094971 |\n",
       "| 200905200001 | 200801150002 |  8 | 1 | 2008-01-15 | 2008-02-07 | 2009-05-20 | 2011-08-16 | B | B | ... | 837 | 0 | 1 | 5 | 23 | 468 | 1416859707 | 818 | 13893 | 0.0013750661 |\n",
       "\n"
      ],
      "text/plain": [
       "  clm_number   pol_number   j  k date_pol_start date_occur date_report\n",
       "1 200905040001 200801270002  8 1 2008-01-27     2008-02-08 2009-05-04 \n",
       "2 200905040001 200801270002  9 1 2008-01-27     2008-02-08 2009-05-04 \n",
       "3 200905040001 200801270002 10 1 2008-01-27     2008-02-08 2009-05-04 \n",
       "4 200905040001 200801270002 11 1 2008-01-27     2008-02-08 2009-05-04 \n",
       "5 200905200001 200801150002  7 1 2008-01-15     2008-02-07 2009-05-20 \n",
       "6 200905200001 200801150002  8 1 2008-01-15     2008-02-07 2009-05-20 \n",
       "  date_pay   Cover claim_type ... Price target flgTrain Count delay_uw_occ\n",
       "1 2011-03-03 B     B          ... 397   0      1        4     12          \n",
       "2 2011-03-03 B     B          ... 397   0      1        4     12          \n",
       "3 2011-03-03 B     B          ... 397   0      1        4     12          \n",
       "4 2011-03-03 B     B          ... 397   0      1        4     12          \n",
       "5 2011-08-16 B     B          ... 837   0      1        5     23          \n",
       "6 2011-08-16 B     B          ... 837   0      1        5     23          \n",
       "  delay_occ_rep delay_uw_val delay_rep_pay date_uw preds_oof   \n",
       "1 451           1416859695   668           13905   0.0005107636\n",
       "2 451           1416859695   668           13905   0.0014587329\n",
       "3 451           1416859695   668           13905   0.0012024755\n",
       "4 451           1416859695   668           13905   0.0006657771\n",
       "5 468           1416859707   818           13893   0.0003094971\n",
       "6 468           1416859707   818           13893   0.0013750661"
      ]
     },
     "metadata": {},
     "output_type": "display_data"
    }
   ],
   "source": [
    "head(dt_All_RBNS)"
   ]
  },
  {
   "cell_type": "code",
   "execution_count": 26,
   "id": "e399e000-5c58-4d34-867e-740aac4b1665",
   "metadata": {},
   "outputs": [
    {
     "name": "stdout",
     "output_type": "stream",
     "text": [
      "[1]\ttrain-tweedie-nloglik@1.5:40.796875\ttest-tweedie-nloglik@1.5:20.411248 \n",
      "[11]\ttrain-tweedie-nloglik@1.5:27.347296\ttest-tweedie-nloglik@1.5:13.704491 \n",
      "[21]\ttrain-tweedie-nloglik@1.5:24.332279\ttest-tweedie-nloglik@1.5:11.608979 \n",
      "[31]\ttrain-tweedie-nloglik@1.5:23.611791\ttest-tweedie-nloglik@1.5:10.721077 \n",
      "[41]\ttrain-tweedie-nloglik@1.5:23.422824\ttest-tweedie-nloglik@1.5:10.445035 \n",
      "[51]\ttrain-tweedie-nloglik@1.5:23.343053\ttest-tweedie-nloglik@1.5:10.321552 \n",
      "[61]\ttrain-tweedie-nloglik@1.5:23.301656\ttest-tweedie-nloglik@1.5:10.231375 \n",
      "[71]\ttrain-tweedie-nloglik@1.5:23.279997\ttest-tweedie-nloglik@1.5:10.207186 \n",
      "[81]\ttrain-tweedie-nloglik@1.5:23.263817\ttest-tweedie-nloglik@1.5:10.198902 \n"
     ]
    }
   ],
   "source": [
    "# Fit the final model after cross-validation\n",
    "xgb_RBNS_Fit <- xgb.train(\n",
    "  params = param,\n",
    "  data = xgb.RBNS_DMat.train,\n",
    "  nrounds = xgb_RBNS_CV$best_iteration,\n",
    "  watchlist = list(train = xgb.RBNS_DMat.train, test = xgb.RBNS_DMat.test),\n",
    "  print_every_n = 10\n",
    ")\n",
    "\n",
    "# Make predictions on the test and all data\n",
    "dt_All_RBNS[, preds_full := predict(xgb_RBNS_Fit, xgb.RBNS_DMat.all)]\n"
   ]
  },
  {
   "cell_type": "code",
   "execution_count": 27,
   "id": "6f2d86c9-9f41-40ab-a300-0edf434298ec",
   "metadata": {},
   "outputs": [
    {
     "data": {
      "text/html": [
       "<table class=\"dataframe\">\n",
       "<caption>A data.table: 6 × 23</caption>\n",
       "<thead>\n",
       "\t<tr><th scope=col>clm_number</th><th scope=col>pol_number</th><th scope=col>j</th><th scope=col>k</th><th scope=col>date_pol_start</th><th scope=col>date_occur</th><th scope=col>date_report</th><th scope=col>date_pay</th><th scope=col>Cover</th><th scope=col>claim_type</th><th scope=col>...</th><th scope=col>target</th><th scope=col>flgTrain</th><th scope=col>Count</th><th scope=col>delay_uw_occ</th><th scope=col>delay_occ_rep</th><th scope=col>delay_uw_val</th><th scope=col>delay_rep_pay</th><th scope=col>date_uw</th><th scope=col>preds_oof</th><th scope=col>preds_full</th></tr>\n",
       "\t<tr><th scope=col>&lt;chr&gt;</th><th scope=col>&lt;chr&gt;</th><th scope=col>&lt;int&gt;</th><th scope=col>&lt;int&gt;</th><th scope=col>&lt;date&gt;</th><th scope=col>&lt;date&gt;</th><th scope=col>&lt;date&gt;</th><th scope=col>&lt;date&gt;</th><th scope=col>&lt;fct&gt;</th><th scope=col>&lt;fct&gt;</th><th scope=col>...</th><th scope=col>&lt;dbl&gt;</th><th scope=col>&lt;dbl&gt;</th><th scope=col>&lt;int&gt;</th><th scope=col>&lt;dbl&gt;</th><th scope=col>&lt;dbl&gt;</th><th scope=col>&lt;dbl&gt;</th><th scope=col>&lt;dbl&gt;</th><th scope=col>&lt;dbl&gt;</th><th scope=col>&lt;dbl&gt;</th><th scope=col>&lt;dbl&gt;</th></tr>\n",
       "</thead>\n",
       "<tbody>\n",
       "\t<tr><td>200905040001</td><td>200801270002</td><td> 8</td><td>1</td><td>2008-01-27</td><td>2008-02-08</td><td>2009-05-04</td><td>2011-03-03</td><td>B</td><td>B</td><td>...</td><td>0</td><td>1</td><td>4</td><td>12</td><td>451</td><td>1416859695</td><td>668</td><td>13905</td><td>0.0005107636</td><td>0.0004199386</td></tr>\n",
       "\t<tr><td>200905040001</td><td>200801270002</td><td> 9</td><td>1</td><td>2008-01-27</td><td>2008-02-08</td><td>2009-05-04</td><td>2011-03-03</td><td>B</td><td>B</td><td>...</td><td>0</td><td>1</td><td>4</td><td>12</td><td>451</td><td>1416859695</td><td>668</td><td>13905</td><td>0.0014587329</td><td>0.0004199386</td></tr>\n",
       "\t<tr><td>200905040001</td><td>200801270002</td><td>10</td><td>1</td><td>2008-01-27</td><td>2008-02-08</td><td>2009-05-04</td><td>2011-03-03</td><td>B</td><td>B</td><td>...</td><td>0</td><td>1</td><td>4</td><td>12</td><td>451</td><td>1416859695</td><td>668</td><td>13905</td><td>0.0012024755</td><td>0.0004199386</td></tr>\n",
       "\t<tr><td>200905040001</td><td>200801270002</td><td>11</td><td>1</td><td>2008-01-27</td><td>2008-02-08</td><td>2009-05-04</td><td>2011-03-03</td><td>B</td><td>B</td><td>...</td><td>0</td><td>1</td><td>4</td><td>12</td><td>451</td><td>1416859695</td><td>668</td><td>13905</td><td>0.0006657771</td><td>0.0004199386</td></tr>\n",
       "\t<tr><td>200905200001</td><td>200801150002</td><td> 7</td><td>1</td><td>2008-01-15</td><td>2008-02-07</td><td>2009-05-20</td><td>2011-08-16</td><td>B</td><td>B</td><td>...</td><td>0</td><td>1</td><td>5</td><td>23</td><td>468</td><td>1416859707</td><td>818</td><td>13893</td><td>0.0003094971</td><td>0.0002904890</td></tr>\n",
       "\t<tr><td>200905200001</td><td>200801150002</td><td> 8</td><td>1</td><td>2008-01-15</td><td>2008-02-07</td><td>2009-05-20</td><td>2011-08-16</td><td>B</td><td>B</td><td>...</td><td>0</td><td>1</td><td>5</td><td>23</td><td>468</td><td>1416859707</td><td>818</td><td>13893</td><td>0.0013750661</td><td>0.0002904890</td></tr>\n",
       "</tbody>\n",
       "</table>\n"
      ],
      "text/latex": [
       "A data.table: 6 × 23\n",
       "\\begin{tabular}{lllllllllllllllllllll}\n",
       " clm\\_number & pol\\_number & j & k & date\\_pol\\_start & date\\_occur & date\\_report & date\\_pay & Cover & claim\\_type & ... & target & flgTrain & Count & delay\\_uw\\_occ & delay\\_occ\\_rep & delay\\_uw\\_val & delay\\_rep\\_pay & date\\_uw & preds\\_oof & preds\\_full\\\\\n",
       " <chr> & <chr> & <int> & <int> & <date> & <date> & <date> & <date> & <fct> & <fct> & ... & <dbl> & <dbl> & <int> & <dbl> & <dbl> & <dbl> & <dbl> & <dbl> & <dbl> & <dbl>\\\\\n",
       "\\hline\n",
       "\t 200905040001 & 200801270002 &  8 & 1 & 2008-01-27 & 2008-02-08 & 2009-05-04 & 2011-03-03 & B & B & ... & 0 & 1 & 4 & 12 & 451 & 1416859695 & 668 & 13905 & 0.0005107636 & 0.0004199386\\\\\n",
       "\t 200905040001 & 200801270002 &  9 & 1 & 2008-01-27 & 2008-02-08 & 2009-05-04 & 2011-03-03 & B & B & ... & 0 & 1 & 4 & 12 & 451 & 1416859695 & 668 & 13905 & 0.0014587329 & 0.0004199386\\\\\n",
       "\t 200905040001 & 200801270002 & 10 & 1 & 2008-01-27 & 2008-02-08 & 2009-05-04 & 2011-03-03 & B & B & ... & 0 & 1 & 4 & 12 & 451 & 1416859695 & 668 & 13905 & 0.0012024755 & 0.0004199386\\\\\n",
       "\t 200905040001 & 200801270002 & 11 & 1 & 2008-01-27 & 2008-02-08 & 2009-05-04 & 2011-03-03 & B & B & ... & 0 & 1 & 4 & 12 & 451 & 1416859695 & 668 & 13905 & 0.0006657771 & 0.0004199386\\\\\n",
       "\t 200905200001 & 200801150002 &  7 & 1 & 2008-01-15 & 2008-02-07 & 2009-05-20 & 2011-08-16 & B & B & ... & 0 & 1 & 5 & 23 & 468 & 1416859707 & 818 & 13893 & 0.0003094971 & 0.0002904890\\\\\n",
       "\t 200905200001 & 200801150002 &  8 & 1 & 2008-01-15 & 2008-02-07 & 2009-05-20 & 2011-08-16 & B & B & ... & 0 & 1 & 5 & 23 & 468 & 1416859707 & 818 & 13893 & 0.0013750661 & 0.0002904890\\\\\n",
       "\\end{tabular}\n"
      ],
      "text/markdown": [
       "\n",
       "A data.table: 6 × 23\n",
       "\n",
       "| clm_number &lt;chr&gt; | pol_number &lt;chr&gt; | j &lt;int&gt; | k &lt;int&gt; | date_pol_start &lt;date&gt; | date_occur &lt;date&gt; | date_report &lt;date&gt; | date_pay &lt;date&gt; | Cover &lt;fct&gt; | claim_type &lt;fct&gt; | ... ... | target &lt;dbl&gt; | flgTrain &lt;dbl&gt; | Count &lt;int&gt; | delay_uw_occ &lt;dbl&gt; | delay_occ_rep &lt;dbl&gt; | delay_uw_val &lt;dbl&gt; | delay_rep_pay &lt;dbl&gt; | date_uw &lt;dbl&gt; | preds_oof &lt;dbl&gt; | preds_full &lt;dbl&gt; |\n",
       "|---|---|---|---|---|---|---|---|---|---|---|---|---|---|---|---|---|---|---|---|---|\n",
       "| 200905040001 | 200801270002 |  8 | 1 | 2008-01-27 | 2008-02-08 | 2009-05-04 | 2011-03-03 | B | B | ... | 0 | 1 | 4 | 12 | 451 | 1416859695 | 668 | 13905 | 0.0005107636 | 0.0004199386 |\n",
       "| 200905040001 | 200801270002 |  9 | 1 | 2008-01-27 | 2008-02-08 | 2009-05-04 | 2011-03-03 | B | B | ... | 0 | 1 | 4 | 12 | 451 | 1416859695 | 668 | 13905 | 0.0014587329 | 0.0004199386 |\n",
       "| 200905040001 | 200801270002 | 10 | 1 | 2008-01-27 | 2008-02-08 | 2009-05-04 | 2011-03-03 | B | B | ... | 0 | 1 | 4 | 12 | 451 | 1416859695 | 668 | 13905 | 0.0012024755 | 0.0004199386 |\n",
       "| 200905040001 | 200801270002 | 11 | 1 | 2008-01-27 | 2008-02-08 | 2009-05-04 | 2011-03-03 | B | B | ... | 0 | 1 | 4 | 12 | 451 | 1416859695 | 668 | 13905 | 0.0006657771 | 0.0004199386 |\n",
       "| 200905200001 | 200801150002 |  7 | 1 | 2008-01-15 | 2008-02-07 | 2009-05-20 | 2011-08-16 | B | B | ... | 0 | 1 | 5 | 23 | 468 | 1416859707 | 818 | 13893 | 0.0003094971 | 0.0002904890 |\n",
       "| 200905200001 | 200801150002 |  8 | 1 | 2008-01-15 | 2008-02-07 | 2009-05-20 | 2011-08-16 | B | B | ... | 0 | 1 | 5 | 23 | 468 | 1416859707 | 818 | 13893 | 0.0013750661 | 0.0002904890 |\n",
       "\n"
      ],
      "text/plain": [
       "  clm_number   pol_number   j  k date_pol_start date_occur date_report\n",
       "1 200905040001 200801270002  8 1 2008-01-27     2008-02-08 2009-05-04 \n",
       "2 200905040001 200801270002  9 1 2008-01-27     2008-02-08 2009-05-04 \n",
       "3 200905040001 200801270002 10 1 2008-01-27     2008-02-08 2009-05-04 \n",
       "4 200905040001 200801270002 11 1 2008-01-27     2008-02-08 2009-05-04 \n",
       "5 200905200001 200801150002  7 1 2008-01-15     2008-02-07 2009-05-20 \n",
       "6 200905200001 200801150002  8 1 2008-01-15     2008-02-07 2009-05-20 \n",
       "  date_pay   Cover claim_type ... target flgTrain Count delay_uw_occ\n",
       "1 2011-03-03 B     B          ... 0      1        4     12          \n",
       "2 2011-03-03 B     B          ... 0      1        4     12          \n",
       "3 2011-03-03 B     B          ... 0      1        4     12          \n",
       "4 2011-03-03 B     B          ... 0      1        4     12          \n",
       "5 2011-08-16 B     B          ... 0      1        5     23          \n",
       "6 2011-08-16 B     B          ... 0      1        5     23          \n",
       "  delay_occ_rep delay_uw_val delay_rep_pay date_uw preds_oof    preds_full  \n",
       "1 451           1416859695   668           13905   0.0005107636 0.0004199386\n",
       "2 451           1416859695   668           13905   0.0014587329 0.0004199386\n",
       "3 451           1416859695   668           13905   0.0012024755 0.0004199386\n",
       "4 451           1416859695   668           13905   0.0006657771 0.0004199386\n",
       "5 468           1416859707   818           13893   0.0003094971 0.0002904890\n",
       "6 468           1416859707   818           13893   0.0013750661 0.0002904890"
      ]
     },
     "metadata": {},
     "output_type": "display_data"
    },
    {
     "data": {
      "text/html": [
       "<table class=\"dataframe\">\n",
       "<caption>A data.table: 6 × 23</caption>\n",
       "<thead>\n",
       "\t<tr><th scope=col>clm_number</th><th scope=col>pol_number</th><th scope=col>j</th><th scope=col>k</th><th scope=col>date_pol_start</th><th scope=col>date_occur</th><th scope=col>date_report</th><th scope=col>date_pay</th><th scope=col>Cover</th><th scope=col>claim_type</th><th scope=col>...</th><th scope=col>target</th><th scope=col>flgTrain</th><th scope=col>Count</th><th scope=col>delay_uw_occ</th><th scope=col>delay_occ_rep</th><th scope=col>delay_uw_val</th><th scope=col>delay_rep_pay</th><th scope=col>date_uw</th><th scope=col>preds_oof</th><th scope=col>preds_full</th></tr>\n",
       "\t<tr><th scope=col>&lt;chr&gt;</th><th scope=col>&lt;chr&gt;</th><th scope=col>&lt;int&gt;</th><th scope=col>&lt;int&gt;</th><th scope=col>&lt;date&gt;</th><th scope=col>&lt;date&gt;</th><th scope=col>&lt;date&gt;</th><th scope=col>&lt;date&gt;</th><th scope=col>&lt;fct&gt;</th><th scope=col>&lt;fct&gt;</th><th scope=col>...</th><th scope=col>&lt;dbl&gt;</th><th scope=col>&lt;dbl&gt;</th><th scope=col>&lt;int&gt;</th><th scope=col>&lt;dbl&gt;</th><th scope=col>&lt;dbl&gt;</th><th scope=col>&lt;dbl&gt;</th><th scope=col>&lt;dbl&gt;</th><th scope=col>&lt;dbl&gt;</th><th scope=col>&lt;dbl&gt;</th><th scope=col>&lt;dbl&gt;</th></tr>\n",
       "</thead>\n",
       "<tbody>\n",
       "\t<tr><td>201811040010</td><td>201705130039</td><td>10</td><td>1</td><td>2017-05-13</td><td>2017-07-03</td><td>2018-11-04</td><td>2020-09-01</td><td>BO</td><td>B</td><td>...</td><td>0</td><td>0</td><td>15</td><td>51</td><td>489</td><td>1416856301</td><td>667</td><td>17299</td><td>NA</td><td>0.000307628</td></tr>\n",
       "\t<tr><td>201811040010</td><td>201705130039</td><td>11</td><td>1</td><td>2017-05-13</td><td>2017-07-03</td><td>2018-11-04</td><td>2020-09-01</td><td>BO</td><td>B</td><td>...</td><td>0</td><td>0</td><td>15</td><td>51</td><td>489</td><td>1416856301</td><td>667</td><td>17299</td><td>NA</td><td>0.000307628</td></tr>\n",
       "\t<tr><td>201811040010</td><td>201705130039</td><td>12</td><td>1</td><td>2017-05-13</td><td>2017-07-03</td><td>2018-11-04</td><td>2020-09-01</td><td>BO</td><td>B</td><td>...</td><td>0</td><td>0</td><td>15</td><td>51</td><td>489</td><td>1416856301</td><td>667</td><td>17299</td><td>NA</td><td>0.000307628</td></tr>\n",
       "\t<tr><td>201811040010</td><td>201705130039</td><td>13</td><td>1</td><td>2017-05-13</td><td>2017-07-03</td><td>2018-11-04</td><td>2020-09-01</td><td>BO</td><td>B</td><td>...</td><td>0</td><td>0</td><td>15</td><td>51</td><td>489</td><td>1416856301</td><td>667</td><td>17299</td><td>NA</td><td>0.000307628</td></tr>\n",
       "\t<tr><td>201811040010</td><td>201705130039</td><td>14</td><td>1</td><td>2017-05-13</td><td>2017-07-03</td><td>2018-11-04</td><td>2020-09-01</td><td>BO</td><td>B</td><td>...</td><td>0</td><td>0</td><td>15</td><td>51</td><td>489</td><td>1416856301</td><td>667</td><td>17299</td><td>NA</td><td>0.000307628</td></tr>\n",
       "\t<tr><td>201811040010</td><td>201705130039</td><td>15</td><td>1</td><td>2017-05-13</td><td>2017-07-03</td><td>2018-11-04</td><td>2020-09-01</td><td>BO</td><td>B</td><td>...</td><td>0</td><td>0</td><td>15</td><td>51</td><td>489</td><td>1416856301</td><td>667</td><td>17299</td><td>NA</td><td>0.000307628</td></tr>\n",
       "</tbody>\n",
       "</table>\n"
      ],
      "text/latex": [
       "A data.table: 6 × 23\n",
       "\\begin{tabular}{lllllllllllllllllllll}\n",
       " clm\\_number & pol\\_number & j & k & date\\_pol\\_start & date\\_occur & date\\_report & date\\_pay & Cover & claim\\_type & ... & target & flgTrain & Count & delay\\_uw\\_occ & delay\\_occ\\_rep & delay\\_uw\\_val & delay\\_rep\\_pay & date\\_uw & preds\\_oof & preds\\_full\\\\\n",
       " <chr> & <chr> & <int> & <int> & <date> & <date> & <date> & <date> & <fct> & <fct> & ... & <dbl> & <dbl> & <int> & <dbl> & <dbl> & <dbl> & <dbl> & <dbl> & <dbl> & <dbl>\\\\\n",
       "\\hline\n",
       "\t 201811040010 & 201705130039 & 10 & 1 & 2017-05-13 & 2017-07-03 & 2018-11-04 & 2020-09-01 & BO & B & ... & 0 & 0 & 15 & 51 & 489 & 1416856301 & 667 & 17299 & NA & 0.000307628\\\\\n",
       "\t 201811040010 & 201705130039 & 11 & 1 & 2017-05-13 & 2017-07-03 & 2018-11-04 & 2020-09-01 & BO & B & ... & 0 & 0 & 15 & 51 & 489 & 1416856301 & 667 & 17299 & NA & 0.000307628\\\\\n",
       "\t 201811040010 & 201705130039 & 12 & 1 & 2017-05-13 & 2017-07-03 & 2018-11-04 & 2020-09-01 & BO & B & ... & 0 & 0 & 15 & 51 & 489 & 1416856301 & 667 & 17299 & NA & 0.000307628\\\\\n",
       "\t 201811040010 & 201705130039 & 13 & 1 & 2017-05-13 & 2017-07-03 & 2018-11-04 & 2020-09-01 & BO & B & ... & 0 & 0 & 15 & 51 & 489 & 1416856301 & 667 & 17299 & NA & 0.000307628\\\\\n",
       "\t 201811040010 & 201705130039 & 14 & 1 & 2017-05-13 & 2017-07-03 & 2018-11-04 & 2020-09-01 & BO & B & ... & 0 & 0 & 15 & 51 & 489 & 1416856301 & 667 & 17299 & NA & 0.000307628\\\\\n",
       "\t 201811040010 & 201705130039 & 15 & 1 & 2017-05-13 & 2017-07-03 & 2018-11-04 & 2020-09-01 & BO & B & ... & 0 & 0 & 15 & 51 & 489 & 1416856301 & 667 & 17299 & NA & 0.000307628\\\\\n",
       "\\end{tabular}\n"
      ],
      "text/markdown": [
       "\n",
       "A data.table: 6 × 23\n",
       "\n",
       "| clm_number &lt;chr&gt; | pol_number &lt;chr&gt; | j &lt;int&gt; | k &lt;int&gt; | date_pol_start &lt;date&gt; | date_occur &lt;date&gt; | date_report &lt;date&gt; | date_pay &lt;date&gt; | Cover &lt;fct&gt; | claim_type &lt;fct&gt; | ... ... | target &lt;dbl&gt; | flgTrain &lt;dbl&gt; | Count &lt;int&gt; | delay_uw_occ &lt;dbl&gt; | delay_occ_rep &lt;dbl&gt; | delay_uw_val &lt;dbl&gt; | delay_rep_pay &lt;dbl&gt; | date_uw &lt;dbl&gt; | preds_oof &lt;dbl&gt; | preds_full &lt;dbl&gt; |\n",
       "|---|---|---|---|---|---|---|---|---|---|---|---|---|---|---|---|---|---|---|---|---|\n",
       "| 201811040010 | 201705130039 | 10 | 1 | 2017-05-13 | 2017-07-03 | 2018-11-04 | 2020-09-01 | BO | B | ... | 0 | 0 | 15 | 51 | 489 | 1416856301 | 667 | 17299 | NA | 0.000307628 |\n",
       "| 201811040010 | 201705130039 | 11 | 1 | 2017-05-13 | 2017-07-03 | 2018-11-04 | 2020-09-01 | BO | B | ... | 0 | 0 | 15 | 51 | 489 | 1416856301 | 667 | 17299 | NA | 0.000307628 |\n",
       "| 201811040010 | 201705130039 | 12 | 1 | 2017-05-13 | 2017-07-03 | 2018-11-04 | 2020-09-01 | BO | B | ... | 0 | 0 | 15 | 51 | 489 | 1416856301 | 667 | 17299 | NA | 0.000307628 |\n",
       "| 201811040010 | 201705130039 | 13 | 1 | 2017-05-13 | 2017-07-03 | 2018-11-04 | 2020-09-01 | BO | B | ... | 0 | 0 | 15 | 51 | 489 | 1416856301 | 667 | 17299 | NA | 0.000307628 |\n",
       "| 201811040010 | 201705130039 | 14 | 1 | 2017-05-13 | 2017-07-03 | 2018-11-04 | 2020-09-01 | BO | B | ... | 0 | 0 | 15 | 51 | 489 | 1416856301 | 667 | 17299 | NA | 0.000307628 |\n",
       "| 201811040010 | 201705130039 | 15 | 1 | 2017-05-13 | 2017-07-03 | 2018-11-04 | 2020-09-01 | BO | B | ... | 0 | 0 | 15 | 51 | 489 | 1416856301 | 667 | 17299 | NA | 0.000307628 |\n",
       "\n"
      ],
      "text/plain": [
       "  clm_number   pol_number   j  k date_pol_start date_occur date_report\n",
       "1 201811040010 201705130039 10 1 2017-05-13     2017-07-03 2018-11-04 \n",
       "2 201811040010 201705130039 11 1 2017-05-13     2017-07-03 2018-11-04 \n",
       "3 201811040010 201705130039 12 1 2017-05-13     2017-07-03 2018-11-04 \n",
       "4 201811040010 201705130039 13 1 2017-05-13     2017-07-03 2018-11-04 \n",
       "5 201811040010 201705130039 14 1 2017-05-13     2017-07-03 2018-11-04 \n",
       "6 201811040010 201705130039 15 1 2017-05-13     2017-07-03 2018-11-04 \n",
       "  date_pay   Cover claim_type ... target flgTrain Count delay_uw_occ\n",
       "1 2020-09-01 BO    B          ... 0      0        15    51          \n",
       "2 2020-09-01 BO    B          ... 0      0        15    51          \n",
       "3 2020-09-01 BO    B          ... 0      0        15    51          \n",
       "4 2020-09-01 BO    B          ... 0      0        15    51          \n",
       "5 2020-09-01 BO    B          ... 0      0        15    51          \n",
       "6 2020-09-01 BO    B          ... 0      0        15    51          \n",
       "  delay_occ_rep delay_uw_val delay_rep_pay date_uw preds_oof preds_full \n",
       "1 489           1416856301   667           17299   NA        0.000307628\n",
       "2 489           1416856301   667           17299   NA        0.000307628\n",
       "3 489           1416856301   667           17299   NA        0.000307628\n",
       "4 489           1416856301   667           17299   NA        0.000307628\n",
       "5 489           1416856301   667           17299   NA        0.000307628\n",
       "6 489           1416856301   667           17299   NA        0.000307628"
      ]
     },
     "metadata": {},
     "output_type": "display_data"
    }
   ],
   "source": [
    "head(dt_All_RBNS)\n",
    "tail(dt_All_RBNS)"
   ]
  },
  {
   "cell_type": "code",
   "execution_count": 28,
   "id": "9adf99e8-6e38-4090-b79c-70252d3de51c",
   "metadata": {},
   "outputs": [
    {
     "data": {
      "text/html": [
       "<style>\n",
       ".list-inline {list-style: none; margin:0; padding: 0}\n",
       ".list-inline>li {display: inline-block}\n",
       ".list-inline>li:not(:last-child)::after {content: \"\\00b7\"; padding: 0 .5ex}\n",
       "</style>\n",
       "<ol class=list-inline><li>'clm_number'</li><li>'pol_number'</li><li>'j'</li><li>'k'</li><li>'date_pol_start'</li><li>'date_occur'</li><li>'date_report'</li><li>'date_pay'</li><li>'Cover'</li><li>'claim_type'</li><li>'Brand'</li><li>'Model'</li><li>'Price'</li><li>'target'</li><li>'flgTrain'</li><li>'Count'</li><li>'delay_uw_occ'</li><li>'delay_occ_rep'</li><li>'delay_uw_val'</li><li>'delay_rep_pay'</li><li>'date_uw'</li><li>'preds_oof'</li><li>'preds_full'</li></ol>\n"
      ],
      "text/latex": [
       "\\begin{enumerate*}\n",
       "\\item 'clm\\_number'\n",
       "\\item 'pol\\_number'\n",
       "\\item 'j'\n",
       "\\item 'k'\n",
       "\\item 'date\\_pol\\_start'\n",
       "\\item 'date\\_occur'\n",
       "\\item 'date\\_report'\n",
       "\\item 'date\\_pay'\n",
       "\\item 'Cover'\n",
       "\\item 'claim\\_type'\n",
       "\\item 'Brand'\n",
       "\\item 'Model'\n",
       "\\item 'Price'\n",
       "\\item 'target'\n",
       "\\item 'flgTrain'\n",
       "\\item 'Count'\n",
       "\\item 'delay\\_uw\\_occ'\n",
       "\\item 'delay\\_occ\\_rep'\n",
       "\\item 'delay\\_uw\\_val'\n",
       "\\item 'delay\\_rep\\_pay'\n",
       "\\item 'date\\_uw'\n",
       "\\item 'preds\\_oof'\n",
       "\\item 'preds\\_full'\n",
       "\\end{enumerate*}\n"
      ],
      "text/markdown": [
       "1. 'clm_number'\n",
       "2. 'pol_number'\n",
       "3. 'j'\n",
       "4. 'k'\n",
       "5. 'date_pol_start'\n",
       "6. 'date_occur'\n",
       "7. 'date_report'\n",
       "8. 'date_pay'\n",
       "9. 'Cover'\n",
       "10. 'claim_type'\n",
       "11. 'Brand'\n",
       "12. 'Model'\n",
       "13. 'Price'\n",
       "14. 'target'\n",
       "15. 'flgTrain'\n",
       "16. 'Count'\n",
       "17. 'delay_uw_occ'\n",
       "18. 'delay_occ_rep'\n",
       "19. 'delay_uw_val'\n",
       "20. 'delay_rep_pay'\n",
       "21. 'date_uw'\n",
       "22. 'preds_oof'\n",
       "23. 'preds_full'\n",
       "\n",
       "\n"
      ],
      "text/plain": [
       " [1] \"clm_number\"     \"pol_number\"     \"j\"              \"k\"             \n",
       " [5] \"date_pol_start\" \"date_occur\"     \"date_report\"    \"date_pay\"      \n",
       " [9] \"Cover\"          \"claim_type\"     \"Brand\"          \"Model\"         \n",
       "[13] \"Price\"          \"target\"         \"flgTrain\"       \"Count\"         \n",
       "[17] \"delay_uw_occ\"   \"delay_occ_rep\"  \"delay_uw_val\"   \"delay_rep_pay\" \n",
       "[21] \"date_uw\"        \"preds_oof\"      \"preds_full\"    "
      ]
     },
     "metadata": {},
     "output_type": "display_data"
    }
   ],
   "source": [
    "names(dt_All_RBNS)"
   ]
  },
  {
   "cell_type": "code",
   "execution_count": 29,
   "id": "0d3a3b10-72b8-4fed-a080-2b31aa947402",
   "metadata": {},
   "outputs": [
    {
     "data": {
      "image/png": "[encoded data removed]",
      "text/plain": [
       "Plot with title \"Feature Importance - RBNS\""
      ]
     },
     "metadata": {
      "image/png": {
       "height": 420,
       "width": 420
      }
     },
     "output_type": "display_data"
    }
   ],
   "source": [
    "#default feature importance by gain\n",
    "featImp_RBNS <- xgb.importance(xgb_RBNS_Fit, feature_names = colnames(xgb.RBNS_DMat.train))\n",
    "xgb.plot.importance(featImp_RBNS, main=\"Feature Importance - RBNS\")"
   ]
  },
  {
   "cell_type": "code",
   "execution_count": 30,
   "id": "5b345cab-2f87-4e7c-b2c3-a038c1a843eb",
   "metadata": {},
   "outputs": [
    {
     "data": {
      "text/html": [
       "<div style=\"border: 1px solid #ddd; padding: 5px; overflow-x: scroll; width:100%; \"><table class=\"table table-striped\" style=\"margin-left: auto; margin-right: auto;\">\n",
       " <thead>\n",
       "  <tr>\n",
       "   <th style=\"text-align:right;\"> Year </th>\n",
       "   <th style=\"text-align:right;\"> Total Premium </th>\n",
       "   <th style=\"text-align:right;\"> Total Loss </th>\n",
       "   <th style=\"text-align:right;\"> Loss Ratio </th>\n",
       "  </tr>\n",
       " </thead>\n",
       "<tbody>\n",
       "  <tr>\n",
       "   <td style=\"text-align:right;\"> 2,008 </td>\n",
       "   <td style=\"text-align:right;\"> 11,497,222 </td>\n",
       "   <td style=\"text-align:right;\"> 32,512 </td>\n",
       "   <td style=\"text-align:right;\"> 0.00283 </td>\n",
       "  </tr>\n",
       "  <tr>\n",
       "   <td style=\"text-align:right;\"> 2,009 </td>\n",
       "   <td style=\"text-align:right;\"> 10,973,469 </td>\n",
       "   <td style=\"text-align:right;\"> 1,011,545 </td>\n",
       "   <td style=\"text-align:right;\"> 0.09218 </td>\n",
       "  </tr>\n",
       "  <tr>\n",
       "   <td style=\"text-align:right;\"> 2,010 </td>\n",
       "   <td style=\"text-align:right;\"> 9,101,234 </td>\n",
       "   <td style=\"text-align:right;\"> 1,458,832 </td>\n",
       "   <td style=\"text-align:right;\"> 0.16029 </td>\n",
       "  </tr>\n",
       "  <tr>\n",
       "   <td style=\"text-align:right;\"> 2,011 </td>\n",
       "   <td style=\"text-align:right;\"> 3,932,968 </td>\n",
       "   <td style=\"text-align:right;\"> 96,584 </td>\n",
       "   <td style=\"text-align:right;\"> 0.02456 </td>\n",
       "  </tr>\n",
       "  <tr>\n",
       "   <td style=\"text-align:right;\"> 2,012 </td>\n",
       "   <td style=\"text-align:right;\"> 381,109 </td>\n",
       "   <td style=\"text-align:right;\"> 0 </td>\n",
       "   <td style=\"text-align:right;\"> 0.00000 </td>\n",
       "  </tr>\n",
       "</tbody>\n",
       "</table></div>"
      ]
     },
     "metadata": {},
     "output_type": "display_data"
    }
   ],
   "source": [
    "# Assuming dt_All_RBNS contains the predicted values and original target values\n",
    "# After the prediction is made, calculate the sum of Premium and Target (Loss) by year\n",
    "\n",
    "# First, ensure that the data has the correct year format for policy start date\n",
    "dt_All_RBNS[, year_start := year(date_pol_start)]  # Extract year from policy start date\n",
    "\n",
    "# Sum the Premium (Price) and Target (Loss) for each year\n",
    "dt_loss_ratio <- dt_All_RBNS[flgTrain == 1, .(\n",
    "  Total_Premium = sum(Price, na.rm = TRUE),  # Sum of premium for the year\n",
    "  Total_Loss = sum(target, na.rm = TRUE)  # Sum of target (claim cost) for the year\n",
    "), by = year_start]\n",
    "\n",
    "# Calculate the Loss Ratio per year\n",
    "dt_loss_ratio[, Loss_Ratio := Total_Loss / Total_Premium]\n",
    "\n",
    "# Use kable to display the results in a formatted tabl\n",
    "\n",
    "# Print the result using kable\n",
    "kable(dt_loss_ratio, \"html\", digits = c(0, 0, 0, 5),\n",
    "      col.names = c(\"Year\", \"Total Premium\", \"Total Loss\", \"Loss Ratio\"),\n",
    "      format.args = list(big.mark = \",\")) %>%\n",
    "  kable_styling(\"striped\") %>% \n",
    "  scroll_box(width = \"100%\") %>% \n",
    "  as.character() %>%\n",
    "  display_html()\n"
   ]
  },
  {
   "cell_type": "code",
   "execution_count": 31,
   "id": "15825416-ebbd-4c2f-bf5b-01fc7fcec5a1",
   "metadata": {
    "scrolled": true
   },
   "outputs": [
    {
     "data": {
      "text/html": [
       "<div style=\"border: 1px solid #ddd; padding: 5px; overflow-x: scroll; width:100%; \"><table class=\"table table-striped\" style=\"margin-left: auto; margin-right: auto;\">\n",
       " <thead>\n",
       "  <tr>\n",
       "   <th style=\"text-align:right;\"> Year </th>\n",
       "   <th style=\"text-align:right;\"> Total Premium </th>\n",
       "   <th style=\"text-align:right;\"> Total Loss </th>\n",
       "   <th style=\"text-align:right;\"> Loss Ratio </th>\n",
       "  </tr>\n",
       " </thead>\n",
       "<tbody>\n",
       "  <tr>\n",
       "   <td style=\"text-align:right;\"> 2,013 </td>\n",
       "   <td style=\"text-align:right;\"> 3,199,875 </td>\n",
       "   <td style=\"text-align:right;\"> 96,850 </td>\n",
       "   <td style=\"text-align:right;\"> 0.03027 </td>\n",
       "  </tr>\n",
       "  <tr>\n",
       "   <td style=\"text-align:right;\"> 2,014 </td>\n",
       "   <td style=\"text-align:right;\"> 25,819,725 </td>\n",
       "   <td style=\"text-align:right;\"> 804,286 </td>\n",
       "   <td style=\"text-align:right;\"> 0.03115 </td>\n",
       "  </tr>\n",
       "  <tr>\n",
       "   <td style=\"text-align:right;\"> 2,015 </td>\n",
       "   <td style=\"text-align:right;\"> 41,214,525 </td>\n",
       "   <td style=\"text-align:right;\"> 1,297,115 </td>\n",
       "   <td style=\"text-align:right;\"> 0.03147 </td>\n",
       "  </tr>\n",
       "  <tr>\n",
       "   <td style=\"text-align:right;\"> 2,016 </td>\n",
       "   <td style=\"text-align:right;\"> 16,327,815 </td>\n",
       "   <td style=\"text-align:right;\"> 519,708 </td>\n",
       "   <td style=\"text-align:right;\"> 0.03183 </td>\n",
       "  </tr>\n",
       "  <tr>\n",
       "   <td style=\"text-align:right;\"> 2,017 </td>\n",
       "   <td style=\"text-align:right;\"> 314,175 </td>\n",
       "   <td style=\"text-align:right;\"> 8,787 </td>\n",
       "   <td style=\"text-align:right;\"> 0.02797 </td>\n",
       "  </tr>\n",
       "</tbody>\n",
       "</table></div>"
      ]
     },
     "metadata": {},
     "output_type": "display_data"
    }
   ],
   "source": [
    "# Assuming dt_All_RBNS contains the predicted values and original target values\n",
    "# After the prediction is made, calculate the sum of Premium and Target (Loss) by year\n",
    "\n",
    "# First, ensure that the data has the correct year format for policy start date\n",
    "dt_All_RBNS[, year_start := year(date_pol_start)]  # Extract year from policy start date\n",
    "\n",
    "# Sum the Premium (Price) and Target (Loss) for each year in the test data\n",
    "dt_loss_ratio <- dt_All_RBNS[flgTrain == 0, .(\n",
    "  Total_Premium = sum(Price, na.rm = TRUE),  # Sum of premium for the year\n",
    "  Total_Loss = sum(target, na.rm = TRUE)  # Sum of target (claim cost) for the year\n",
    "), by = year_start]\n",
    "\n",
    "# Calculate the Loss Ratio per year\n",
    "dt_loss_ratio[, Loss_Ratio := Total_Loss / Total_Premium]\n",
    "\n",
    "\n",
    "# Print the result using kable\n",
    "kable(dt_loss_ratio, \"html\", digits = c(0, 0, 0, 5),\n",
    "      col.names = c(\"Year\", \"Total Premium\", \"Total Loss\", \"Loss Ratio\"),\n",
    "      format.args = list(big.mark = \",\")) %>%\n",
    "  kable_styling(\"striped\") %>% \n",
    "  scroll_box(width = \"100%\") %>% \n",
    "  as.character() %>%\n",
    "  display_html()\n"
   ]
  },
  {
   "cell_type": "code",
   "execution_count": 59,
   "id": "a66bdda2-8695-4751-9f30-9ef9e1a5bc8a",
   "metadata": {},
   "outputs": [
    {
     "name": "stdout",
     "output_type": "stream",
     "text": [
      "     year Total_Premium Total_Preds        Diff Diff_pcnt Pred_Loss_Ratio\n",
      "   <char>         <num>       <num>       <num>    <char>           <num>\n",
      "1:   2013       3199875  103486.171  103486.171      3.2%      0.03234069\n",
      "2:   2014      25819725  808185.689  808185.689      3.1%      0.03130110\n",
      "3:   2015      41214525 1292288.625 1292288.625      3.1%      0.03135517\n",
      "4:   2016      16327815  515153.186  515153.186      3.2%      0.03155065\n",
      "5:   2017        314175    8759.338    8759.338      2.8%      0.02788044\n",
      "6:  Total      86876115 2727873.009 2727873.009      3.1%      0.03139957\n"
     ]
    },
    {
     "data": {
      "text/html": [
       "<div style=\"border: 1px solid #ddd; padding: 5px; overflow-x: scroll; width:100%; \"><table class=\"table table-striped\" style=\"margin-left: auto; margin-right: auto;\">\n",
       " <thead>\n",
       "  <tr>\n",
       "   <th style=\"text-align:left;\"> Year </th>\n",
       "   <th style=\"text-align:right;\"> Total Premium </th>\n",
       "   <th style=\"text-align:right;\"> Predicted Loss </th>\n",
       "   <th style=\"text-align:right;\"> Diff </th>\n",
       "   <th style=\"text-align:left;\"> Diff (%) </th>\n",
       "   <th style=\"text-align:right;\"> Predicted Loss Ratio </th>\n",
       "  </tr>\n",
       " </thead>\n",
       "<tbody>\n",
       "  <tr>\n",
       "   <td style=\"text-align:left;\"> 2013 </td>\n",
       "   <td style=\"text-align:right;\"> 3,199,875 </td>\n",
       "   <td style=\"text-align:right;\"> 103,486 </td>\n",
       "   <td style=\"text-align:right;\"> 103,486.2 </td>\n",
       "   <td style=\"text-align:left;\"> 3.2% </td>\n",
       "   <td style=\"text-align:right;\"> 0.03234 </td>\n",
       "  </tr>\n",
       "  <tr>\n",
       "   <td style=\"text-align:left;\"> 2014 </td>\n",
       "   <td style=\"text-align:right;\"> 25,819,725 </td>\n",
       "   <td style=\"text-align:right;\"> 808,186 </td>\n",
       "   <td style=\"text-align:right;\"> 808,185.7 </td>\n",
       "   <td style=\"text-align:left;\"> 3.1% </td>\n",
       "   <td style=\"text-align:right;\"> 0.03130 </td>\n",
       "  </tr>\n",
       "  <tr>\n",
       "   <td style=\"text-align:left;\"> 2015 </td>\n",
       "   <td style=\"text-align:right;\"> 41,214,525 </td>\n",
       "   <td style=\"text-align:right;\"> 1,292,289 </td>\n",
       "   <td style=\"text-align:right;\"> 1,292,288.6 </td>\n",
       "   <td style=\"text-align:left;\"> 3.1% </td>\n",
       "   <td style=\"text-align:right;\"> 0.03136 </td>\n",
       "  </tr>\n",
       "  <tr>\n",
       "   <td style=\"text-align:left;\"> 2016 </td>\n",
       "   <td style=\"text-align:right;\"> 16,327,815 </td>\n",
       "   <td style=\"text-align:right;\"> 515,153 </td>\n",
       "   <td style=\"text-align:right;\"> 515,153.2 </td>\n",
       "   <td style=\"text-align:left;\"> 3.2% </td>\n",
       "   <td style=\"text-align:right;\"> 0.03155 </td>\n",
       "  </tr>\n",
       "  <tr>\n",
       "   <td style=\"text-align:left;\"> 2017 </td>\n",
       "   <td style=\"text-align:right;\"> 314,175 </td>\n",
       "   <td style=\"text-align:right;\"> 8,759 </td>\n",
       "   <td style=\"text-align:right;\"> 8,759.3 </td>\n",
       "   <td style=\"text-align:left;\"> 2.8% </td>\n",
       "   <td style=\"text-align:right;\"> 0.02788 </td>\n",
       "  </tr>\n",
       "  <tr>\n",
       "   <td style=\"text-align:left;\"> Total </td>\n",
       "   <td style=\"text-align:right;\"> 86,876,115 </td>\n",
       "   <td style=\"text-align:right;\"> 2,727,873 </td>\n",
       "   <td style=\"text-align:right;\"> 2,727,873.0 </td>\n",
       "   <td style=\"text-align:left;\"> 3.1% </td>\n",
       "   <td style=\"text-align:right;\"> 0.03140 </td>\n",
       "  </tr>\n",
       "</tbody>\n",
       "</table></div>"
      ]
     },
     "metadata": {},
     "output_type": "display_data"
    }
   ],
   "source": [
    "# Ensure dt_All_RBNS contains the correct data including 'Price', 'preds_full', 'target', etc.\n",
    "\n",
    "# Create the monthly aggregation\n",
    "dt_RBNS_summary <- dt_All_RBNS[rowList_RBNS$test, .(preds = sum(preds_full), \n",
    "                                                     Price = sum(Price, na.rm = TRUE)), keyby = date_start_YYYYMM ]\n",
    "\n",
    "# Extract the year from the 'date_start_YYYYMM' column and add it as a new column 'year'\n",
    "dt_RBNS_summary[, year := substr(date_start_YYYYMM, 1, 4)]\n",
    "\n",
    "# Aggregate data by year and sum preds and premium (Price)\n",
    "dt_RBNS_yearly <- dt_RBNS_summary[, .(\n",
    "  Total_Premium = sum(Price, na.rm = TRUE),  # Sum of premium for the year\n",
    "  Total_Preds = sum(preds, na.rm = TRUE)     # Sum of predicted loss for the year\n",
    "), by = year]\n",
    "\n",
    "# Add a total row for the sum of all years\n",
    "sumrow <- cbind(data.table(year = \"Total\"), dt_RBNS_yearly[, lapply(.SD, sum), .SDcols = c(\"Total_Premium\", \"Total_Preds\")])\n",
    "\n",
    "# Bind the sum row to the yearly data\n",
    "dt_RBNS_yearly <- rbind(dt_RBNS_yearly, sumrow, fill = TRUE)\n",
    "\n",
    "# Calculate the difference and percentage difference between predicted losses and total premium\n",
    "dt_RBNS_yearly[, ':='(\n",
    "  Diff = (Total_Preds),  # Difference between predicted loss and zero (since we removed target loss)\n",
    "  Diff_pcnt = scales::percent(Total_Preds / Total_Premium, accuracy = 0.1),  # Percentage difference\n",
    "  Pred_Loss_Ratio = ifelse(Total_Premium > 0, Total_Preds / Total_Premium, 0)  # Predicted loss ratio with a safe check for division by 0\n",
    ")]\n",
    "\n",
    "# Debugging: Check the values of Total_Premium and Total_Preds\n",
    "print(dt_RBNS_yearly)\n",
    "\n",
    "# Print the table as HTML with year-based aggregation\n",
    "library(knitr)\n",
    "library(kableExtra)\n",
    "\n",
    "# Print the result using kable\n",
    "kable(dt_RBNS_yearly, \"html\", \n",
    "      digits = c(0, 0, 0, 1, 5, 5),  # Display Loss Ratio up to 5 decimals\n",
    "      col.names = c(\"Year\", \"Total Premium\", \"Predicted Loss\", \"Diff\", \"Diff (%)\", \"Predicted Loss Ratio\"),  # Updated column names\n",
    "      format.args = list(big.mark = \",\"), \n",
    "      escape = FALSE) %>%\n",
    "  kable_styling(\"striped\") %>%\n",
    "  scroll_box(width = \"100%\") %>%\n",
    "  as.character() %>%\n",
    "  display_html()\n"
   ]
  },
  {
   "cell_type": "code",
   "execution_count": 36,
   "id": "4f5997c5-3286-4fb6-b39f-d8fc4c4e3cce",
   "metadata": {},
   "outputs": [
    {
     "data": {
      "text/html": [
       "<style>\n",
       ".list-inline {list-style: none; margin:0; padding: 0}\n",
       ".list-inline>li {display: inline-block}\n",
       ".list-inline>li:not(:last-child)::after {content: \"\\00b7\"; padding: 0 .5ex}\n",
       "</style>\n",
       "<ol class=list-inline><li>'clm_number'</li><li>'pol_number'</li><li>'j'</li><li>'k'</li><li>'date_pol_start'</li><li>'date_occur'</li><li>'date_report'</li><li>'date_pay'</li><li>'Cover'</li><li>'claim_type'</li><li>'Brand'</li><li>'Model'</li><li>'Price'</li><li>'target'</li><li>'flgTrain'</li><li>'Count'</li><li>'delay_uw_occ'</li><li>'delay_occ_rep'</li><li>'delay_uw_val'</li><li>'delay_rep_pay'</li><li>'date_uw'</li><li>'preds_oof'</li><li>'preds_full'</li><li>'year_start'</li><li>'date_start_YYYYMM'</li></ol>\n"
      ],
      "text/latex": [
       "\\begin{enumerate*}\n",
       "\\item 'clm\\_number'\n",
       "\\item 'pol\\_number'\n",
       "\\item 'j'\n",
       "\\item 'k'\n",
       "\\item 'date\\_pol\\_start'\n",
       "\\item 'date\\_occur'\n",
       "\\item 'date\\_report'\n",
       "\\item 'date\\_pay'\n",
       "\\item 'Cover'\n",
       "\\item 'claim\\_type'\n",
       "\\item 'Brand'\n",
       "\\item 'Model'\n",
       "\\item 'Price'\n",
       "\\item 'target'\n",
       "\\item 'flgTrain'\n",
       "\\item 'Count'\n",
       "\\item 'delay\\_uw\\_occ'\n",
       "\\item 'delay\\_occ\\_rep'\n",
       "\\item 'delay\\_uw\\_val'\n",
       "\\item 'delay\\_rep\\_pay'\n",
       "\\item 'date\\_uw'\n",
       "\\item 'preds\\_oof'\n",
       "\\item 'preds\\_full'\n",
       "\\item 'year\\_start'\n",
       "\\item 'date\\_start\\_YYYYMM'\n",
       "\\end{enumerate*}\n"
      ],
      "text/markdown": [
       "1. 'clm_number'\n",
       "2. 'pol_number'\n",
       "3. 'j'\n",
       "4. 'k'\n",
       "5. 'date_pol_start'\n",
       "6. 'date_occur'\n",
       "7. 'date_report'\n",
       "8. 'date_pay'\n",
       "9. 'Cover'\n",
       "10. 'claim_type'\n",
       "11. 'Brand'\n",
       "12. 'Model'\n",
       "13. 'Price'\n",
       "14. 'target'\n",
       "15. 'flgTrain'\n",
       "16. 'Count'\n",
       "17. 'delay_uw_occ'\n",
       "18. 'delay_occ_rep'\n",
       "19. 'delay_uw_val'\n",
       "20. 'delay_rep_pay'\n",
       "21. 'date_uw'\n",
       "22. 'preds_oof'\n",
       "23. 'preds_full'\n",
       "24. 'year_start'\n",
       "25. 'date_start_YYYYMM'\n",
       "\n",
       "\n"
      ],
      "text/plain": [
       " [1] \"clm_number\"        \"pol_number\"        \"j\"                \n",
       " [4] \"k\"                 \"date_pol_start\"    \"date_occur\"       \n",
       " [7] \"date_report\"       \"date_pay\"          \"Cover\"            \n",
       "[10] \"claim_type\"        \"Brand\"             \"Model\"            \n",
       "[13] \"Price\"             \"target\"            \"flgTrain\"         \n",
       "[16] \"Count\"             \"delay_uw_occ\"      \"delay_occ_rep\"    \n",
       "[19] \"delay_uw_val\"      \"delay_rep_pay\"     \"date_uw\"          \n",
       "[22] \"preds_oof\"         \"preds_full\"        \"year_start\"       \n",
       "[25] \"date_start_YYYYMM\""
      ]
     },
     "metadata": {},
     "output_type": "display_data"
    }
   ],
   "source": [
    "names(dt_All_RBNS)"
   ]
  }
 ],
 "metadata": {
  "kernelspec": {
   "display_name": "myr_env",
   "language": "R",
   "name": "r-conda"
  },
  "language_info": {
   "codemirror_mode": "r",
   "file_extension": ".r",
   "mimetype": "text/x-r-source",
   "name": "R",
   "pygments_lexer": "r",
   "version": "4.1.3"
  }
 },
 "nbformat": 4,
 "nbformat_minor": 5
}
