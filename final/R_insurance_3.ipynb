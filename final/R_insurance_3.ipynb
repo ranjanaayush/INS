{
 "cells": [
  {
   "cell_type": "code",
   "execution_count": 3,
   "id": "f752f649-3cbd-4f3e-95cb-bc0569114f70",
   "metadata": {},
   "outputs": [],
   "source": [
    "library(knitr)\n",
    "library(rmdformats)\n",
    "library(data.table)\n",
    "library(magrittr)\n",
    "library(lubridate)\n",
    "library(ggplot2)\n",
    "library(cowplot)\n",
    "library(repr)\n",
    "library(kableExtra)\n",
    "library(formattable)\n",
    "library(IRdisplay) # displays tables when in ipynb format\n",
    "\n",
    "library(xgboost)\n",
    "library(tidymodels)\n",
    "#library(SHAPforxgboost)\n",
    "\n",
    "\n",
    "source(\"./Baudry_functions_v2.R\")"
   ]
  },
  {
   "cell_type": "code",
   "execution_count": 4,
   "id": "3d85f555-6ad2-46a6-b6ba-f950efa14c29",
   "metadata": {},
   "outputs": [],
   "source": [
    "dt_PhoneData <- simulate_central_scenario(1234)\n"
   ]
  },
  {
   "cell_type": "code",
   "execution_count": 5,
   "id": "c13fab6e-bc05-4294-8743-244206216890",
   "metadata": {},
   "outputs": [],
   "source": [
    "\n",
    "\n",
    "dt_polclaim <- join_policy_claim(dt_PhoneData,\n",
    "                                 date_pol_start = \"date_UW\",\n",
    "                                 date_pol_end = \"date_lapse\",\n",
    "                                 date_occur = \"date_occur\")\n"
   ]
  },
  {
   "cell_type": "code",
   "execution_count": 6,
   "id": "a714b880-fc91-4dc7-a944-2069356c6a90",
   "metadata": {},
   "outputs": [],
   "source": [
    "\n",
    "lst_Date_slice <- floor_date(seq(as.Date(\"2016/1/1\"), as.Date(\"2019/06/30\"), by = 30), unit= \"second\") \n",
    "dt_polclaim <- time_slice_polclaim(dt_polclaim, lst_Date_slice)"
   ]
  },
  {
   "cell_type": "code",
   "execution_count": 7,
   "id": "6f2d223a-0bb2-4d42-880c-6fb35da864d9",
   "metadata": {},
   "outputs": [],
   "source": [
    "\n",
    "\n",
    "i <- valuation <- 10\n",
    "t_i <- lst_Date_slice[i] \n",
    "delta <- min(i, length(lst_Date_slice) - i + 1)\n"
   ]
  },
  {
   "cell_type": "code",
   "execution_count": 8,
   "id": "72149061-0a47-4595-ac27-61bd24f9040a",
   "metadata": {},
   "outputs": [],
   "source": [
    "#define modelVars\n",
    "RBNS_model_vars <- c(\"clm_number\",\n",
    "                     \"pol_number\",\n",
    "                     \"j\",\n",
    "                     \"k\",\n",
    "                     \"date_pol_start\",\n",
    "                     \"date_occur\",\n",
    "                     \"date_report\",\n",
    "                     \"date_pay\",\n",
    "                     \"Cover\",\n",
    "                     \"claim_type\",\n",
    "                     \"Brand\",\n",
    "                     \"Model\",\n",
    "                     \"Price\",\n",
    "                     \"target\"\n",
    "    )\n",
    "\n",
    "\n",
    "# Create a combined TRAIN dataset for k = 1 and all valid j delay values\n",
    "dt_RBNS_train <- RBNS_Train(dt_polclaim, t_i, i, k = 1, lst_Date_slice, RBNS_model_vars)\n",
    "\n",
    "# Create a combined TEST dataset for k = 1 and all valid j delay values\n",
    "dt_RBNS_test <- RBNS_Test(dt_polclaim, t_i, delta, k = 1, lst_Date_slice, RBNS_model_vars)"
   ]
  },
  {
   "cell_type": "code",
   "execution_count": 9,
   "id": "6bed9783-00c4-4c55-b245-f381b16c0e45",
   "metadata": {},
   "outputs": [],
   "source": [
    "\n",
    "\n",
    "# Add a flag to determine which rows are from the trainset and which from the test set\n",
    "dt_RBNS_train[, flgTrain := 1]\n",
    "dt_RBNS_test[, flgTrain := 0]\n",
    "\n",
    "# combine into a single RBNS dataset   \n",
    "dt_All_RBNS <- rbind(dt_RBNS_train, dt_RBNS_test)\n",
    "#write.csv(dt_All_RBNS,\"dt_All_RBNS.csv\", row.names = F)\n"
   ]
  },
  {
   "cell_type": "code",
   "execution_count": 10,
   "id": "1af1e6ea-000f-41d2-a0e2-6957e9f7aa03",
   "metadata": {},
   "outputs": [
    {
     "data": {
      "text/html": [
       "<table class=\"dataframe\">\n",
       "<caption>A matrix: 2 × 6 of type dbl</caption>\n",
       "<thead>\n",
       "\t<tr><th></th><th scope=col>used</th><th scope=col>(Mb)</th><th scope=col>gc trigger</th><th scope=col>(Mb)</th><th scope=col>max used</th><th scope=col>(Mb)</th></tr>\n",
       "</thead>\n",
       "<tbody>\n",
       "\t<tr><th scope=row>Ncells</th><td> 2920168</td><td>156.0</td><td> 6451977</td><td>344.6</td><td> 4606140</td><td>246.0</td></tr>\n",
       "\t<tr><th scope=row>Vcells</th><td>40896117</td><td>312.1</td><td>67751861</td><td>517.0</td><td>56319961</td><td>429.7</td></tr>\n",
       "</tbody>\n",
       "</table>\n"
      ],
      "text/latex": [
       "A matrix: 2 × 6 of type dbl\n",
       "\\begin{tabular}{r|llllll}\n",
       "  & used & (Mb) & gc trigger & (Mb) & max used & (Mb)\\\\\n",
       "\\hline\n",
       "\tNcells &  2920168 & 156.0 &  6451977 & 344.6 &  4606140 & 246.0\\\\\n",
       "\tVcells & 40896117 & 312.1 & 67751861 & 517.0 & 56319961 & 429.7\\\\\n",
       "\\end{tabular}\n"
      ],
      "text/markdown": [
       "\n",
       "A matrix: 2 × 6 of type dbl\n",
       "\n",
       "| <!--/--> | used | (Mb) | gc trigger | (Mb) | max used | (Mb) |\n",
       "|---|---|---|---|---|---|---|\n",
       "| Ncells |  2920168 | 156.0 |  6451977 | 344.6 |  4606140 | 246.0 |\n",
       "| Vcells | 40896117 | 312.1 | 67751861 | 517.0 | 56319961 | 429.7 |\n",
       "\n"
      ],
      "text/plain": [
       "       used     (Mb)  gc trigger (Mb)  max used (Mb) \n",
       "Ncells  2920168 156.0  6451977   344.6  4606140 246.0\n",
       "Vcells 40896117 312.1 67751861   517.0 56319961 429.7"
      ]
     },
     "metadata": {},
     "output_type": "display_data"
    }
   ],
   "source": [
    "# tidy up\n",
    "rm(dt_RBNS_train)\n",
    "rm(dt_RBNS_test)\n",
    "gc()\n",
    "    "
   ]
  },
  {
   "cell_type": "code",
   "execution_count": 11,
   "id": "baff4975-6e38-4552-a9da-f61f981426fe",
   "metadata": {},
   "outputs": [],
   "source": [
    "# order and create some delay fields\n",
    "setkey(dt_All_RBNS, clm_number, k, j)\n",
    "    \n",
    "dt_All_RBNS[, Count := .N , by =clm_number]\n",
    "\n",
    "#create delay measures and convert time measures from intervals of seconds to intervals of days\n",
    "dt_All_RBNS[, ':='(\n",
    "  delay_uw_occ = ifelse(year(date_occur) == 2199,\n",
    "                        -1,\n",
    "                        ceiling((as.numeric(date_occur) - as.numeric(date_pol_start)) / (24 * 60 * 60))\n",
    "                        ),\n",
    "  delay_occ_rep = ifelse(year(date_occur) == 2199,\n",
    "                         -1,\n",
    "                         ceiling((as.numeric(date_report) - as.numeric(date_occur)) / (24 * 60 * 60))\n",
    "                         ),\n",
    "  delay_uw_val = ceiling((as.numeric(t_i) - as.numeric(date_pol_start)) / (24 * 60 * 60)),\n",
    "  delay_rep_pay = ceiling((as.numeric(date_pay) - as.numeric(date_report)) / (24 * 60 * 60)),\n",
    "  \n",
    "  date_uw = ceiling(as.numeric(date_pol_start) / (24 *  60 * 60)),\n",
    "  Cover = as.factor(Cover),\n",
    "  claim_type = as.factor(claim_type)\n",
    "  )]\n",
    "  "
   ]
  },
  {
   "cell_type": "code",
   "execution_count": 12,
   "id": "4b3b86dc-ba8a-4d6d-a946-dc5c8594c658",
   "metadata": {},
   "outputs": [],
   "source": [
    "#define IBNR modelVars\n",
    "IBNR_model_vars <- c(\"clm_number\",\n",
    "                     \"pol_number\",\n",
    "                     \"j\",\n",
    "                     \"k\",\n",
    "                     \"exposure\",\n",
    "                     \"date_pol_start\",\n",
    "                     \"date_occur\",\n",
    "                     \"date_report\",\n",
    "                     \"date_pay\",\n",
    "                     \"Cover\",\n",
    "                     \"Brand\",\n",
    "                     \"Model\",\n",
    "                     \"Price\",\n",
    "                     \"target\")\n",
    "    \n",
    "# Create a combined TRAIN dataset for k = 1 and all valid j delay values\n",
    "lst_IBNR_train <- IBNR_Train(dt_polclaim, t_i, i, k = 1,lst_Date_slice, IBNR_model_vars)\n",
    "\n",
    "# Create a combined TEST dataset for k = 1 and all valid j delay values\n",
    "dt_IBNR_test <- IBNR_Test(dt_polclaim, t_i, delta, k = 1,lst_Date_slice, IBNR_model_vars)\n",
    "\n",
    "     "
   ]
  },
  {
   "cell_type": "code",
   "execution_count": 14,
   "id": "e6932184-9422-45b7-a403-b8bc0ced48c1",
   "metadata": {},
   "outputs": [],
   "source": [
    "\n",
    "lst_IBNR_train$Freq[, flgTrain := 1]\n",
    "lst_IBNR_train$Loss[, flgTrain := 2]\n",
    "dt_IBNR_test[, flgTrain := 0]\n",
    "\n",
    "dt_All_IBNR <- rbind(\n",
    "  lst_IBNR_train$Freq,\n",
    "  lst_IBNR_train$Loss,\n",
    "  dt_IBNR_test\n",
    ")\n",
    "\n",
    "#write.csv(dt_All_IBNR,\"dt_All_IBNR.csv\", row.names = F)"
   ]
  },
  {
   "cell_type": "code",
   "execution_count": 15,
   "id": "0774847c-c8e9-4119-be83-d76f14e09bc5",
   "metadata": {},
   "outputs": [
    {
     "data": {
      "text/html": [
       "<table class=\"dataframe\">\n",
       "<caption>A matrix: 2 × 6 of type dbl</caption>\n",
       "<thead>\n",
       "\t<tr><th></th><th scope=col>used</th><th scope=col>(Mb)</th><th scope=col>gc trigger</th><th scope=col>(Mb)</th><th scope=col>max used</th><th scope=col>(Mb)</th></tr>\n",
       "</thead>\n",
       "<tbody>\n",
       "\t<tr><th scope=row>Ncells</th><td> 2926375</td><td>156.3</td><td>  6451977</td><td> 344.6</td><td>  4606140</td><td> 246.0</td></tr>\n",
       "\t<tr><th scope=row>Vcells</th><td>75735065</td><td>577.9</td><td>140919696</td><td>1075.2</td><td>140546525</td><td>1072.3</td></tr>\n",
       "</tbody>\n",
       "</table>\n"
      ],
      "text/latex": [
       "A matrix: 2 × 6 of type dbl\n",
       "\\begin{tabular}{r|llllll}\n",
       "  & used & (Mb) & gc trigger & (Mb) & max used & (Mb)\\\\\n",
       "\\hline\n",
       "\tNcells &  2926375 & 156.3 &   6451977 &  344.6 &   4606140 &  246.0\\\\\n",
       "\tVcells & 75735065 & 577.9 & 140919696 & 1075.2 & 140546525 & 1072.3\\\\\n",
       "\\end{tabular}\n"
      ],
      "text/markdown": [
       "\n",
       "A matrix: 2 × 6 of type dbl\n",
       "\n",
       "| <!--/--> | used | (Mb) | gc trigger | (Mb) | max used | (Mb) |\n",
       "|---|---|---|---|---|---|---|\n",
       "| Ncells |  2926375 | 156.3 |   6451977 |  344.6 |   4606140 |  246.0 |\n",
       "| Vcells | 75735065 | 577.9 | 140919696 | 1075.2 | 140546525 | 1072.3 |\n",
       "\n"
      ],
      "text/plain": [
       "       used     (Mb)  gc trigger (Mb)   max used  (Mb)  \n",
       "Ncells  2926375 156.3   6451977   344.6   4606140  246.0\n",
       "Vcells 75735065 577.9 140919696  1075.2 140546525 1072.3"
      ]
     },
     "metadata": {},
     "output_type": "display_data"
    }
   ],
   "source": [
    "# tidy up\n",
    "rm(lst_IBNR_train)\n",
    "rm(dt_IBNR_test)\n",
    "gc()\n",
    "\n"
   ]
  },
  {
   "cell_type": "code",
   "execution_count": 16,
   "id": "6eb25bfd-684c-4b17-8ef4-d3e0d59b8568",
   "metadata": {},
   "outputs": [],
   "source": [
    "# order and create some delay fields\n",
    "setkey(dt_All_IBNR, clm_number, k, j)\n",
    "    \n",
    "dt_All_IBNR[, Count := .N , by =clm_number]\n",
    "dt_All_IBNR[,':='( delay_uw_occ = ifelse(year(date_occur) == 2199,\n",
    "                                        -1,\n",
    "                                        ceiling((as.numeric(date_occur) - as.numeric(date_pol_start))\n",
    "                                                  /(24*60*60))\n",
    "                                          ),\n",
    "                   delay_occ_rep = ifelse(year(date_occur) == 2199,\n",
    "                                          -1,\n",
    "                                          ceiling((as.numeric(date_report) - as.numeric(date_occur))\n",
    "                                                  /(24*60*60))\n",
    "                                          ),\n",
    "                   delay_rep_pay = ifelse(year(date_occur) == 2199,\n",
    "                                          -1,\n",
    "                                          ceiling((as.numeric(date_pay) - as.numeric(date_report))\n",
    "                                                  /(24*60*60))\n",
    "                                          ),\n",
    "                   delay_uw_val = ceiling((as.numeric(t_i) - as.numeric(date_pol_start))/(24*60*60)),\n",
    "                   date_uw = ceiling(as.numeric(date_pol_start)/(24*60*60)),\n",
    "                   Cover = as.factor(Cover))]"
   ]
  },
  {
   "cell_type": "code",
   "execution_count": 18,
   "id": "8bce07ac-9dc5-4a1b-bc98-73fbc804b9d1",
   "metadata": {},
   "outputs": [],
   "source": [
    "RBNS_predictors <- c(\"j\",\n",
    "                     \"k\",\n",
    "                     \"Cover\",\n",
    "                     \"claim_type\",\n",
    "                     \"Brand\",\n",
    "                     \"Model\",\n",
    "                     \"Price\",\n",
    "                     #\"date_uw\",\n",
    "                     #\"delay_uw_occ\",\n",
    "                     \"delay_occ_rep\")\n",
    "\n",
    "rowList_RBNS <- list(train=dt_All_RBNS[, which(flgTrain==1)],\n",
    "                test=dt_All_RBNS[, which(flgTrain==0)],\n",
    "                all = 1:nrow(dt_All_RBNS))\n",
    "\n",
    "\n",
    "RBNS_rec <- recipe( ~ ., data = dt_All_RBNS[, RBNS_predictors, with = FALSE]) %>%\n",
    "  step_dummy(all_nominal(), one_hot = TRUE) %>%\n",
    "  prep()\n",
    "\n",
    "\n",
    "df.RBNS_train <- bake(RBNS_rec, new_data = dt_All_RBNS[rowList_RBNS$train,] )\n",
    "df.RBNS_test <- bake(RBNS_rec, new_data = dt_All_RBNS[rowList_RBNS$test,] )\n",
    "df.RBNS_all <- bake(RBNS_rec, new_data = dt_All_RBNS )\n",
    "\n",
    "\n",
    "xgb.RBNS_DMat.train <- xgb.DMatrix(data = as.matrix(df.RBNS_train),\n",
    "                              label = dt_All_RBNS[rowList_RBNS$train, target])\n",
    "\n",
    "xgb.RBNS_DMat.test <- xgb.DMatrix(data = as.matrix(df.RBNS_test),\n",
    "                              label = dt_All_RBNS[rowList_RBNS$test, target])\n",
    "\n",
    "xgb.RBNS_DMat.all <- xgb.DMatrix(data = as.matrix(df.RBNS_all),\n",
    "                             label = dt_All_RBNS[, target])\n"
   ]
  },
  {
   "cell_type": "code",
   "execution_count": 19,
   "id": "670ebd5e-f524-4cd7-9a6f-9557bde953e2",
   "metadata": {},
   "outputs": [
    {
     "data": {
      "text/plain": [
       "   Min. 1st Qu.  Median    Mean 3rd Qu.    Max. \n",
       "   0.00    0.00    0.00   76.44    0.00  913.00 "
      ]
     },
     "metadata": {},
     "output_type": "display_data"
    },
    {
     "data": {
      "image/png": "[encoded data removed]",
      "text/plain": [
       "Plot with title \"Histogram of dt_All_RBNS[rowList_RBNS$train, target]\""
      ]
     },
     "metadata": {
      "image/png": {
       "height": 420,
       "width": 420
      }
     },
     "output_type": "display_data"
    }
   ],
   "source": [
    "summary(dt_All_RBNS[rowList_RBNS$train, target])\n",
    "hist(dt_All_RBNS[rowList_RBNS$train, target])"
   ]
  },
  {
   "cell_type": "code",
   "execution_count": 20,
   "id": "af7b54b6-a5b3-4310-97ea-a696415c0e61",
   "metadata": {},
   "outputs": [
    {
     "name": "stdout",
     "output_type": "stream",
     "text": [
      "[1]\ttrain-tweedie-nloglik@1.5:58.009016+0.518944\ttest-tweedie-nloglik@1.5:58.010415+1.320197 \n",
      "Multiple eval metrics are present. Will use test_tweedie_nloglik@1.5 for early stopping.\n",
      "Will train until test_tweedie_nloglik@1.5 hasn't improved in 10 rounds.\n",
      "\n",
      "[11]\ttrain-tweedie-nloglik@1.5:30.450703+0.768483\ttest-tweedie-nloglik@1.5:30.453809+0.690378 \n",
      "[21]\ttrain-tweedie-nloglik@1.5:22.203900+0.201559\ttest-tweedie-nloglik@1.5:22.239458+0.302289 \n",
      "[31]\ttrain-tweedie-nloglik@1.5:20.335487+0.097273\ttest-tweedie-nloglik@1.5:20.358262+0.348085 \n",
      "[41]\ttrain-tweedie-nloglik@1.5:19.797811+0.060289\ttest-tweedie-nloglik@1.5:19.824879+0.331764 \n",
      "[51]\ttrain-tweedie-nloglik@1.5:19.590436+0.067170\ttest-tweedie-nloglik@1.5:19.620479+0.304170 \n",
      "[61]\ttrain-tweedie-nloglik@1.5:19.496678+0.066665\ttest-tweedie-nloglik@1.5:19.530647+0.298147 \n",
      "[71]\ttrain-tweedie-nloglik@1.5:19.452399+0.067554\ttest-tweedie-nloglik@1.5:19.493740+0.296797 \n",
      "[81]\ttrain-tweedie-nloglik@1.5:19.427254+0.070937\ttest-tweedie-nloglik@1.5:19.473499+0.290573 \n",
      "[91]\ttrain-tweedie-nloglik@1.5:19.411910+0.069884\ttest-tweedie-nloglik@1.5:19.466007+0.290779 \n",
      "[101]\ttrain-tweedie-nloglik@1.5:19.395966+0.066030\ttest-tweedie-nloglik@1.5:19.460829+0.288072 \n",
      "Stopping. Best iteration:\n",
      "[95]\ttrain-tweedie-nloglik@1.5:19.405174+0.069111\ttest-tweedie-nloglik@1.5:19.458440+0.288921\n",
      "\n"
     ]
    }
   ],
   "source": [
    "param <- list(\n",
    "  objective = \"reg:tweedie\",\n",
    "  max_depth = 2L,            # tree-depth\n",
    "  subsample = 0.75,          # randomly sample rows before fitting each tree\n",
    "  colsample_bytree = 0.8,    # randomly sample columns before fitting each tree\n",
    "  min.child.weight = 10,     # minimum weight per leaf\n",
    "  eta = 0.1                  # Learning rate\n",
    ")\n",
    "\n",
    "\n",
    "# Train model with cross validation\n",
    "set.seed(1984) # for repeatability\n",
    "\n",
    "xgb_RBNS_CV <- xgb.cv(\n",
    "  params                 = param,\n",
    "  data                   = xgb.RBNS_DMat.train,\n",
    "  nrounds                = 500,        # Maximum number of trees to build\n",
    "  nfold = 5,\n",
    "  early_stopping_rounds  = 10L,        # Stops algorithm early if performance has not improved in \n",
    "  print_every_n          = 10L,        # How often to print to console\n",
    "  prediction             = TRUE        # Keeps the predictions\n",
    ")"
   ]
  },
  {
   "cell_type": "code",
   "execution_count": 21,
   "id": "31c52c3c-9089-43cf-97f4-aba22e051741",
   "metadata": {},
   "outputs": [],
   "source": [
    "dt_All_RBNS[rowList_RBNS$train, preds_oof := xgb_RBNS_CV$pred]"
   ]
  },
  {
   "cell_type": "code",
   "execution_count": 22,
   "id": "6cd3cfb3-8813-47b9-9139-05c83dd30d94",
   "metadata": {},
   "outputs": [
    {
     "name": "stdout",
     "output_type": "stream",
     "text": [
      "[1]\ttrain-tweedie-nloglik@1.5:57.808928\ttest-tweedie-nloglik@1.5:26.862921 \n",
      "[11]\ttrain-tweedie-nloglik@1.5:30.558274\ttest-tweedie-nloglik@1.5:14.785928 \n",
      "[21]\ttrain-tweedie-nloglik@1.5:22.444941\ttest-tweedie-nloglik@1.5:10.570288 \n",
      "[31]\ttrain-tweedie-nloglik@1.5:20.495140\ttest-tweedie-nloglik@1.5:9.257596 \n",
      "[41]\ttrain-tweedie-nloglik@1.5:19.871867\ttest-tweedie-nloglik@1.5:8.692482 \n",
      "[51]\ttrain-tweedie-nloglik@1.5:19.625733\ttest-tweedie-nloglik@1.5:8.448683 \n",
      "[61]\ttrain-tweedie-nloglik@1.5:19.529502\ttest-tweedie-nloglik@1.5:8.356433 \n",
      "[71]\ttrain-tweedie-nloglik@1.5:19.479592\ttest-tweedie-nloglik@1.5:8.303847 \n",
      "[81]\ttrain-tweedie-nloglik@1.5:19.440620\ttest-tweedie-nloglik@1.5:8.274222 \n",
      "[91]\ttrain-tweedie-nloglik@1.5:19.426660\ttest-tweedie-nloglik@1.5:8.261640 \n",
      "[95]\ttrain-tweedie-nloglik@1.5:19.422917\ttest-tweedie-nloglik@1.5:8.257654 \n"
     ]
    }
   ],
   "source": [
    "xgb_RBNS_Fit <- xgb.train(\n",
    "  params                 = param,\n",
    "  data                   = xgb.RBNS_DMat.train,\n",
    "  nrounds                = xgb_RBNS_CV$best_iteration,\n",
    "# base_score             = 1,\n",
    "  watchlist              = list(train=xgb.RBNS_DMat.train, test=xgb.RBNS_DMat.test) ,\n",
    "  print_every_n          = 10\n",
    ")\n",
    "\n",
    "dt_All_RBNS[, preds_full := predict(xgb_RBNS_Fit,xgb.RBNS_DMat.all)]\n",
    "\n"
   ]
  },
  {
   "cell_type": "code",
   "execution_count": 23,
   "id": "7f9fe740-1dd2-49c4-9da8-54cd65def6cf",
   "metadata": {},
   "outputs": [
    {
     "data": {
      "image/png": "[encoded data removed]",
      "text/plain": [
       "Plot with title \"Feature Importance - RBNS\""
      ]
     },
     "metadata": {
      "image/png": {
       "height": 420,
       "width": 420
      }
     },
     "output_type": "display_data"
    }
   ],
   "source": [
    "#default feature importance by gain\n",
    "featImp_RBNS <- xgb.importance(xgb_RBNS_Fit, feature_names = colnames(xgb.RBNS_DMat.train))\n",
    "xgb.plot.importance(featImp_RBNS, main=\"Feature Importance - RBNS\")"
   ]
  },
  {
   "cell_type": "code",
   "execution_count": 24,
   "id": "f1346386-78b7-463d-922f-25d1686e114f",
   "metadata": {},
   "outputs": [
    {
     "ename": "ERROR",
     "evalue": "Error in shap.values(xgb_model = xgb_RBNS_Fit, X_train = as.matrix(df.RBNS_train)): could not find function \"shap.values\"\n",
     "output_type": "error",
     "traceback": [
      "Error in shap.values(xgb_model = xgb_RBNS_Fit, X_train = as.matrix(df.RBNS_train)): could not find function \"shap.values\"\nTraceback:\n"
     ]
    }
   ],
   "source": [
    "# Return the SHAP values and ranked features by mean|SHAP|\n",
    "shap_values <- shap.values(xgb_model = xgb_RBNS_Fit, X_train = as.matrix(df.RBNS_train))\n",
    "\n",
    "# Prepare the long-format data:\n",
    "shap_long <- shap.prep(shap_contrib = shap_values$shap_score, X_train =  as.matrix(df.RBNS_train))\n",
    "\n",
    "# **SHAP summary plot**\n",
    "shap.plot.summary(shap_long, dilute = nrow(df.RBNS_train)/10000)"
   ]
  },
  {
   "cell_type": "code",
   "execution_count": 25,
   "id": "1b7b985c-23e0-464c-9e85-7e75dce5db72",
   "metadata": {},
   "outputs": [
    {
     "ename": "ERROR",
     "evalue": "Error in match.fun(FUN): object 'shap.plot.dependence' not found\n",
     "output_type": "error",
     "traceback": [
      "Error in match.fun(FUN): object 'shap.plot.dependence' not found\nTraceback:\n",
      "1. lapply(names(shap_values$mean_shap_score)[1:4], shap.plot.dependence, \n .     data_long = shap_long, dilute = nrow(shap_long)/10000)",
      "2. match.fun(FUN)"
     ]
    }
   ],
   "source": [
    "\n",
    "fig_list <- lapply(names(shap_values$mean_shap_score)[1:4], \n",
    "                   shap.plot.dependence,\n",
    "                   data_long = shap_long,\n",
    "                   dilute = nrow(shap_long)/ 10000)\n",
    "\n",
    "gridExtra::grid.arrange(grobs = fig_list, ncol = 2)"
   ]
  },
  {
   "cell_type": "code",
   "execution_count": 26,
   "id": "38ffc351-d677-40a3-a6db-1622b845f288",
   "metadata": {},
   "outputs": [
    {
     "ename": "ERROR",
     "evalue": "Error in shap.prep.stack.data(shap_contrib = shap_values$shap_score, data_percent = 10000/nrow(shap_long), : could not find function \"shap.prep.stack.data\"\n",
     "output_type": "error",
     "traceback": [
      "Error in shap.prep.stack.data(shap_contrib = shap_values$shap_score, data_percent = 10000/nrow(shap_long), : could not find function \"shap.prep.stack.data\"\nTraceback:\n"
     ]
    }
   ],
   "source": [
    "# choose to show top 4 features by setting `top_n = 4`, set 6 clustering groups.  \n",
    "plot_data <- shap.prep.stack.data(shap_contrib = shap_values$shap_score,\n",
    "                                  data_percent = 10000/nrow(shap_long),\n",
    "                                  top_n = 4,\n",
    "                                  n_groups = 6)\n",
    "  \n",
    "# choose to zoom in at location 500, set y-axis limit using `y_parent_limit`  \n",
    "# it is also possible to set y-axis limit for zoom-in part alone using `y_zoomin_limit`  \n",
    "shap.plot.force_plot(plot_data, zoom_in_location = 500, y_parent_limit = c(-1,1))\n",
    "  "
   ]
  },
  {
   "cell_type": "code",
   "execution_count": 27,
   "id": "71ed4807-300e-448c-8ca1-033ea7ec1720",
   "metadata": {},
   "outputs": [],
   "source": [
    "dt_All_RBNS [, date_occur_YYYYMM := as.character(year(date_occur) + month(date_occur)/100 )]\n",
    "\n",
    "dt_RBNS_summary <- dt_All_RBNS[rowList_RBNS$test,.(preds = sum(preds_full), target = sum(target)), keyby = date_occur_YYYYMM]\n",
    "\n",
    "\n",
    "     "
   ]
  },
  {
   "cell_type": "code",
   "execution_count": 28,
   "id": "415f5fda-9b7a-4587-84d0-d81b17090605",
   "metadata": {},
   "outputs": [
    {
     "data": {
      "text/html": [
       "<div style=\"border: 1px solid #ddd; padding: 5px; overflow-x: scroll; width:100%; \"><table class=\"table table-striped\" style=\"margin-left: auto; margin-right: auto;\">\n",
       " <thead>\n",
       "  <tr>\n",
       "   <th style=\"text-align:left;\"> date_occur_YYYYMM </th>\n",
       "   <th style=\"text-align:right;\"> preds </th>\n",
       "   <th style=\"text-align:right;\"> target </th>\n",
       "   <th style=\"text-align:right;\"> Diff </th>\n",
       "   <th style=\"text-align:left;\"> Diff_pcnt </th>\n",
       "  </tr>\n",
       " </thead>\n",
       "<tbody>\n",
       "  <tr>\n",
       "   <td style=\"text-align:left;\"> 2016.04 </td>\n",
       "   <td style=\"text-align:right;\"> 1,066 </td>\n",
       "   <td style=\"text-align:right;\"> 911 </td>\n",
       "   <td style=\"text-align:right;\"> 155 </td>\n",
       "   <td style=\"text-align:left;\"> 17.1% </td>\n",
       "  </tr>\n",
       "  <tr>\n",
       "   <td style=\"text-align:left;\"> 2016.05 </td>\n",
       "   <td style=\"text-align:right;\"> 5,147 </td>\n",
       "   <td style=\"text-align:right;\"> 5,188 </td>\n",
       "   <td style=\"text-align:right;\"> -41 </td>\n",
       "   <td style=\"text-align:left;\"> -0.8% </td>\n",
       "  </tr>\n",
       "  <tr>\n",
       "   <td style=\"text-align:left;\"> 2016.06 </td>\n",
       "   <td style=\"text-align:right;\"> 12,275 </td>\n",
       "   <td style=\"text-align:right;\"> 14,257 </td>\n",
       "   <td style=\"text-align:right;\"> -1,982 </td>\n",
       "   <td style=\"text-align:left;\"> -13.9% </td>\n",
       "  </tr>\n",
       "  <tr>\n",
       "   <td style=\"text-align:left;\"> 2016.07 </td>\n",
       "   <td style=\"text-align:right;\"> 56,097 </td>\n",
       "   <td style=\"text-align:right;\"> 53,815 </td>\n",
       "   <td style=\"text-align:right;\"> 2,282 </td>\n",
       "   <td style=\"text-align:left;\"> 4.2% </td>\n",
       "  </tr>\n",
       "  <tr>\n",
       "   <td style=\"text-align:left;\"> 2016.08 </td>\n",
       "   <td style=\"text-align:right;\"> 326,004 </td>\n",
       "   <td style=\"text-align:right;\"> 326,631 </td>\n",
       "   <td style=\"text-align:right;\"> -627 </td>\n",
       "   <td style=\"text-align:left;\"> -0.2% </td>\n",
       "  </tr>\n",
       "  <tr>\n",
       "   <td style=\"text-align:left;\"> 2016.09 </td>\n",
       "   <td style=\"text-align:right;\"> 618,081 </td>\n",
       "   <td style=\"text-align:right;\"> 622,179 </td>\n",
       "   <td style=\"text-align:right;\"> -4,098 </td>\n",
       "   <td style=\"text-align:left;\"> -0.7% </td>\n",
       "  </tr>\n",
       "  <tr>\n",
       "   <td style=\"text-align:left;\"> Total </td>\n",
       "   <td style=\"text-align:right;\"> 1,018,670 </td>\n",
       "   <td style=\"text-align:right;\"> 1,022,981 </td>\n",
       "   <td style=\"text-align:right;\"> -4,311 </td>\n",
       "   <td style=\"text-align:left;\"> -0.4% </td>\n",
       "  </tr>\n",
       "</tbody>\n",
       "</table></div>"
      ]
     },
     "metadata": {},
     "output_type": "display_data"
    }
   ],
   "source": [
    "# Sum the last row of each column if numeric \n",
    "sumrow <- cbind(data.table(date_occur_YYYYMM = \"Total\"), dt_RBNS_summary[, lapply(.SD, sum), .SDcols = c(\"preds\", \"target\")])\n",
    "\n",
    "dt_RBNS_summary <- rbind(dt_RBNS_summary, sumrow, fill = TRUE)\n",
    "\n",
    "dt_RBNS_summary[, ':='(Diff = (preds - target),\n",
    "                       Diff_pcnt =  scales::percent((preds - target) / target, accuracy = 0.1))]\n",
    "\n",
    "\n",
    "kable(dt_RBNS_summary, \"html\",\n",
    "      digits = c(2,0,0,0,1),\n",
    "      format.args = list(big.mark = \",\", \n",
    "        scientific = FALSE)\n",
    "      ) %>% \n",
    "  kable_styling(\"striped\") %>% scroll_box(width = \"100%\") %>%\n",
    "  as.character() %>%\n",
    "  display_html()"
   ]
  },
  {
   "cell_type": "code",
   "execution_count": 29,
   "id": "effaa076-1769-423a-8abb-cec7eb5d3a3f",
   "metadata": {},
   "outputs": [],
   "source": [
    "IBNR_predictors <- c(\"j\",\n",
    "                     \"k\",\n",
    "                     \"Cover\",\n",
    "                     \"Brand\",\n",
    "                     \"Model\",\n",
    "                     \"Price\",\n",
    "                     \"date_uw\")\n",
    "\n",
    "# aggregate the data ... does this lead to loss of variance and accuracy?\n",
    "dt_All_IBNR [, date_pol_start_YYYYMM := as.character(year(date_pol_start) + month(date_pol_start)/100 )]\n",
    "\n",
    "dt_All_IBNR_F <- dt_All_IBNR[, .(exposure = sum(exposure),\n",
    "                                   target_cost = sum(target),\n",
    "                                   target_count = sum(target>0)),\n",
    "                               by= c(IBNR_predictors, \"date_pol_start_YYYYMM\", \"flgTrain\")]\n",
    "\n",
    "dt_All_IBNR_F <- dt_All_IBNR_F[exposure>0]\n",
    "\n",
    "\n",
    "# setup train and test rows\n",
    "rowList_IBNR_F <- list(train=dt_All_IBNR_F[, which(flgTrain==1)],\n",
    "                     test=dt_All_IBNR_F[, which(flgTrain==0)],\n",
    "                     all = dt_All_IBNR_F[, which(flgTrain!=2)])\n",
    "\n",
    "# setup data for xgboost\n",
    "IBNR_rec <- recipe( ~ ., data = dt_All_IBNR_F[, IBNR_predictors, with = FALSE]) %>%\n",
    "  step_dummy(all_nominal(), one_hot = TRUE) %>%\n",
    "  prep()\n",
    "\n",
    "df.IBNR_F_train <- bake(IBNR_rec, new_data = dt_All_IBNR_F[rowList_IBNR_F$train,] )\n",
    "df.IBNR_F_test <- bake(IBNR_rec, new_data = dt_All_IBNR_F[rowList_IBNR_F$test,] )\n",
    "df.IBNR_F_all <- bake(IBNR_rec, new_data = dt_All_IBNR_F[rowList_IBNR_F$all,] )\n",
    "\n",
    "xgb.IBNR_F_DMat.train <- xgb.DMatrix(data = as.matrix(df.IBNR_F_train),\n",
    "                              weight = dt_All_IBNR_F[rowList_IBNR_F$train, exposure],\n",
    "                              label = dt_All_IBNR_F[rowList_IBNR_F$train, target_count])\n",
    "\n",
    "xgb.IBNR_F_DMat.test <- xgb.DMatrix(data = as.matrix(df.IBNR_F_test),\n",
    "                             weight = dt_All_IBNR_F[rowList_IBNR_F$test, exposure],\n",
    "                             label = dt_All_IBNR_F[rowList_IBNR_F$test, target_count])\n",
    "\n",
    "xgb.IBNR_F_DMat.all <- xgb.DMatrix(data = as.matrix(df.IBNR_F_all),\n",
    "                            weight = dt_All_IBNR_F[rowList_IBNR_F$all, exposure],\n",
    "                            label = dt_All_IBNR_F[rowList_IBNR_F$all, target_count])"
   ]
  },
  {
   "cell_type": "code",
   "execution_count": 30,
   "id": "0caa83cc-f2ed-4fae-8159-a6e097b42b52",
   "metadata": {},
   "outputs": [
    {
     "data": {
      "image/png": "[encoded data removed]",
      "text/plain": [
       "Plot with title \"Histogram of dt_All_IBNR_F[rowList_IBNR_F$train, target_count]\""
      ]
     },
     "metadata": {
      "image/png": {
       "height": 420,
       "width": 420
      }
     },
     "output_type": "display_data"
    }
   ],
   "source": [
    "\n",
    "hist(dt_All_IBNR_F[rowList_IBNR_F$train, target_count])"
   ]
  },
  {
   "cell_type": "code",
   "execution_count": 31,
   "id": "5e5b5702-3d1e-4504-b5cd-88e958220514",
   "metadata": {},
   "outputs": [
    {
     "name": "stdout",
     "output_type": "stream",
     "text": [
      "[1]\ttrain-poisson-nloglik:0.615983+0.000516\ttest-poisson-nloglik:0.615994+0.001036 \n",
      "Multiple eval metrics are present. Will use test_poisson_nloglik for early stopping.\n",
      "Will train until test_poisson_nloglik hasn't improved in 50 rounds.\n",
      "\n",
      "[51]\ttrain-poisson-nloglik:0.169375+0.002012\ttest-poisson-nloglik:0.169430+0.005815 \n",
      "[101]\ttrain-poisson-nloglik:0.137262+0.002201\ttest-poisson-nloglik:0.137737+0.007821 \n",
      "[151]\ttrain-poisson-nloglik:0.132682+0.002179\ttest-poisson-nloglik:0.134066+0.008458 \n",
      "[201]\ttrain-poisson-nloglik:0.130792+0.002139\ttest-poisson-nloglik:0.133186+0.008710 \n",
      "[251]\ttrain-poisson-nloglik:0.129587+0.002116\ttest-poisson-nloglik:0.132927+0.008899 \n",
      "[301]\ttrain-poisson-nloglik:0.128581+0.002063\ttest-poisson-nloglik:0.133057+0.008991 \n",
      "Stopping. Best iteration:\n",
      "[267]\ttrain-poisson-nloglik:0.129243+0.002140\ttest-poisson-nloglik:0.132899+0.008906\n",
      "\n"
     ]
    }
   ],
   "source": [
    "param <- list(\n",
    "  objective = \"count:poisson\",\n",
    "  max_depth = 2L,           # tree-depth\n",
    "  subsample = 0.7,          # randomly sample rows before fitting each tree\n",
    "  colsample_bytree = 0.8,   # randomly sample columns before fitting each tree\n",
    "  min.child.weight = 10,    # minimum weight per leaf\n",
    "  eta = 0.1               # Learning rate\n",
    "  #monotone_constraints = monotone_Vec # Monotonicity constraints\n",
    ")\n",
    "\n",
    "\n",
    "# Train model with cross validation\n",
    "set.seed(1984) # for repeatability\n",
    "\n",
    "xgb_IBNR_F_CV <- xgb.cv(\n",
    " params                 = param,\n",
    " data                   = xgb.IBNR_F_DMat.train,\n",
    " nrounds                = 2000,        # Maximum number of trees to build\n",
    " nfold = 5,\n",
    "\n",
    " early_stopping_rounds  = 50L,        # Stops algorithm early if performance has not improved in n rounds\n",
    " print_every_n          = 50L,        # How often to print to console\n",
    " #base_score             = 0.001,       # Model starting point\n",
    "   prediction             = TRUE        # Keeps the predictions\n",
    ")\n"
   ]
  },
  {
   "cell_type": "code",
   "execution_count": 32,
   "id": "d9be4076-2507-493b-8a85-2a0efebcbb79",
   "metadata": {},
   "outputs": [],
   "source": [
    " dt_All_IBNR_F[rowList_IBNR_F$train, preds_oof_IBNR_F := xgb_IBNR_F_CV$pred]\n",
    " dt_All_IBNR_F[rowList_IBNR_F$train, preds_oof_IBNR_Nos := exposure * preds_oof_IBNR_F]"
   ]
  },
  {
   "cell_type": "code",
   "execution_count": 41,
   "id": "5650742b-42b6-44e9-9a42-97f32d833fe0",
   "metadata": {},
   "outputs": [
    {
     "name": "stdout",
     "output_type": "stream",
     "text": [
      "[1]\ttrain-poisson-nloglik:0.616065\ttest-poisson-nloglik:0.606831 \n",
      "[51]\ttrain-poisson-nloglik:0.169623\ttest-poisson-nloglik:0.129184 \n",
      "[101]\ttrain-poisson-nloglik:0.137296\ttest-poisson-nloglik:0.088775 \n",
      "[151]\ttrain-poisson-nloglik:0.132780\ttest-poisson-nloglik:0.084293 \n",
      "[201]\ttrain-poisson-nloglik:0.131201\ttest-poisson-nloglik:0.083150 \n",
      "[251]\ttrain-poisson-nloglik:0.130244\ttest-poisson-nloglik:0.083090 \n",
      "[267]\ttrain-poisson-nloglik:0.129909\ttest-poisson-nloglik:0.083045 \n"
     ]
    }
   ],
   "source": [
    "xgb_IBNR_F_Fit <- xgb.train(\n",
    "   params                 = param,\n",
    "   data                   = xgb.IBNR_F_DMat.train,\n",
    "   nrounds                = xgb_IBNR_F_CV$best_iteration,\n",
    "# base_score             = 1,\n",
    "   watchlist              = list(train=xgb.IBNR_F_DMat.train, test=xgb.IBNR_F_DMat.test) ,\n",
    "   print_every_n          = 50\n",
    " )\n",
    " \n",
    " dt_All_IBNR_F[rowList_IBNR_F$all, preds_full_IBNR_Nos := predict(xgb_IBNR_F_Fit,xgb.IBNR_F_DMat.all)]\n",
    "\n",
    "     "
   ]
  },
  {
   "cell_type": "code",
   "execution_count": 42,
   "id": "0adb16f0-7c5f-4a8c-989a-089d79229053",
   "metadata": {},
   "outputs": [
    {
     "data": {
      "image/png": "[encoded data removed]",
      "text/plain": [
       "Plot with title \"Feature Importance - IBNR Frequency\""
      ]
     },
     "metadata": {
      "image/png": {
       "height": 420,
       "width": 420
      }
     },
     "output_type": "display_data"
    }
   ],
   "source": [
    "featImp_IBNR_F <- xgb.importance(xgb_IBNR_F_Fit, feature_names = colnames(xgb.IBNR_F_DMat.train))\n",
    "xgb.plot.importance(featImp_IBNR_F, main=\"Feature Importance - IBNR Frequency\")\n"
   ]
  },
  {
   "cell_type": "code",
   "execution_count": 43,
   "id": "7e8a72d4-d39b-47c7-a59b-950777cd7308",
   "metadata": {},
   "outputs": [
    {
     "ename": "ERROR",
     "evalue": "Error in shap.values(xgb_model = xgb_IBNR_F_Fit, X_train = as.matrix(df.IBNR_F_train)): could not find function \"shap.values\"\n",
     "output_type": "error",
     "traceback": [
      "Error in shap.values(xgb_model = xgb_IBNR_F_Fit, X_train = as.matrix(df.IBNR_F_train)): could not find function \"shap.values\"\nTraceback:\n"
     ]
    }
   ],
   "source": [
    "\n",
    "\n",
    "\n",
    "# Return the SHAP values and ranked features by mean|SHAP|\n",
    "shap_values <- shap.values(xgb_model = xgb_IBNR_F_Fit, X_train = as.matrix(df.IBNR_F_train))\n",
    "\n",
    "# Prepare the long-format data:\n",
    "shap_long <- shap.prep(shap_contrib = shap_values$shap_score, X_train =  as.matrix(df.IBNR_F_train))\n",
    "\n",
    "# **SHAP summary plot**\n",
    "shap.plot.summary(shap_long, dilute = nrow(df.IBNR_F_train)/10000)\n",
    "\n"
   ]
  },
  {
   "cell_type": "code",
   "execution_count": 44,
   "id": "6e2c6e5d-7b0e-4d1d-873e-5a8a77fd7571",
   "metadata": {},
   "outputs": [
    {
     "ename": "ERROR",
     "evalue": "Error in match.fun(FUN): object 'shap.plot.dependence' not found\n",
     "output_type": "error",
     "traceback": [
      "Error in match.fun(FUN): object 'shap.plot.dependence' not found\nTraceback:\n",
      "1. lapply(names(shap_values$mean_shap_score)[1:4], shap.plot.dependence, \n .     data_long = shap_long, dilute = nrow(shap_long)/10000)",
      "2. match.fun(FUN)"
     ]
    }
   ],
   "source": [
    "\n",
    "\n",
    "\n",
    "fig_list <- lapply(names(shap_values$mean_shap_score)[1:4], \n",
    "                   shap.plot.dependence,\n",
    "                   data_long = shap_long,\n",
    "                   dilute = nrow(shap_long)/ 10000)\n",
    "\n",
    "gridExtra::grid.arrange(grobs = fig_list, ncol = 2)\n"
   ]
  },
  {
   "cell_type": "code",
   "execution_count": 45,
   "id": "fb817ffe-21b7-4af3-ae7b-e1294bda695b",
   "metadata": {},
   "outputs": [
    {
     "ename": "ERROR",
     "evalue": "Error in shap.prep.stack.data(shap_contrib = shap_values$shap_score, data_percent = 10000/nrow(shap_long), : could not find function \"shap.prep.stack.data\"\n",
     "output_type": "error",
     "traceback": [
      "Error in shap.prep.stack.data(shap_contrib = shap_values$shap_score, data_percent = 10000/nrow(shap_long), : could not find function \"shap.prep.stack.data\"\nTraceback:\n"
     ]
    }
   ],
   "source": [
    "# choose to show top 4 features by setting `top_n = 4`, set 6 clustering groups.  \n",
    "plot_data <- shap.prep.stack.data(shap_contrib = shap_values$shap_score,\n",
    "                                  data_percent = 10000/nrow(shap_long),\n",
    "                                  top_n = 4,\n",
    "                                  n_groups = 6)\n",
    "  \n",
    "# choose to zoom in at location 500, set y-axis limit using `y_parent_limit`  \n",
    "# it is also possible to set y-axis limit for zoom-in part alone using `y_zoomin_limit`  \n",
    "shap.plot.force_plot(plot_data, zoom_in_location = 500, y_parent_limit = c(-1,1))\n",
    "  "
   ]
  },
  {
   "cell_type": "code",
   "execution_count": 46,
   "id": "710b3d53-ff6f-43d2-aaaf-55729293f563",
   "metadata": {},
   "outputs": [],
   "source": [
    "dt_All_IBNR_F_summary <- dt_All_IBNR_F[rowList_IBNR_F$test,.(preds = sum(preds_full_IBNR_Nos), target = sum(target_count)), keyby = date_pol_start_YYYYMM]"
   ]
  },
  {
   "cell_type": "code",
   "execution_count": 47,
   "id": "6a6b2b8f-d6cf-459b-99b5-a6e8098a070f",
   "metadata": {},
   "outputs": [
    {
     "data": {
      "text/html": [
       "<div style=\"border: 1px solid #ddd; padding: 5px; overflow-x: scroll; width:100%; \"><table class=\"table table-striped\" style=\"margin-left: auto; margin-right: auto;\">\n",
       " <thead>\n",
       "  <tr>\n",
       "   <th style=\"text-align:left;\"> date_pol_start_YYYYMM </th>\n",
       "   <th style=\"text-align:right;\"> preds </th>\n",
       "   <th style=\"text-align:right;\"> target </th>\n",
       "   <th style=\"text-align:right;\"> Diff </th>\n",
       "   <th style=\"text-align:left;\"> Diff_pcnt </th>\n",
       "  </tr>\n",
       " </thead>\n",
       "<tbody>\n",
       "  <tr>\n",
       "   <td style=\"text-align:left;\"> 2016.01 </td>\n",
       "   <td style=\"text-align:right;\"> 212 </td>\n",
       "   <td style=\"text-align:right;\"> 168 </td>\n",
       "   <td style=\"text-align:right;\"> 44 </td>\n",
       "   <td style=\"text-align:left;\"> 25.9% </td>\n",
       "  </tr>\n",
       "  <tr>\n",
       "   <td style=\"text-align:left;\"> 2016.02 </td>\n",
       "   <td style=\"text-align:right;\"> 186 </td>\n",
       "   <td style=\"text-align:right;\"> 176 </td>\n",
       "   <td style=\"text-align:right;\"> 10 </td>\n",
       "   <td style=\"text-align:left;\"> 5.8% </td>\n",
       "  </tr>\n",
       "  <tr>\n",
       "   <td style=\"text-align:left;\"> 2016.03 </td>\n",
       "   <td style=\"text-align:right;\"> 188 </td>\n",
       "   <td style=\"text-align:right;\"> 160 </td>\n",
       "   <td style=\"text-align:right;\"> 28 </td>\n",
       "   <td style=\"text-align:left;\"> 17.2% </td>\n",
       "  </tr>\n",
       "  <tr>\n",
       "   <td style=\"text-align:left;\"> 2016.04 </td>\n",
       "   <td style=\"text-align:right;\"> 184 </td>\n",
       "   <td style=\"text-align:right;\"> 164 </td>\n",
       "   <td style=\"text-align:right;\"> 20 </td>\n",
       "   <td style=\"text-align:left;\"> 12.1% </td>\n",
       "  </tr>\n",
       "  <tr>\n",
       "   <td style=\"text-align:left;\"> 2016.05 </td>\n",
       "   <td style=\"text-align:right;\"> 177 </td>\n",
       "   <td style=\"text-align:right;\"> 195 </td>\n",
       "   <td style=\"text-align:right;\"> -18 </td>\n",
       "   <td style=\"text-align:left;\"> -9.2% </td>\n",
       "  </tr>\n",
       "  <tr>\n",
       "   <td style=\"text-align:left;\"> 2016.06 </td>\n",
       "   <td style=\"text-align:right;\"> 167 </td>\n",
       "   <td style=\"text-align:right;\"> 179 </td>\n",
       "   <td style=\"text-align:right;\"> -12 </td>\n",
       "   <td style=\"text-align:left;\"> -6.9% </td>\n",
       "  </tr>\n",
       "  <tr>\n",
       "   <td style=\"text-align:left;\"> 2016.07 </td>\n",
       "   <td style=\"text-align:right;\"> 113 </td>\n",
       "   <td style=\"text-align:right;\"> 170 </td>\n",
       "   <td style=\"text-align:right;\"> -57 </td>\n",
       "   <td style=\"text-align:left;\"> -33.3% </td>\n",
       "  </tr>\n",
       "  <tr>\n",
       "   <td style=\"text-align:left;\"> 2016.08 </td>\n",
       "   <td style=\"text-align:right;\"> 85 </td>\n",
       "   <td style=\"text-align:right;\"> 162 </td>\n",
       "   <td style=\"text-align:right;\"> -77 </td>\n",
       "   <td style=\"text-align:left;\"> -47.4% </td>\n",
       "  </tr>\n",
       "  <tr>\n",
       "   <td style=\"text-align:left;\"> 2016.09 </td>\n",
       "   <td style=\"text-align:right;\"> 77 </td>\n",
       "   <td style=\"text-align:right;\"> 59 </td>\n",
       "   <td style=\"text-align:right;\"> 18 </td>\n",
       "   <td style=\"text-align:left;\"> 30.0% </td>\n",
       "  </tr>\n",
       "  <tr>\n",
       "   <td style=\"text-align:left;\"> Total </td>\n",
       "   <td style=\"text-align:right;\"> 1,388 </td>\n",
       "   <td style=\"text-align:right;\"> 1,433 </td>\n",
       "   <td style=\"text-align:right;\"> -45 </td>\n",
       "   <td style=\"text-align:left;\"> -3.1% </td>\n",
       "  </tr>\n",
       "</tbody>\n",
       "</table></div>"
      ]
     },
     "metadata": {},
     "output_type": "display_data"
    }
   ],
   "source": [
    "# Sum the last row of each column if numeric \n",
    "sumrow <- cbind(data.table(date_pol_start_YYYYMM = \"Total\"), dt_All_IBNR_F_summary[, lapply(.SD, sum), .SDcols = c(\"preds\", \"target\")])\n",
    "\n",
    "dt_All_IBNR_F_summary <- rbind(dt_All_IBNR_F_summary, sumrow, fill = TRUE)\n",
    "\n",
    "dt_All_IBNR_F_summary[, ':='(Diff = (preds - target),\n",
    "                        Diff_pcnt = scales::percent((preds - target) / target, accuracy = 0.1))]\n",
    "\n",
    "\n",
    "kable(dt_All_IBNR_F_summary, \"html\",\n",
    "      digits = c(2,0,0,0,1),\n",
    "      format.args = list(big.mark = \",\", \n",
    "        scientific = FALSE)\n",
    "      ) %>% \n",
    "  kable_styling(\"striped\") %>% scroll_box(width = \"100%\") %>%\n",
    "  as.character() %>%\n",
    "  display_html()\n",
    "     "
   ]
  },
  {
   "cell_type": "code",
   "execution_count": 49,
   "id": "b2d95777-894d-4841-bfde-7b01473d8db6",
   "metadata": {},
   "outputs": [],
   "source": [
    "IBNR_predictors <- c(\"j\",\n",
    "                     \"k\",\n",
    "                     \"Cover\",\n",
    "                     \"Brand\",\n",
    "                     \"Model\",\n",
    "                     \"Price\",\n",
    "                     \"date_uw\")\n",
    "\n",
    "dt_All_IBNR [, date_pol_start_YYYYMM := as.character(year(date_pol_start) + month(date_pol_start)/100 )]\n",
    "\n",
    "dt_All_IBNR_S <- dt_All_IBNR[, .(exposure = sum(target>0),\n",
    "                                 target_cost = sum(target)),\n",
    "                            by= c(IBNR_predictors, \"date_pol_start_YYYYMM\", \"flgTrain\")]\n",
    "\n",
    "dt_All_IBNR_S <- dt_All_IBNR_S[exposure>0]\n",
    "\n",
    "# setup train and test rows\n",
    "rowList_IBNR_S <- list(train=dt_All_IBNR_S[, which(flgTrain==2)],\n",
    "                     test=dt_All_IBNR_S[, which(flgTrain==0)],\n",
    "                     all = dt_All_IBNR_S[, which(flgTrain!=1)])\n",
    "\n",
    "# setup data for xgboost\n",
    "\n",
    "IBNR_rec <- recipe( ~ ., data = dt_All_IBNR_S[, IBNR_predictors, with = FALSE]) %>%\n",
    "  step_dummy(all_nominal(), one_hot = TRUE) %>%\n",
    "  prep()\n",
    "\n",
    "df.IBNR_S_train <- bake(IBNR_rec, new_data = dt_All_IBNR_S[rowList_IBNR_S$train,] )\n",
    "df.IBNR_S_test <- bake(IBNR_rec, new_data = dt_All_IBNR_S[rowList_IBNR_S$test,] )\n",
    "df.IBNR_S_all <- bake(IBNR_rec, new_data = dt_All_IBNR_S[rowList_IBNR_S$all,] )\n",
    "\n",
    "\n",
    "\n",
    "xgb.IBNR_S_DMat.train <- xgb.DMatrix(data = as.matrix(df.IBNR_S_train),\n",
    "                              weight = dt_All_IBNR_S[rowList_IBNR_S$train, exposure],\n",
    "                              label = dt_All_IBNR_S[rowList_IBNR_S$train, target_cost])\n",
    "\n",
    "xgb.IBNR_S_DMat.test <- xgb.DMatrix(data = as.matrix(df.IBNR_S_test),\n",
    "                             weight = dt_All_IBNR_S[rowList_IBNR_S$test, exposure],\n",
    "                             label = dt_All_IBNR_S[rowList_IBNR_S$test, target_cost])\n",
    "\n",
    "xgb.IBNR_S_DMat.all <- xgb.DMatrix(data = as.matrix(df.IBNR_S_all),\n",
    "                            weight = dt_All_IBNR_S[rowList_IBNR_S$all, exposure],\n",
    "                            label = dt_All_IBNR_S[rowList_IBNR_S$all, target_cost])"
   ]
  },
  {
   "cell_type": "code",
   "execution_count": 50,
   "id": "92072fc6-3cec-4ee0-8dcb-c97a4874f68e",
   "metadata": {},
   "outputs": [
    {
     "data": {
      "text/plain": [
       "   Min. 1st Qu.  Median    Mean 3rd Qu.    Max. \n",
       "    3.0   125.5   255.0   353.9   486.5  2011.0 "
      ]
     },
     "metadata": {},
     "output_type": "display_data"
    },
    {
     "data": {
      "image/png": "[encoded data removed]",
      "text/plain": [
       "Plot with title \"Histogram of dt_All_IBNR_S[rowList_IBNR_S$train, target_cost]\""
      ]
     },
     "metadata": {
      "image/png": {
       "height": 420,
       "width": 420
      }
     },
     "output_type": "display_data"
    }
   ],
   "source": [
    "summary(dt_All_IBNR_S[rowList_IBNR_S$train, target_cost])\n",
    "hist(dt_All_IBNR_S[rowList_IBNR_S$train, target_cost])"
   ]
  },
  {
   "cell_type": "code",
   "execution_count": 51,
   "id": "8483123d-fc31-4ec3-a882-b4a9ae258501",
   "metadata": {},
   "outputs": [
    {
     "name": "stdout",
     "output_type": "stream",
     "text": [
      "[1]\ttrain-gamma-nloglik:135.111800+2.147737\ttest-gamma-nloglik:134.960497+8.878000 \n",
      "Multiple eval metrics are present. Will use test_gamma_nloglik for early stopping.\n",
      "Will train until test_gamma_nloglik hasn't improved in 50 rounds.\n",
      "\n",
      "[51]\ttrain-gamma-nloglik:7.117216+0.023912\ttest-gamma-nloglik:7.122154+0.130271 \n",
      "[101]\ttrain-gamma-nloglik:6.815663+0.017024\ttest-gamma-nloglik:6.825915+0.070990 \n",
      "[151]\ttrain-gamma-nloglik:6.808179+0.017122\ttest-gamma-nloglik:6.826168+0.070992 \n",
      "Stopping. Best iteration:\n",
      "[121]\ttrain-gamma-nloglik:6.811926+0.017127\ttest-gamma-nloglik:6.825021+0.070641\n",
      "\n"
     ]
    }
   ],
   "source": [
    "param <- list(\n",
    "  objective = \"reg:gamma\",\n",
    "  max_depth = 2L,           # tree-depth\n",
    "  subsample = 0.7,          # randomly sample rows before fitting each tree\n",
    "  colsample_bytree = 0.8,   # randomly sample columns before fitting each tree\n",
    "  min.child.weight = 10,    # minimum weight per leaf\n",
    "  eta = 0.1               # Learning rate\n",
    "  #monotone_constraints = monotone_Vec # Monotonicity constraints\n",
    ")\n",
    "\n",
    "# Train model with cross validation\n",
    "set.seed(1984) # for repeatability\n",
    "\n",
    "xgb_IBNR_S_CV <- xgb.cv(\n",
    " params                 = param,\n",
    " data                   = xgb.IBNR_S_DMat.train,\n",
    " nrounds                = 2000,        # Maximum number of trees to build\n",
    " nfold = 5,\n",
    "\n",
    " early_stopping_rounds  = 50L,        # Stops algorithm early if performance has not improved in n rounds\n",
    " print_every_n          = 50L,        # How often to print to console\n",
    " #base_score             = 0.001,       # Model starting point\n",
    "   prediction             = TRUE        # Keeps the predictions\n",
    ") \n",
    "     "
   ]
  },
  {
   "cell_type": "code",
   "execution_count": 52,
   "id": "7dc3584d-0817-45fc-874e-ddc0c761e397",
   "metadata": {},
   "outputs": [],
   "source": [
    "dt_All_IBNR_S[rowList_IBNR_S$train, preds_oof_IBNR_S := xgb_IBNR_S_CV$pred]\n",
    "dt_All_IBNR_S[rowList_IBNR_S$train, preds_oof_IBNR_Cost := exposure * preds_oof_IBNR_S]"
   ]
  },
  {
   "cell_type": "code",
   "execution_count": 53,
   "id": "cb28c54c-b26b-49e6-841c-9a46e1e452da",
   "metadata": {},
   "outputs": [
    {
     "name": "stdout",
     "output_type": "stream",
     "text": [
      "[1]\ttrain-gamma-nloglik:1.110040\ttest-gamma-nloglik:1.105260 \n",
      "[51]\ttrain-gamma-nloglik:5.196263\ttest-gamma-nloglik:5.193286 \n",
      "[101]\ttrain-gamma-nloglik:5.663059\ttest-gamma-nloglik:5.647153 \n",
      "[121]\ttrain-gamma-nloglik:5.642347\ttest-gamma-nloglik:5.595071 \n"
     ]
    }
   ],
   "source": [
    "\n",
    "xgb_IBNR_S_Fit <- xgb.train(\n",
    "   params                 = param,\n",
    "   data                   = xgb.IBNR_S_DMat.train,\n",
    "   nrounds                = xgb_IBNR_S_CV$best_iteration,\n",
    "# base_score             = 1,\n",
    "   watchlist              = list(train=xgb.IBNR_F_DMat.train, test=xgb.IBNR_F_DMat.test) ,\n",
    "   print_every_n          = 50\n",
    " )\n",
    "\n",
    "     "
   ]
  },
  {
   "cell_type": "code",
   "execution_count": 54,
   "id": "ea4d1c1b-d2e7-40d6-85c5-ff6a8562efdb",
   "metadata": {},
   "outputs": [],
   "source": [
    "dt_All_IBNR_S[rowList_IBNR_S$all, preds_full_IBNR_Cost := predict(xgb_IBNR_S_Fit,xgb.IBNR_S_DMat.all)]\n",
    "     "
   ]
  },
  {
   "cell_type": "code",
   "execution_count": 55,
   "id": "db5d1a60-81b4-4843-9109-6752dbdf0709",
   "metadata": {},
   "outputs": [
    {
     "data": {
      "image/png": "[encoded data removed]",
      "text/plain": [
       "Plot with title \"Feature Importance - IBNR Severity\""
      ]
     },
     "metadata": {
      "image/png": {
       "height": 420,
       "width": 420
      }
     },
     "output_type": "display_data"
    }
   ],
   "source": [
    "\n",
    "\n",
    "#default feature importance by gain\n",
    "featImp_IBNR_S <- xgb.importance(xgb_IBNR_S_Fit, feature_names = colnames(xgb.IBNR_S_DMat.train))\n",
    "xgb.plot.importance(featImp_IBNR_S, main=\"Feature Importance - IBNR Severity\")"
   ]
  },
  {
   "cell_type": "code",
   "execution_count": 56,
   "id": "a5f53e44-b82c-4b62-a6cd-34da9f3b2cba",
   "metadata": {},
   "outputs": [
    {
     "ename": "ERROR",
     "evalue": "Error in shap.values(xgb_model = xgb_IBNR_S_Fit, X_train = as.matrix(df.IBNR_S_train)): could not find function \"shap.values\"\n",
     "output_type": "error",
     "traceback": [
      "Error in shap.values(xgb_model = xgb_IBNR_S_Fit, X_train = as.matrix(df.IBNR_S_train)): could not find function \"shap.values\"\nTraceback:\n"
     ]
    }
   ],
   "source": [
    "# Return the SHAP values and ranked features by mean|SHAP|\n",
    "shap_values <- shap.values(xgb_model = xgb_IBNR_S_Fit, X_train = as.matrix(df.IBNR_S_train))\n",
    "\n",
    "# Prepare the long-format data:\n",
    "shap_long <- shap.prep(shap_contrib = shap_values$shap_score, X_train =  as.matrix(df.IBNR_S_train))\n",
    "\n",
    "# **SHAP summary plot**\n",
    "shap.plot.summary(shap_long, dilute = max(nrow(df.IBNR_S_train),10000)/10000)\n",
    "     "
   ]
  },
  {
   "cell_type": "code",
   "execution_count": 57,
   "id": "08e70f2a-ffb2-4ba6-8694-479b7feb98d1",
   "metadata": {},
   "outputs": [
    {
     "ename": "ERROR",
     "evalue": "Error in match.fun(FUN): object 'shap.plot.dependence' not found\n",
     "output_type": "error",
     "traceback": [
      "Error in match.fun(FUN): object 'shap.plot.dependence' not found\nTraceback:\n",
      "1. lapply(names(shap_values$mean_shap_score)[1:4], shap.plot.dependence, \n .     data_long = shap_long, dilute = nrow(shap_long)/10000)",
      "2. match.fun(FUN)"
     ]
    }
   ],
   "source": [
    "\n",
    "fig_list <- lapply(names(shap_values$mean_shap_score)[1:4], \n",
    "                   shap.plot.dependence,\n",
    "                   data_long = shap_long,\n",
    "                   dilute = nrow(shap_long)/ 10000)\n",
    "\n",
    "gridExtra::grid.arrange(grobs = fig_list, ncol = 2)"
   ]
  },
  {
   "cell_type": "code",
   "execution_count": 58,
   "id": "36bf126c-f3cb-4061-bf3a-4ebe2618c834",
   "metadata": {},
   "outputs": [
    {
     "ename": "ERROR",
     "evalue": "Error in shap.prep.stack.data(shap_contrib = shap_values$shap_score, data_percent = 10000/max(nrow(shap_long), : could not find function \"shap.prep.stack.data\"\n",
     "output_type": "error",
     "traceback": [
      "Error in shap.prep.stack.data(shap_contrib = shap_values$shap_score, data_percent = 10000/max(nrow(shap_long), : could not find function \"shap.prep.stack.data\"\nTraceback:\n"
     ]
    }
   ],
   "source": [
    "# choose to show top 4 features by setting `top_n = 4`, set 6 clustering groups.  \n",
    "plot_data <- shap.prep.stack.data(shap_contrib = shap_values$shap_score,\n",
    "                                  data_percent = 10000/max(nrow(shap_long),10000),\n",
    "                                  top_n = 4,\n",
    "                                  n_groups = 6)\n",
    "  \n",
    "# choose to zoom in at location 500, set y-axis limit using `y_parent_limit`  \n",
    "# it is also possible to set y-axis limit for zoom-in part alone using `y_zoomin_limit`  \n",
    "shap.plot.force_plot(plot_data, zoom_in_location = 500, y_parent_limit = c(-1,1))"
   ]
  },
  {
   "cell_type": "code",
   "execution_count": 59,
   "id": "ccc1f9fb-452e-4663-8850-491c2daf6d2d",
   "metadata": {},
   "outputs": [],
   "source": [
    "dt_All_IBNR_S_summary <- dt_All_IBNR_S[rowList_IBNR_S$test,.(preds = sum(preds_full_IBNR_Cost), target = sum(target_cost)), keyby = date_pol_start_YYYYMM]\n",
    "     "
   ]
  },
  {
   "cell_type": "code",
   "execution_count": 60,
   "id": "557b0a56-c05e-472a-9e3b-de82b04d27ae",
   "metadata": {},
   "outputs": [
    {
     "data": {
      "text/html": [
       "<div style=\"border: 1px solid #ddd; padding: 5px; overflow-x: scroll; width:100%; \"><table class=\"table table-striped\" style=\"margin-left: auto; margin-right: auto;\">\n",
       " <thead>\n",
       "  <tr>\n",
       "   <th style=\"text-align:left;\"> date_pol_start_YYYYMM </th>\n",
       "   <th style=\"text-align:right;\"> preds </th>\n",
       "   <th style=\"text-align:right;\"> target </th>\n",
       "   <th style=\"text-align:right;\"> Diff </th>\n",
       "   <th style=\"text-align:left;\"> Diff_pcnt </th>\n",
       "  </tr>\n",
       " </thead>\n",
       "<tbody>\n",
       "  <tr>\n",
       "   <td style=\"text-align:left;\"> 2016.01 </td>\n",
       "   <td style=\"text-align:right;\"> 57,902 </td>\n",
       "   <td style=\"text-align:right;\"> 52,782 </td>\n",
       "   <td style=\"text-align:right;\"> 5,120 </td>\n",
       "   <td style=\"text-align:left;\"> 9.7% </td>\n",
       "  </tr>\n",
       "  <tr>\n",
       "   <td style=\"text-align:left;\"> 2016.02 </td>\n",
       "   <td style=\"text-align:right;\"> 55,311 </td>\n",
       "   <td style=\"text-align:right;\"> 55,615 </td>\n",
       "   <td style=\"text-align:right;\"> -304 </td>\n",
       "   <td style=\"text-align:left;\"> -0.5% </td>\n",
       "  </tr>\n",
       "  <tr>\n",
       "   <td style=\"text-align:left;\"> 2016.03 </td>\n",
       "   <td style=\"text-align:right;\"> 52,808 </td>\n",
       "   <td style=\"text-align:right;\"> 47,200 </td>\n",
       "   <td style=\"text-align:right;\"> 5,608 </td>\n",
       "   <td style=\"text-align:left;\"> 11.9% </td>\n",
       "  </tr>\n",
       "  <tr>\n",
       "   <td style=\"text-align:left;\"> 2016.04 </td>\n",
       "   <td style=\"text-align:right;\"> 55,003 </td>\n",
       "   <td style=\"text-align:right;\"> 56,975 </td>\n",
       "   <td style=\"text-align:right;\"> -1,972 </td>\n",
       "   <td style=\"text-align:left;\"> -3.5% </td>\n",
       "  </tr>\n",
       "  <tr>\n",
       "   <td style=\"text-align:left;\"> 2016.05 </td>\n",
       "   <td style=\"text-align:right;\"> 66,642 </td>\n",
       "   <td style=\"text-align:right;\"> 64,833 </td>\n",
       "   <td style=\"text-align:right;\"> 1,809 </td>\n",
       "   <td style=\"text-align:left;\"> 2.8% </td>\n",
       "  </tr>\n",
       "  <tr>\n",
       "   <td style=\"text-align:left;\"> 2016.06 </td>\n",
       "   <td style=\"text-align:right;\"> 52,906 </td>\n",
       "   <td style=\"text-align:right;\"> 52,989 </td>\n",
       "   <td style=\"text-align:right;\"> -83 </td>\n",
       "   <td style=\"text-align:left;\"> -0.2% </td>\n",
       "  </tr>\n",
       "  <tr>\n",
       "   <td style=\"text-align:left;\"> 2016.07 </td>\n",
       "   <td style=\"text-align:right;\"> 49,497 </td>\n",
       "   <td style=\"text-align:right;\"> 50,276 </td>\n",
       "   <td style=\"text-align:right;\"> -779 </td>\n",
       "   <td style=\"text-align:left;\"> -1.5% </td>\n",
       "  </tr>\n",
       "  <tr>\n",
       "   <td style=\"text-align:left;\"> 2016.08 </td>\n",
       "   <td style=\"text-align:right;\"> 49,734 </td>\n",
       "   <td style=\"text-align:right;\"> 53,502 </td>\n",
       "   <td style=\"text-align:right;\"> -3,768 </td>\n",
       "   <td style=\"text-align:left;\"> -7.0% </td>\n",
       "  </tr>\n",
       "  <tr>\n",
       "   <td style=\"text-align:left;\"> 2016.09 </td>\n",
       "   <td style=\"text-align:right;\"> 18,100 </td>\n",
       "   <td style=\"text-align:right;\"> 18,989 </td>\n",
       "   <td style=\"text-align:right;\"> -889 </td>\n",
       "   <td style=\"text-align:left;\"> -4.7% </td>\n",
       "  </tr>\n",
       "  <tr>\n",
       "   <td style=\"text-align:left;\"> Total </td>\n",
       "   <td style=\"text-align:right;\"> 457,904 </td>\n",
       "   <td style=\"text-align:right;\"> 453,161 </td>\n",
       "   <td style=\"text-align:right;\"> 4,743 </td>\n",
       "   <td style=\"text-align:left;\"> 1.0% </td>\n",
       "  </tr>\n",
       "</tbody>\n",
       "</table></div>"
      ]
     },
     "metadata": {},
     "output_type": "display_data"
    }
   ],
   "source": [
    "# Sum the last row of each column if numeric \n",
    "sumrow <- cbind(data.table(date_pol_start_YYYYMM = \"Total\"), dt_All_IBNR_S_summary[, lapply(.SD, sum), .SDcols = c(\"preds\", \"target\")])\n",
    "\n",
    "dt_All_IBNR_S_summary <- rbind(dt_All_IBNR_S_summary, sumrow, fill = TRUE)\n",
    "\n",
    "dt_All_IBNR_S_summary[, ':='(Diff = (preds - target),\n",
    "                     Diff_pcnt = scales::percent((preds - target) / target, accuracy = 0.1))]\n",
    "\n",
    "\n",
    "kable(dt_All_IBNR_S_summary, \"html\",\n",
    "      digits = c(2,0,0,0,1),\n",
    "      format.args = list(big.mark = \",\", \n",
    "        scientific = FALSE)\n",
    "      ) %>% \n",
    "  kable_styling(\"striped\") %>% scroll_box(width = \"100%\") %>%\n",
    "  as.character() %>%\n",
    "  display_html()"
   ]
  },
  {
   "cell_type": "code",
   "execution_count": 61,
   "id": "9897f73a-38ae-4752-8742-216f38a4b818",
   "metadata": {},
   "outputs": [
    {
     "data": {
      "text/html": [
       "<div style=\"border: 1px solid #ddd; padding: 5px; overflow-x: scroll; width:100%; \"><table class=\"table table-striped\" style=\"margin-left: auto; margin-right: auto;\">\n",
       " <thead>\n",
       "  <tr>\n",
       "   <th style=\"text-align:left;\"> Reserve </th>\n",
       "   <th style=\"text-align:right;\"> Prediction </th>\n",
       "   <th style=\"text-align:right;\"> Ground_Truth </th>\n",
       "   <th style=\"text-align:right;\"> Diff </th>\n",
       "   <th style=\"text-align:left;\"> Diff_pcnt </th>\n",
       "  </tr>\n",
       " </thead>\n",
       "<tbody>\n",
       "  <tr>\n",
       "   <td style=\"text-align:left;\"> RBNS </td>\n",
       "   <td style=\"text-align:right;\"> 1,018,670 </td>\n",
       "   <td style=\"text-align:right;\"> 1,022,981 </td>\n",
       "   <td style=\"text-align:right;\"> -4,311 </td>\n",
       "   <td style=\"text-align:left;\"> -0.4% </td>\n",
       "  </tr>\n",
       "  <tr>\n",
       "   <td style=\"text-align:left;\"> IBNR </td>\n",
       "   <td style=\"text-align:right;\"> 457,904 </td>\n",
       "   <td style=\"text-align:right;\"> 453,161 </td>\n",
       "   <td style=\"text-align:right;\"> 4,743 </td>\n",
       "   <td style=\"text-align:left;\"> 1.0% </td>\n",
       "  </tr>\n",
       "  <tr>\n",
       "   <td style=\"text-align:left;\"> TOTAL </td>\n",
       "   <td style=\"text-align:right;\"> 1,476,574 </td>\n",
       "   <td style=\"text-align:right;\"> 1,476,142 </td>\n",
       "   <td style=\"text-align:right;\"> 432 </td>\n",
       "   <td style=\"text-align:left;\"> 0.0% </td>\n",
       "  </tr>\n",
       "</tbody>\n",
       "</table></div>"
      ]
     },
     "metadata": {},
     "output_type": "display_data"
    }
   ],
   "source": [
    "summary_table <- data.table(\n",
    "  Reserve = c(\"RBNS\", \"IBNR\", \"TOTAL\"),\n",
    "  Prediction = c(dt_All_RBNS[rowList_RBNS$test, sum(preds_full)],\n",
    "                 dt_All_IBNR_S[rowList_IBNR_S$test, sum(preds_full_IBNR_Cost)],\n",
    "                 dt_All_RBNS[rowList_RBNS$test, sum(preds_full)] + dt_All_IBNR_S[rowList_IBNR_S$test, sum(preds_full_IBNR_Cost)]),\n",
    "  Ground_Truth = c(dt_All_RBNS[rowList_RBNS$test, sum(target)],\n",
    "                   dt_All_IBNR_S[rowList_IBNR_S$test, sum(target_cost)],\n",
    "                   dt_All_RBNS[rowList_RBNS$test, sum(target)] + dt_All_IBNR_S[rowList_IBNR_S$test, sum(target_cost)])\n",
    ")\n",
    "\n",
    "summary_table[, ':='(\n",
    "  Diff = (Prediction - Ground_Truth),\n",
    "  Diff_pcnt =  scales::percent((Prediction - Ground_Truth) / Ground_Truth, accuracy = 0.1)\n",
    ")]\n",
    "\n",
    "\n",
    "kable(\n",
    "  summary_table,\n",
    "  \"html\",\n",
    "  digits = c(0, 0, 0, 0, 1),\n",
    "  format.args = list(big.mark = \",\",\n",
    "                     scientific = FALSE)\n",
    ") %>%\n",
    "  kable_styling(\"striped\") %>% scroll_box(width = \"100%\") %>%\n",
    "  as.character() %>%\n",
    "  display_html()"
   ]
  },
  {
   "cell_type": "code",
   "execution_count": null,
   "id": "9e839dc8-236e-4d52-8a2c-b30203204233",
   "metadata": {},
   "outputs": [],
   "source": []
  }
 ],
 "metadata": {
  "kernelspec": {
   "display_name": "myr_env",
   "language": "R",
   "name": "r-conda"
  },
  "language_info": {
   "codemirror_mode": "r",
   "file_extension": ".r",
   "mimetype": "text/x-r-source",
   "name": "R",
   "pygments_lexer": "r",
   "version": "4.1.3"
  }
 },
 "nbformat": 4,
 "nbformat_minor": 5
}
