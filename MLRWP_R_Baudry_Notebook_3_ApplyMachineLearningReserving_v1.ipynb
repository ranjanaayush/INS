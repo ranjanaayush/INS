{
 "cells": [
  {
   "cell_type": "code",
   "execution_count": 1,
   "id": "72517e5f-a643-4fe8-97c5-591efaf97b94",
   "metadata": {},
   "outputs": [
    {
     "ename": "ValueError",
     "evalue": "All arrays must be of the same length",
     "output_type": "error",
     "traceback": [
      "\u001b[1;31m---------------------------------------------------------------------------\u001b[0m",
      "\u001b[1;31mValueError\u001b[0m                                Traceback (most recent call last)",
      "Cell \u001b[1;32mIn[1], line 12\u001b[0m\n\u001b[0;32m      5\u001b[0m \u001b[38;5;28;01mfrom\u001b[39;00m \u001b[38;5;21;01mBaudry_functions_v2\u001b[39;00m \u001b[38;5;28;01mimport\u001b[39;00m \u001b[38;5;241m*\u001b[39m\n\u001b[0;32m      7\u001b[0m \u001b[38;5;66;03m# Assuming you have these functions already converted from R:\u001b[39;00m\n\u001b[0;32m      8\u001b[0m \u001b[38;5;66;03m# simulate_central_scenario, join_policy_claim, time_slice_polclaim, RBNS_Train, RBNS_Test\u001b[39;00m\n\u001b[0;32m      9\u001b[0m \u001b[38;5;66;03m# Also assuming lst_Date_slice is a list/array of datetime objects\u001b[39;00m\n\u001b[0;32m     10\u001b[0m \n\u001b[0;32m     11\u001b[0m \u001b[38;5;66;03m# Simulate central scenario data\u001b[39;00m\n\u001b[1;32m---> 12\u001b[0m dt_PhoneData \u001b[38;5;241m=\u001b[39m simulate_central_scenario(\u001b[38;5;241m1234\u001b[39m)\n\u001b[0;32m     14\u001b[0m \u001b[38;5;66;03m# Join policy and claim data\u001b[39;00m\n\u001b[0;32m     15\u001b[0m dt_polclaim \u001b[38;5;241m=\u001b[39m join_policy_claim(dt_PhoneData,\n\u001b[0;32m     16\u001b[0m                                date_pol_start\u001b[38;5;241m=\u001b[39m\u001b[38;5;124m\"\u001b[39m\u001b[38;5;124mdate_UW\u001b[39m\u001b[38;5;124m\"\u001b[39m,\n\u001b[0;32m     17\u001b[0m                                date_pol_end\u001b[38;5;241m=\u001b[39m\u001b[38;5;124m\"\u001b[39m\u001b[38;5;124mdate_lapse\u001b[39m\u001b[38;5;124m\"\u001b[39m,\n\u001b[0;32m     18\u001b[0m                                date_occur\u001b[38;5;241m=\u001b[39m\u001b[38;5;124m\"\u001b[39m\u001b[38;5;124mdate_occur\u001b[39m\u001b[38;5;124m\"\u001b[39m)\n",
      "File \u001b[1;32m~\\Insurance\\Baudry_functions_v2.py:74\u001b[0m, in \u001b[0;36msimulate_central_scenario\u001b[1;34m(seed)\u001b[0m\n\u001b[0;32m     72\u001b[0m total_policies \u001b[38;5;241m=\u001b[39m \u001b[38;5;28mlen\u001b[39m(dt_policy)\n\u001b[0;32m     73\u001b[0m claim_indices \u001b[38;5;241m=\u001b[39m np\u001b[38;5;241m.\u001b[39mrandom\u001b[38;5;241m.\u001b[39mchoice(dt_policy\u001b[38;5;241m.\u001b[39mindex, size\u001b[38;5;241m=\u001b[39m\u001b[38;5;28mint\u001b[39m(\u001b[38;5;241m0.15\u001b[39m \u001b[38;5;241m*\u001b[39m total_policies), replace\u001b[38;5;241m=\u001b[39m\u001b[38;5;28;01mFalse\u001b[39;00m)\n\u001b[1;32m---> 74\u001b[0m dt_claim \u001b[38;5;241m=\u001b[39m pd\u001b[38;5;241m.\u001b[39mDataFrame({\n\u001b[0;32m     75\u001b[0m \u001b[38;5;124m'\u001b[39m\u001b[38;5;124mpol_number\u001b[39m\u001b[38;5;124m'\u001b[39m: dt_policy\u001b[38;5;241m.\u001b[39mloc[claim_indices, \u001b[38;5;124m'\u001b[39m\u001b[38;5;124mpol_number\u001b[39m\u001b[38;5;124m'\u001b[39m]\u001b[38;5;241m.\u001b[39mvalues,\n\u001b[0;32m     76\u001b[0m \u001b[38;5;124m'\u001b[39m\u001b[38;5;124mclaim_type\u001b[39m\u001b[38;5;124m'\u001b[39m: [\u001b[38;5;124m'\u001b[39m\u001b[38;5;124mB\u001b[39m\u001b[38;5;124m'\u001b[39m] \u001b[38;5;241m*\u001b[39m \u001b[38;5;28mlen\u001b[39m(claim_indices),       \u001b[38;5;66;03m# list with length equal to claim_indices\u001b[39;00m\n\u001b[0;32m     77\u001b[0m \u001b[38;5;124m'\u001b[39m\u001b[38;5;124mclaim_count\u001b[39m\u001b[38;5;124m'\u001b[39m: [\u001b[38;5;241m1\u001b[39m] \u001b[38;5;241m*\u001b[39m \u001b[38;5;28mlen\u001b[39m(claim_indices),        \u001b[38;5;66;03m# same here\u001b[39;00m\n\u001b[0;32m     78\u001b[0m \u001b[38;5;124m'\u001b[39m\u001b[38;5;124mclaim_sev\u001b[39m\u001b[38;5;124m'\u001b[39m: np\u001b[38;5;241m.\u001b[39mrandom\u001b[38;5;241m.\u001b[39mbeta(\u001b[38;5;241m2\u001b[39m, \u001b[38;5;241m5\u001b[39m, size\u001b[38;5;241m=\u001b[39m\u001b[38;5;28mlen\u001b[39m(claim_indices))\n\u001b[0;32m     79\u001b[0m })\n\u001b[0;32m     82\u001b[0m cov \u001b[38;5;241m=\u001b[39m dt_policy\u001b[38;5;241m.\u001b[39mindex[dt_policy[\u001b[38;5;124m'\u001b[39m\u001b[38;5;124mCover\u001b[39m\u001b[38;5;124m'\u001b[39m] \u001b[38;5;241m!=\u001b[39m \u001b[38;5;124m'\u001b[39m\u001b[38;5;124mB\u001b[39m\u001b[38;5;124m'\u001b[39m]\n\u001b[0;32m     83\u001b[0m claim_indices \u001b[38;5;241m=\u001b[39m np\u001b[38;5;241m.\u001b[39mrandom\u001b[38;5;241m.\u001b[39mchoice(cov, size\u001b[38;5;241m=\u001b[39m\u001b[38;5;28mint\u001b[39m(\u001b[38;5;241m0.05\u001b[39m \u001b[38;5;241m*\u001b[39m \u001b[38;5;28mlen\u001b[39m(cov)), replace\u001b[38;5;241m=\u001b[39m\u001b[38;5;28;01mFalse\u001b[39;00m)\n",
      "File \u001b[1;32mD:\\Anaconda_Installed\\Lib\\site-packages\\pandas\\core\\frame.py:778\u001b[0m, in \u001b[0;36mDataFrame.__init__\u001b[1;34m(self, data, index, columns, dtype, copy)\u001b[0m\n\u001b[0;32m    772\u001b[0m     mgr \u001b[38;5;241m=\u001b[39m \u001b[38;5;28mself\u001b[39m\u001b[38;5;241m.\u001b[39m_init_mgr(\n\u001b[0;32m    773\u001b[0m         data, axes\u001b[38;5;241m=\u001b[39m{\u001b[38;5;124m\"\u001b[39m\u001b[38;5;124mindex\u001b[39m\u001b[38;5;124m\"\u001b[39m: index, \u001b[38;5;124m\"\u001b[39m\u001b[38;5;124mcolumns\u001b[39m\u001b[38;5;124m\"\u001b[39m: columns}, dtype\u001b[38;5;241m=\u001b[39mdtype, copy\u001b[38;5;241m=\u001b[39mcopy\n\u001b[0;32m    774\u001b[0m     )\n\u001b[0;32m    776\u001b[0m \u001b[38;5;28;01melif\u001b[39;00m \u001b[38;5;28misinstance\u001b[39m(data, \u001b[38;5;28mdict\u001b[39m):\n\u001b[0;32m    777\u001b[0m     \u001b[38;5;66;03m# GH#38939 de facto copy defaults to False only in non-dict cases\u001b[39;00m\n\u001b[1;32m--> 778\u001b[0m     mgr \u001b[38;5;241m=\u001b[39m dict_to_mgr(data, index, columns, dtype\u001b[38;5;241m=\u001b[39mdtype, copy\u001b[38;5;241m=\u001b[39mcopy, typ\u001b[38;5;241m=\u001b[39mmanager)\n\u001b[0;32m    779\u001b[0m \u001b[38;5;28;01melif\u001b[39;00m \u001b[38;5;28misinstance\u001b[39m(data, ma\u001b[38;5;241m.\u001b[39mMaskedArray):\n\u001b[0;32m    780\u001b[0m     \u001b[38;5;28;01mfrom\u001b[39;00m \u001b[38;5;21;01mnumpy\u001b[39;00m\u001b[38;5;21;01m.\u001b[39;00m\u001b[38;5;21;01mma\u001b[39;00m \u001b[38;5;28;01mimport\u001b[39;00m mrecords\n",
      "File \u001b[1;32mD:\\Anaconda_Installed\\Lib\\site-packages\\pandas\\core\\internals\\construction.py:503\u001b[0m, in \u001b[0;36mdict_to_mgr\u001b[1;34m(data, index, columns, dtype, typ, copy)\u001b[0m\n\u001b[0;32m    499\u001b[0m     \u001b[38;5;28;01melse\u001b[39;00m:\n\u001b[0;32m    500\u001b[0m         \u001b[38;5;66;03m# dtype check to exclude e.g. range objects, scalars\u001b[39;00m\n\u001b[0;32m    501\u001b[0m         arrays \u001b[38;5;241m=\u001b[39m [x\u001b[38;5;241m.\u001b[39mcopy() \u001b[38;5;28;01mif\u001b[39;00m \u001b[38;5;28mhasattr\u001b[39m(x, \u001b[38;5;124m\"\u001b[39m\u001b[38;5;124mdtype\u001b[39m\u001b[38;5;124m\"\u001b[39m) \u001b[38;5;28;01melse\u001b[39;00m x \u001b[38;5;28;01mfor\u001b[39;00m x \u001b[38;5;129;01min\u001b[39;00m arrays]\n\u001b[1;32m--> 503\u001b[0m \u001b[38;5;28;01mreturn\u001b[39;00m arrays_to_mgr(arrays, columns, index, dtype\u001b[38;5;241m=\u001b[39mdtype, typ\u001b[38;5;241m=\u001b[39mtyp, consolidate\u001b[38;5;241m=\u001b[39mcopy)\n",
      "File \u001b[1;32mD:\\Anaconda_Installed\\Lib\\site-packages\\pandas\\core\\internals\\construction.py:114\u001b[0m, in \u001b[0;36marrays_to_mgr\u001b[1;34m(arrays, columns, index, dtype, verify_integrity, typ, consolidate)\u001b[0m\n\u001b[0;32m    111\u001b[0m \u001b[38;5;28;01mif\u001b[39;00m verify_integrity:\n\u001b[0;32m    112\u001b[0m     \u001b[38;5;66;03m# figure out the index, if necessary\u001b[39;00m\n\u001b[0;32m    113\u001b[0m     \u001b[38;5;28;01mif\u001b[39;00m index \u001b[38;5;129;01mis\u001b[39;00m \u001b[38;5;28;01mNone\u001b[39;00m:\n\u001b[1;32m--> 114\u001b[0m         index \u001b[38;5;241m=\u001b[39m _extract_index(arrays)\n\u001b[0;32m    115\u001b[0m     \u001b[38;5;28;01melse\u001b[39;00m:\n\u001b[0;32m    116\u001b[0m         index \u001b[38;5;241m=\u001b[39m ensure_index(index)\n",
      "File \u001b[1;32mD:\\Anaconda_Installed\\Lib\\site-packages\\pandas\\core\\internals\\construction.py:677\u001b[0m, in \u001b[0;36m_extract_index\u001b[1;34m(data)\u001b[0m\n\u001b[0;32m    675\u001b[0m lengths \u001b[38;5;241m=\u001b[39m \u001b[38;5;28mlist\u001b[39m(\u001b[38;5;28mset\u001b[39m(raw_lengths))\n\u001b[0;32m    676\u001b[0m \u001b[38;5;28;01mif\u001b[39;00m \u001b[38;5;28mlen\u001b[39m(lengths) \u001b[38;5;241m>\u001b[39m \u001b[38;5;241m1\u001b[39m:\n\u001b[1;32m--> 677\u001b[0m     \u001b[38;5;28;01mraise\u001b[39;00m \u001b[38;5;167;01mValueError\u001b[39;00m(\u001b[38;5;124m\"\u001b[39m\u001b[38;5;124mAll arrays must be of the same length\u001b[39m\u001b[38;5;124m\"\u001b[39m)\n\u001b[0;32m    679\u001b[0m \u001b[38;5;28;01mif\u001b[39;00m have_dicts:\n\u001b[0;32m    680\u001b[0m     \u001b[38;5;28;01mraise\u001b[39;00m \u001b[38;5;167;01mValueError\u001b[39;00m(\n\u001b[0;32m    681\u001b[0m         \u001b[38;5;124m\"\u001b[39m\u001b[38;5;124mMixing dicts with non-Series may lead to ambiguous ordering.\u001b[39m\u001b[38;5;124m\"\u001b[39m\n\u001b[0;32m    682\u001b[0m     )\n",
      "\u001b[1;31mValueError\u001b[0m: All arrays must be of the same length"
     ]
    }
   ],
   "source": [
    "import numpy as np\n",
    "import pandas as pd\n",
    "from datetime import datetime, timedelta\n",
    "from dateutil.relativedelta import relativedelta\n",
    "from Baudry_functions_v2 import *\n",
    "\n",
    "# Assuming you have these functions already converted from R:\n",
    "# simulate_central_scenario, join_policy_claim, time_slice_polclaim, RBNS_Train, RBNS_Test\n",
    "# Also assuming lst_Date_slice is a list/array of datetime objects\n",
    "\n",
    "# Simulate central scenario data\n",
    "dt_PhoneData = simulate_central_scenario(1234)\n",
    "\n",
    "# Join policy and claim data\n",
    "dt_polclaim = join_policy_claim(dt_PhoneData,\n",
    "                               date_pol_start=\"date_UW\",\n",
    "                               date_pol_end=\"date_lapse\",\n",
    "                               date_occur=\"date_occur\")\n",
    "\n",
    "# Create list of date slices (every ~30 days from 2016-01-01 to 2019-06-30)\n",
    "lst_Date_slice = pd.date_range(start=\"2016-01-01\", end=\"2019-06-30\", freq='30D').to_pydatetime().tolist()\n",
    "\n",
    "# Apply time slicing to policy-claim data\n",
    "dt_polclaim = time_slice_polclaim(dt_polclaim, lst_Date_slice)\n",
    "\n",
    "# Set valuation index and date\n",
    "i = valuation = 10\n",
    "t_i = lst_Date_slice[i-1]  # Python indexing starts at 0\n",
    "delta = min(i, len(lst_Date_slice) - i + 1)\n",
    "\n",
    "# Define model variables\n",
    "RBNS_model_vars = [\n",
    "    \"clm_number\",\n",
    "    \"pol_number\",\n",
    "    \"j\",\n",
    "    \"k\",\n",
    "    \"date_pol_start\",\n",
    "    \"date_occur\",\n",
    "    \"date_report\",\n",
    "    \"date_pay\",\n",
    "    \"Cover\",\n",
    "    \"claim_type\",\n",
    "    \"Brand\",\n",
    "    \"Model\",\n",
    "    \"Price\",\n",
    "    \"target\"\n",
    "]\n",
    "\n",
    "# Create combined TRAIN dataset for k=1 and all valid j delay values\n",
    "dt_RBNS_train = RBNS_Train(dt_polclaim, t_i, i, k=1, reserving_dates=lst_Date_slice, model_vars=RBNS_model_vars)\n",
    "\n",
    "# Create combined TEST dataset for k=1 and all valid j delay values\n",
    "dt_RBNS_test = RBNS_Test(dt_polclaim, t_i, delta, k=1, reserving_dates=lst_Date_slice, model_vars=RBNS_model_vars)\n",
    "\n",
    "# Add flag columns to indicate train or test set\n",
    "dt_RBNS_train['flgTrain'] = 1\n",
    "dt_RBNS_test['flgTrain'] = 0\n",
    "\n",
    "# Combine train and test dataframes\n",
    "dt_All_RBNS = pd.concat([dt_RBNS_train, dt_RBNS_test], ignore_index=True)\n",
    "\n",
    "# Optionally save to CSV\n",
    "# dt_All_RBNS.to_csv(\"dt_All_RBNS.csv\", index=False)\n"
   ]
  },
  {
   "cell_type": "code",
   "execution_count": null,
   "id": "4f74987e-0e8c-4354-bae1-368b2765ff00",
   "metadata": {},
   "outputs": [],
   "source": []
  },
  {
   "cell_type": "code",
   "execution_count": null,
   "id": "c1c48d63-a267-4def-a5e4-d69ac85e20ef",
   "metadata": {},
   "outputs": [],
   "source": []
  },
  {
   "cell_type": "code",
   "execution_count": null,
   "id": "46a5acff-615d-419c-8de8-ec5928a597ba",
   "metadata": {},
   "outputs": [],
   "source": []
  },
  {
   "cell_type": "code",
   "execution_count": null,
   "id": "bca399b6-2fcf-4160-9eb3-3bca03c97814",
   "metadata": {},
   "outputs": [],
   "source": []
  },
  {
   "cell_type": "code",
   "execution_count": null,
   "id": "b8920d00-a825-433f-a408-7f87ac98a736",
   "metadata": {},
   "outputs": [],
   "source": []
  },
  {
   "cell_type": "code",
   "execution_count": null,
   "id": "b6d26fd9-6db3-453a-a014-2413d6971fab",
   "metadata": {},
   "outputs": [],
   "source": []
  }
 ],
 "metadata": {
  "kernelspec": {
   "display_name": "Python 3 (ipykernel)",
   "language": "python",
   "name": "python3"
  },
  "language_info": {
   "codemirror_mode": {
    "name": "ipython",
    "version": 3
   },
   "file_extension": ".py",
   "mimetype": "text/x-python",
   "name": "python",
   "nbconvert_exporter": "python",
   "pygments_lexer": "ipython3",
   "version": "3.12.7"
  }
 },
 "nbformat": 4,
 "nbformat_minor": 5
}
