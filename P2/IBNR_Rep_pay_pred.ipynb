{
 "cells": [
  {
   "cell_type": "code",
   "execution_count": 5,
   "id": "b82ddaf8-3cb3-4051-be4f-70b8c0a97f49",
   "metadata": {},
   "outputs": [],
   "source": [
    "library(knitr)\n",
    "library(rmdformats)\n",
    "library(data.table)\n",
    "library(magrittr)\n",
    "library(lubridate)\n",
    "library(ggplot2)\n",
    "library(cowplot)\n",
    "library(repr)\n",
    "library(kableExtra)\n",
    "library(IRdisplay)\n",
    "library(formattable)\n",
    "\n",
    "library(xgboost)\n",
    "library(tidymodels)"
   ]
  },
  {
   "cell_type": "code",
   "execution_count": 6,
   "id": "6a685914-2b51-4771-a11a-1946ec6b35db",
   "metadata": {},
   "outputs": [],
   "source": [
    "simulate_central_scenario <- function(seed = 1234){\n",
    "  \n",
    "  #seed = 1234  \n",
    "  set.seed(seed)\n",
    "  \n",
    "  # Policy data\n",
    "  #~~~~~~~~~~~~~~~~~\n",
    "  \n",
    "  # polices sold between start 2016 to end 2017\n",
    "  dt_policydates <- data.table(date_UW = seq(as.Date(\"2016/1/1\"), as.Date(\"2017/12/31\"), \"day\"))\n",
    "  \n",
    "  # number of policies per day follows Poisson process with mean 700 (approx 255,500 pols per annum)\n",
    "  dt_policydates[, ':='(policycount = rpois(.N,700),\n",
    "                        date_lapse = date_UW %m+% years(1),\n",
    "                        expodays = as.integer(date_UW %m+% years(1) - date_UW),\n",
    "                        pol_prefix = year(date_UW)*10000 + month(date_UW)*100 + mday(date_UW))]\n",
    "  \n",
    "  \n",
    "  # Add columns defining Policy Covers   \n",
    "  dt_policydates[, Cover_B := round(policycount * 0.25)]\n",
    "  dt_policydates[, Cover_BO := round(policycount * 0.45)]\n",
    "  dt_policydates[, Cover_BOT := policycount - Cover_B - Cover_BO]\n",
    "  \n",
    "  \n",
    "  # repeat rows for each policy by UW-Date\n",
    "  dt_policy <- dt_policydates[rep(1:.N, policycount),c(\"date_UW\", \"pol_prefix\"), with = FALSE][,pol_seq:=1:.N, by=pol_prefix]\n",
    "  \n",
    "  # Create a unique policy number \n",
    "  dt_policy[, pol_number := as.character(pol_prefix * 10000 + pol_seq)]\n",
    "  \n",
    "  # set join keys\n",
    "  setkey(dt_policy,'date_UW')\n",
    "  setkey(dt_policydates,'date_UW')  \n",
    "  \n",
    "  # remove pol_prefix before join\n",
    "  dt_policydates[, pol_prefix := NULL]  \n",
    "  \n",
    "  # join cover from summary file (dt_policydates)\n",
    "  dt_policy <- dt_policy[dt_policydates]  \n",
    "  \n",
    "  # now create Cover field for each policy row\n",
    "  dt_policy[,Cover := 'BO']\n",
    "  dt_policy[pol_seq <= policycount- Cover_BO,Cover := 'BOT']\n",
    "  dt_policy[pol_seq <= Cover_B,Cover := 'B']  \n",
    "  \n",
    "  # remove interim calculation fields\n",
    "  dt_policy[, ':='(pol_prefix = NULL,\n",
    "                   policycount = NULL,\n",
    "                   pol_seq = NULL,\n",
    "                   Cover_B = NULL,\n",
    "                   Cover_BOT = NULL,\n",
    "                   Cover_BO = NULL)]\n",
    "  \n",
    "  # Add remaining policy details\n",
    "  dt_policy[, Brand := rep(rep(c(1,2,3,4), c(9,6,3,2)), length.out = .N)]\n",
    "  dt_policy[, Base_Price := rep(rep(c(600,550,300,150), c(9,6,3,2)), length.out = .N)]\n",
    "  \n",
    "  # models types and model cost multipliers\n",
    "  for (eachBrand in unique(dt_policy$Brand)) {\n",
    "    dt_policy[Brand == eachBrand, Model := rep(rep(c(3,2,1,0), c(10, 7, 2, 1)), length.out = .N)]\n",
    "    dt_policy[Brand == eachBrand, Model_mult := rep(rep(c(1.15^3, 1.15^2, 1.15^1, 1.15^0), c(10, 7, 2, 1)), length.out = .N)]\n",
    "  }\n",
    "  \n",
    "  dt_policy[, Price := ceiling (Base_Price * Model_mult)]\n",
    "  \n",
    "  \n",
    "  # colums to keep\n",
    "  cols_policy <- c(\"pol_number\",\n",
    "                   \"date_UW\",\n",
    "                   \"date_lapse\",\n",
    "                   \"Cover\",\n",
    "                   \"Brand\",\n",
    "                   \"Model\",\n",
    "                   \"Price\")\n",
    "  \n",
    "  dt_policy <- dt_policy[, cols_policy, with = FALSE]\n",
    "  \n",
    "  # check output\n",
    "  head(dt_policy)\n",
    "  \n",
    "  #save(dt_policy, file = \"./dt_policy.rda\")\n",
    "  \n",
    "  \n",
    "  # Claims data\n",
    "  #~~~~~~~~~~~~~~~~~\n",
    "  \n",
    " # All policies have breakage cover\n",
    "  # claims uniformly sampled from policies\n",
    "  claim <- sample(nrow(dt_policy), size = floor(nrow(dt_policy) * 0.15))\n",
    "  \n",
    "  # Claim serverity multiplier sampled from beta distn\n",
    "  dt_claim <- data.table(pol_number = dt_policy[claim, pol_number],\n",
    "                         claim_type = 'B',\n",
    "                         claim_count = 1,\n",
    "                         claim_sev = rbeta(length(claim), 2,5))\n",
    "  \n",
    "  # identify all policies with Oxidation cover\n",
    "  cov <- which(dt_policy$Cover != 'B')\n",
    "  \n",
    "  # sample claims from policies with cover\n",
    "  claim <- sample(cov, size = floor(length(cov) * 0.05))\n",
    "  \n",
    "  # add claims to table \n",
    "  dt_claim <- rbind(dt_claim,\n",
    "                    data.table(pol_number = dt_policy[claim, pol_number],\n",
    "                               claim_type = 'O',\n",
    "                               claim_count = 1,\n",
    "                               claim_sev = rbeta(length(claim), 5,3)))\n",
    "  \n",
    "  \n",
    "  # identify all policies with Theft cover\n",
    "  # for Theft claim frequency varies by Brand\n",
    "  # So need to consider each in turn...\n",
    "  \n",
    "  for(myModel in 0:3) {\n",
    "    \n",
    "    cov <- which(dt_policy$Cover == 'BOT' & dt_policy$Model == myModel)\n",
    "    claim <- sample(cov, size = floor(length(cov) * 0.05*(1 + myModel)))\n",
    "    \n",
    "    dt_claim <- rbind(dt_claim,\n",
    "                      data.table(pol_number = dt_policy[claim, pol_number],\n",
    "                                 claim_type = 'T',\n",
    "                                 claim_count = 1,\n",
    "                                 claim_sev = rbeta(length(claim), 5,.5)))\n",
    "  }\n",
    "  \n",
    "  # set join keys\n",
    "  setkey(dt_policy, pol_number)\n",
    "  setkey(dt_claim, pol_number)\n",
    "  \n",
    "  #join Brand and Price from policy to claim\n",
    "  dt_claim[dt_policy,\n",
    "           on = 'pol_number',\n",
    "           ':='(date_UW = i.date_UW,\n",
    "                Price = i.Price,\n",
    "                Brand = i.Brand)]\n",
    "  \n",
    "  # use lubridate %m+% date addition operator \n",
    "  dt_claim[, date_lapse := date_UW %m+% years(1)]\n",
    "  dt_claim[, expodays := as.integer(date_lapse - date_UW)]\n",
    "  dt_claim[, occ_delay_days := floor(expodays * runif(.N, 0,1))]\n",
    "  \n",
    "  dt_claim[ ,delay_report := floor(365 * rbeta(.N, .4, 10))]  \n",
    "  dt_claim[ ,delay_pay := floor(10 + 40* rbeta(.N, 7,7))]  \n",
    "  \n",
    "  dt_claim[, date_occur := date_UW %m+% days(occ_delay_days)]\n",
    "  dt_claim[, date_report := date_occur %m+% days(delay_report)]\n",
    "  dt_claim[, date_pay := date_report %m+% days(delay_pay)]\n",
    "  \n",
    "  dt_claim[, claim_cost := round(Price * claim_sev)]\n",
    "  \n",
    "  dt_claim[, clm_prefix := year(date_report)*10000 + month(date_report)*100 + mday(date_report)]\n",
    "  \n",
    "  dt_claim[, clm_seq := seq_len(.N), by = clm_prefix]\n",
    "  dt_claim[, clm_number := as.character(clm_prefix * 10000 + clm_seq)]\n",
    "  \n",
    "  # colums to keep\n",
    "  cols_claim <- c(\"clm_number\",\n",
    "                  \"pol_number\",\n",
    "                  \"claim_type\",\n",
    "                  \"claim_count\",\n",
    "                  \"claim_sev\",\n",
    "                  \"date_occur\",\n",
    "                  \"date_report\",\n",
    "                  \"date_pay\",\n",
    "                  \"claim_cost\")\n",
    "  \n",
    "  dt_claim <- dt_claim[, cols_claim, with = FALSE]\n",
    "  \n",
    " output <- list()\n",
    " output$dt_policy <- dt_policy\n",
    " output$dt_claim <- dt_claim\n",
    "\n",
    " return(output)\n",
    "\n",
    "  \n",
    "  \n",
    "}"
   ]
  },
  {
   "cell_type": "code",
   "execution_count": 7,
   "id": "3c702114-ebbe-4059-91e9-842267b8470c",
   "metadata": {},
   "outputs": [],
   "source": [
    "dt_PhoneData <- simulate_central_scenario(1234)"
   ]
  },
  {
   "cell_type": "code",
   "execution_count": 8,
   "id": "ab02e670-9254-4ea0-be7c-7ff1b9cb42dd",
   "metadata": {},
   "outputs": [],
   "source": [
    "dt_policy <- dt_PhoneData$dt_policy"
   ]
  },
  {
   "cell_type": "code",
   "execution_count": 9,
   "id": "2f4a78b5-5e6b-49b6-bbc7-44f1f0b33000",
   "metadata": {},
   "outputs": [
    {
     "data": {
      "text/html": [
       "<table class=\"dataframe\">\n",
       "<caption>A data.table: 6 × 7</caption>\n",
       "<thead>\n",
       "\t<tr><th scope=col>pol_number</th><th scope=col>date_UW</th><th scope=col>date_lapse</th><th scope=col>Cover</th><th scope=col>Brand</th><th scope=col>Model</th><th scope=col>Price</th></tr>\n",
       "\t<tr><th scope=col>&lt;chr&gt;</th><th scope=col>&lt;date&gt;</th><th scope=col>&lt;date&gt;</th><th scope=col>&lt;chr&gt;</th><th scope=col>&lt;dbl&gt;</th><th scope=col>&lt;dbl&gt;</th><th scope=col>&lt;dbl&gt;</th></tr>\n",
       "</thead>\n",
       "<tbody>\n",
       "\t<tr><td>201601010001</td><td>2016-01-01</td><td>2017-01-01</td><td>B</td><td>1</td><td>3</td><td>913</td></tr>\n",
       "\t<tr><td>201601010002</td><td>2016-01-01</td><td>2017-01-01</td><td>B</td><td>1</td><td>3</td><td>913</td></tr>\n",
       "\t<tr><td>201601010003</td><td>2016-01-01</td><td>2017-01-01</td><td>B</td><td>1</td><td>3</td><td>913</td></tr>\n",
       "\t<tr><td>201601010004</td><td>2016-01-01</td><td>2017-01-01</td><td>B</td><td>1</td><td>3</td><td>913</td></tr>\n",
       "\t<tr><td>201601010005</td><td>2016-01-01</td><td>2017-01-01</td><td>B</td><td>1</td><td>3</td><td>913</td></tr>\n",
       "\t<tr><td>201601010006</td><td>2016-01-01</td><td>2017-01-01</td><td>B</td><td>1</td><td>3</td><td>913</td></tr>\n",
       "</tbody>\n",
       "</table>\n"
      ],
      "text/latex": [
       "A data.table: 6 × 7\n",
       "\\begin{tabular}{lllllll}\n",
       " pol\\_number & date\\_UW & date\\_lapse & Cover & Brand & Model & Price\\\\\n",
       " <chr> & <date> & <date> & <chr> & <dbl> & <dbl> & <dbl>\\\\\n",
       "\\hline\n",
       "\t 201601010001 & 2016-01-01 & 2017-01-01 & B & 1 & 3 & 913\\\\\n",
       "\t 201601010002 & 2016-01-01 & 2017-01-01 & B & 1 & 3 & 913\\\\\n",
       "\t 201601010003 & 2016-01-01 & 2017-01-01 & B & 1 & 3 & 913\\\\\n",
       "\t 201601010004 & 2016-01-01 & 2017-01-01 & B & 1 & 3 & 913\\\\\n",
       "\t 201601010005 & 2016-01-01 & 2017-01-01 & B & 1 & 3 & 913\\\\\n",
       "\t 201601010006 & 2016-01-01 & 2017-01-01 & B & 1 & 3 & 913\\\\\n",
       "\\end{tabular}\n"
      ],
      "text/markdown": [
       "\n",
       "A data.table: 6 × 7\n",
       "\n",
       "| pol_number &lt;chr&gt; | date_UW &lt;date&gt; | date_lapse &lt;date&gt; | Cover &lt;chr&gt; | Brand &lt;dbl&gt; | Model &lt;dbl&gt; | Price &lt;dbl&gt; |\n",
       "|---|---|---|---|---|---|---|\n",
       "| 201601010001 | 2016-01-01 | 2017-01-01 | B | 1 | 3 | 913 |\n",
       "| 201601010002 | 2016-01-01 | 2017-01-01 | B | 1 | 3 | 913 |\n",
       "| 201601010003 | 2016-01-01 | 2017-01-01 | B | 1 | 3 | 913 |\n",
       "| 201601010004 | 2016-01-01 | 2017-01-01 | B | 1 | 3 | 913 |\n",
       "| 201601010005 | 2016-01-01 | 2017-01-01 | B | 1 | 3 | 913 |\n",
       "| 201601010006 | 2016-01-01 | 2017-01-01 | B | 1 | 3 | 913 |\n",
       "\n"
      ],
      "text/plain": [
       "  pol_number   date_UW    date_lapse Cover Brand Model Price\n",
       "1 201601010001 2016-01-01 2017-01-01 B     1     3     913  \n",
       "2 201601010002 2016-01-01 2017-01-01 B     1     3     913  \n",
       "3 201601010003 2016-01-01 2017-01-01 B     1     3     913  \n",
       "4 201601010004 2016-01-01 2017-01-01 B     1     3     913  \n",
       "5 201601010005 2016-01-01 2017-01-01 B     1     3     913  \n",
       "6 201601010006 2016-01-01 2017-01-01 B     1     3     913  "
      ]
     },
     "metadata": {},
     "output_type": "display_data"
    }
   ],
   "source": [
    "head(dt_policy)"
   ]
  },
  {
   "cell_type": "code",
   "execution_count": 10,
   "id": "5f438c0a-ea19-4e18-9eb3-42a4769bd3a3",
   "metadata": {},
   "outputs": [
    {
     "data": {
      "text/html": [
       "<div style=\"border: 1px solid #ddd; padding: 5px; overflow-x: scroll; width:100%; \"><table class=\"table table-striped table-hover table-condensed\" style=\"margin-left: auto; margin-right: auto;\">\n",
       " <thead>\n",
       "  <tr>\n",
       "   <th style=\"text-align:left;\"> clm_number </th>\n",
       "   <th style=\"text-align:left;\"> pol_number </th>\n",
       "   <th style=\"text-align:left;\"> claim_type </th>\n",
       "   <th style=\"text-align:right;\"> claim_count </th>\n",
       "   <th style=\"text-align:right;\"> claim_sev </th>\n",
       "   <th style=\"text-align:left;\"> date_occur </th>\n",
       "   <th style=\"text-align:left;\"> date_report </th>\n",
       "   <th style=\"text-align:left;\"> date_pay </th>\n",
       "   <th style=\"text-align:right;\"> claim_cost </th>\n",
       "  </tr>\n",
       " </thead>\n",
       "<tbody>\n",
       "  <tr>\n",
       "   <td style=\"text-align:left;\"> 201606080001 </td>\n",
       "   <td style=\"text-align:left;\"> 201601010001 </td>\n",
       "   <td style=\"text-align:left;\"> B </td>\n",
       "   <td style=\"text-align:right;\"> 1 </td>\n",
       "   <td style=\"text-align:right;\"> 0.3337923 </td>\n",
       "   <td style=\"text-align:left;\"> 2016-06-08 </td>\n",
       "   <td style=\"text-align:left;\"> 2016-06-08 </td>\n",
       "   <td style=\"text-align:left;\"> 2016-07-21 </td>\n",
       "   <td style=\"text-align:right;\"> 305 </td>\n",
       "  </tr>\n",
       "  <tr>\n",
       "   <td style=\"text-align:left;\"> 201609150001 </td>\n",
       "   <td style=\"text-align:left;\"> 201601010014 </td>\n",
       "   <td style=\"text-align:left;\"> B </td>\n",
       "   <td style=\"text-align:right;\"> 1 </td>\n",
       "   <td style=\"text-align:right;\"> 0.3692034 </td>\n",
       "   <td style=\"text-align:left;\"> 2016-09-15 </td>\n",
       "   <td style=\"text-align:left;\"> 2016-09-15 </td>\n",
       "   <td style=\"text-align:left;\"> 2016-10-17 </td>\n",
       "   <td style=\"text-align:right;\"> 309 </td>\n",
       "  </tr>\n",
       "  <tr>\n",
       "   <td style=\"text-align:left;\"> 201609090001 </td>\n",
       "   <td style=\"text-align:left;\"> 201601010025 </td>\n",
       "   <td style=\"text-align:left;\"> B </td>\n",
       "   <td style=\"text-align:right;\"> 1 </td>\n",
       "   <td style=\"text-align:right;\"> 0.4496012 </td>\n",
       "   <td style=\"text-align:left;\"> 2016-09-09 </td>\n",
       "   <td style=\"text-align:left;\"> 2016-09-09 </td>\n",
       "   <td style=\"text-align:left;\"> 2016-10-07 </td>\n",
       "   <td style=\"text-align:right;\"> 357 </td>\n",
       "  </tr>\n",
       "  <tr>\n",
       "   <td style=\"text-align:left;\"> 201602190001 </td>\n",
       "   <td style=\"text-align:left;\"> 201601010027 </td>\n",
       "   <td style=\"text-align:left;\"> B </td>\n",
       "   <td style=\"text-align:right;\"> 1 </td>\n",
       "   <td style=\"text-align:right;\"> 0.4019731 </td>\n",
       "   <td style=\"text-align:left;\"> 2016-01-25 </td>\n",
       "   <td style=\"text-align:left;\"> 2016-02-19 </td>\n",
       "   <td style=\"text-align:left;\"> 2016-03-21 </td>\n",
       "   <td style=\"text-align:right;\"> 319 </td>\n",
       "  </tr>\n",
       "  <tr>\n",
       "   <td style=\"text-align:left;\"> 201605140001 </td>\n",
       "   <td style=\"text-align:left;\"> 201601010043 </td>\n",
       "   <td style=\"text-align:left;\"> B </td>\n",
       "   <td style=\"text-align:right;\"> 1 </td>\n",
       "   <td style=\"text-align:right;\"> 0.2146653 </td>\n",
       "   <td style=\"text-align:left;\"> 2016-05-14 </td>\n",
       "   <td style=\"text-align:left;\"> 2016-05-14 </td>\n",
       "   <td style=\"text-align:left;\"> 2016-06-15 </td>\n",
       "   <td style=\"text-align:right;\"> 196 </td>\n",
       "  </tr>\n",
       "  <tr>\n",
       "   <td style=\"text-align:left;\"> 201612110001 </td>\n",
       "   <td style=\"text-align:left;\"> 201601010045 </td>\n",
       "   <td style=\"text-align:left;\"> B </td>\n",
       "   <td style=\"text-align:right;\"> 1 </td>\n",
       "   <td style=\"text-align:right;\"> 0.2783313 </td>\n",
       "   <td style=\"text-align:left;\"> 2016-12-11 </td>\n",
       "   <td style=\"text-align:left;\"> 2016-12-11 </td>\n",
       "   <td style=\"text-align:left;\"> 2017-01-06 </td>\n",
       "   <td style=\"text-align:right;\"> 254 </td>\n",
       "  </tr>\n",
       "</tbody>\n",
       "</table></div>"
      ]
     },
     "metadata": {},
     "output_type": "display_data"
    }
   ],
   "source": [
    "dt_claim <- dt_PhoneData$dt_claim\n",
    "\n",
    "kable(head(dt_claim), \"html\") %>% \n",
    "  kable_styling(c(\"striped\", \"hover\", \"condensed\")) %>% \n",
    "  scroll_box(width = \"100%\") %>%\n",
    "  as.character() %>%\n",
    "  display_html()"
   ]
  },
  {
   "cell_type": "code",
   "execution_count": 11,
   "id": "e51b459f-347e-4302-b8c5-047755f7d3d9",
   "metadata": {},
   "outputs": [
    {
     "data": {
      "text/html": [
       "<div style=\"border: 1px solid #ddd; padding: 5px; overflow-x: scroll; width:100%; \"><table class=\"table table-striped\" style=\"margin-left: auto; margin-right: auto;\">\n",
       " <thead>\n",
       "  <tr>\n",
       "   <th style=\"text-align:left;\"> clm_number </th>\n",
       "   <th style=\"text-align:left;\"> pol_number </th>\n",
       "   <th style=\"text-align:left;\"> claim_type </th>\n",
       "   <th style=\"text-align:right;\"> claim_count </th>\n",
       "   <th style=\"text-align:right;\"> claim_sev </th>\n",
       "   <th style=\"text-align:left;\"> date_occur </th>\n",
       "   <th style=\"text-align:left;\"> date_report </th>\n",
       "   <th style=\"text-align:left;\"> date_pay </th>\n",
       "   <th style=\"text-align:right;\"> claim_cost </th>\n",
       "  </tr>\n",
       " </thead>\n",
       "<tbody>\n",
       "  <tr>\n",
       "   <td style=\"text-align:left;\"> 201606080001 </td>\n",
       "   <td style=\"text-align:left;\"> 201601010001 </td>\n",
       "   <td style=\"text-align:left;\"> B </td>\n",
       "   <td style=\"text-align:right;\"> 1 </td>\n",
       "   <td style=\"text-align:right;\"> 0.3337923 </td>\n",
       "   <td style=\"text-align:left;\"> 2016-06-08 </td>\n",
       "   <td style=\"text-align:left;\"> 2016-06-08 </td>\n",
       "   <td style=\"text-align:left;\"> 2016-07-21 </td>\n",
       "   <td style=\"text-align:right;\"> 305 </td>\n",
       "  </tr>\n",
       "  <tr>\n",
       "   <td style=\"text-align:left;\"> 201609150001 </td>\n",
       "   <td style=\"text-align:left;\"> 201601010014 </td>\n",
       "   <td style=\"text-align:left;\"> B </td>\n",
       "   <td style=\"text-align:right;\"> 1 </td>\n",
       "   <td style=\"text-align:right;\"> 0.3692034 </td>\n",
       "   <td style=\"text-align:left;\"> 2016-09-15 </td>\n",
       "   <td style=\"text-align:left;\"> 2016-09-15 </td>\n",
       "   <td style=\"text-align:left;\"> 2016-10-17 </td>\n",
       "   <td style=\"text-align:right;\"> 309 </td>\n",
       "  </tr>\n",
       "  <tr>\n",
       "   <td style=\"text-align:left;\"> 201609090001 </td>\n",
       "   <td style=\"text-align:left;\"> 201601010025 </td>\n",
       "   <td style=\"text-align:left;\"> B </td>\n",
       "   <td style=\"text-align:right;\"> 1 </td>\n",
       "   <td style=\"text-align:right;\"> 0.4496012 </td>\n",
       "   <td style=\"text-align:left;\"> 2016-09-09 </td>\n",
       "   <td style=\"text-align:left;\"> 2016-09-09 </td>\n",
       "   <td style=\"text-align:left;\"> 2016-10-07 </td>\n",
       "   <td style=\"text-align:right;\"> 357 </td>\n",
       "  </tr>\n",
       "  <tr>\n",
       "   <td style=\"text-align:left;\"> 201601250001 </td>\n",
       "   <td style=\"text-align:left;\"> 201601010027 </td>\n",
       "   <td style=\"text-align:left;\"> B </td>\n",
       "   <td style=\"text-align:right;\"> 1 </td>\n",
       "   <td style=\"text-align:right;\"> 0.4019731 </td>\n",
       "   <td style=\"text-align:left;\"> 2016-01-25 </td>\n",
       "   <td style=\"text-align:left;\"> 2016-02-19 </td>\n",
       "   <td style=\"text-align:left;\"> 2016-03-21 </td>\n",
       "   <td style=\"text-align:right;\"> 319 </td>\n",
       "  </tr>\n",
       "  <tr>\n",
       "   <td style=\"text-align:left;\"> 201605140001 </td>\n",
       "   <td style=\"text-align:left;\"> 201601010043 </td>\n",
       "   <td style=\"text-align:left;\"> B </td>\n",
       "   <td style=\"text-align:right;\"> 1 </td>\n",
       "   <td style=\"text-align:right;\"> 0.2146653 </td>\n",
       "   <td style=\"text-align:left;\"> 2016-05-14 </td>\n",
       "   <td style=\"text-align:left;\"> 2016-05-14 </td>\n",
       "   <td style=\"text-align:left;\"> 2016-06-15 </td>\n",
       "   <td style=\"text-align:right;\"> 196 </td>\n",
       "  </tr>\n",
       "  <tr>\n",
       "   <td style=\"text-align:left;\"> 201612110001 </td>\n",
       "   <td style=\"text-align:left;\"> 201601010045 </td>\n",
       "   <td style=\"text-align:left;\"> B </td>\n",
       "   <td style=\"text-align:right;\"> 1 </td>\n",
       "   <td style=\"text-align:right;\"> 0.2783313 </td>\n",
       "   <td style=\"text-align:left;\"> 2016-12-11 </td>\n",
       "   <td style=\"text-align:left;\"> 2016-12-11 </td>\n",
       "   <td style=\"text-align:left;\"> 2017-01-06 </td>\n",
       "   <td style=\"text-align:right;\"> 254 </td>\n",
       "  </tr>\n",
       "</tbody>\n",
       "</table></div>"
      ]
     },
     "metadata": {},
     "output_type": "display_data"
    }
   ],
   "source": [
    "# add a unique claimkey based upon occurence date\n",
    "\n",
    "dt_claim[, clm_prefix := year(date_occur)*10000 + month(date_occur)*100 + mday(date_occur)]\n",
    "dt_claim[, clm_seq := seq_len(.N), by = clm_prefix]\n",
    "dt_claim[, clm_number := as.character(clm_prefix * 10000 + clm_seq)]\n",
    "\n",
    "\n",
    "# keep only first claim against policy (competing hazards)\n",
    "setkeyv(dt_claim, c(\"pol_number\", \"clm_prefix\"))\n",
    "dt_claim[, polclm_seq := seq_len(.N), by = .(pol_number)]\n",
    "dt_claim <- dt_claim[polclm_seq == 1,]\n",
    "\n",
    "# colums to keep\n",
    "cols_claim <- c(\"clm_number\",\n",
    "                \"pol_number\",\n",
    "                \"claim_type\",\n",
    "                \"claim_count\",\n",
    "                \"claim_sev\",\n",
    "                \"date_occur\",\n",
    "                \"date_report\",\n",
    "                \"date_pay\",\n",
    "                \"claim_cost\")\n",
    "\n",
    "dt_claim <- dt_claim[, cols_claim, with = FALSE]\n",
    "\n",
    "# check output\n",
    "kable(head(dt_claim), \"html\") %>%\n",
    "  kable_styling(\"striped\") %>%\n",
    "  scroll_box(width = \"100%\") %>%\n",
    "  as.character() %>%\n",
    "  display_html()"
   ]
  },
  {
   "cell_type": "code",
   "execution_count": 12,
   "id": "a9a6f8bb-5c57-480e-9cbe-4bf622567732",
   "metadata": {},
   "outputs": [],
   "source": [
    "setnames(dt_policy, c('date_UW', 'date_lapse'), c('date_pol_start', 'date_pol_end'))\n",
    "  \n",
    "# set policy start and end dates in foverlap friendly format\n",
    "dt_policy[, date_pol_start:= floor_date(date_pol_start, unit= \"second\")]\n",
    "dt_policy[, date_pol_end:= floor_date(date_pol_end, unit= \"second\") - 1]\n",
    "  \n",
    "# create a dummy end claim occurrence date for foverlap\n",
    "dt_claim[, date_occur:= floor_date(date_occur, unit= \"second\")]\n",
    "dt_claim[, date_occur_end:= date_occur]\n",
    "dt_claim[, date_report:= floor_date(date_report, unit= \"second\")]\n",
    "dt_claim[, date_pay:= floor_date(date_pay, unit= \"second\")]\n",
    "  \n",
    "# set keys for claim join (by policy and dates)\n",
    "setkey(dt_claim, pol_number, date_occur, date_occur_end)\n",
    "setkey(dt_policy, pol_number, date_pol_start, date_pol_end)\n",
    "  \n",
    "# use foverlaps to attach claim to right occurrence period and policy\n",
    "dt_polclaim <- foverlaps(dt_policy, dt_claim, type=\"any\") ## return overlap indices\n",
    "dt_polclaim[, date_occur_end := NULL]"
   ]
  },
  {
   "cell_type": "code",
   "execution_count": 13,
   "id": "3ab09c87-bc46-4fa8-b915-9e4a667da743",
   "metadata": {},
   "outputs": [
    {
     "data": {
      "text/html": [
       "<table class=\"dataframe\">\n",
       "<caption>A data.table: 6 × 15</caption>\n",
       "<thead>\n",
       "\t<tr><th scope=col>pol_number</th><th scope=col>clm_number</th><th scope=col>claim_type</th><th scope=col>claim_count</th><th scope=col>claim_sev</th><th scope=col>date_occur</th><th scope=col>date_report</th><th scope=col>date_pay</th><th scope=col>claim_cost</th><th scope=col>date_pol_start</th><th scope=col>date_pol_end</th><th scope=col>Cover</th><th scope=col>Brand</th><th scope=col>Model</th><th scope=col>Price</th></tr>\n",
       "\t<tr><th scope=col>&lt;chr&gt;</th><th scope=col>&lt;chr&gt;</th><th scope=col>&lt;chr&gt;</th><th scope=col>&lt;dbl&gt;</th><th scope=col>&lt;dbl&gt;</th><th scope=col>&lt;dttm&gt;</th><th scope=col>&lt;dttm&gt;</th><th scope=col>&lt;dttm&gt;</th><th scope=col>&lt;dbl&gt;</th><th scope=col>&lt;dttm&gt;</th><th scope=col>&lt;dttm&gt;</th><th scope=col>&lt;chr&gt;</th><th scope=col>&lt;dbl&gt;</th><th scope=col>&lt;dbl&gt;</th><th scope=col>&lt;dbl&gt;</th></tr>\n",
       "</thead>\n",
       "<tbody>\n",
       "\t<tr><td>201601010001</td><td>201606080001</td><td>B </td><td> 1</td><td>0.3337923</td><td>2016-06-08</td><td>2016-06-08</td><td>2016-07-21</td><td>305</td><td>2016-01-01</td><td>2016-12-31 23:59:59</td><td>B</td><td>1</td><td>3</td><td>913</td></tr>\n",
       "\t<tr><td>201601010002</td><td>NA          </td><td>NA</td><td>NA</td><td>       NA</td><td>NA</td><td>NA</td><td>NA</td><td> NA</td><td>2016-01-01</td><td>2016-12-31 23:59:59</td><td>B</td><td>1</td><td>3</td><td>913</td></tr>\n",
       "\t<tr><td>201601010003</td><td>NA          </td><td>NA</td><td>NA</td><td>       NA</td><td>NA</td><td>NA</td><td>NA</td><td> NA</td><td>2016-01-01</td><td>2016-12-31 23:59:59</td><td>B</td><td>1</td><td>3</td><td>913</td></tr>\n",
       "\t<tr><td>201601010004</td><td>NA          </td><td>NA</td><td>NA</td><td>       NA</td><td>NA</td><td>NA</td><td>NA</td><td> NA</td><td>2016-01-01</td><td>2016-12-31 23:59:59</td><td>B</td><td>1</td><td>3</td><td>913</td></tr>\n",
       "\t<tr><td>201601010005</td><td>NA          </td><td>NA</td><td>NA</td><td>       NA</td><td>NA</td><td>NA</td><td>NA</td><td> NA</td><td>2016-01-01</td><td>2016-12-31 23:59:59</td><td>B</td><td>1</td><td>3</td><td>913</td></tr>\n",
       "\t<tr><td>201601010006</td><td>NA          </td><td>NA</td><td>NA</td><td>       NA</td><td>NA</td><td>NA</td><td>NA</td><td> NA</td><td>2016-01-01</td><td>2016-12-31 23:59:59</td><td>B</td><td>1</td><td>3</td><td>913</td></tr>\n",
       "</tbody>\n",
       "</table>\n"
      ],
      "text/latex": [
       "A data.table: 6 × 15\n",
       "\\begin{tabular}{lllllllllllllll}\n",
       " pol\\_number & clm\\_number & claim\\_type & claim\\_count & claim\\_sev & date\\_occur & date\\_report & date\\_pay & claim\\_cost & date\\_pol\\_start & date\\_pol\\_end & Cover & Brand & Model & Price\\\\\n",
       " <chr> & <chr> & <chr> & <dbl> & <dbl> & <dttm> & <dttm> & <dttm> & <dbl> & <dttm> & <dttm> & <chr> & <dbl> & <dbl> & <dbl>\\\\\n",
       "\\hline\n",
       "\t 201601010001 & 201606080001 & B  &  1 & 0.3337923 & 2016-06-08 & 2016-06-08 & 2016-07-21 & 305 & 2016-01-01 & 2016-12-31 23:59:59 & B & 1 & 3 & 913\\\\\n",
       "\t 201601010002 & NA           & NA & NA &        NA & NA & NA & NA &  NA & 2016-01-01 & 2016-12-31 23:59:59 & B & 1 & 3 & 913\\\\\n",
       "\t 201601010003 & NA           & NA & NA &        NA & NA & NA & NA &  NA & 2016-01-01 & 2016-12-31 23:59:59 & B & 1 & 3 & 913\\\\\n",
       "\t 201601010004 & NA           & NA & NA &        NA & NA & NA & NA &  NA & 2016-01-01 & 2016-12-31 23:59:59 & B & 1 & 3 & 913\\\\\n",
       "\t 201601010005 & NA           & NA & NA &        NA & NA & NA & NA &  NA & 2016-01-01 & 2016-12-31 23:59:59 & B & 1 & 3 & 913\\\\\n",
       "\t 201601010006 & NA           & NA & NA &        NA & NA & NA & NA &  NA & 2016-01-01 & 2016-12-31 23:59:59 & B & 1 & 3 & 913\\\\\n",
       "\\end{tabular}\n"
      ],
      "text/markdown": [
       "\n",
       "A data.table: 6 × 15\n",
       "\n",
       "| pol_number &lt;chr&gt; | clm_number &lt;chr&gt; | claim_type &lt;chr&gt; | claim_count &lt;dbl&gt; | claim_sev &lt;dbl&gt; | date_occur &lt;dttm&gt; | date_report &lt;dttm&gt; | date_pay &lt;dttm&gt; | claim_cost &lt;dbl&gt; | date_pol_start &lt;dttm&gt; | date_pol_end &lt;dttm&gt; | Cover &lt;chr&gt; | Brand &lt;dbl&gt; | Model &lt;dbl&gt; | Price &lt;dbl&gt; |\n",
       "|---|---|---|---|---|---|---|---|---|---|---|---|---|---|---|\n",
       "| 201601010001 | 201606080001 | B  |  1 | 0.3337923 | 2016-06-08 | 2016-06-08 | 2016-07-21 | 305 | 2016-01-01 | 2016-12-31 23:59:59 | B | 1 | 3 | 913 |\n",
       "| 201601010002 | NA           | NA | NA |        NA | NA | NA | NA |  NA | 2016-01-01 | 2016-12-31 23:59:59 | B | 1 | 3 | 913 |\n",
       "| 201601010003 | NA           | NA | NA |        NA | NA | NA | NA |  NA | 2016-01-01 | 2016-12-31 23:59:59 | B | 1 | 3 | 913 |\n",
       "| 201601010004 | NA           | NA | NA |        NA | NA | NA | NA |  NA | 2016-01-01 | 2016-12-31 23:59:59 | B | 1 | 3 | 913 |\n",
       "| 201601010005 | NA           | NA | NA |        NA | NA | NA | NA |  NA | 2016-01-01 | 2016-12-31 23:59:59 | B | 1 | 3 | 913 |\n",
       "| 201601010006 | NA           | NA | NA |        NA | NA | NA | NA |  NA | 2016-01-01 | 2016-12-31 23:59:59 | B | 1 | 3 | 913 |\n",
       "\n"
      ],
      "text/plain": [
       "  pol_number   clm_number   claim_type claim_count claim_sev date_occur\n",
       "1 201601010001 201606080001 B           1          0.3337923 2016-06-08\n",
       "2 201601010002 NA           NA         NA                 NA <NA>      \n",
       "3 201601010003 NA           NA         NA                 NA <NA>      \n",
       "4 201601010004 NA           NA         NA                 NA <NA>      \n",
       "5 201601010005 NA           NA         NA                 NA <NA>      \n",
       "6 201601010006 NA           NA         NA                 NA <NA>      \n",
       "  date_report date_pay   claim_cost date_pol_start date_pol_end        Cover\n",
       "1 2016-06-08  2016-07-21 305        2016-01-01     2016-12-31 23:59:59 B    \n",
       "2 <NA>        <NA>        NA        2016-01-01     2016-12-31 23:59:59 B    \n",
       "3 <NA>        <NA>        NA        2016-01-01     2016-12-31 23:59:59 B    \n",
       "4 <NA>        <NA>        NA        2016-01-01     2016-12-31 23:59:59 B    \n",
       "5 <NA>        <NA>        NA        2016-01-01     2016-12-31 23:59:59 B    \n",
       "6 <NA>        <NA>        NA        2016-01-01     2016-12-31 23:59:59 B    \n",
       "  Brand Model Price\n",
       "1 1     3     913  \n",
       "2 1     3     913  \n",
       "3 1     3     913  \n",
       "4 1     3     913  \n",
       "5 1     3     913  \n",
       "6 1     3     913  "
      ]
     },
     "metadata": {},
     "output_type": "display_data"
    }
   ],
   "source": [
    "head(dt_polclaim)"
   ]
  },
  {
   "cell_type": "code",
   "execution_count": 14,
   "id": "a013beef-213d-44df-b73a-21e0053c292b",
   "metadata": {},
   "outputs": [
    {
     "data": {
      "text/plain": [
       "\n",
       "     1 \n",
       "512246 "
      ]
     },
     "metadata": {},
     "output_type": "display_data"
    }
   ],
   "source": [
    "setkey(dt_polclaim, pol_number, date_pol_start)\n",
    "  \n",
    "# create 2 new cols that count how many claims against each policy\n",
    "dt_polclaim[,\n",
    "            ':='(pol_seq = seq_len(.N),\n",
    "                 pol_seq_max = .N),\n",
    "            by = c('pol_number', 'date_pol_start') ]\n",
    "  \n",
    "table(dt_polclaim[, pol_seq_max])"
   ]
  },
  {
   "cell_type": "code",
   "execution_count": 15,
   "id": "3ea80eb7-4dec-4585-afdb-7ecda1a96716",
   "metadata": {},
   "outputs": [],
   "source": [
    "#set NA dates to 31/12/2999\n",
    "lst_datefields <- grep(names(dt_polclaim),pattern = \"date\", value = TRUE)\n",
    "  \n",
    "for (datefield in lst_datefields)\n",
    "  set(dt_polclaim,which(is.na(dt_polclaim[[datefield]])),datefield,as_datetime(\"2199-12-31 23:59:59 UTC\"))\n",
    " \n",
    "#set other NAs to zero (claim counts and costs)\n",
    "for (field in c(\"claim_count\", \"claim_sev\", \"claim_cost\"))\n",
    "  set(dt_polclaim,which(is.na(dt_polclaim[[field]])),field,0)\n"
   ]
  },
  {
   "cell_type": "code",
   "execution_count": 16,
   "id": "073de4e4-29b1-4c8b-80fe-b8d79fd880f1",
   "metadata": {},
   "outputs": [
    {
     "data": {
      "text/html": [
       "<table class=\"dataframe\">\n",
       "<caption>A matrix: 2 × 6 of type dbl</caption>\n",
       "<thead>\n",
       "\t<tr><th></th><th scope=col>used</th><th scope=col>(Mb)</th><th scope=col>gc trigger</th><th scope=col>(Mb)</th><th scope=col>max used</th><th scope=col>(Mb)</th></tr>\n",
       "</thead>\n",
       "<tbody>\n",
       "\t<tr><th scope=row>Ncells</th><td> 2929319</td><td>156.5</td><td> 6480111</td><td>346.1</td><td> 6394191</td><td>341.5</td></tr>\n",
       "\t<tr><th scope=row>Vcells</th><td>18991644</td><td>144.9</td><td>40956144</td><td>312.5</td><td>33966974</td><td>259.2</td></tr>\n",
       "</tbody>\n",
       "</table>\n"
      ],
      "text/latex": [
       "A matrix: 2 × 6 of type dbl\n",
       "\\begin{tabular}{r|llllll}\n",
       "  & used & (Mb) & gc trigger & (Mb) & max used & (Mb)\\\\\n",
       "\\hline\n",
       "\tNcells &  2929319 & 156.5 &  6480111 & 346.1 &  6394191 & 341.5\\\\\n",
       "\tVcells & 18991644 & 144.9 & 40956144 & 312.5 & 33966974 & 259.2\\\\\n",
       "\\end{tabular}\n"
      ],
      "text/markdown": [
       "\n",
       "A matrix: 2 × 6 of type dbl\n",
       "\n",
       "| <!--/--> | used | (Mb) | gc trigger | (Mb) | max used | (Mb) |\n",
       "|---|---|---|---|---|---|---|\n",
       "| Ncells |  2929319 | 156.5 |  6480111 | 346.1 |  6394191 | 341.5 |\n",
       "| Vcells | 18991644 | 144.9 | 40956144 | 312.5 | 33966974 | 259.2 |\n",
       "\n"
      ],
      "text/plain": [
       "       used     (Mb)  gc trigger (Mb)  max used (Mb) \n",
       "Ncells  2929319 156.5  6480111   346.1  6394191 341.5\n",
       "Vcells 18991644 144.9 40956144   312.5 33966974 259.2"
      ]
     },
     "metadata": {},
     "output_type": "display_data"
    }
   ],
   "source": [
    "\n",
    "#Clean up ----\n",
    "dt_polclaim[, ExpoDays:= ceiling((as.numeric(date_pol_end) - as.numeric(date_pol_start))/(24*60*60*365))]\n",
    "dt_polclaim <- dt_polclaim[ExpoDays > 0]\n",
    "  \n",
    "rm(dt_claim)\n",
    "rm(dt_policy)\n",
    "  \n",
    "gc()\n",
    "\n",
    "     "
   ]
  },
  {
   "cell_type": "code",
   "execution_count": 17,
   "id": "c6e3f402-9512-4f95-8f5d-d9caf25e8298",
   "metadata": {},
   "outputs": [
    {
     "data": {
      "text/html": [
       "<table class=\"dataframe\">\n",
       "<caption>A data.table: 6 × 18</caption>\n",
       "<thead>\n",
       "\t<tr><th scope=col>pol_number</th><th scope=col>clm_number</th><th scope=col>claim_type</th><th scope=col>claim_count</th><th scope=col>claim_sev</th><th scope=col>date_occur</th><th scope=col>date_report</th><th scope=col>date_pay</th><th scope=col>claim_cost</th><th scope=col>date_pol_start</th><th scope=col>date_pol_end</th><th scope=col>Cover</th><th scope=col>Brand</th><th scope=col>Model</th><th scope=col>Price</th><th scope=col>pol_seq</th><th scope=col>pol_seq_max</th><th scope=col>ExpoDays</th></tr>\n",
       "\t<tr><th scope=col>&lt;chr&gt;</th><th scope=col>&lt;chr&gt;</th><th scope=col>&lt;chr&gt;</th><th scope=col>&lt;dbl&gt;</th><th scope=col>&lt;dbl&gt;</th><th scope=col>&lt;dttm&gt;</th><th scope=col>&lt;dttm&gt;</th><th scope=col>&lt;dttm&gt;</th><th scope=col>&lt;dbl&gt;</th><th scope=col>&lt;dttm&gt;</th><th scope=col>&lt;dttm&gt;</th><th scope=col>&lt;chr&gt;</th><th scope=col>&lt;dbl&gt;</th><th scope=col>&lt;dbl&gt;</th><th scope=col>&lt;dbl&gt;</th><th scope=col>&lt;int&gt;</th><th scope=col>&lt;int&gt;</th><th scope=col>&lt;dbl&gt;</th></tr>\n",
       "</thead>\n",
       "<tbody>\n",
       "\t<tr><td>201601010001</td><td>201606080001</td><td>B </td><td>1</td><td>0.3337923</td><td>2016-06-08 00:00:00</td><td>2016-06-08 00:00:00</td><td>2016-07-21 00:00:00</td><td>305</td><td>2016-01-01</td><td>2016-12-31 23:59:59</td><td>B</td><td>1</td><td>3</td><td>913</td><td>1</td><td>1</td><td>2</td></tr>\n",
       "\t<tr><td>201601010002</td><td>NA          </td><td>NA</td><td>0</td><td>0.0000000</td><td>2199-12-31 23:59:59</td><td>2199-12-31 23:59:59</td><td>2199-12-31 23:59:59</td><td>  0</td><td>2016-01-01</td><td>2016-12-31 23:59:59</td><td>B</td><td>1</td><td>3</td><td>913</td><td>1</td><td>1</td><td>2</td></tr>\n",
       "\t<tr><td>201601010003</td><td>NA          </td><td>NA</td><td>0</td><td>0.0000000</td><td>2199-12-31 23:59:59</td><td>2199-12-31 23:59:59</td><td>2199-12-31 23:59:59</td><td>  0</td><td>2016-01-01</td><td>2016-12-31 23:59:59</td><td>B</td><td>1</td><td>3</td><td>913</td><td>1</td><td>1</td><td>2</td></tr>\n",
       "\t<tr><td>201601010004</td><td>NA          </td><td>NA</td><td>0</td><td>0.0000000</td><td>2199-12-31 23:59:59</td><td>2199-12-31 23:59:59</td><td>2199-12-31 23:59:59</td><td>  0</td><td>2016-01-01</td><td>2016-12-31 23:59:59</td><td>B</td><td>1</td><td>3</td><td>913</td><td>1</td><td>1</td><td>2</td></tr>\n",
       "\t<tr><td>201601010005</td><td>NA          </td><td>NA</td><td>0</td><td>0.0000000</td><td>2199-12-31 23:59:59</td><td>2199-12-31 23:59:59</td><td>2199-12-31 23:59:59</td><td>  0</td><td>2016-01-01</td><td>2016-12-31 23:59:59</td><td>B</td><td>1</td><td>3</td><td>913</td><td>1</td><td>1</td><td>2</td></tr>\n",
       "\t<tr><td>201601010006</td><td>NA          </td><td>NA</td><td>0</td><td>0.0000000</td><td>2199-12-31 23:59:59</td><td>2199-12-31 23:59:59</td><td>2199-12-31 23:59:59</td><td>  0</td><td>2016-01-01</td><td>2016-12-31 23:59:59</td><td>B</td><td>1</td><td>3</td><td>913</td><td>1</td><td>1</td><td>2</td></tr>\n",
       "</tbody>\n",
       "</table>\n"
      ],
      "text/latex": [
       "A data.table: 6 × 18\n",
       "\\begin{tabular}{llllllllllllllllll}\n",
       " pol\\_number & clm\\_number & claim\\_type & claim\\_count & claim\\_sev & date\\_occur & date\\_report & date\\_pay & claim\\_cost & date\\_pol\\_start & date\\_pol\\_end & Cover & Brand & Model & Price & pol\\_seq & pol\\_seq\\_max & ExpoDays\\\\\n",
       " <chr> & <chr> & <chr> & <dbl> & <dbl> & <dttm> & <dttm> & <dttm> & <dbl> & <dttm> & <dttm> & <chr> & <dbl> & <dbl> & <dbl> & <int> & <int> & <dbl>\\\\\n",
       "\\hline\n",
       "\t 201601010001 & 201606080001 & B  & 1 & 0.3337923 & 2016-06-08 00:00:00 & 2016-06-08 00:00:00 & 2016-07-21 00:00:00 & 305 & 2016-01-01 & 2016-12-31 23:59:59 & B & 1 & 3 & 913 & 1 & 1 & 2\\\\\n",
       "\t 201601010002 & NA           & NA & 0 & 0.0000000 & 2199-12-31 23:59:59 & 2199-12-31 23:59:59 & 2199-12-31 23:59:59 &   0 & 2016-01-01 & 2016-12-31 23:59:59 & B & 1 & 3 & 913 & 1 & 1 & 2\\\\\n",
       "\t 201601010003 & NA           & NA & 0 & 0.0000000 & 2199-12-31 23:59:59 & 2199-12-31 23:59:59 & 2199-12-31 23:59:59 &   0 & 2016-01-01 & 2016-12-31 23:59:59 & B & 1 & 3 & 913 & 1 & 1 & 2\\\\\n",
       "\t 201601010004 & NA           & NA & 0 & 0.0000000 & 2199-12-31 23:59:59 & 2199-12-31 23:59:59 & 2199-12-31 23:59:59 &   0 & 2016-01-01 & 2016-12-31 23:59:59 & B & 1 & 3 & 913 & 1 & 1 & 2\\\\\n",
       "\t 201601010005 & NA           & NA & 0 & 0.0000000 & 2199-12-31 23:59:59 & 2199-12-31 23:59:59 & 2199-12-31 23:59:59 &   0 & 2016-01-01 & 2016-12-31 23:59:59 & B & 1 & 3 & 913 & 1 & 1 & 2\\\\\n",
       "\t 201601010006 & NA           & NA & 0 & 0.0000000 & 2199-12-31 23:59:59 & 2199-12-31 23:59:59 & 2199-12-31 23:59:59 &   0 & 2016-01-01 & 2016-12-31 23:59:59 & B & 1 & 3 & 913 & 1 & 1 & 2\\\\\n",
       "\\end{tabular}\n"
      ],
      "text/markdown": [
       "\n",
       "A data.table: 6 × 18\n",
       "\n",
       "| pol_number &lt;chr&gt; | clm_number &lt;chr&gt; | claim_type &lt;chr&gt; | claim_count &lt;dbl&gt; | claim_sev &lt;dbl&gt; | date_occur &lt;dttm&gt; | date_report &lt;dttm&gt; | date_pay &lt;dttm&gt; | claim_cost &lt;dbl&gt; | date_pol_start &lt;dttm&gt; | date_pol_end &lt;dttm&gt; | Cover &lt;chr&gt; | Brand &lt;dbl&gt; | Model &lt;dbl&gt; | Price &lt;dbl&gt; | pol_seq &lt;int&gt; | pol_seq_max &lt;int&gt; | ExpoDays &lt;dbl&gt; |\n",
       "|---|---|---|---|---|---|---|---|---|---|---|---|---|---|---|---|---|---|\n",
       "| 201601010001 | 201606080001 | B  | 1 | 0.3337923 | 2016-06-08 00:00:00 | 2016-06-08 00:00:00 | 2016-07-21 00:00:00 | 305 | 2016-01-01 | 2016-12-31 23:59:59 | B | 1 | 3 | 913 | 1 | 1 | 2 |\n",
       "| 201601010002 | NA           | NA | 0 | 0.0000000 | 2199-12-31 23:59:59 | 2199-12-31 23:59:59 | 2199-12-31 23:59:59 |   0 | 2016-01-01 | 2016-12-31 23:59:59 | B | 1 | 3 | 913 | 1 | 1 | 2 |\n",
       "| 201601010003 | NA           | NA | 0 | 0.0000000 | 2199-12-31 23:59:59 | 2199-12-31 23:59:59 | 2199-12-31 23:59:59 |   0 | 2016-01-01 | 2016-12-31 23:59:59 | B | 1 | 3 | 913 | 1 | 1 | 2 |\n",
       "| 201601010004 | NA           | NA | 0 | 0.0000000 | 2199-12-31 23:59:59 | 2199-12-31 23:59:59 | 2199-12-31 23:59:59 |   0 | 2016-01-01 | 2016-12-31 23:59:59 | B | 1 | 3 | 913 | 1 | 1 | 2 |\n",
       "| 201601010005 | NA           | NA | 0 | 0.0000000 | 2199-12-31 23:59:59 | 2199-12-31 23:59:59 | 2199-12-31 23:59:59 |   0 | 2016-01-01 | 2016-12-31 23:59:59 | B | 1 | 3 | 913 | 1 | 1 | 2 |\n",
       "| 201601010006 | NA           | NA | 0 | 0.0000000 | 2199-12-31 23:59:59 | 2199-12-31 23:59:59 | 2199-12-31 23:59:59 |   0 | 2016-01-01 | 2016-12-31 23:59:59 | B | 1 | 3 | 913 | 1 | 1 | 2 |\n",
       "\n"
      ],
      "text/plain": [
       "  pol_number   clm_number   claim_type claim_count claim_sev\n",
       "1 201601010001 201606080001 B          1           0.3337923\n",
       "2 201601010002 NA           NA         0           0.0000000\n",
       "3 201601010003 NA           NA         0           0.0000000\n",
       "4 201601010004 NA           NA         0           0.0000000\n",
       "5 201601010005 NA           NA         0           0.0000000\n",
       "6 201601010006 NA           NA         0           0.0000000\n",
       "  date_occur          date_report         date_pay            claim_cost\n",
       "1 2016-06-08 00:00:00 2016-06-08 00:00:00 2016-07-21 00:00:00 305       \n",
       "2 2199-12-31 23:59:59 2199-12-31 23:59:59 2199-12-31 23:59:59   0       \n",
       "3 2199-12-31 23:59:59 2199-12-31 23:59:59 2199-12-31 23:59:59   0       \n",
       "4 2199-12-31 23:59:59 2199-12-31 23:59:59 2199-12-31 23:59:59   0       \n",
       "5 2199-12-31 23:59:59 2199-12-31 23:59:59 2199-12-31 23:59:59   0       \n",
       "6 2199-12-31 23:59:59 2199-12-31 23:59:59 2199-12-31 23:59:59   0       \n",
       "  date_pol_start date_pol_end        Cover Brand Model Price pol_seq\n",
       "1 2016-01-01     2016-12-31 23:59:59 B     1     3     913   1      \n",
       "2 2016-01-01     2016-12-31 23:59:59 B     1     3     913   1      \n",
       "3 2016-01-01     2016-12-31 23:59:59 B     1     3     913   1      \n",
       "4 2016-01-01     2016-12-31 23:59:59 B     1     3     913   1      \n",
       "5 2016-01-01     2016-12-31 23:59:59 B     1     3     913   1      \n",
       "6 2016-01-01     2016-12-31 23:59:59 B     1     3     913   1      \n",
       "  pol_seq_max ExpoDays\n",
       "1 1           2       \n",
       "2 1           2       \n",
       "3 1           2       \n",
       "4 1           2       \n",
       "5 1           2       \n",
       "6 1           2       "
      ]
     },
     "metadata": {},
     "output_type": "display_data"
    }
   ],
   "source": [
    "head(dt_polclaim)"
   ]
  },
  {
   "cell_type": "code",
   "execution_count": 18,
   "id": "370f3c94-58f5-441c-b4f8-486837fcf6c4",
   "metadata": {},
   "outputs": [],
   "source": [
    "\n",
    "lst_Date_slice <- floor_date(seq(as.Date(\"2016/1/1\"), as.Date(\"2019/06/30\"), by = 30), unit= \"second\") \n",
    "\n",
    "# Time slice Policy & claims \n",
    " \n",
    "for (i in 1:length(lst_Date_slice)){\n",
    "  dt_polclaim[date_pay<= lst_Date_slice[i], paste0('P_t_', format(lst_Date_slice[i], \"%Y%m%d\")):= claim_cost]\n",
    "  set(dt_polclaim,which(is.na(dt_polclaim[[paste0('P_t_', format(lst_Date_slice[i], \"%Y%m%d\"))]])),paste0('P_t_', format(lst_Date_slice[i], \"%Y%m%d\")),0)\n",
    "}\n",
    "  \n",
    "# sort data by policynumber\n",
    "setkey(dt_polclaim, pol_number)"
   ]
  },
  {
   "cell_type": "code",
   "execution_count": 19,
   "id": "1f8e70aa-cdd8-4466-beb3-f4fad7eb61c9",
   "metadata": {},
   "outputs": [
    {
     "data": {
      "text/html": [
       "<table class=\"dataframe\">\n",
       "<caption>A data.table: 6 × 61</caption>\n",
       "<thead>\n",
       "\t<tr><th scope=col>pol_number</th><th scope=col>clm_number</th><th scope=col>claim_type</th><th scope=col>claim_count</th><th scope=col>claim_sev</th><th scope=col>date_occur</th><th scope=col>date_report</th><th scope=col>date_pay</th><th scope=col>claim_cost</th><th scope=col>date_pol_start</th><th scope=col>...</th><th scope=col>P_t_20180917</th><th scope=col>P_t_20181017</th><th scope=col>P_t_20181116</th><th scope=col>P_t_20181216</th><th scope=col>P_t_20190115</th><th scope=col>P_t_20190214</th><th scope=col>P_t_20190316</th><th scope=col>P_t_20190415</th><th scope=col>P_t_20190515</th><th scope=col>P_t_20190614</th></tr>\n",
       "\t<tr><th scope=col>&lt;chr&gt;</th><th scope=col>&lt;chr&gt;</th><th scope=col>&lt;chr&gt;</th><th scope=col>&lt;dbl&gt;</th><th scope=col>&lt;dbl&gt;</th><th scope=col>&lt;dttm&gt;</th><th scope=col>&lt;dttm&gt;</th><th scope=col>&lt;dttm&gt;</th><th scope=col>&lt;dbl&gt;</th><th scope=col>&lt;dttm&gt;</th><th scope=col>...</th><th scope=col>&lt;dbl&gt;</th><th scope=col>&lt;dbl&gt;</th><th scope=col>&lt;dbl&gt;</th><th scope=col>&lt;dbl&gt;</th><th scope=col>&lt;dbl&gt;</th><th scope=col>&lt;dbl&gt;</th><th scope=col>&lt;dbl&gt;</th><th scope=col>&lt;dbl&gt;</th><th scope=col>&lt;dbl&gt;</th><th scope=col>&lt;dbl&gt;</th></tr>\n",
       "</thead>\n",
       "<tbody>\n",
       "\t<tr><td>201601010001</td><td>201606080001</td><td>B </td><td>1</td><td>0.3337923</td><td>2016-06-08 00:00:00</td><td>2016-06-08 00:00:00</td><td>2016-07-21 00:00:00</td><td>305</td><td>2016-01-01</td><td>...</td><td>305</td><td>305</td><td>305</td><td>305</td><td>305</td><td>305</td><td>305</td><td>305</td><td>305</td><td>305</td></tr>\n",
       "\t<tr><td>201601010002</td><td>NA          </td><td>NA</td><td>0</td><td>0.0000000</td><td>2199-12-31 23:59:59</td><td>2199-12-31 23:59:59</td><td>2199-12-31 23:59:59</td><td>  0</td><td>2016-01-01</td><td>...</td><td>  0</td><td>  0</td><td>  0</td><td>  0</td><td>  0</td><td>  0</td><td>  0</td><td>  0</td><td>  0</td><td>  0</td></tr>\n",
       "\t<tr><td>201601010003</td><td>NA          </td><td>NA</td><td>0</td><td>0.0000000</td><td>2199-12-31 23:59:59</td><td>2199-12-31 23:59:59</td><td>2199-12-31 23:59:59</td><td>  0</td><td>2016-01-01</td><td>...</td><td>  0</td><td>  0</td><td>  0</td><td>  0</td><td>  0</td><td>  0</td><td>  0</td><td>  0</td><td>  0</td><td>  0</td></tr>\n",
       "\t<tr><td>201601010004</td><td>NA          </td><td>NA</td><td>0</td><td>0.0000000</td><td>2199-12-31 23:59:59</td><td>2199-12-31 23:59:59</td><td>2199-12-31 23:59:59</td><td>  0</td><td>2016-01-01</td><td>...</td><td>  0</td><td>  0</td><td>  0</td><td>  0</td><td>  0</td><td>  0</td><td>  0</td><td>  0</td><td>  0</td><td>  0</td></tr>\n",
       "\t<tr><td>201601010005</td><td>NA          </td><td>NA</td><td>0</td><td>0.0000000</td><td>2199-12-31 23:59:59</td><td>2199-12-31 23:59:59</td><td>2199-12-31 23:59:59</td><td>  0</td><td>2016-01-01</td><td>...</td><td>  0</td><td>  0</td><td>  0</td><td>  0</td><td>  0</td><td>  0</td><td>  0</td><td>  0</td><td>  0</td><td>  0</td></tr>\n",
       "\t<tr><td>201601010006</td><td>NA          </td><td>NA</td><td>0</td><td>0.0000000</td><td>2199-12-31 23:59:59</td><td>2199-12-31 23:59:59</td><td>2199-12-31 23:59:59</td><td>  0</td><td>2016-01-01</td><td>...</td><td>  0</td><td>  0</td><td>  0</td><td>  0</td><td>  0</td><td>  0</td><td>  0</td><td>  0</td><td>  0</td><td>  0</td></tr>\n",
       "</tbody>\n",
       "</table>\n"
      ],
      "text/latex": [
       "A data.table: 6 × 61\n",
       "\\begin{tabular}{lllllllllllllllllllll}\n",
       " pol\\_number & clm\\_number & claim\\_type & claim\\_count & claim\\_sev & date\\_occur & date\\_report & date\\_pay & claim\\_cost & date\\_pol\\_start & ... & P\\_t\\_20180917 & P\\_t\\_20181017 & P\\_t\\_20181116 & P\\_t\\_20181216 & P\\_t\\_20190115 & P\\_t\\_20190214 & P\\_t\\_20190316 & P\\_t\\_20190415 & P\\_t\\_20190515 & P\\_t\\_20190614\\\\\n",
       " <chr> & <chr> & <chr> & <dbl> & <dbl> & <dttm> & <dttm> & <dttm> & <dbl> & <dttm> & ... & <dbl> & <dbl> & <dbl> & <dbl> & <dbl> & <dbl> & <dbl> & <dbl> & <dbl> & <dbl>\\\\\n",
       "\\hline\n",
       "\t 201601010001 & 201606080001 & B  & 1 & 0.3337923 & 2016-06-08 00:00:00 & 2016-06-08 00:00:00 & 2016-07-21 00:00:00 & 305 & 2016-01-01 & ... & 305 & 305 & 305 & 305 & 305 & 305 & 305 & 305 & 305 & 305\\\\\n",
       "\t 201601010002 & NA           & NA & 0 & 0.0000000 & 2199-12-31 23:59:59 & 2199-12-31 23:59:59 & 2199-12-31 23:59:59 &   0 & 2016-01-01 & ... &   0 &   0 &   0 &   0 &   0 &   0 &   0 &   0 &   0 &   0\\\\\n",
       "\t 201601010003 & NA           & NA & 0 & 0.0000000 & 2199-12-31 23:59:59 & 2199-12-31 23:59:59 & 2199-12-31 23:59:59 &   0 & 2016-01-01 & ... &   0 &   0 &   0 &   0 &   0 &   0 &   0 &   0 &   0 &   0\\\\\n",
       "\t 201601010004 & NA           & NA & 0 & 0.0000000 & 2199-12-31 23:59:59 & 2199-12-31 23:59:59 & 2199-12-31 23:59:59 &   0 & 2016-01-01 & ... &   0 &   0 &   0 &   0 &   0 &   0 &   0 &   0 &   0 &   0\\\\\n",
       "\t 201601010005 & NA           & NA & 0 & 0.0000000 & 2199-12-31 23:59:59 & 2199-12-31 23:59:59 & 2199-12-31 23:59:59 &   0 & 2016-01-01 & ... &   0 &   0 &   0 &   0 &   0 &   0 &   0 &   0 &   0 &   0\\\\\n",
       "\t 201601010006 & NA           & NA & 0 & 0.0000000 & 2199-12-31 23:59:59 & 2199-12-31 23:59:59 & 2199-12-31 23:59:59 &   0 & 2016-01-01 & ... &   0 &   0 &   0 &   0 &   0 &   0 &   0 &   0 &   0 &   0\\\\\n",
       "\\end{tabular}\n"
      ],
      "text/markdown": [
       "\n",
       "A data.table: 6 × 61\n",
       "\n",
       "| pol_number &lt;chr&gt; | clm_number &lt;chr&gt; | claim_type &lt;chr&gt; | claim_count &lt;dbl&gt; | claim_sev &lt;dbl&gt; | date_occur &lt;dttm&gt; | date_report &lt;dttm&gt; | date_pay &lt;dttm&gt; | claim_cost &lt;dbl&gt; | date_pol_start &lt;dttm&gt; | ... ... | P_t_20180917 &lt;dbl&gt; | P_t_20181017 &lt;dbl&gt; | P_t_20181116 &lt;dbl&gt; | P_t_20181216 &lt;dbl&gt; | P_t_20190115 &lt;dbl&gt; | P_t_20190214 &lt;dbl&gt; | P_t_20190316 &lt;dbl&gt; | P_t_20190415 &lt;dbl&gt; | P_t_20190515 &lt;dbl&gt; | P_t_20190614 &lt;dbl&gt; |\n",
       "|---|---|---|---|---|---|---|---|---|---|---|---|---|---|---|---|---|---|---|---|---|\n",
       "| 201601010001 | 201606080001 | B  | 1 | 0.3337923 | 2016-06-08 00:00:00 | 2016-06-08 00:00:00 | 2016-07-21 00:00:00 | 305 | 2016-01-01 | ... | 305 | 305 | 305 | 305 | 305 | 305 | 305 | 305 | 305 | 305 |\n",
       "| 201601010002 | NA           | NA | 0 | 0.0000000 | 2199-12-31 23:59:59 | 2199-12-31 23:59:59 | 2199-12-31 23:59:59 |   0 | 2016-01-01 | ... |   0 |   0 |   0 |   0 |   0 |   0 |   0 |   0 |   0 |   0 |\n",
       "| 201601010003 | NA           | NA | 0 | 0.0000000 | 2199-12-31 23:59:59 | 2199-12-31 23:59:59 | 2199-12-31 23:59:59 |   0 | 2016-01-01 | ... |   0 |   0 |   0 |   0 |   0 |   0 |   0 |   0 |   0 |   0 |\n",
       "| 201601010004 | NA           | NA | 0 | 0.0000000 | 2199-12-31 23:59:59 | 2199-12-31 23:59:59 | 2199-12-31 23:59:59 |   0 | 2016-01-01 | ... |   0 |   0 |   0 |   0 |   0 |   0 |   0 |   0 |   0 |   0 |\n",
       "| 201601010005 | NA           | NA | 0 | 0.0000000 | 2199-12-31 23:59:59 | 2199-12-31 23:59:59 | 2199-12-31 23:59:59 |   0 | 2016-01-01 | ... |   0 |   0 |   0 |   0 |   0 |   0 |   0 |   0 |   0 |   0 |\n",
       "| 201601010006 | NA           | NA | 0 | 0.0000000 | 2199-12-31 23:59:59 | 2199-12-31 23:59:59 | 2199-12-31 23:59:59 |   0 | 2016-01-01 | ... |   0 |   0 |   0 |   0 |   0 |   0 |   0 |   0 |   0 |   0 |\n",
       "\n"
      ],
      "text/plain": [
       "  pol_number   clm_number   claim_type claim_count claim_sev\n",
       "1 201601010001 201606080001 B          1           0.3337923\n",
       "2 201601010002 NA           NA         0           0.0000000\n",
       "3 201601010003 NA           NA         0           0.0000000\n",
       "4 201601010004 NA           NA         0           0.0000000\n",
       "5 201601010005 NA           NA         0           0.0000000\n",
       "6 201601010006 NA           NA         0           0.0000000\n",
       "  date_occur          date_report         date_pay            claim_cost\n",
       "1 2016-06-08 00:00:00 2016-06-08 00:00:00 2016-07-21 00:00:00 305       \n",
       "2 2199-12-31 23:59:59 2199-12-31 23:59:59 2199-12-31 23:59:59   0       \n",
       "3 2199-12-31 23:59:59 2199-12-31 23:59:59 2199-12-31 23:59:59   0       \n",
       "4 2199-12-31 23:59:59 2199-12-31 23:59:59 2199-12-31 23:59:59   0       \n",
       "5 2199-12-31 23:59:59 2199-12-31 23:59:59 2199-12-31 23:59:59   0       \n",
       "6 2199-12-31 23:59:59 2199-12-31 23:59:59 2199-12-31 23:59:59   0       \n",
       "  date_pol_start ... P_t_20180917 P_t_20181017 P_t_20181116 P_t_20181216\n",
       "1 2016-01-01     ... 305          305          305          305         \n",
       "2 2016-01-01     ...   0            0            0            0         \n",
       "3 2016-01-01     ...   0            0            0            0         \n",
       "4 2016-01-01     ...   0            0            0            0         \n",
       "5 2016-01-01     ...   0            0            0            0         \n",
       "6 2016-01-01     ...   0            0            0            0         \n",
       "  P_t_20190115 P_t_20190214 P_t_20190316 P_t_20190415 P_t_20190515 P_t_20190614\n",
       "1 305          305          305          305          305          305         \n",
       "2   0            0            0            0            0            0         \n",
       "3   0            0            0            0            0            0         \n",
       "4   0            0            0            0            0            0         \n",
       "5   0            0            0            0            0            0         \n",
       "6   0            0            0            0            0            0         "
      ]
     },
     "metadata": {},
     "output_type": "display_data"
    }
   ],
   "source": [
    "\n",
    "head(dt_polclaim)"
   ]
  },
  {
   "cell_type": "code",
   "execution_count": 20,
   "id": "bf9db5e5-d983-44a3-bd99-b949ae6d4ffb",
   "metadata": {},
   "outputs": [],
   "source": [
    "\n",
    "i <- valuation <- 10\n",
    "t_i <- lst_Date_slice[i] \n",
    "delta <- min(i, length(lst_Date_slice) - i + 1)\n",
    "     "
   ]
  },
  {
   "cell_type": "code",
   "execution_count": 22,
   "id": "f16ff470-24aa-4c9a-bce9-9d0ff05ddf08",
   "metadata": {},
   "outputs": [],
   "source": [
    "ReportingDelay_Train_ijk <- function(dt_policy_claim, date_i, j_dev_period, k, reserving_dates, model_vars, verbose = FALSE) {\n",
    "  date_i <- as.Date(date_i)\n",
    "  date_k <- reserving_dates[which(reserving_dates == date_i) - k + 1]\n",
    "  date_j <- reserving_dates[which(reserving_dates == date_k) - j_dev_period]\n",
    "  date_lookup <- reserving_dates[which(reserving_dates == (date_i)) - j_dev_period - k + 1]\n",
    "  target_lookup <- reserving_dates[which(reserving_dates == (date_i)) - k]\n",
    "  target_lookup_next <- reserving_dates[which(reserving_dates == (date_i)) - k + 1]\n",
    "\n",
    "  if (verbose) cat(paste(\"Valn date\", date_i, \", j =\", j_dev_period, \", k =\", k, \"\\n\"))\n",
    "\n",
    "  # Select policies IBNR at date_lookup (not yet reported)\n",
    "  dt_sub <- dt_policy_claim[\n",
    "    date_pol_start < date_lookup &\n",
    "    date_occur <= date_lookup &\n",
    "    date_lookup < date_report\n",
    "  ]\n",
    "\n",
    "  # Now, only those where reporting occurs in the window [target_lookup, target_lookup_next)\n",
    "  dt_sub <- dt_sub[\n",
    "    target_lookup <= date_report & date_report < target_lookup_next\n",
    "  ]\n",
    "\n",
    "  dt_sub[, ':='(\n",
    "    date_lookup = date_lookup,\n",
    "    delay_train = as.numeric(date_lookup - date_pol_start),\n",
    "    j = j_dev_period,\n",
    "    k = k,\n",
    "    exposure = 1,\n",
    "    reporting_delay = as.integer(date_report - date_occur)\n",
    "  )]\n",
    "\n",
    "  dt_sub <- dt_sub[reporting_delay >= 0]\n",
    "\n",
    "  final_vars <- unique(c(model_vars, \"reporting_delay\"))\n",
    "  dt_sub <- dt_sub[, ..final_vars]\n",
    "\n",
    "  return(dt_sub)\n",
    "}\n"
   ]
  },
  {
   "cell_type": "code",
   "execution_count": 23,
   "id": "3b95ee97-0a00-4786-bf38-fdb37c038dcc",
   "metadata": {},
   "outputs": [],
   "source": [
    "PaymentDelay_Train_ijk <- function(dt_policy_claim, date_i, j_dev_period, k, reserving_dates, model_vars, verbose = FALSE) {\n",
    "  date_i <- as.Date(date_i)\n",
    "  date_k <- reserving_dates[which(reserving_dates == date_i) - k + 1]\n",
    "  date_j <- reserving_dates[which(reserving_dates == date_k) - j_dev_period]\n",
    "  date_lookup <- reserving_dates[which(reserving_dates == (date_i)) - j_dev_period - k + 1]\n",
    "  target_lookup <- reserving_dates[which(reserving_dates == (date_i)) - k]\n",
    "  target_lookup_next <- reserving_dates[which(reserving_dates == (date_i)) - k + 1]\n",
    "\n",
    "  if (verbose) cat(paste(\"Valn date\", date_i, \", j =\", j_dev_period, \", k =\", k, \"\\n\"))\n",
    "\n",
    "  # Select claims RBNS at date_lookup (reported, not yet paid)\n",
    "  dt_sub <- dt_policy_claim[\n",
    "    date_occur <= date_lookup &\n",
    "    date_report < date_lookup &\n",
    "    date_lookup < date_pay\n",
    "  ]\n",
    "\n",
    "  # Now, only those where payment occurs in the window [target_lookup, target_lookup_next)\n",
    "  dt_sub <- dt_sub[\n",
    "    target_lookup <= date_pay & date_pay < target_lookup_next\n",
    "  ]\n",
    "\n",
    "  dt_sub[, ':='(\n",
    "    date_lookup = date_lookup,\n",
    "    delay_train = as.numeric(date_lookup - date_pol_start),\n",
    "    j = j_dev_period,\n",
    "    k = k,\n",
    "    exposure = 1,\n",
    "    payment_delay = as.integer(date_pay - date_report)\n",
    "  )]\n",
    "\n",
    "  dt_sub <- dt_sub[payment_delay >= 0]\n",
    "\n",
    "  final_vars <- unique(c(model_vars, \"payment_delay\"))\n",
    "  dt_sub <- dt_sub[, ..final_vars]\n",
    "\n",
    "  return(dt_sub)\n",
    "}\n"
   ]
  },
  {
   "cell_type": "code",
   "execution_count": 24,
   "id": "d04d5774-75e4-4a9c-a3f4-593f729a4689",
   "metadata": {},
   "outputs": [],
   "source": [
    "ReportingDelay_Test_ijk <- function(dt_policy_claim, date_i, j_dev_period, k, reserving_dates, model_vars, verbose = FALSE) {\n",
    "  date_i <- as.Date(date_i)\n",
    "  date_lookup <- reserving_dates[which(reserving_dates == (date_i))]\n",
    "  target_lookup <- reserving_dates[which(reserving_dates == (date_i)) + j_dev_period - 1]\n",
    "  target_lookup_next <- reserving_dates[which(reserving_dates == (date_i)) + j_dev_period]\n",
    "\n",
    "  if (verbose) cat(paste(\"Valn date\", date_i, \", j =\", j_dev_period, \", k =\", k, \"\\n\"))\n",
    "\n",
    "  # IBNR at valuation: occurred before or at valuation, but not yet reported\n",
    "  dt_sub <- dt_policy_claim[\n",
    "    date_pol_start < date_lookup &\n",
    "    date_occur <= date_lookup &\n",
    "    date_lookup < date_report\n",
    "  ]\n",
    "\n",
    "  # Now, reported in the window [target_lookup, target_lookup_next)\n",
    "  dt_sub <- dt_sub[\n",
    "    target_lookup <= date_report & date_report < target_lookup_next\n",
    "  ]\n",
    "\n",
    "  dt_sub[, ':='(\n",
    "    date_lookup = date_lookup,\n",
    "    delay_test = as.numeric(date_lookup - date_pol_start),\n",
    "    j = j_dev_period,\n",
    "    k = k,\n",
    "    exposure = 1,\n",
    "    reporting_delay = as.integer(date_report - date_occur)\n",
    "  )]\n",
    "\n",
    "  dt_sub <- dt_sub[reporting_delay >= 0]\n",
    "  final_vars <- unique(c(model_vars, \"reporting_delay\"))\n",
    "  dt_sub <- dt_sub[, ..final_vars]\n",
    "\n",
    "  return(dt_sub)\n",
    "}\n"
   ]
  },
  {
   "cell_type": "code",
   "execution_count": 25,
   "id": "2cba60a2-adc7-4f2c-a048-862dbcecd55b",
   "metadata": {},
   "outputs": [],
   "source": [
    "PaymentDelay_Test_ijk <- function(dt_policy_claim, date_i, j_dev_period, k, reserving_dates, model_vars, verbose = FALSE) {\n",
    "  date_i <- as.Date(date_i)\n",
    "  date_lookup <- reserving_dates[which(reserving_dates == (date_i))]\n",
    "  target_lookup <- reserving_dates[which(reserving_dates == (date_i)) + j_dev_period - 1]\n",
    "  target_lookup_next <- reserving_dates[which(reserving_dates == (date_i)) + j_dev_period]\n",
    "\n",
    "  if (verbose) cat(paste(\"Valn date\", date_i, \", j =\", j_dev_period, \", k =\", k, \"\\n\"))\n",
    "\n",
    "  # RBNS at valuation: occurred and reported, but not yet paid\n",
    "  dt_sub <- dt_policy_claim[\n",
    "    date_occur <= date_lookup &\n",
    "    date_report < date_lookup &\n",
    "    date_lookup < date_pay\n",
    "  ]\n",
    "\n",
    "  # Now, paid in the window [target_lookup, target_lookup_next)\n",
    "  dt_sub <- dt_sub[\n",
    "    target_lookup <= date_pay & date_pay < target_lookup_next\n",
    "  ]\n",
    "\n",
    "  dt_sub[, ':='(\n",
    "    date_lookup = date_lookup,\n",
    "    delay_test = as.numeric(date_lookup - date_pol_start),\n",
    "    j = j_dev_period,\n",
    "    k = k,\n",
    "    exposure = 1,\n",
    "    payment_delay = as.integer(date_pay - date_report)\n",
    "  )]\n",
    "\n",
    "  dt_sub <- dt_sub[payment_delay >= 0]\n",
    "  final_vars <- unique(c(model_vars, \"payment_delay\"))\n",
    "  dt_sub <- dt_sub[, ..final_vars]\n",
    "\n",
    "  return(dt_sub)\n",
    "}\n"
   ]
  },
  {
   "cell_type": "code",
   "execution_count": 26,
   "id": "d3a21f45-b3ab-4ec1-8477-8208d6a5816d",
   "metadata": {},
   "outputs": [],
   "source": [
    "# Reporting Delay Train Wrapper\n",
    "ReportingDelay_Train <- function(dt_policy_claim, date_i, i, k, reserving_dates, model_vars, verbose = FALSE) {\n",
    "  dt_train <- NULL\n",
    "  for (k_iter in 1:k) {\n",
    "    for (j in 1:(i - k_iter + 1)) {\n",
    "      dt_train <- rbind(\n",
    "        dt_train,\n",
    "        ReportingDelay_Train_ijk(dt_policy_claim, date_i, j, k_iter, reserving_dates, model_vars, verbose)\n",
    "      )\n",
    "    }\n",
    "  }\n",
    "  return(dt_train)\n",
    "}\n",
    "\n",
    "# Reporting Delay Test Wrapper\n",
    "ReportingDelay_Test <- function(dt_policy_claim, date_i, delta, k, reserving_dates, model_vars, verbose = FALSE) {\n",
    "  dt_test <- NULL\n",
    "  for (k_iter in 1:k) {\n",
    "    for (j in 1:(delta - k_iter + 1)) {\n",
    "      dt_test <- rbind(\n",
    "        dt_test,\n",
    "        ReportingDelay_Test_ijk(dt_policy_claim, date_i, j, k_iter, reserving_dates, model_vars, verbose)\n",
    "      )\n",
    "    }\n",
    "  }\n",
    "  return(dt_test)\n",
    "}\n"
   ]
  },
  {
   "cell_type": "code",
   "execution_count": 27,
   "id": "f8dfc64f-5bc8-49cf-9c6b-5d218cc1c164",
   "metadata": {},
   "outputs": [],
   "source": [
    "# Payment Delay Train Wrapper\n",
    "PaymentDelay_Train <- function(dt_policy_claim, date_i, i, k, reserving_dates, model_vars, verbose = FALSE) {\n",
    "  dt_train <- NULL\n",
    "  for (k_iter in 1:k) {\n",
    "    for (j in 1:(i - k_iter + 1)) {\n",
    "      dt_train <- rbind(\n",
    "        dt_train,\n",
    "        PaymentDelay_Train_ijk(dt_policy_claim, date_i, j, k_iter, reserving_dates, model_vars, verbose)\n",
    "      )\n",
    "    }\n",
    "  }\n",
    "  return(dt_train)\n",
    "}\n",
    "\n",
    "# Payment Delay Test Wrapper\n",
    "PaymentDelay_Test <- function(dt_policy_claim, date_i, delta, k, reserving_dates, model_vars, verbose = FALSE) {\n",
    "  dt_test <- NULL\n",
    "  for (k_iter in 1:k) {\n",
    "    for (j in 1:(delta - k_iter + 1)) {\n",
    "      dt_test <- rbind(\n",
    "        dt_test,\n",
    "        PaymentDelay_Test_ijk(dt_policy_claim, date_i, j, k_iter, reserving_dates, model_vars, verbose)\n",
    "      )\n",
    "    }\n",
    "  }\n",
    "  return(dt_test)\n",
    "}\n"
   ]
  },
  {
   "cell_type": "code",
   "execution_count": 29,
   "id": "7566bce8-d6b2-41a9-bd02-2cca3eea3484",
   "metadata": {},
   "outputs": [],
   "source": [
    "delay_model_vars <- c(\n",
    "  \"clm_number\",        # Claim number\n",
    "  \"pol_number\",        # Policy number\n",
    "  \"j\",                 # Development period\n",
    "  \"k\",                 # Model type (usually 1)\n",
    "  \"exposure\",          # Exposure (usually 1 for delay modeling)\n",
    "  \"date_pol_start\",    # Policy start date\n",
    "  \"date_occur\",        # Claim occurrence date\n",
    "  \"date_report\",       # Claim report date\n",
    "  \"date_pay\",          # Claim payment date\n",
    "  \"Cover\",             # Cover type\n",
    "  \"Brand\",             # Brand (as simulated)\n",
    "  \"Model\",             # Model (as simulated)\n",
    "  \"Price\"              # Price (of item insured)\n",
    "  # (do NOT include the delay target in this list; it’s appended in the functions)\n",
    ")\n"
   ]
  },
  {
   "cell_type": "code",
   "execution_count": 30,
   "id": "af284d26-c5cb-401d-9bb0-8dc8b85477bb",
   "metadata": {},
   "outputs": [],
   "source": [
    "# --- Reporting Delay (IBNR) ---\n",
    "dt_reporting_delay_train <- ReportingDelay_Train(\n",
    "  dt_polclaim, t_i, i, 1, lst_Date_slice, delay_model_vars\n",
    ")\n",
    "dt_reporting_delay_test <- ReportingDelay_Test(\n",
    "  dt_polclaim, t_i, delta, 1, lst_Date_slice, delay_model_vars\n",
    ")\n",
    "\n",
    "# --- Payment Delay (RBNS) ---\n",
    "dt_payment_delay_train <- PaymentDelay_Train(\n",
    "  dt_polclaim, t_i, i, 1, lst_Date_slice, delay_model_vars\n",
    ")\n",
    "dt_payment_delay_test <- PaymentDelay_Test(\n",
    "  dt_polclaim, t_i, delta, 1, lst_Date_slice, delay_model_vars\n",
    ")\n"
   ]
  },
  {
   "cell_type": "code",
   "execution_count": 31,
   "id": "b0b4b95a-7056-4d33-bd34-d208eb2076e9",
   "metadata": {},
   "outputs": [
    {
     "data": {
      "text/html": [
       "<table class=\"dataframe\">\n",
       "<caption>A data.table: 6 × 14</caption>\n",
       "<thead>\n",
       "\t<tr><th scope=col>clm_number</th><th scope=col>pol_number</th><th scope=col>j</th><th scope=col>k</th><th scope=col>exposure</th><th scope=col>date_pol_start</th><th scope=col>date_occur</th><th scope=col>date_report</th><th scope=col>date_pay</th><th scope=col>Cover</th><th scope=col>Brand</th><th scope=col>Model</th><th scope=col>Price</th><th scope=col>reporting_delay</th></tr>\n",
       "\t<tr><th scope=col>&lt;chr&gt;</th><th scope=col>&lt;chr&gt;</th><th scope=col>&lt;int&gt;</th><th scope=col>&lt;int&gt;</th><th scope=col>&lt;dbl&gt;</th><th scope=col>&lt;dttm&gt;</th><th scope=col>&lt;dttm&gt;</th><th scope=col>&lt;dttm&gt;</th><th scope=col>&lt;dttm&gt;</th><th scope=col>&lt;chr&gt;</th><th scope=col>&lt;dbl&gt;</th><th scope=col>&lt;dbl&gt;</th><th scope=col>&lt;dbl&gt;</th><th scope=col>&lt;int&gt;</th></tr>\n",
       "</thead>\n",
       "<tbody>\n",
       "\t<tr><td>201606060001</td><td>201601010261</td><td>1</td><td>1</td><td>1</td><td>2016-01-01</td><td>2016-06-06</td><td>2016-09-02</td><td>2016-10-01</td><td>BOT</td><td>1</td><td>1</td><td>690</td><td>88</td></tr>\n",
       "\t<tr><td>201608250001</td><td>201601010284</td><td>1</td><td>1</td><td>1</td><td>2016-01-01</td><td>2016-08-25</td><td>2016-09-06</td><td>2016-10-09</td><td>BOT</td><td>1</td><td>3</td><td>913</td><td>12</td></tr>\n",
       "\t<tr><td>201608150001</td><td>201601010424</td><td>1</td><td>1</td><td>1</td><td>2016-01-01</td><td>2016-08-15</td><td>2016-08-31</td><td>2016-10-05</td><td>BO </td><td>1</td><td>2</td><td>794</td><td>16</td></tr>\n",
       "\t<tr><td>201608130001</td><td>201601020104</td><td>1</td><td>1</td><td>1</td><td>2016-01-02</td><td>2016-08-13</td><td>2016-08-31</td><td>2016-10-03</td><td>B  </td><td>2</td><td>2</td><td>728</td><td>18</td></tr>\n",
       "\t<tr><td>201607060001</td><td>201601020708</td><td>1</td><td>1</td><td>1</td><td>2016-01-02</td><td>2016-07-06</td><td>2016-09-08</td><td>2016-10-07</td><td>BO </td><td>3</td><td>3</td><td>457</td><td>64</td></tr>\n",
       "\t<tr><td>201608020004</td><td>201601030154</td><td>1</td><td>1</td><td>1</td><td>2016-01-03</td><td>2016-08-02</td><td>2016-09-06</td><td>2016-10-10</td><td>B  </td><td>2</td><td>2</td><td>728</td><td>35</td></tr>\n",
       "</tbody>\n",
       "</table>\n"
      ],
      "text/latex": [
       "A data.table: 6 × 14\n",
       "\\begin{tabular}{llllllllllllll}\n",
       " clm\\_number & pol\\_number & j & k & exposure & date\\_pol\\_start & date\\_occur & date\\_report & date\\_pay & Cover & Brand & Model & Price & reporting\\_delay\\\\\n",
       " <chr> & <chr> & <int> & <int> & <dbl> & <dttm> & <dttm> & <dttm> & <dttm> & <chr> & <dbl> & <dbl> & <dbl> & <int>\\\\\n",
       "\\hline\n",
       "\t 201606060001 & 201601010261 & 1 & 1 & 1 & 2016-01-01 & 2016-06-06 & 2016-09-02 & 2016-10-01 & BOT & 1 & 1 & 690 & 88\\\\\n",
       "\t 201608250001 & 201601010284 & 1 & 1 & 1 & 2016-01-01 & 2016-08-25 & 2016-09-06 & 2016-10-09 & BOT & 1 & 3 & 913 & 12\\\\\n",
       "\t 201608150001 & 201601010424 & 1 & 1 & 1 & 2016-01-01 & 2016-08-15 & 2016-08-31 & 2016-10-05 & BO  & 1 & 2 & 794 & 16\\\\\n",
       "\t 201608130001 & 201601020104 & 1 & 1 & 1 & 2016-01-02 & 2016-08-13 & 2016-08-31 & 2016-10-03 & B   & 2 & 2 & 728 & 18\\\\\n",
       "\t 201607060001 & 201601020708 & 1 & 1 & 1 & 2016-01-02 & 2016-07-06 & 2016-09-08 & 2016-10-07 & BO  & 3 & 3 & 457 & 64\\\\\n",
       "\t 201608020004 & 201601030154 & 1 & 1 & 1 & 2016-01-03 & 2016-08-02 & 2016-09-06 & 2016-10-10 & B   & 2 & 2 & 728 & 35\\\\\n",
       "\\end{tabular}\n"
      ],
      "text/markdown": [
       "\n",
       "A data.table: 6 × 14\n",
       "\n",
       "| clm_number &lt;chr&gt; | pol_number &lt;chr&gt; | j &lt;int&gt; | k &lt;int&gt; | exposure &lt;dbl&gt; | date_pol_start &lt;dttm&gt; | date_occur &lt;dttm&gt; | date_report &lt;dttm&gt; | date_pay &lt;dttm&gt; | Cover &lt;chr&gt; | Brand &lt;dbl&gt; | Model &lt;dbl&gt; | Price &lt;dbl&gt; | reporting_delay &lt;int&gt; |\n",
       "|---|---|---|---|---|---|---|---|---|---|---|---|---|---|\n",
       "| 201606060001 | 201601010261 | 1 | 1 | 1 | 2016-01-01 | 2016-06-06 | 2016-09-02 | 2016-10-01 | BOT | 1 | 1 | 690 | 88 |\n",
       "| 201608250001 | 201601010284 | 1 | 1 | 1 | 2016-01-01 | 2016-08-25 | 2016-09-06 | 2016-10-09 | BOT | 1 | 3 | 913 | 12 |\n",
       "| 201608150001 | 201601010424 | 1 | 1 | 1 | 2016-01-01 | 2016-08-15 | 2016-08-31 | 2016-10-05 | BO  | 1 | 2 | 794 | 16 |\n",
       "| 201608130001 | 201601020104 | 1 | 1 | 1 | 2016-01-02 | 2016-08-13 | 2016-08-31 | 2016-10-03 | B   | 2 | 2 | 728 | 18 |\n",
       "| 201607060001 | 201601020708 | 1 | 1 | 1 | 2016-01-02 | 2016-07-06 | 2016-09-08 | 2016-10-07 | BO  | 3 | 3 | 457 | 64 |\n",
       "| 201608020004 | 201601030154 | 1 | 1 | 1 | 2016-01-03 | 2016-08-02 | 2016-09-06 | 2016-10-10 | B   | 2 | 2 | 728 | 35 |\n",
       "\n"
      ],
      "text/plain": [
       "  clm_number   pol_number   j k exposure date_pol_start date_occur date_report\n",
       "1 201606060001 201601010261 1 1 1        2016-01-01     2016-06-06 2016-09-02 \n",
       "2 201608250001 201601010284 1 1 1        2016-01-01     2016-08-25 2016-09-06 \n",
       "3 201608150001 201601010424 1 1 1        2016-01-01     2016-08-15 2016-08-31 \n",
       "4 201608130001 201601020104 1 1 1        2016-01-02     2016-08-13 2016-08-31 \n",
       "5 201607060001 201601020708 1 1 1        2016-01-02     2016-07-06 2016-09-08 \n",
       "6 201608020004 201601030154 1 1 1        2016-01-03     2016-08-02 2016-09-06 \n",
       "  date_pay   Cover Brand Model Price reporting_delay\n",
       "1 2016-10-01 BOT   1     1     690   88             \n",
       "2 2016-10-09 BOT   1     3     913   12             \n",
       "3 2016-10-05 BO    1     2     794   16             \n",
       "4 2016-10-03 B     2     2     728   18             \n",
       "5 2016-10-07 BO    3     3     457   64             \n",
       "6 2016-10-10 B     2     2     728   35             "
      ]
     },
     "metadata": {},
     "output_type": "display_data"
    }
   ],
   "source": [
    "head(dt_reporting_delay_train)"
   ]
  },
  {
   "cell_type": "code",
   "execution_count": 32,
   "id": "0c7d2b65-5c9b-4123-b313-47e9d1c91418",
   "metadata": {},
   "outputs": [
    {
     "data": {
      "text/html": [
       "<table class=\"dataframe\">\n",
       "<caption>A data.table: 6 × 14</caption>\n",
       "<thead>\n",
       "\t<tr><th scope=col>clm_number</th><th scope=col>pol_number</th><th scope=col>j</th><th scope=col>k</th><th scope=col>exposure</th><th scope=col>date_pol_start</th><th scope=col>date_occur</th><th scope=col>date_report</th><th scope=col>date_pay</th><th scope=col>Cover</th><th scope=col>Brand</th><th scope=col>Model</th><th scope=col>Price</th><th scope=col>reporting_delay</th></tr>\n",
       "\t<tr><th scope=col>&lt;chr&gt;</th><th scope=col>&lt;chr&gt;</th><th scope=col>&lt;int&gt;</th><th scope=col>&lt;int&gt;</th><th scope=col>&lt;dbl&gt;</th><th scope=col>&lt;dttm&gt;</th><th scope=col>&lt;dttm&gt;</th><th scope=col>&lt;dttm&gt;</th><th scope=col>&lt;dttm&gt;</th><th scope=col>&lt;chr&gt;</th><th scope=col>&lt;dbl&gt;</th><th scope=col>&lt;dbl&gt;</th><th scope=col>&lt;dbl&gt;</th><th scope=col>&lt;int&gt;</th></tr>\n",
       "</thead>\n",
       "<tbody>\n",
       "\t<tr><td>201607310001</td><td>201601010215</td><td>1</td><td>1</td><td>1</td><td>2016-01-01</td><td>2016-07-31</td><td>2016-10-21</td><td>2016-11-23</td><td>BOT</td><td>2</td><td>3</td><td>837</td><td> 82</td></tr>\n",
       "\t<tr><td>201609260001</td><td>201601010289</td><td>1</td><td>1</td><td>1</td><td>2016-01-01</td><td>2016-09-26</td><td>2016-10-26</td><td>2016-11-13</td><td>BOT</td><td>1</td><td>2</td><td>794</td><td> 30</td></tr>\n",
       "\t<tr><td>201609160001</td><td>201601010409</td><td>1</td><td>1</td><td>1</td><td>2016-01-01</td><td>2016-09-16</td><td>2016-10-25</td><td>2016-11-25</td><td>BO </td><td>1</td><td>3</td><td>913</td><td> 39</td></tr>\n",
       "\t<tr><td>201606080002</td><td>201601020251</td><td>1</td><td>1</td><td>1</td><td>2016-01-02</td><td>2016-06-08</td><td>2016-09-29</td><td>2016-10-29</td><td>BOT</td><td>4</td><td>2</td><td>199</td><td>113</td></tr>\n",
       "\t<tr><td>201609060001</td><td>201601020253</td><td>1</td><td>1</td><td>1</td><td>2016-01-02</td><td>2016-09-06</td><td>2016-10-03</td><td>2016-11-06</td><td>BOT</td><td>1</td><td>2</td><td>794</td><td> 27</td></tr>\n",
       "\t<tr><td>201607200001</td><td>201601020296</td><td>1</td><td>1</td><td>1</td><td>2016-01-02</td><td>2016-07-20</td><td>2016-10-07</td><td>2016-10-29</td><td>BOT</td><td>1</td><td>2</td><td>794</td><td> 79</td></tr>\n",
       "</tbody>\n",
       "</table>\n"
      ],
      "text/latex": [
       "A data.table: 6 × 14\n",
       "\\begin{tabular}{llllllllllllll}\n",
       " clm\\_number & pol\\_number & j & k & exposure & date\\_pol\\_start & date\\_occur & date\\_report & date\\_pay & Cover & Brand & Model & Price & reporting\\_delay\\\\\n",
       " <chr> & <chr> & <int> & <int> & <dbl> & <dttm> & <dttm> & <dttm> & <dttm> & <chr> & <dbl> & <dbl> & <dbl> & <int>\\\\\n",
       "\\hline\n",
       "\t 201607310001 & 201601010215 & 1 & 1 & 1 & 2016-01-01 & 2016-07-31 & 2016-10-21 & 2016-11-23 & BOT & 2 & 3 & 837 &  82\\\\\n",
       "\t 201609260001 & 201601010289 & 1 & 1 & 1 & 2016-01-01 & 2016-09-26 & 2016-10-26 & 2016-11-13 & BOT & 1 & 2 & 794 &  30\\\\\n",
       "\t 201609160001 & 201601010409 & 1 & 1 & 1 & 2016-01-01 & 2016-09-16 & 2016-10-25 & 2016-11-25 & BO  & 1 & 3 & 913 &  39\\\\\n",
       "\t 201606080002 & 201601020251 & 1 & 1 & 1 & 2016-01-02 & 2016-06-08 & 2016-09-29 & 2016-10-29 & BOT & 4 & 2 & 199 & 113\\\\\n",
       "\t 201609060001 & 201601020253 & 1 & 1 & 1 & 2016-01-02 & 2016-09-06 & 2016-10-03 & 2016-11-06 & BOT & 1 & 2 & 794 &  27\\\\\n",
       "\t 201607200001 & 201601020296 & 1 & 1 & 1 & 2016-01-02 & 2016-07-20 & 2016-10-07 & 2016-10-29 & BOT & 1 & 2 & 794 &  79\\\\\n",
       "\\end{tabular}\n"
      ],
      "text/markdown": [
       "\n",
       "A data.table: 6 × 14\n",
       "\n",
       "| clm_number &lt;chr&gt; | pol_number &lt;chr&gt; | j &lt;int&gt; | k &lt;int&gt; | exposure &lt;dbl&gt; | date_pol_start &lt;dttm&gt; | date_occur &lt;dttm&gt; | date_report &lt;dttm&gt; | date_pay &lt;dttm&gt; | Cover &lt;chr&gt; | Brand &lt;dbl&gt; | Model &lt;dbl&gt; | Price &lt;dbl&gt; | reporting_delay &lt;int&gt; |\n",
       "|---|---|---|---|---|---|---|---|---|---|---|---|---|---|\n",
       "| 201607310001 | 201601010215 | 1 | 1 | 1 | 2016-01-01 | 2016-07-31 | 2016-10-21 | 2016-11-23 | BOT | 2 | 3 | 837 |  82 |\n",
       "| 201609260001 | 201601010289 | 1 | 1 | 1 | 2016-01-01 | 2016-09-26 | 2016-10-26 | 2016-11-13 | BOT | 1 | 2 | 794 |  30 |\n",
       "| 201609160001 | 201601010409 | 1 | 1 | 1 | 2016-01-01 | 2016-09-16 | 2016-10-25 | 2016-11-25 | BO  | 1 | 3 | 913 |  39 |\n",
       "| 201606080002 | 201601020251 | 1 | 1 | 1 | 2016-01-02 | 2016-06-08 | 2016-09-29 | 2016-10-29 | BOT | 4 | 2 | 199 | 113 |\n",
       "| 201609060001 | 201601020253 | 1 | 1 | 1 | 2016-01-02 | 2016-09-06 | 2016-10-03 | 2016-11-06 | BOT | 1 | 2 | 794 |  27 |\n",
       "| 201607200001 | 201601020296 | 1 | 1 | 1 | 2016-01-02 | 2016-07-20 | 2016-10-07 | 2016-10-29 | BOT | 1 | 2 | 794 |  79 |\n",
       "\n"
      ],
      "text/plain": [
       "  clm_number   pol_number   j k exposure date_pol_start date_occur date_report\n",
       "1 201607310001 201601010215 1 1 1        2016-01-01     2016-07-31 2016-10-21 \n",
       "2 201609260001 201601010289 1 1 1        2016-01-01     2016-09-26 2016-10-26 \n",
       "3 201609160001 201601010409 1 1 1        2016-01-01     2016-09-16 2016-10-25 \n",
       "4 201606080002 201601020251 1 1 1        2016-01-02     2016-06-08 2016-09-29 \n",
       "5 201609060001 201601020253 1 1 1        2016-01-02     2016-09-06 2016-10-03 \n",
       "6 201607200001 201601020296 1 1 1        2016-01-02     2016-07-20 2016-10-07 \n",
       "  date_pay   Cover Brand Model Price reporting_delay\n",
       "1 2016-11-23 BOT   2     3     837    82            \n",
       "2 2016-11-13 BOT   1     2     794    30            \n",
       "3 2016-11-25 BO    1     3     913    39            \n",
       "4 2016-10-29 BOT   4     2     199   113            \n",
       "5 2016-11-06 BOT   1     2     794    27            \n",
       "6 2016-10-29 BOT   1     2     794    79            "
      ]
     },
     "metadata": {},
     "output_type": "display_data"
    }
   ],
   "source": [
    "head(dt_reporting_delay_test)"
   ]
  },
  {
   "cell_type": "code",
   "execution_count": 33,
   "id": "9271fcbb-5ce8-47eb-84e9-3cfa8ea89470",
   "metadata": {},
   "outputs": [
    {
     "data": {
      "text/html": [
       "<table class=\"dataframe\">\n",
       "<caption>A data.table: 6 × 14</caption>\n",
       "<thead>\n",
       "\t<tr><th scope=col>clm_number</th><th scope=col>pol_number</th><th scope=col>j</th><th scope=col>k</th><th scope=col>exposure</th><th scope=col>date_pol_start</th><th scope=col>date_occur</th><th scope=col>date_report</th><th scope=col>date_pay</th><th scope=col>Cover</th><th scope=col>Brand</th><th scope=col>Model</th><th scope=col>Price</th><th scope=col>payment_delay</th></tr>\n",
       "\t<tr><th scope=col>&lt;chr&gt;</th><th scope=col>&lt;chr&gt;</th><th scope=col>&lt;int&gt;</th><th scope=col>&lt;int&gt;</th><th scope=col>&lt;dbl&gt;</th><th scope=col>&lt;dttm&gt;</th><th scope=col>&lt;dttm&gt;</th><th scope=col>&lt;dttm&gt;</th><th scope=col>&lt;dttm&gt;</th><th scope=col>&lt;chr&gt;</th><th scope=col>&lt;dbl&gt;</th><th scope=col>&lt;dbl&gt;</th><th scope=col>&lt;dbl&gt;</th><th scope=col>&lt;int&gt;</th></tr>\n",
       "</thead>\n",
       "<tbody>\n",
       "\t<tr><td>201607150001</td><td>201601010103</td><td>1</td><td>1</td><td>1</td><td>2016-01-01</td><td>2016-07-15</td><td>2016-08-04</td><td>2016-09-02</td><td>B  </td><td>1</td><td>3</td><td>913</td><td>29</td></tr>\n",
       "\t<tr><td>201605110001</td><td>201601010130</td><td>1</td><td>1</td><td>1</td><td>2016-01-01</td><td>2016-05-11</td><td>2016-08-11</td><td>2016-09-14</td><td>B  </td><td>2</td><td>2</td><td>728</td><td>34</td></tr>\n",
       "\t<tr><td>201608020001</td><td>201601010141</td><td>1</td><td>1</td><td>1</td><td>2016-01-01</td><td>2016-08-02</td><td>2016-08-17</td><td>2016-09-16</td><td>B  </td><td>1</td><td>3</td><td>913</td><td>30</td></tr>\n",
       "\t<tr><td>201608190001</td><td>201601010190</td><td>1</td><td>1</td><td>1</td><td>2016-01-01</td><td>2016-08-19</td><td>2016-08-19</td><td>2016-09-21</td><td>BOT</td><td>2</td><td>2</td><td>728</td><td>33</td></tr>\n",
       "\t<tr><td>201606230001</td><td>201601010194</td><td>1</td><td>1</td><td>1</td><td>2016-01-01</td><td>2016-06-23</td><td>2016-08-13</td><td>2016-09-11</td><td>BOT</td><td>2</td><td>1</td><td>633</td><td>29</td></tr>\n",
       "\t<tr><td>201607250001</td><td>201601010203</td><td>1</td><td>1</td><td>1</td><td>2016-01-01</td><td>2016-07-25</td><td>2016-08-05</td><td>2016-09-02</td><td>BOT</td><td>1</td><td>2</td><td>794</td><td>28</td></tr>\n",
       "</tbody>\n",
       "</table>\n"
      ],
      "text/latex": [
       "A data.table: 6 × 14\n",
       "\\begin{tabular}{llllllllllllll}\n",
       " clm\\_number & pol\\_number & j & k & exposure & date\\_pol\\_start & date\\_occur & date\\_report & date\\_pay & Cover & Brand & Model & Price & payment\\_delay\\\\\n",
       " <chr> & <chr> & <int> & <int> & <dbl> & <dttm> & <dttm> & <dttm> & <dttm> & <chr> & <dbl> & <dbl> & <dbl> & <int>\\\\\n",
       "\\hline\n",
       "\t 201607150001 & 201601010103 & 1 & 1 & 1 & 2016-01-01 & 2016-07-15 & 2016-08-04 & 2016-09-02 & B   & 1 & 3 & 913 & 29\\\\\n",
       "\t 201605110001 & 201601010130 & 1 & 1 & 1 & 2016-01-01 & 2016-05-11 & 2016-08-11 & 2016-09-14 & B   & 2 & 2 & 728 & 34\\\\\n",
       "\t 201608020001 & 201601010141 & 1 & 1 & 1 & 2016-01-01 & 2016-08-02 & 2016-08-17 & 2016-09-16 & B   & 1 & 3 & 913 & 30\\\\\n",
       "\t 201608190001 & 201601010190 & 1 & 1 & 1 & 2016-01-01 & 2016-08-19 & 2016-08-19 & 2016-09-21 & BOT & 2 & 2 & 728 & 33\\\\\n",
       "\t 201606230001 & 201601010194 & 1 & 1 & 1 & 2016-01-01 & 2016-06-23 & 2016-08-13 & 2016-09-11 & BOT & 2 & 1 & 633 & 29\\\\\n",
       "\t 201607250001 & 201601010203 & 1 & 1 & 1 & 2016-01-01 & 2016-07-25 & 2016-08-05 & 2016-09-02 & BOT & 1 & 2 & 794 & 28\\\\\n",
       "\\end{tabular}\n"
      ],
      "text/markdown": [
       "\n",
       "A data.table: 6 × 14\n",
       "\n",
       "| clm_number &lt;chr&gt; | pol_number &lt;chr&gt; | j &lt;int&gt; | k &lt;int&gt; | exposure &lt;dbl&gt; | date_pol_start &lt;dttm&gt; | date_occur &lt;dttm&gt; | date_report &lt;dttm&gt; | date_pay &lt;dttm&gt; | Cover &lt;chr&gt; | Brand &lt;dbl&gt; | Model &lt;dbl&gt; | Price &lt;dbl&gt; | payment_delay &lt;int&gt; |\n",
       "|---|---|---|---|---|---|---|---|---|---|---|---|---|---|\n",
       "| 201607150001 | 201601010103 | 1 | 1 | 1 | 2016-01-01 | 2016-07-15 | 2016-08-04 | 2016-09-02 | B   | 1 | 3 | 913 | 29 |\n",
       "| 201605110001 | 201601010130 | 1 | 1 | 1 | 2016-01-01 | 2016-05-11 | 2016-08-11 | 2016-09-14 | B   | 2 | 2 | 728 | 34 |\n",
       "| 201608020001 | 201601010141 | 1 | 1 | 1 | 2016-01-01 | 2016-08-02 | 2016-08-17 | 2016-09-16 | B   | 1 | 3 | 913 | 30 |\n",
       "| 201608190001 | 201601010190 | 1 | 1 | 1 | 2016-01-01 | 2016-08-19 | 2016-08-19 | 2016-09-21 | BOT | 2 | 2 | 728 | 33 |\n",
       "| 201606230001 | 201601010194 | 1 | 1 | 1 | 2016-01-01 | 2016-06-23 | 2016-08-13 | 2016-09-11 | BOT | 2 | 1 | 633 | 29 |\n",
       "| 201607250001 | 201601010203 | 1 | 1 | 1 | 2016-01-01 | 2016-07-25 | 2016-08-05 | 2016-09-02 | BOT | 1 | 2 | 794 | 28 |\n",
       "\n"
      ],
      "text/plain": [
       "  clm_number   pol_number   j k exposure date_pol_start date_occur date_report\n",
       "1 201607150001 201601010103 1 1 1        2016-01-01     2016-07-15 2016-08-04 \n",
       "2 201605110001 201601010130 1 1 1        2016-01-01     2016-05-11 2016-08-11 \n",
       "3 201608020001 201601010141 1 1 1        2016-01-01     2016-08-02 2016-08-17 \n",
       "4 201608190001 201601010190 1 1 1        2016-01-01     2016-08-19 2016-08-19 \n",
       "5 201606230001 201601010194 1 1 1        2016-01-01     2016-06-23 2016-08-13 \n",
       "6 201607250001 201601010203 1 1 1        2016-01-01     2016-07-25 2016-08-05 \n",
       "  date_pay   Cover Brand Model Price payment_delay\n",
       "1 2016-09-02 B     1     3     913   29           \n",
       "2 2016-09-14 B     2     2     728   34           \n",
       "3 2016-09-16 B     1     3     913   30           \n",
       "4 2016-09-21 BOT   2     2     728   33           \n",
       "5 2016-09-11 BOT   2     1     633   29           \n",
       "6 2016-09-02 BOT   1     2     794   28           "
      ]
     },
     "metadata": {},
     "output_type": "display_data"
    }
   ],
   "source": [
    "head(dt_payment_delay_train)"
   ]
  },
  {
   "cell_type": "code",
   "execution_count": 34,
   "id": "52acbc51-9b4f-48cd-927e-7c4649969f8f",
   "metadata": {},
   "outputs": [
    {
     "data": {
      "text/html": [
       "<table class=\"dataframe\">\n",
       "<caption>A data.table: 6 × 14</caption>\n",
       "<thead>\n",
       "\t<tr><th scope=col>clm_number</th><th scope=col>pol_number</th><th scope=col>j</th><th scope=col>k</th><th scope=col>exposure</th><th scope=col>date_pol_start</th><th scope=col>date_occur</th><th scope=col>date_report</th><th scope=col>date_pay</th><th scope=col>Cover</th><th scope=col>Brand</th><th scope=col>Model</th><th scope=col>Price</th><th scope=col>payment_delay</th></tr>\n",
       "\t<tr><th scope=col>&lt;chr&gt;</th><th scope=col>&lt;chr&gt;</th><th scope=col>&lt;int&gt;</th><th scope=col>&lt;int&gt;</th><th scope=col>&lt;dbl&gt;</th><th scope=col>&lt;dttm&gt;</th><th scope=col>&lt;dttm&gt;</th><th scope=col>&lt;dttm&gt;</th><th scope=col>&lt;dttm&gt;</th><th scope=col>&lt;chr&gt;</th><th scope=col>&lt;dbl&gt;</th><th scope=col>&lt;dbl&gt;</th><th scope=col>&lt;dbl&gt;</th><th scope=col>&lt;int&gt;</th></tr>\n",
       "</thead>\n",
       "<tbody>\n",
       "\t<tr><td>201609150001</td><td>201601010014</td><td>1</td><td>1</td><td>1</td><td>2016-01-01</td><td>2016-09-15</td><td>2016-09-15</td><td>2016-10-17</td><td>B  </td><td>2</td><td>3</td><td>837</td><td>32</td></tr>\n",
       "\t<tr><td>201609090001</td><td>201601010025</td><td>1</td><td>1</td><td>1</td><td>2016-01-01</td><td>2016-09-09</td><td>2016-09-09</td><td>2016-10-07</td><td>B  </td><td>1</td><td>2</td><td>794</td><td>28</td></tr>\n",
       "\t<tr><td>201609020001</td><td>201601010212</td><td>1</td><td>1</td><td>1</td><td>2016-01-01</td><td>2016-09-02</td><td>2016-09-22</td><td>2016-10-20</td><td>BOT</td><td>2</td><td>3</td><td>837</td><td>28</td></tr>\n",
       "\t<tr><td>201606060001</td><td>201601010261</td><td>1</td><td>1</td><td>1</td><td>2016-01-01</td><td>2016-06-06</td><td>2016-09-02</td><td>2016-10-01</td><td>BOT</td><td>1</td><td>1</td><td>690</td><td>29</td></tr>\n",
       "\t<tr><td>201608250001</td><td>201601010284</td><td>1</td><td>1</td><td>1</td><td>2016-01-01</td><td>2016-08-25</td><td>2016-09-06</td><td>2016-10-09</td><td>BOT</td><td>1</td><td>3</td><td>913</td><td>33</td></tr>\n",
       "\t<tr><td>201609200001</td><td>201601010327</td><td>1</td><td>1</td><td>1</td><td>2016-01-01</td><td>2016-09-20</td><td>2016-09-20</td><td>2016-10-26</td><td>BOT</td><td>1</td><td>2</td><td>794</td><td>36</td></tr>\n",
       "</tbody>\n",
       "</table>\n"
      ],
      "text/latex": [
       "A data.table: 6 × 14\n",
       "\\begin{tabular}{llllllllllllll}\n",
       " clm\\_number & pol\\_number & j & k & exposure & date\\_pol\\_start & date\\_occur & date\\_report & date\\_pay & Cover & Brand & Model & Price & payment\\_delay\\\\\n",
       " <chr> & <chr> & <int> & <int> & <dbl> & <dttm> & <dttm> & <dttm> & <dttm> & <chr> & <dbl> & <dbl> & <dbl> & <int>\\\\\n",
       "\\hline\n",
       "\t 201609150001 & 201601010014 & 1 & 1 & 1 & 2016-01-01 & 2016-09-15 & 2016-09-15 & 2016-10-17 & B   & 2 & 3 & 837 & 32\\\\\n",
       "\t 201609090001 & 201601010025 & 1 & 1 & 1 & 2016-01-01 & 2016-09-09 & 2016-09-09 & 2016-10-07 & B   & 1 & 2 & 794 & 28\\\\\n",
       "\t 201609020001 & 201601010212 & 1 & 1 & 1 & 2016-01-01 & 2016-09-02 & 2016-09-22 & 2016-10-20 & BOT & 2 & 3 & 837 & 28\\\\\n",
       "\t 201606060001 & 201601010261 & 1 & 1 & 1 & 2016-01-01 & 2016-06-06 & 2016-09-02 & 2016-10-01 & BOT & 1 & 1 & 690 & 29\\\\\n",
       "\t 201608250001 & 201601010284 & 1 & 1 & 1 & 2016-01-01 & 2016-08-25 & 2016-09-06 & 2016-10-09 & BOT & 1 & 3 & 913 & 33\\\\\n",
       "\t 201609200001 & 201601010327 & 1 & 1 & 1 & 2016-01-01 & 2016-09-20 & 2016-09-20 & 2016-10-26 & BOT & 1 & 2 & 794 & 36\\\\\n",
       "\\end{tabular}\n"
      ],
      "text/markdown": [
       "\n",
       "A data.table: 6 × 14\n",
       "\n",
       "| clm_number &lt;chr&gt; | pol_number &lt;chr&gt; | j &lt;int&gt; | k &lt;int&gt; | exposure &lt;dbl&gt; | date_pol_start &lt;dttm&gt; | date_occur &lt;dttm&gt; | date_report &lt;dttm&gt; | date_pay &lt;dttm&gt; | Cover &lt;chr&gt; | Brand &lt;dbl&gt; | Model &lt;dbl&gt; | Price &lt;dbl&gt; | payment_delay &lt;int&gt; |\n",
       "|---|---|---|---|---|---|---|---|---|---|---|---|---|---|\n",
       "| 201609150001 | 201601010014 | 1 | 1 | 1 | 2016-01-01 | 2016-09-15 | 2016-09-15 | 2016-10-17 | B   | 2 | 3 | 837 | 32 |\n",
       "| 201609090001 | 201601010025 | 1 | 1 | 1 | 2016-01-01 | 2016-09-09 | 2016-09-09 | 2016-10-07 | B   | 1 | 2 | 794 | 28 |\n",
       "| 201609020001 | 201601010212 | 1 | 1 | 1 | 2016-01-01 | 2016-09-02 | 2016-09-22 | 2016-10-20 | BOT | 2 | 3 | 837 | 28 |\n",
       "| 201606060001 | 201601010261 | 1 | 1 | 1 | 2016-01-01 | 2016-06-06 | 2016-09-02 | 2016-10-01 | BOT | 1 | 1 | 690 | 29 |\n",
       "| 201608250001 | 201601010284 | 1 | 1 | 1 | 2016-01-01 | 2016-08-25 | 2016-09-06 | 2016-10-09 | BOT | 1 | 3 | 913 | 33 |\n",
       "| 201609200001 | 201601010327 | 1 | 1 | 1 | 2016-01-01 | 2016-09-20 | 2016-09-20 | 2016-10-26 | BOT | 1 | 2 | 794 | 36 |\n",
       "\n"
      ],
      "text/plain": [
       "  clm_number   pol_number   j k exposure date_pol_start date_occur date_report\n",
       "1 201609150001 201601010014 1 1 1        2016-01-01     2016-09-15 2016-09-15 \n",
       "2 201609090001 201601010025 1 1 1        2016-01-01     2016-09-09 2016-09-09 \n",
       "3 201609020001 201601010212 1 1 1        2016-01-01     2016-09-02 2016-09-22 \n",
       "4 201606060001 201601010261 1 1 1        2016-01-01     2016-06-06 2016-09-02 \n",
       "5 201608250001 201601010284 1 1 1        2016-01-01     2016-08-25 2016-09-06 \n",
       "6 201609200001 201601010327 1 1 1        2016-01-01     2016-09-20 2016-09-20 \n",
       "  date_pay   Cover Brand Model Price payment_delay\n",
       "1 2016-10-17 B     2     3     837   32           \n",
       "2 2016-10-07 B     1     2     794   28           \n",
       "3 2016-10-20 BOT   2     3     837   28           \n",
       "4 2016-10-01 BOT   1     1     690   29           \n",
       "5 2016-10-09 BOT   1     3     913   33           \n",
       "6 2016-10-26 BOT   1     2     794   36           "
      ]
     },
     "metadata": {},
     "output_type": "display_data"
    }
   ],
   "source": [
    "head(dt_payment_delay_test)"
   ]
  },
  {
   "cell_type": "code",
   "execution_count": 62,
   "id": "88488360-b7f9-4e3a-aff6-a3dd729f7ce0",
   "metadata": {},
   "outputs": [],
   "source": [
    "dt_reporting_delay_train[, flgSet := 1]\n",
    "dt_reporting_delay_test[, flgSet := 2]\n",
    "\n",
    "dt_payment_delay_train[, flgSet := 3]\n",
    "dt_payment_delay_test[, flgSet := 4]"
   ]
  },
  {
   "cell_type": "code",
   "execution_count": 63,
   "id": "78e5c0a5-47cf-470b-a547-901b558a8c1e",
   "metadata": {},
   "outputs": [
    {
     "data": {
      "text/html": [
       "<table class=\"dataframe\">\n",
       "<caption>A data.table: 6 × 15</caption>\n",
       "<thead>\n",
       "\t<tr><th scope=col>clm_number</th><th scope=col>pol_number</th><th scope=col>j</th><th scope=col>k</th><th scope=col>exposure</th><th scope=col>date_pol_start</th><th scope=col>date_occur</th><th scope=col>date_report</th><th scope=col>date_pay</th><th scope=col>Cover</th><th scope=col>Brand</th><th scope=col>Model</th><th scope=col>Price</th><th scope=col>reporting_delay</th><th scope=col>flgSet</th></tr>\n",
       "\t<tr><th scope=col>&lt;chr&gt;</th><th scope=col>&lt;chr&gt;</th><th scope=col>&lt;int&gt;</th><th scope=col>&lt;int&gt;</th><th scope=col>&lt;dbl&gt;</th><th scope=col>&lt;dttm&gt;</th><th scope=col>&lt;dttm&gt;</th><th scope=col>&lt;dttm&gt;</th><th scope=col>&lt;dttm&gt;</th><th scope=col>&lt;chr&gt;</th><th scope=col>&lt;dbl&gt;</th><th scope=col>&lt;dbl&gt;</th><th scope=col>&lt;dbl&gt;</th><th scope=col>&lt;int&gt;</th><th scope=col>&lt;dbl&gt;</th></tr>\n",
       "</thead>\n",
       "<tbody>\n",
       "\t<tr><td>201606060001</td><td>201601010261</td><td>1</td><td>1</td><td>1</td><td>2016-01-01</td><td>2016-06-06</td><td>2016-09-02</td><td>2016-10-01</td><td>BOT</td><td>1</td><td>1</td><td>690</td><td>88</td><td>1</td></tr>\n",
       "\t<tr><td>201608250001</td><td>201601010284</td><td>1</td><td>1</td><td>1</td><td>2016-01-01</td><td>2016-08-25</td><td>2016-09-06</td><td>2016-10-09</td><td>BOT</td><td>1</td><td>3</td><td>913</td><td>12</td><td>1</td></tr>\n",
       "\t<tr><td>201608150001</td><td>201601010424</td><td>1</td><td>1</td><td>1</td><td>2016-01-01</td><td>2016-08-15</td><td>2016-08-31</td><td>2016-10-05</td><td>BO </td><td>1</td><td>2</td><td>794</td><td>16</td><td>1</td></tr>\n",
       "\t<tr><td>201608130001</td><td>201601020104</td><td>1</td><td>1</td><td>1</td><td>2016-01-02</td><td>2016-08-13</td><td>2016-08-31</td><td>2016-10-03</td><td>B  </td><td>2</td><td>2</td><td>728</td><td>18</td><td>1</td></tr>\n",
       "\t<tr><td>201607060001</td><td>201601020708</td><td>1</td><td>1</td><td>1</td><td>2016-01-02</td><td>2016-07-06</td><td>2016-09-08</td><td>2016-10-07</td><td>BO </td><td>3</td><td>3</td><td>457</td><td>64</td><td>1</td></tr>\n",
       "\t<tr><td>201608020004</td><td>201601030154</td><td>1</td><td>1</td><td>1</td><td>2016-01-03</td><td>2016-08-02</td><td>2016-09-06</td><td>2016-10-10</td><td>B  </td><td>2</td><td>2</td><td>728</td><td>35</td><td>1</td></tr>\n",
       "</tbody>\n",
       "</table>\n"
      ],
      "text/latex": [
       "A data.table: 6 × 15\n",
       "\\begin{tabular}{lllllllllllllll}\n",
       " clm\\_number & pol\\_number & j & k & exposure & date\\_pol\\_start & date\\_occur & date\\_report & date\\_pay & Cover & Brand & Model & Price & reporting\\_delay & flgSet\\\\\n",
       " <chr> & <chr> & <int> & <int> & <dbl> & <dttm> & <dttm> & <dttm> & <dttm> & <chr> & <dbl> & <dbl> & <dbl> & <int> & <dbl>\\\\\n",
       "\\hline\n",
       "\t 201606060001 & 201601010261 & 1 & 1 & 1 & 2016-01-01 & 2016-06-06 & 2016-09-02 & 2016-10-01 & BOT & 1 & 1 & 690 & 88 & 1\\\\\n",
       "\t 201608250001 & 201601010284 & 1 & 1 & 1 & 2016-01-01 & 2016-08-25 & 2016-09-06 & 2016-10-09 & BOT & 1 & 3 & 913 & 12 & 1\\\\\n",
       "\t 201608150001 & 201601010424 & 1 & 1 & 1 & 2016-01-01 & 2016-08-15 & 2016-08-31 & 2016-10-05 & BO  & 1 & 2 & 794 & 16 & 1\\\\\n",
       "\t 201608130001 & 201601020104 & 1 & 1 & 1 & 2016-01-02 & 2016-08-13 & 2016-08-31 & 2016-10-03 & B   & 2 & 2 & 728 & 18 & 1\\\\\n",
       "\t 201607060001 & 201601020708 & 1 & 1 & 1 & 2016-01-02 & 2016-07-06 & 2016-09-08 & 2016-10-07 & BO  & 3 & 3 & 457 & 64 & 1\\\\\n",
       "\t 201608020004 & 201601030154 & 1 & 1 & 1 & 2016-01-03 & 2016-08-02 & 2016-09-06 & 2016-10-10 & B   & 2 & 2 & 728 & 35 & 1\\\\\n",
       "\\end{tabular}\n"
      ],
      "text/markdown": [
       "\n",
       "A data.table: 6 × 15\n",
       "\n",
       "| clm_number &lt;chr&gt; | pol_number &lt;chr&gt; | j &lt;int&gt; | k &lt;int&gt; | exposure &lt;dbl&gt; | date_pol_start &lt;dttm&gt; | date_occur &lt;dttm&gt; | date_report &lt;dttm&gt; | date_pay &lt;dttm&gt; | Cover &lt;chr&gt; | Brand &lt;dbl&gt; | Model &lt;dbl&gt; | Price &lt;dbl&gt; | reporting_delay &lt;int&gt; | flgSet &lt;dbl&gt; |\n",
       "|---|---|---|---|---|---|---|---|---|---|---|---|---|---|---|\n",
       "| 201606060001 | 201601010261 | 1 | 1 | 1 | 2016-01-01 | 2016-06-06 | 2016-09-02 | 2016-10-01 | BOT | 1 | 1 | 690 | 88 | 1 |\n",
       "| 201608250001 | 201601010284 | 1 | 1 | 1 | 2016-01-01 | 2016-08-25 | 2016-09-06 | 2016-10-09 | BOT | 1 | 3 | 913 | 12 | 1 |\n",
       "| 201608150001 | 201601010424 | 1 | 1 | 1 | 2016-01-01 | 2016-08-15 | 2016-08-31 | 2016-10-05 | BO  | 1 | 2 | 794 | 16 | 1 |\n",
       "| 201608130001 | 201601020104 | 1 | 1 | 1 | 2016-01-02 | 2016-08-13 | 2016-08-31 | 2016-10-03 | B   | 2 | 2 | 728 | 18 | 1 |\n",
       "| 201607060001 | 201601020708 | 1 | 1 | 1 | 2016-01-02 | 2016-07-06 | 2016-09-08 | 2016-10-07 | BO  | 3 | 3 | 457 | 64 | 1 |\n",
       "| 201608020004 | 201601030154 | 1 | 1 | 1 | 2016-01-03 | 2016-08-02 | 2016-09-06 | 2016-10-10 | B   | 2 | 2 | 728 | 35 | 1 |\n",
       "\n"
      ],
      "text/plain": [
       "  clm_number   pol_number   j k exposure date_pol_start date_occur date_report\n",
       "1 201606060001 201601010261 1 1 1        2016-01-01     2016-06-06 2016-09-02 \n",
       "2 201608250001 201601010284 1 1 1        2016-01-01     2016-08-25 2016-09-06 \n",
       "3 201608150001 201601010424 1 1 1        2016-01-01     2016-08-15 2016-08-31 \n",
       "4 201608130001 201601020104 1 1 1        2016-01-02     2016-08-13 2016-08-31 \n",
       "5 201607060001 201601020708 1 1 1        2016-01-02     2016-07-06 2016-09-08 \n",
       "6 201608020004 201601030154 1 1 1        2016-01-03     2016-08-02 2016-09-06 \n",
       "  date_pay   Cover Brand Model Price reporting_delay flgSet\n",
       "1 2016-10-01 BOT   1     1     690   88              1     \n",
       "2 2016-10-09 BOT   1     3     913   12              1     \n",
       "3 2016-10-05 BO    1     2     794   16              1     \n",
       "4 2016-10-03 B     2     2     728   18              1     \n",
       "5 2016-10-07 BO    3     3     457   64              1     \n",
       "6 2016-10-10 B     2     2     728   35              1     "
      ]
     },
     "metadata": {},
     "output_type": "display_data"
    }
   ],
   "source": [
    "head(dt_reporting_delay_train)"
   ]
  },
  {
   "cell_type": "code",
   "execution_count": 126,
   "id": "23cb2597-cd07-4149-996b-a07d354268cc",
   "metadata": {
    "scrolled": true
   },
   "outputs": [
    {
     "data": {
      "text/html": [
       "<table class=\"dataframe\">\n",
       "<caption>A data.table: 6 × 15</caption>\n",
       "<thead>\n",
       "\t<tr><th scope=col>clm_number</th><th scope=col>pol_number</th><th scope=col>j</th><th scope=col>k</th><th scope=col>exposure</th><th scope=col>date_pol_start</th><th scope=col>date_occur</th><th scope=col>date_report</th><th scope=col>date_pay</th><th scope=col>Cover</th><th scope=col>Brand</th><th scope=col>Model</th><th scope=col>Price</th><th scope=col>reporting_delay</th><th scope=col>flgSet</th></tr>\n",
       "\t<tr><th scope=col>&lt;chr&gt;</th><th scope=col>&lt;chr&gt;</th><th scope=col>&lt;int&gt;</th><th scope=col>&lt;int&gt;</th><th scope=col>&lt;dbl&gt;</th><th scope=col>&lt;dttm&gt;</th><th scope=col>&lt;dttm&gt;</th><th scope=col>&lt;dttm&gt;</th><th scope=col>&lt;dttm&gt;</th><th scope=col>&lt;chr&gt;</th><th scope=col>&lt;dbl&gt;</th><th scope=col>&lt;dbl&gt;</th><th scope=col>&lt;dbl&gt;</th><th scope=col>&lt;int&gt;</th><th scope=col>&lt;dbl&gt;</th></tr>\n",
       "</thead>\n",
       "<tbody>\n",
       "\t<tr><td>201607310001</td><td>201601010215</td><td>1</td><td>1</td><td>1</td><td>2016-01-01</td><td>2016-07-31</td><td>2016-10-21</td><td>2016-11-23</td><td>BOT</td><td>2</td><td>3</td><td>837</td><td> 82</td><td>2</td></tr>\n",
       "\t<tr><td>201609260001</td><td>201601010289</td><td>1</td><td>1</td><td>1</td><td>2016-01-01</td><td>2016-09-26</td><td>2016-10-26</td><td>2016-11-13</td><td>BOT</td><td>1</td><td>2</td><td>794</td><td> 30</td><td>2</td></tr>\n",
       "\t<tr><td>201609160001</td><td>201601010409</td><td>1</td><td>1</td><td>1</td><td>2016-01-01</td><td>2016-09-16</td><td>2016-10-25</td><td>2016-11-25</td><td>BO </td><td>1</td><td>3</td><td>913</td><td> 39</td><td>2</td></tr>\n",
       "\t<tr><td>201606080002</td><td>201601020251</td><td>1</td><td>1</td><td>1</td><td>2016-01-02</td><td>2016-06-08</td><td>2016-09-29</td><td>2016-10-29</td><td>BOT</td><td>4</td><td>2</td><td>199</td><td>113</td><td>2</td></tr>\n",
       "\t<tr><td>201609060001</td><td>201601020253</td><td>1</td><td>1</td><td>1</td><td>2016-01-02</td><td>2016-09-06</td><td>2016-10-03</td><td>2016-11-06</td><td>BOT</td><td>1</td><td>2</td><td>794</td><td> 27</td><td>2</td></tr>\n",
       "\t<tr><td>201607200001</td><td>201601020296</td><td>1</td><td>1</td><td>1</td><td>2016-01-02</td><td>2016-07-20</td><td>2016-10-07</td><td>2016-10-29</td><td>BOT</td><td>1</td><td>2</td><td>794</td><td> 79</td><td>2</td></tr>\n",
       "</tbody>\n",
       "</table>\n"
      ],
      "text/latex": [
       "A data.table: 6 × 15\n",
       "\\begin{tabular}{lllllllllllllll}\n",
       " clm\\_number & pol\\_number & j & k & exposure & date\\_pol\\_start & date\\_occur & date\\_report & date\\_pay & Cover & Brand & Model & Price & reporting\\_delay & flgSet\\\\\n",
       " <chr> & <chr> & <int> & <int> & <dbl> & <dttm> & <dttm> & <dttm> & <dttm> & <chr> & <dbl> & <dbl> & <dbl> & <int> & <dbl>\\\\\n",
       "\\hline\n",
       "\t 201607310001 & 201601010215 & 1 & 1 & 1 & 2016-01-01 & 2016-07-31 & 2016-10-21 & 2016-11-23 & BOT & 2 & 3 & 837 &  82 & 2\\\\\n",
       "\t 201609260001 & 201601010289 & 1 & 1 & 1 & 2016-01-01 & 2016-09-26 & 2016-10-26 & 2016-11-13 & BOT & 1 & 2 & 794 &  30 & 2\\\\\n",
       "\t 201609160001 & 201601010409 & 1 & 1 & 1 & 2016-01-01 & 2016-09-16 & 2016-10-25 & 2016-11-25 & BO  & 1 & 3 & 913 &  39 & 2\\\\\n",
       "\t 201606080002 & 201601020251 & 1 & 1 & 1 & 2016-01-02 & 2016-06-08 & 2016-09-29 & 2016-10-29 & BOT & 4 & 2 & 199 & 113 & 2\\\\\n",
       "\t 201609060001 & 201601020253 & 1 & 1 & 1 & 2016-01-02 & 2016-09-06 & 2016-10-03 & 2016-11-06 & BOT & 1 & 2 & 794 &  27 & 2\\\\\n",
       "\t 201607200001 & 201601020296 & 1 & 1 & 1 & 2016-01-02 & 2016-07-20 & 2016-10-07 & 2016-10-29 & BOT & 1 & 2 & 794 &  79 & 2\\\\\n",
       "\\end{tabular}\n"
      ],
      "text/markdown": [
       "\n",
       "A data.table: 6 × 15\n",
       "\n",
       "| clm_number &lt;chr&gt; | pol_number &lt;chr&gt; | j &lt;int&gt; | k &lt;int&gt; | exposure &lt;dbl&gt; | date_pol_start &lt;dttm&gt; | date_occur &lt;dttm&gt; | date_report &lt;dttm&gt; | date_pay &lt;dttm&gt; | Cover &lt;chr&gt; | Brand &lt;dbl&gt; | Model &lt;dbl&gt; | Price &lt;dbl&gt; | reporting_delay &lt;int&gt; | flgSet &lt;dbl&gt; |\n",
       "|---|---|---|---|---|---|---|---|---|---|---|---|---|---|---|\n",
       "| 201607310001 | 201601010215 | 1 | 1 | 1 | 2016-01-01 | 2016-07-31 | 2016-10-21 | 2016-11-23 | BOT | 2 | 3 | 837 |  82 | 2 |\n",
       "| 201609260001 | 201601010289 | 1 | 1 | 1 | 2016-01-01 | 2016-09-26 | 2016-10-26 | 2016-11-13 | BOT | 1 | 2 | 794 |  30 | 2 |\n",
       "| 201609160001 | 201601010409 | 1 | 1 | 1 | 2016-01-01 | 2016-09-16 | 2016-10-25 | 2016-11-25 | BO  | 1 | 3 | 913 |  39 | 2 |\n",
       "| 201606080002 | 201601020251 | 1 | 1 | 1 | 2016-01-02 | 2016-06-08 | 2016-09-29 | 2016-10-29 | BOT | 4 | 2 | 199 | 113 | 2 |\n",
       "| 201609060001 | 201601020253 | 1 | 1 | 1 | 2016-01-02 | 2016-09-06 | 2016-10-03 | 2016-11-06 | BOT | 1 | 2 | 794 |  27 | 2 |\n",
       "| 201607200001 | 201601020296 | 1 | 1 | 1 | 2016-01-02 | 2016-07-20 | 2016-10-07 | 2016-10-29 | BOT | 1 | 2 | 794 |  79 | 2 |\n",
       "\n"
      ],
      "text/plain": [
       "  clm_number   pol_number   j k exposure date_pol_start date_occur date_report\n",
       "1 201607310001 201601010215 1 1 1        2016-01-01     2016-07-31 2016-10-21 \n",
       "2 201609260001 201601010289 1 1 1        2016-01-01     2016-09-26 2016-10-26 \n",
       "3 201609160001 201601010409 1 1 1        2016-01-01     2016-09-16 2016-10-25 \n",
       "4 201606080002 201601020251 1 1 1        2016-01-02     2016-06-08 2016-09-29 \n",
       "5 201609060001 201601020253 1 1 1        2016-01-02     2016-09-06 2016-10-03 \n",
       "6 201607200001 201601020296 1 1 1        2016-01-02     2016-07-20 2016-10-07 \n",
       "  date_pay   Cover Brand Model Price reporting_delay flgSet\n",
       "1 2016-11-23 BOT   2     3     837    82             2     \n",
       "2 2016-11-13 BOT   1     2     794    30             2     \n",
       "3 2016-11-25 BO    1     3     913    39             2     \n",
       "4 2016-10-29 BOT   4     2     199   113             2     \n",
       "5 2016-11-06 BOT   1     2     794    27             2     \n",
       "6 2016-10-29 BOT   1     2     794    79             2     "
      ]
     },
     "metadata": {},
     "output_type": "display_data"
    },
    {
     "data": {
      "text/html": [
       "<style>\n",
       ".list-inline {list-style: none; margin:0; padding: 0}\n",
       ".list-inline>li {display: inline-block}\n",
       ".list-inline>li:not(:last-child)::after {content: \"\\00b7\"; padding: 0 .5ex}\n",
       "</style>\n",
       "<ol class=list-inline><li>1449</li><li>15</li></ol>\n"
      ],
      "text/latex": [
       "\\begin{enumerate*}\n",
       "\\item 1449\n",
       "\\item 15\n",
       "\\end{enumerate*}\n"
      ],
      "text/markdown": [
       "1. 1449\n",
       "2. 15\n",
       "\n",
       "\n"
      ],
      "text/plain": [
       "[1] 1449   15"
      ]
     },
     "metadata": {},
     "output_type": "display_data"
    }
   ],
   "source": [
    "head(dt_reporting_delay_test)\n",
    "dim(dt_reporting_delay_test)"
   ]
  },
  {
   "cell_type": "code",
   "execution_count": 65,
   "id": "acf0bdb6-90cc-46de-86c7-0a83dd4b2e26",
   "metadata": {},
   "outputs": [],
   "source": [
    "dt_reporting_delay_all <- rbindlist(\n",
    "  list(dt_reporting_delay_train, dt_reporting_delay_test),\n",
    "  use.names = TRUE, fill = TRUE\n",
    ")\n"
   ]
  },
  {
   "cell_type": "code",
   "execution_count": 82,
   "id": "147c55ce-1f9e-4c76-be2b-98aa716dbbf7",
   "metadata": {},
   "outputs": [],
   "source": [
    "# order and create some delay fields\n",
    "setkey(dt_reporting_delay_all, clm_number, k, j)\n",
    "    \n",
    "dt_reporting_delay_all[, Count := .N , by =clm_number]\n",
    "dt_reporting_delay_all[,':='( delay_uw_occ = ifelse(year(date_occur) == 2199,\n",
    "                                        -1,\n",
    "                                        ceiling((as.numeric(date_occur) - as.numeric(date_pol_start))\n",
    "                                                  /(24*60*60))\n",
    "                                          ),\n",
    "                   delay_occ_rep = ifelse(year(date_occur) == 2199,\n",
    "                                          -1,\n",
    "                                          ceiling((as.numeric(date_report) - as.numeric(date_occur))\n",
    "                                                  /(24*60*60))\n",
    "                                          ),\n",
    "                   delay_rep_pay = ifelse(year(date_occur) == 2199,\n",
    "                                          -1,\n",
    "                                          ceiling((as.numeric(date_pay) - as.numeric(date_report))\n",
    "                                                  /(24*60*60))\n",
    "                                          ),\n",
    "                   delay_uw_val = ceiling((as.numeric(t_i) - as.numeric(date_pol_start))/(24*60*60)),\n",
    "                   date_uw = ceiling(as.numeric(date_pol_start)/(24*60*60)),\n",
    "                   Cover = as.factor(Cover))]\n",
    "     "
   ]
  },
  {
   "cell_type": "code",
   "execution_count": 83,
   "id": "0208e90d-5724-4191-a061-ddef8f883407",
   "metadata": {},
   "outputs": [
    {
     "data": {
      "text/html": [
       "<table class=\"dataframe\">\n",
       "<caption>A data.table: 6 × 22</caption>\n",
       "<thead>\n",
       "\t<tr><th scope=col>clm_number</th><th scope=col>pol_number</th><th scope=col>j</th><th scope=col>k</th><th scope=col>exposure</th><th scope=col>date_pol_start</th><th scope=col>date_occur</th><th scope=col>date_report</th><th scope=col>date_pay</th><th scope=col>Cover</th><th scope=col>...</th><th scope=col>Price</th><th scope=col>reporting_delay</th><th scope=col>flgSet</th><th scope=col>date_pol_start_YYYYMM</th><th scope=col>Count</th><th scope=col>delay_uw_occ</th><th scope=col>delay_occ_rep</th><th scope=col>delay_rep_pay</th><th scope=col>delay_uw_val</th><th scope=col>date_uw</th></tr>\n",
       "\t<tr><th scope=col>&lt;chr&gt;</th><th scope=col>&lt;chr&gt;</th><th scope=col>&lt;int&gt;</th><th scope=col>&lt;int&gt;</th><th scope=col>&lt;dbl&gt;</th><th scope=col>&lt;dttm&gt;</th><th scope=col>&lt;dttm&gt;</th><th scope=col>&lt;dttm&gt;</th><th scope=col>&lt;dttm&gt;</th><th scope=col>&lt;fct&gt;</th><th scope=col>...</th><th scope=col>&lt;dbl&gt;</th><th scope=col>&lt;int&gt;</th><th scope=col>&lt;dbl&gt;</th><th scope=col>&lt;chr&gt;</th><th scope=col>&lt;int&gt;</th><th scope=col>&lt;dbl&gt;</th><th scope=col>&lt;dbl&gt;</th><th scope=col>&lt;dbl&gt;</th><th scope=col>&lt;dbl&gt;</th><th scope=col>&lt;dbl&gt;</th></tr>\n",
       "</thead>\n",
       "<tbody>\n",
       "\t<tr><td>201603170001</td><td>201601020465</td><td>1</td><td>1</td><td>1</td><td>2016-01-02</td><td>2016-03-17</td><td>2016-10-11</td><td>2016-11-18</td><td>BO</td><td>...</td><td>550</td><td>208</td><td>2</td><td>2016.01</td><td>1</td><td>75</td><td>208</td><td>38</td><td>269</td><td>16802</td></tr>\n",
       "\t<tr><td>201604210015</td><td>201601220649</td><td>1</td><td>1</td><td>1</td><td>2016-01-22</td><td>2016-04-21</td><td>2016-09-14</td><td>2016-10-11</td><td>BO</td><td>...</td><td>837</td><td>146</td><td>1</td><td>2016.01</td><td>5</td><td>90</td><td>146</td><td>27</td><td>249</td><td>16822</td></tr>\n",
       "\t<tr><td>201604210015</td><td>201601220649</td><td>2</td><td>1</td><td>1</td><td>2016-01-22</td><td>2016-04-21</td><td>2016-09-14</td><td>2016-10-11</td><td>BO</td><td>...</td><td>837</td><td>146</td><td>1</td><td>2016.01</td><td>5</td><td>90</td><td>146</td><td>27</td><td>249</td><td>16822</td></tr>\n",
       "\t<tr><td>201604210015</td><td>201601220649</td><td>3</td><td>1</td><td>1</td><td>2016-01-22</td><td>2016-04-21</td><td>2016-09-14</td><td>2016-10-11</td><td>BO</td><td>...</td><td>837</td><td>146</td><td>1</td><td>2016.01</td><td>5</td><td>90</td><td>146</td><td>27</td><td>249</td><td>16822</td></tr>\n",
       "\t<tr><td>201604210015</td><td>201601220649</td><td>4</td><td>1</td><td>1</td><td>2016-01-22</td><td>2016-04-21</td><td>2016-09-14</td><td>2016-10-11</td><td>BO</td><td>...</td><td>837</td><td>146</td><td>1</td><td>2016.01</td><td>5</td><td>90</td><td>146</td><td>27</td><td>249</td><td>16822</td></tr>\n",
       "\t<tr><td>201604210015</td><td>201601220649</td><td>5</td><td>1</td><td>1</td><td>2016-01-22</td><td>2016-04-21</td><td>2016-09-14</td><td>2016-10-11</td><td>BO</td><td>...</td><td>837</td><td>146</td><td>1</td><td>2016.01</td><td>5</td><td>90</td><td>146</td><td>27</td><td>249</td><td>16822</td></tr>\n",
       "</tbody>\n",
       "</table>\n"
      ],
      "text/latex": [
       "A data.table: 6 × 22\n",
       "\\begin{tabular}{lllllllllllllllllllll}\n",
       " clm\\_number & pol\\_number & j & k & exposure & date\\_pol\\_start & date\\_occur & date\\_report & date\\_pay & Cover & ... & Price & reporting\\_delay & flgSet & date\\_pol\\_start\\_YYYYMM & Count & delay\\_uw\\_occ & delay\\_occ\\_rep & delay\\_rep\\_pay & delay\\_uw\\_val & date\\_uw\\\\\n",
       " <chr> & <chr> & <int> & <int> & <dbl> & <dttm> & <dttm> & <dttm> & <dttm> & <fct> & ... & <dbl> & <int> & <dbl> & <chr> & <int> & <dbl> & <dbl> & <dbl> & <dbl> & <dbl>\\\\\n",
       "\\hline\n",
       "\t 201603170001 & 201601020465 & 1 & 1 & 1 & 2016-01-02 & 2016-03-17 & 2016-10-11 & 2016-11-18 & BO & ... & 550 & 208 & 2 & 2016.01 & 1 & 75 & 208 & 38 & 269 & 16802\\\\\n",
       "\t 201604210015 & 201601220649 & 1 & 1 & 1 & 2016-01-22 & 2016-04-21 & 2016-09-14 & 2016-10-11 & BO & ... & 837 & 146 & 1 & 2016.01 & 5 & 90 & 146 & 27 & 249 & 16822\\\\\n",
       "\t 201604210015 & 201601220649 & 2 & 1 & 1 & 2016-01-22 & 2016-04-21 & 2016-09-14 & 2016-10-11 & BO & ... & 837 & 146 & 1 & 2016.01 & 5 & 90 & 146 & 27 & 249 & 16822\\\\\n",
       "\t 201604210015 & 201601220649 & 3 & 1 & 1 & 2016-01-22 & 2016-04-21 & 2016-09-14 & 2016-10-11 & BO & ... & 837 & 146 & 1 & 2016.01 & 5 & 90 & 146 & 27 & 249 & 16822\\\\\n",
       "\t 201604210015 & 201601220649 & 4 & 1 & 1 & 2016-01-22 & 2016-04-21 & 2016-09-14 & 2016-10-11 & BO & ... & 837 & 146 & 1 & 2016.01 & 5 & 90 & 146 & 27 & 249 & 16822\\\\\n",
       "\t 201604210015 & 201601220649 & 5 & 1 & 1 & 2016-01-22 & 2016-04-21 & 2016-09-14 & 2016-10-11 & BO & ... & 837 & 146 & 1 & 2016.01 & 5 & 90 & 146 & 27 & 249 & 16822\\\\\n",
       "\\end{tabular}\n"
      ],
      "text/markdown": [
       "\n",
       "A data.table: 6 × 22\n",
       "\n",
       "| clm_number &lt;chr&gt; | pol_number &lt;chr&gt; | j &lt;int&gt; | k &lt;int&gt; | exposure &lt;dbl&gt; | date_pol_start &lt;dttm&gt; | date_occur &lt;dttm&gt; | date_report &lt;dttm&gt; | date_pay &lt;dttm&gt; | Cover &lt;fct&gt; | ... ... | Price &lt;dbl&gt; | reporting_delay &lt;int&gt; | flgSet &lt;dbl&gt; | date_pol_start_YYYYMM &lt;chr&gt; | Count &lt;int&gt; | delay_uw_occ &lt;dbl&gt; | delay_occ_rep &lt;dbl&gt; | delay_rep_pay &lt;dbl&gt; | delay_uw_val &lt;dbl&gt; | date_uw &lt;dbl&gt; |\n",
       "|---|---|---|---|---|---|---|---|---|---|---|---|---|---|---|---|---|---|---|---|---|\n",
       "| 201603170001 | 201601020465 | 1 | 1 | 1 | 2016-01-02 | 2016-03-17 | 2016-10-11 | 2016-11-18 | BO | ... | 550 | 208 | 2 | 2016.01 | 1 | 75 | 208 | 38 | 269 | 16802 |\n",
       "| 201604210015 | 201601220649 | 1 | 1 | 1 | 2016-01-22 | 2016-04-21 | 2016-09-14 | 2016-10-11 | BO | ... | 837 | 146 | 1 | 2016.01 | 5 | 90 | 146 | 27 | 249 | 16822 |\n",
       "| 201604210015 | 201601220649 | 2 | 1 | 1 | 2016-01-22 | 2016-04-21 | 2016-09-14 | 2016-10-11 | BO | ... | 837 | 146 | 1 | 2016.01 | 5 | 90 | 146 | 27 | 249 | 16822 |\n",
       "| 201604210015 | 201601220649 | 3 | 1 | 1 | 2016-01-22 | 2016-04-21 | 2016-09-14 | 2016-10-11 | BO | ... | 837 | 146 | 1 | 2016.01 | 5 | 90 | 146 | 27 | 249 | 16822 |\n",
       "| 201604210015 | 201601220649 | 4 | 1 | 1 | 2016-01-22 | 2016-04-21 | 2016-09-14 | 2016-10-11 | BO | ... | 837 | 146 | 1 | 2016.01 | 5 | 90 | 146 | 27 | 249 | 16822 |\n",
       "| 201604210015 | 201601220649 | 5 | 1 | 1 | 2016-01-22 | 2016-04-21 | 2016-09-14 | 2016-10-11 | BO | ... | 837 | 146 | 1 | 2016.01 | 5 | 90 | 146 | 27 | 249 | 16822 |\n",
       "\n"
      ],
      "text/plain": [
       "  clm_number   pol_number   j k exposure date_pol_start date_occur date_report\n",
       "1 201603170001 201601020465 1 1 1        2016-01-02     2016-03-17 2016-10-11 \n",
       "2 201604210015 201601220649 1 1 1        2016-01-22     2016-04-21 2016-09-14 \n",
       "3 201604210015 201601220649 2 1 1        2016-01-22     2016-04-21 2016-09-14 \n",
       "4 201604210015 201601220649 3 1 1        2016-01-22     2016-04-21 2016-09-14 \n",
       "5 201604210015 201601220649 4 1 1        2016-01-22     2016-04-21 2016-09-14 \n",
       "6 201604210015 201601220649 5 1 1        2016-01-22     2016-04-21 2016-09-14 \n",
       "  date_pay   Cover ... Price reporting_delay flgSet date_pol_start_YYYYMM Count\n",
       "1 2016-11-18 BO    ... 550   208             2      2016.01               1    \n",
       "2 2016-10-11 BO    ... 837   146             1      2016.01               5    \n",
       "3 2016-10-11 BO    ... 837   146             1      2016.01               5    \n",
       "4 2016-10-11 BO    ... 837   146             1      2016.01               5    \n",
       "5 2016-10-11 BO    ... 837   146             1      2016.01               5    \n",
       "6 2016-10-11 BO    ... 837   146             1      2016.01               5    \n",
       "  delay_uw_occ delay_occ_rep delay_rep_pay delay_uw_val date_uw\n",
       "1 75           208           38            269          16802  \n",
       "2 90           146           27            249          16822  \n",
       "3 90           146           27            249          16822  \n",
       "4 90           146           27            249          16822  \n",
       "5 90           146           27            249          16822  \n",
       "6 90           146           27            249          16822  "
      ]
     },
     "metadata": {},
     "output_type": "display_data"
    }
   ],
   "source": [
    "head(dt_reporting_delay_all)"
   ]
  },
  {
   "cell_type": "code",
   "execution_count": 67,
   "id": "c9406e05-43bc-4d18-a999-ea4fb685a47b",
   "metadata": {},
   "outputs": [],
   "source": [
    "dt_payment_delay_train[, flgSet := 3]\n",
    "dt_payment_delay_test[, flgSet := 4]"
   ]
  },
  {
   "cell_type": "code",
   "execution_count": 68,
   "id": "da3e95c0-6f5f-47a6-956f-0631ae62b2c8",
   "metadata": {},
   "outputs": [
    {
     "data": {
      "text/html": [
       "<table class=\"dataframe\">\n",
       "<caption>A data.table: 6 × 15</caption>\n",
       "<thead>\n",
       "\t<tr><th scope=col>clm_number</th><th scope=col>pol_number</th><th scope=col>j</th><th scope=col>k</th><th scope=col>exposure</th><th scope=col>date_pol_start</th><th scope=col>date_occur</th><th scope=col>date_report</th><th scope=col>date_pay</th><th scope=col>Cover</th><th scope=col>Brand</th><th scope=col>Model</th><th scope=col>Price</th><th scope=col>payment_delay</th><th scope=col>flgSet</th></tr>\n",
       "\t<tr><th scope=col>&lt;chr&gt;</th><th scope=col>&lt;chr&gt;</th><th scope=col>&lt;int&gt;</th><th scope=col>&lt;int&gt;</th><th scope=col>&lt;dbl&gt;</th><th scope=col>&lt;dttm&gt;</th><th scope=col>&lt;dttm&gt;</th><th scope=col>&lt;dttm&gt;</th><th scope=col>&lt;dttm&gt;</th><th scope=col>&lt;chr&gt;</th><th scope=col>&lt;dbl&gt;</th><th scope=col>&lt;dbl&gt;</th><th scope=col>&lt;dbl&gt;</th><th scope=col>&lt;int&gt;</th><th scope=col>&lt;dbl&gt;</th></tr>\n",
       "</thead>\n",
       "<tbody>\n",
       "\t<tr><td>201607150001</td><td>201601010103</td><td>1</td><td>1</td><td>1</td><td>2016-01-01</td><td>2016-07-15</td><td>2016-08-04</td><td>2016-09-02</td><td>B  </td><td>1</td><td>3</td><td>913</td><td>29</td><td>3</td></tr>\n",
       "\t<tr><td>201605110001</td><td>201601010130</td><td>1</td><td>1</td><td>1</td><td>2016-01-01</td><td>2016-05-11</td><td>2016-08-11</td><td>2016-09-14</td><td>B  </td><td>2</td><td>2</td><td>728</td><td>34</td><td>3</td></tr>\n",
       "\t<tr><td>201608020001</td><td>201601010141</td><td>1</td><td>1</td><td>1</td><td>2016-01-01</td><td>2016-08-02</td><td>2016-08-17</td><td>2016-09-16</td><td>B  </td><td>1</td><td>3</td><td>913</td><td>30</td><td>3</td></tr>\n",
       "\t<tr><td>201608190001</td><td>201601010190</td><td>1</td><td>1</td><td>1</td><td>2016-01-01</td><td>2016-08-19</td><td>2016-08-19</td><td>2016-09-21</td><td>BOT</td><td>2</td><td>2</td><td>728</td><td>33</td><td>3</td></tr>\n",
       "\t<tr><td>201606230001</td><td>201601010194</td><td>1</td><td>1</td><td>1</td><td>2016-01-01</td><td>2016-06-23</td><td>2016-08-13</td><td>2016-09-11</td><td>BOT</td><td>2</td><td>1</td><td>633</td><td>29</td><td>3</td></tr>\n",
       "\t<tr><td>201607250001</td><td>201601010203</td><td>1</td><td>1</td><td>1</td><td>2016-01-01</td><td>2016-07-25</td><td>2016-08-05</td><td>2016-09-02</td><td>BOT</td><td>1</td><td>2</td><td>794</td><td>28</td><td>3</td></tr>\n",
       "</tbody>\n",
       "</table>\n"
      ],
      "text/latex": [
       "A data.table: 6 × 15\n",
       "\\begin{tabular}{lllllllllllllll}\n",
       " clm\\_number & pol\\_number & j & k & exposure & date\\_pol\\_start & date\\_occur & date\\_report & date\\_pay & Cover & Brand & Model & Price & payment\\_delay & flgSet\\\\\n",
       " <chr> & <chr> & <int> & <int> & <dbl> & <dttm> & <dttm> & <dttm> & <dttm> & <chr> & <dbl> & <dbl> & <dbl> & <int> & <dbl>\\\\\n",
       "\\hline\n",
       "\t 201607150001 & 201601010103 & 1 & 1 & 1 & 2016-01-01 & 2016-07-15 & 2016-08-04 & 2016-09-02 & B   & 1 & 3 & 913 & 29 & 3\\\\\n",
       "\t 201605110001 & 201601010130 & 1 & 1 & 1 & 2016-01-01 & 2016-05-11 & 2016-08-11 & 2016-09-14 & B   & 2 & 2 & 728 & 34 & 3\\\\\n",
       "\t 201608020001 & 201601010141 & 1 & 1 & 1 & 2016-01-01 & 2016-08-02 & 2016-08-17 & 2016-09-16 & B   & 1 & 3 & 913 & 30 & 3\\\\\n",
       "\t 201608190001 & 201601010190 & 1 & 1 & 1 & 2016-01-01 & 2016-08-19 & 2016-08-19 & 2016-09-21 & BOT & 2 & 2 & 728 & 33 & 3\\\\\n",
       "\t 201606230001 & 201601010194 & 1 & 1 & 1 & 2016-01-01 & 2016-06-23 & 2016-08-13 & 2016-09-11 & BOT & 2 & 1 & 633 & 29 & 3\\\\\n",
       "\t 201607250001 & 201601010203 & 1 & 1 & 1 & 2016-01-01 & 2016-07-25 & 2016-08-05 & 2016-09-02 & BOT & 1 & 2 & 794 & 28 & 3\\\\\n",
       "\\end{tabular}\n"
      ],
      "text/markdown": [
       "\n",
       "A data.table: 6 × 15\n",
       "\n",
       "| clm_number &lt;chr&gt; | pol_number &lt;chr&gt; | j &lt;int&gt; | k &lt;int&gt; | exposure &lt;dbl&gt; | date_pol_start &lt;dttm&gt; | date_occur &lt;dttm&gt; | date_report &lt;dttm&gt; | date_pay &lt;dttm&gt; | Cover &lt;chr&gt; | Brand &lt;dbl&gt; | Model &lt;dbl&gt; | Price &lt;dbl&gt; | payment_delay &lt;int&gt; | flgSet &lt;dbl&gt; |\n",
       "|---|---|---|---|---|---|---|---|---|---|---|---|---|---|---|\n",
       "| 201607150001 | 201601010103 | 1 | 1 | 1 | 2016-01-01 | 2016-07-15 | 2016-08-04 | 2016-09-02 | B   | 1 | 3 | 913 | 29 | 3 |\n",
       "| 201605110001 | 201601010130 | 1 | 1 | 1 | 2016-01-01 | 2016-05-11 | 2016-08-11 | 2016-09-14 | B   | 2 | 2 | 728 | 34 | 3 |\n",
       "| 201608020001 | 201601010141 | 1 | 1 | 1 | 2016-01-01 | 2016-08-02 | 2016-08-17 | 2016-09-16 | B   | 1 | 3 | 913 | 30 | 3 |\n",
       "| 201608190001 | 201601010190 | 1 | 1 | 1 | 2016-01-01 | 2016-08-19 | 2016-08-19 | 2016-09-21 | BOT | 2 | 2 | 728 | 33 | 3 |\n",
       "| 201606230001 | 201601010194 | 1 | 1 | 1 | 2016-01-01 | 2016-06-23 | 2016-08-13 | 2016-09-11 | BOT | 2 | 1 | 633 | 29 | 3 |\n",
       "| 201607250001 | 201601010203 | 1 | 1 | 1 | 2016-01-01 | 2016-07-25 | 2016-08-05 | 2016-09-02 | BOT | 1 | 2 | 794 | 28 | 3 |\n",
       "\n"
      ],
      "text/plain": [
       "  clm_number   pol_number   j k exposure date_pol_start date_occur date_report\n",
       "1 201607150001 201601010103 1 1 1        2016-01-01     2016-07-15 2016-08-04 \n",
       "2 201605110001 201601010130 1 1 1        2016-01-01     2016-05-11 2016-08-11 \n",
       "3 201608020001 201601010141 1 1 1        2016-01-01     2016-08-02 2016-08-17 \n",
       "4 201608190001 201601010190 1 1 1        2016-01-01     2016-08-19 2016-08-19 \n",
       "5 201606230001 201601010194 1 1 1        2016-01-01     2016-06-23 2016-08-13 \n",
       "6 201607250001 201601010203 1 1 1        2016-01-01     2016-07-25 2016-08-05 \n",
       "  date_pay   Cover Brand Model Price payment_delay flgSet\n",
       "1 2016-09-02 B     1     3     913   29            3     \n",
       "2 2016-09-14 B     2     2     728   34            3     \n",
       "3 2016-09-16 B     1     3     913   30            3     \n",
       "4 2016-09-21 BOT   2     2     728   33            3     \n",
       "5 2016-09-11 BOT   2     1     633   29            3     \n",
       "6 2016-09-02 BOT   1     2     794   28            3     "
      ]
     },
     "metadata": {},
     "output_type": "display_data"
    }
   ],
   "source": [
    "head(dt_payment_delay_train)"
   ]
  },
  {
   "cell_type": "code",
   "execution_count": 69,
   "id": "79c2d043-47a2-4b42-91f1-242e2097df35",
   "metadata": {
    "scrolled": true
   },
   "outputs": [
    {
     "data": {
      "text/html": [
       "<table class=\"dataframe\">\n",
       "<caption>A data.table: 6 × 15</caption>\n",
       "<thead>\n",
       "\t<tr><th scope=col>clm_number</th><th scope=col>pol_number</th><th scope=col>j</th><th scope=col>k</th><th scope=col>exposure</th><th scope=col>date_pol_start</th><th scope=col>date_occur</th><th scope=col>date_report</th><th scope=col>date_pay</th><th scope=col>Cover</th><th scope=col>Brand</th><th scope=col>Model</th><th scope=col>Price</th><th scope=col>payment_delay</th><th scope=col>flgSet</th></tr>\n",
       "\t<tr><th scope=col>&lt;chr&gt;</th><th scope=col>&lt;chr&gt;</th><th scope=col>&lt;int&gt;</th><th scope=col>&lt;int&gt;</th><th scope=col>&lt;dbl&gt;</th><th scope=col>&lt;dttm&gt;</th><th scope=col>&lt;dttm&gt;</th><th scope=col>&lt;dttm&gt;</th><th scope=col>&lt;dttm&gt;</th><th scope=col>&lt;chr&gt;</th><th scope=col>&lt;dbl&gt;</th><th scope=col>&lt;dbl&gt;</th><th scope=col>&lt;dbl&gt;</th><th scope=col>&lt;int&gt;</th><th scope=col>&lt;dbl&gt;</th></tr>\n",
       "</thead>\n",
       "<tbody>\n",
       "\t<tr><td>201609150001</td><td>201601010014</td><td>1</td><td>1</td><td>1</td><td>2016-01-01</td><td>2016-09-15</td><td>2016-09-15</td><td>2016-10-17</td><td>B  </td><td>2</td><td>3</td><td>837</td><td>32</td><td>4</td></tr>\n",
       "\t<tr><td>201609090001</td><td>201601010025</td><td>1</td><td>1</td><td>1</td><td>2016-01-01</td><td>2016-09-09</td><td>2016-09-09</td><td>2016-10-07</td><td>B  </td><td>1</td><td>2</td><td>794</td><td>28</td><td>4</td></tr>\n",
       "\t<tr><td>201609020001</td><td>201601010212</td><td>1</td><td>1</td><td>1</td><td>2016-01-01</td><td>2016-09-02</td><td>2016-09-22</td><td>2016-10-20</td><td>BOT</td><td>2</td><td>3</td><td>837</td><td>28</td><td>4</td></tr>\n",
       "\t<tr><td>201606060001</td><td>201601010261</td><td>1</td><td>1</td><td>1</td><td>2016-01-01</td><td>2016-06-06</td><td>2016-09-02</td><td>2016-10-01</td><td>BOT</td><td>1</td><td>1</td><td>690</td><td>29</td><td>4</td></tr>\n",
       "\t<tr><td>201608250001</td><td>201601010284</td><td>1</td><td>1</td><td>1</td><td>2016-01-01</td><td>2016-08-25</td><td>2016-09-06</td><td>2016-10-09</td><td>BOT</td><td>1</td><td>3</td><td>913</td><td>33</td><td>4</td></tr>\n",
       "\t<tr><td>201609200001</td><td>201601010327</td><td>1</td><td>1</td><td>1</td><td>2016-01-01</td><td>2016-09-20</td><td>2016-09-20</td><td>2016-10-26</td><td>BOT</td><td>1</td><td>2</td><td>794</td><td>36</td><td>4</td></tr>\n",
       "</tbody>\n",
       "</table>\n"
      ],
      "text/latex": [
       "A data.table: 6 × 15\n",
       "\\begin{tabular}{lllllllllllllll}\n",
       " clm\\_number & pol\\_number & j & k & exposure & date\\_pol\\_start & date\\_occur & date\\_report & date\\_pay & Cover & Brand & Model & Price & payment\\_delay & flgSet\\\\\n",
       " <chr> & <chr> & <int> & <int> & <dbl> & <dttm> & <dttm> & <dttm> & <dttm> & <chr> & <dbl> & <dbl> & <dbl> & <int> & <dbl>\\\\\n",
       "\\hline\n",
       "\t 201609150001 & 201601010014 & 1 & 1 & 1 & 2016-01-01 & 2016-09-15 & 2016-09-15 & 2016-10-17 & B   & 2 & 3 & 837 & 32 & 4\\\\\n",
       "\t 201609090001 & 201601010025 & 1 & 1 & 1 & 2016-01-01 & 2016-09-09 & 2016-09-09 & 2016-10-07 & B   & 1 & 2 & 794 & 28 & 4\\\\\n",
       "\t 201609020001 & 201601010212 & 1 & 1 & 1 & 2016-01-01 & 2016-09-02 & 2016-09-22 & 2016-10-20 & BOT & 2 & 3 & 837 & 28 & 4\\\\\n",
       "\t 201606060001 & 201601010261 & 1 & 1 & 1 & 2016-01-01 & 2016-06-06 & 2016-09-02 & 2016-10-01 & BOT & 1 & 1 & 690 & 29 & 4\\\\\n",
       "\t 201608250001 & 201601010284 & 1 & 1 & 1 & 2016-01-01 & 2016-08-25 & 2016-09-06 & 2016-10-09 & BOT & 1 & 3 & 913 & 33 & 4\\\\\n",
       "\t 201609200001 & 201601010327 & 1 & 1 & 1 & 2016-01-01 & 2016-09-20 & 2016-09-20 & 2016-10-26 & BOT & 1 & 2 & 794 & 36 & 4\\\\\n",
       "\\end{tabular}\n"
      ],
      "text/markdown": [
       "\n",
       "A data.table: 6 × 15\n",
       "\n",
       "| clm_number &lt;chr&gt; | pol_number &lt;chr&gt; | j &lt;int&gt; | k &lt;int&gt; | exposure &lt;dbl&gt; | date_pol_start &lt;dttm&gt; | date_occur &lt;dttm&gt; | date_report &lt;dttm&gt; | date_pay &lt;dttm&gt; | Cover &lt;chr&gt; | Brand &lt;dbl&gt; | Model &lt;dbl&gt; | Price &lt;dbl&gt; | payment_delay &lt;int&gt; | flgSet &lt;dbl&gt; |\n",
       "|---|---|---|---|---|---|---|---|---|---|---|---|---|---|---|\n",
       "| 201609150001 | 201601010014 | 1 | 1 | 1 | 2016-01-01 | 2016-09-15 | 2016-09-15 | 2016-10-17 | B   | 2 | 3 | 837 | 32 | 4 |\n",
       "| 201609090001 | 201601010025 | 1 | 1 | 1 | 2016-01-01 | 2016-09-09 | 2016-09-09 | 2016-10-07 | B   | 1 | 2 | 794 | 28 | 4 |\n",
       "| 201609020001 | 201601010212 | 1 | 1 | 1 | 2016-01-01 | 2016-09-02 | 2016-09-22 | 2016-10-20 | BOT | 2 | 3 | 837 | 28 | 4 |\n",
       "| 201606060001 | 201601010261 | 1 | 1 | 1 | 2016-01-01 | 2016-06-06 | 2016-09-02 | 2016-10-01 | BOT | 1 | 1 | 690 | 29 | 4 |\n",
       "| 201608250001 | 201601010284 | 1 | 1 | 1 | 2016-01-01 | 2016-08-25 | 2016-09-06 | 2016-10-09 | BOT | 1 | 3 | 913 | 33 | 4 |\n",
       "| 201609200001 | 201601010327 | 1 | 1 | 1 | 2016-01-01 | 2016-09-20 | 2016-09-20 | 2016-10-26 | BOT | 1 | 2 | 794 | 36 | 4 |\n",
       "\n"
      ],
      "text/plain": [
       "  clm_number   pol_number   j k exposure date_pol_start date_occur date_report\n",
       "1 201609150001 201601010014 1 1 1        2016-01-01     2016-09-15 2016-09-15 \n",
       "2 201609090001 201601010025 1 1 1        2016-01-01     2016-09-09 2016-09-09 \n",
       "3 201609020001 201601010212 1 1 1        2016-01-01     2016-09-02 2016-09-22 \n",
       "4 201606060001 201601010261 1 1 1        2016-01-01     2016-06-06 2016-09-02 \n",
       "5 201608250001 201601010284 1 1 1        2016-01-01     2016-08-25 2016-09-06 \n",
       "6 201609200001 201601010327 1 1 1        2016-01-01     2016-09-20 2016-09-20 \n",
       "  date_pay   Cover Brand Model Price payment_delay flgSet\n",
       "1 2016-10-17 B     2     3     837   32            4     \n",
       "2 2016-10-07 B     1     2     794   28            4     \n",
       "3 2016-10-20 BOT   2     3     837   28            4     \n",
       "4 2016-10-01 BOT   1     1     690   29            4     \n",
       "5 2016-10-09 BOT   1     3     913   33            4     \n",
       "6 2016-10-26 BOT   1     2     794   36            4     "
      ]
     },
     "metadata": {},
     "output_type": "display_data"
    }
   ],
   "source": [
    "head(dt_payment_delay_test)"
   ]
  },
  {
   "cell_type": "code",
   "execution_count": 70,
   "id": "859c784c-1ea1-45aa-a374-bd3f9f2ced43",
   "metadata": {},
   "outputs": [],
   "source": [
    "dt_payment_delay_all <- rbindlist(\n",
    "  list(dt_payment_delay_train, dt_payment_delay_test),\n",
    "  use.names = TRUE, fill = TRUE\n",
    ")\n"
   ]
  },
  {
   "cell_type": "code",
   "execution_count": 84,
   "id": "1db3c79c-7895-4f15-a572-863ac8aacac1",
   "metadata": {},
   "outputs": [],
   "source": [
    "# order and create some delay fields\n",
    "setkey(dt_payment_delay_all, clm_number, k, j)\n",
    "    \n",
    "dt_payment_delay_all[, Count := .N , by =clm_number]\n",
    "dt_payment_delay_all[,':='( delay_uw_occ = ifelse(year(date_occur) == 2199,\n",
    "                                        -1,\n",
    "                                        ceiling((as.numeric(date_occur) - as.numeric(date_pol_start))\n",
    "                                                  /(24*60*60))\n",
    "                                          ),\n",
    "                   delay_occ_rep = ifelse(year(date_occur) == 2199,\n",
    "                                          -1,\n",
    "                                          ceiling((as.numeric(date_report) - as.numeric(date_occur))\n",
    "                                                  /(24*60*60))\n",
    "                                          ),\n",
    "                   delay_rep_pay = ifelse(year(date_occur) == 2199,\n",
    "                                          -1,\n",
    "                                          ceiling((as.numeric(date_pay) - as.numeric(date_report))\n",
    "                                                  /(24*60*60))\n",
    "                                          ),\n",
    "                   delay_uw_val = ceiling((as.numeric(t_i) - as.numeric(date_pol_start))/(24*60*60)),\n",
    "                   date_uw = ceiling(as.numeric(date_pol_start)/(24*60*60)),\n",
    "                   Cover = as.factor(Cover))]\n",
    "     "
   ]
  },
  {
   "cell_type": "code",
   "execution_count": 85,
   "id": "5d6777d3-ae1a-428c-a7f6-7d5e00d43074",
   "metadata": {},
   "outputs": [
    {
     "data": {
      "text/html": [
       "<table class=\"dataframe\">\n",
       "<caption>A data.table: 6 × 21</caption>\n",
       "<thead>\n",
       "\t<tr><th scope=col>clm_number</th><th scope=col>pol_number</th><th scope=col>j</th><th scope=col>k</th><th scope=col>exposure</th><th scope=col>date_pol_start</th><th scope=col>date_occur</th><th scope=col>date_report</th><th scope=col>date_pay</th><th scope=col>Cover</th><th scope=col>...</th><th scope=col>Model</th><th scope=col>Price</th><th scope=col>payment_delay</th><th scope=col>flgSet</th><th scope=col>Count</th><th scope=col>delay_uw_occ</th><th scope=col>delay_occ_rep</th><th scope=col>delay_rep_pay</th><th scope=col>delay_uw_val</th><th scope=col>date_uw</th></tr>\n",
       "\t<tr><th scope=col>&lt;chr&gt;</th><th scope=col>&lt;chr&gt;</th><th scope=col>&lt;int&gt;</th><th scope=col>&lt;int&gt;</th><th scope=col>&lt;dbl&gt;</th><th scope=col>&lt;dttm&gt;</th><th scope=col>&lt;dttm&gt;</th><th scope=col>&lt;dttm&gt;</th><th scope=col>&lt;dttm&gt;</th><th scope=col>&lt;fct&gt;</th><th scope=col>...</th><th scope=col>&lt;dbl&gt;</th><th scope=col>&lt;dbl&gt;</th><th scope=col>&lt;int&gt;</th><th scope=col>&lt;dbl&gt;</th><th scope=col>&lt;int&gt;</th><th scope=col>&lt;dbl&gt;</th><th scope=col>&lt;dbl&gt;</th><th scope=col>&lt;dbl&gt;</th><th scope=col>&lt;dbl&gt;</th><th scope=col>&lt;dbl&gt;</th></tr>\n",
       "</thead>\n",
       "<tbody>\n",
       "\t<tr><td>201602190014</td><td>201602080485</td><td>1</td><td>1</td><td>1</td><td>2016-02-08</td><td>2016-02-19</td><td>2016-08-11</td><td>2016-09-15</td><td>BO </td><td>...</td><td>2</td><td>794</td><td>35</td><td>3</td><td>1</td><td>11</td><td>174</td><td>35</td><td>232</td><td>16839</td></tr>\n",
       "\t<tr><td>201603030014</td><td>201602150415</td><td>1</td><td>1</td><td>1</td><td>2016-02-15</td><td>2016-03-03</td><td>2016-07-29</td><td>2016-08-30</td><td>BO </td><td>...</td><td>3</td><td>913</td><td>32</td><td>3</td><td>1</td><td>17</td><td>148</td><td>32</td><td>225</td><td>16846</td></tr>\n",
       "\t<tr><td>201604090031</td><td>201602290519</td><td>1</td><td>1</td><td>1</td><td>2016-02-29</td><td>2016-04-09</td><td>2016-08-11</td><td>2016-09-13</td><td>BO </td><td>...</td><td>2</td><td>199</td><td>33</td><td>3</td><td>1</td><td>40</td><td>124</td><td>33</td><td>211</td><td>16860</td></tr>\n",
       "\t<tr><td>201604140015</td><td>201601280407</td><td>1</td><td>1</td><td>1</td><td>2016-01-28</td><td>2016-04-14</td><td>2016-08-15</td><td>2016-09-10</td><td>BO </td><td>...</td><td>2</td><td>397</td><td>26</td><td>3</td><td>1</td><td>77</td><td>123</td><td>26</td><td>243</td><td>16828</td></tr>\n",
       "\t<tr><td>201604150013</td><td>201601270218</td><td>1</td><td>1</td><td>1</td><td>2016-01-27</td><td>2016-04-15</td><td>2016-08-11</td><td>2016-09-09</td><td>BOT</td><td>...</td><td>2</td><td>728</td><td>29</td><td>3</td><td>1</td><td>79</td><td>118</td><td>29</td><td>244</td><td>16827</td></tr>\n",
       "\t<tr><td>201604150056</td><td>201604130247</td><td>1</td><td>1</td><td>1</td><td>2016-04-13</td><td>2016-04-15</td><td>2016-08-03</td><td>2016-09-03</td><td>BOT</td><td>...</td><td>3</td><td>457</td><td>31</td><td>3</td><td>1</td><td> 2</td><td>110</td><td>31</td><td>167</td><td>16904</td></tr>\n",
       "</tbody>\n",
       "</table>\n"
      ],
      "text/latex": [
       "A data.table: 6 × 21\n",
       "\\begin{tabular}{lllllllllllllllllllll}\n",
       " clm\\_number & pol\\_number & j & k & exposure & date\\_pol\\_start & date\\_occur & date\\_report & date\\_pay & Cover & ... & Model & Price & payment\\_delay & flgSet & Count & delay\\_uw\\_occ & delay\\_occ\\_rep & delay\\_rep\\_pay & delay\\_uw\\_val & date\\_uw\\\\\n",
       " <chr> & <chr> & <int> & <int> & <dbl> & <dttm> & <dttm> & <dttm> & <dttm> & <fct> & ... & <dbl> & <dbl> & <int> & <dbl> & <int> & <dbl> & <dbl> & <dbl> & <dbl> & <dbl>\\\\\n",
       "\\hline\n",
       "\t 201602190014 & 201602080485 & 1 & 1 & 1 & 2016-02-08 & 2016-02-19 & 2016-08-11 & 2016-09-15 & BO  & ... & 2 & 794 & 35 & 3 & 1 & 11 & 174 & 35 & 232 & 16839\\\\\n",
       "\t 201603030014 & 201602150415 & 1 & 1 & 1 & 2016-02-15 & 2016-03-03 & 2016-07-29 & 2016-08-30 & BO  & ... & 3 & 913 & 32 & 3 & 1 & 17 & 148 & 32 & 225 & 16846\\\\\n",
       "\t 201604090031 & 201602290519 & 1 & 1 & 1 & 2016-02-29 & 2016-04-09 & 2016-08-11 & 2016-09-13 & BO  & ... & 2 & 199 & 33 & 3 & 1 & 40 & 124 & 33 & 211 & 16860\\\\\n",
       "\t 201604140015 & 201601280407 & 1 & 1 & 1 & 2016-01-28 & 2016-04-14 & 2016-08-15 & 2016-09-10 & BO  & ... & 2 & 397 & 26 & 3 & 1 & 77 & 123 & 26 & 243 & 16828\\\\\n",
       "\t 201604150013 & 201601270218 & 1 & 1 & 1 & 2016-01-27 & 2016-04-15 & 2016-08-11 & 2016-09-09 & BOT & ... & 2 & 728 & 29 & 3 & 1 & 79 & 118 & 29 & 244 & 16827\\\\\n",
       "\t 201604150056 & 201604130247 & 1 & 1 & 1 & 2016-04-13 & 2016-04-15 & 2016-08-03 & 2016-09-03 & BOT & ... & 3 & 457 & 31 & 3 & 1 &  2 & 110 & 31 & 167 & 16904\\\\\n",
       "\\end{tabular}\n"
      ],
      "text/markdown": [
       "\n",
       "A data.table: 6 × 21\n",
       "\n",
       "| clm_number &lt;chr&gt; | pol_number &lt;chr&gt; | j &lt;int&gt; | k &lt;int&gt; | exposure &lt;dbl&gt; | date_pol_start &lt;dttm&gt; | date_occur &lt;dttm&gt; | date_report &lt;dttm&gt; | date_pay &lt;dttm&gt; | Cover &lt;fct&gt; | ... ... | Model &lt;dbl&gt; | Price &lt;dbl&gt; | payment_delay &lt;int&gt; | flgSet &lt;dbl&gt; | Count &lt;int&gt; | delay_uw_occ &lt;dbl&gt; | delay_occ_rep &lt;dbl&gt; | delay_rep_pay &lt;dbl&gt; | delay_uw_val &lt;dbl&gt; | date_uw &lt;dbl&gt; |\n",
       "|---|---|---|---|---|---|---|---|---|---|---|---|---|---|---|---|---|---|---|---|---|\n",
       "| 201602190014 | 201602080485 | 1 | 1 | 1 | 2016-02-08 | 2016-02-19 | 2016-08-11 | 2016-09-15 | BO  | ... | 2 | 794 | 35 | 3 | 1 | 11 | 174 | 35 | 232 | 16839 |\n",
       "| 201603030014 | 201602150415 | 1 | 1 | 1 | 2016-02-15 | 2016-03-03 | 2016-07-29 | 2016-08-30 | BO  | ... | 3 | 913 | 32 | 3 | 1 | 17 | 148 | 32 | 225 | 16846 |\n",
       "| 201604090031 | 201602290519 | 1 | 1 | 1 | 2016-02-29 | 2016-04-09 | 2016-08-11 | 2016-09-13 | BO  | ... | 2 | 199 | 33 | 3 | 1 | 40 | 124 | 33 | 211 | 16860 |\n",
       "| 201604140015 | 201601280407 | 1 | 1 | 1 | 2016-01-28 | 2016-04-14 | 2016-08-15 | 2016-09-10 | BO  | ... | 2 | 397 | 26 | 3 | 1 | 77 | 123 | 26 | 243 | 16828 |\n",
       "| 201604150013 | 201601270218 | 1 | 1 | 1 | 2016-01-27 | 2016-04-15 | 2016-08-11 | 2016-09-09 | BOT | ... | 2 | 728 | 29 | 3 | 1 | 79 | 118 | 29 | 244 | 16827 |\n",
       "| 201604150056 | 201604130247 | 1 | 1 | 1 | 2016-04-13 | 2016-04-15 | 2016-08-03 | 2016-09-03 | BOT | ... | 3 | 457 | 31 | 3 | 1 |  2 | 110 | 31 | 167 | 16904 |\n",
       "\n"
      ],
      "text/plain": [
       "  clm_number   pol_number   j k exposure date_pol_start date_occur date_report\n",
       "1 201602190014 201602080485 1 1 1        2016-02-08     2016-02-19 2016-08-11 \n",
       "2 201603030014 201602150415 1 1 1        2016-02-15     2016-03-03 2016-07-29 \n",
       "3 201604090031 201602290519 1 1 1        2016-02-29     2016-04-09 2016-08-11 \n",
       "4 201604140015 201601280407 1 1 1        2016-01-28     2016-04-14 2016-08-15 \n",
       "5 201604150013 201601270218 1 1 1        2016-01-27     2016-04-15 2016-08-11 \n",
       "6 201604150056 201604130247 1 1 1        2016-04-13     2016-04-15 2016-08-03 \n",
       "  date_pay   Cover ... Model Price payment_delay flgSet Count delay_uw_occ\n",
       "1 2016-09-15 BO    ... 2     794   35            3      1     11          \n",
       "2 2016-08-30 BO    ... 3     913   32            3      1     17          \n",
       "3 2016-09-13 BO    ... 2     199   33            3      1     40          \n",
       "4 2016-09-10 BO    ... 2     397   26            3      1     77          \n",
       "5 2016-09-09 BOT   ... 2     728   29            3      1     79          \n",
       "6 2016-09-03 BOT   ... 3     457   31            3      1      2          \n",
       "  delay_occ_rep delay_rep_pay delay_uw_val date_uw\n",
       "1 174           35            232          16839  \n",
       "2 148           32            225          16846  \n",
       "3 124           33            211          16860  \n",
       "4 123           26            243          16828  \n",
       "5 118           29            244          16827  \n",
       "6 110           31            167          16904  "
      ]
     },
     "metadata": {},
     "output_type": "display_data"
    }
   ],
   "source": [
    "head(dt_payment_delay_all)"
   ]
  },
  {
   "cell_type": "code",
   "execution_count": 97,
   "id": "5cd82712-ccb9-45c9-870d-0794f3f9eacb",
   "metadata": {
    "scrolled": true
   },
   "outputs": [
    {
     "name": "stdout",
     "output_type": "stream",
     "text": [
      "Classes 'data.table' and 'data.frame':\t1258 obs. of  15 variables:\n",
      " $ clm_number     : chr  \"201606060001\" \"201608250001\" \"201608150001\" \"201608130001\" ...\n",
      " $ pol_number     : chr  \"201601010261\" \"201601010284\" \"201601010424\" \"201601020104\" ...\n",
      " $ j              : int  1 1 1 1 1 1 1 1 1 1 ...\n",
      " $ k              : int  1 1 1 1 1 1 1 1 1 1 ...\n",
      " $ exposure       : num  1 1 1 1 1 1 1 1 1 1 ...\n",
      " $ date_pol_start : POSIXct, format: \"2016-01-01\" \"2016-01-01\" ...\n",
      " $ date_occur     : POSIXct, format: \"2016-06-06\" \"2016-08-25\" ...\n",
      " $ date_report    : POSIXct, format: \"2016-09-02\" \"2016-09-06\" ...\n",
      " $ date_pay       : POSIXct, format: \"2016-10-01\" \"2016-10-09\" ...\n",
      " $ Cover          : chr  \"BOT\" \"BOT\" \"BO\" \"B\" ...\n",
      " $ Brand          : num  1 1 1 2 3 2 3 4 2 3 ...\n",
      " $ Model          : num  1 3 2 2 3 2 2 2 1 3 ...\n",
      " $ Price          : num  690 913 794 728 457 728 397 199 633 457 ...\n",
      " $ reporting_delay: int  88 12 16 18 64 35 12 80 60 41 ...\n",
      " $ flgSet         : num  1 1 1 1 1 1 1 1 1 1 ...\n",
      " - attr(*, \".internal.selfref\")=<externalptr> \n",
      "Classes 'data.table' and 'data.frame':\t1449 obs. of  15 variables:\n",
      " $ clm_number     : chr  \"201607310001\" \"201609260001\" \"201609160001\" \"201606080002\" ...\n",
      " $ pol_number     : chr  \"201601010215\" \"201601010289\" \"201601010409\" \"201601020251\" ...\n",
      " $ j              : int  1 1 1 1 1 1 1 1 1 1 ...\n",
      " $ k              : int  1 1 1 1 1 1 1 1 1 1 ...\n",
      " $ exposure       : num  1 1 1 1 1 1 1 1 1 1 ...\n",
      " $ date_pol_start : POSIXct, format: \"2016-01-01\" \"2016-01-01\" ...\n",
      " $ date_occur     : POSIXct, format: \"2016-07-31\" \"2016-09-26\" ...\n",
      " $ date_report    : POSIXct, format: \"2016-10-21\" \"2016-10-26\" ...\n",
      " $ date_pay       : POSIXct, format: \"2016-11-23\" \"2016-11-13\" ...\n",
      " $ Cover          : chr  \"BOT\" \"BOT\" \"BO\" \"BOT\" ...\n",
      " $ Brand          : num  2 1 1 4 1 1 2 2 2 2 ...\n",
      " $ Model          : num  3 2 3 2 2 2 3 0 3 3 ...\n",
      " $ Price          : num  837 794 913 199 794 794 837 550 837 837 ...\n",
      " $ reporting_delay: int  82 30 39 113 27 79 4 208 18 64 ...\n",
      " $ flgSet         : num  2 2 2 2 2 2 2 2 2 2 ...\n",
      " - attr(*, \".internal.selfref\")=<externalptr> \n",
      "Classes 'data.table' and 'data.frame':\t2707 obs. of  22 variables:\n",
      " $ clm_number           : chr  \"201603170001\" \"201604210015\" \"201604210015\" \"201604210015\" ...\n",
      " $ pol_number           : chr  \"201601020465\" \"201601220649\" \"201601220649\" \"201601220649\" ...\n",
      " $ j                    : int  1 1 2 3 4 5 1 2 3 4 ...\n",
      " $ k                    : int  1 1 1 1 1 1 1 1 1 1 ...\n",
      " $ exposure             : num  1 1 1 1 1 1 1 1 1 1 ...\n",
      " $ date_pol_start       : POSIXct, format: \"2016-01-02\" \"2016-01-22\" ...\n",
      " $ date_occur           : POSIXct, format: \"2016-03-17\" \"2016-04-21\" ...\n",
      " $ date_report          : POSIXct, format: \"2016-10-11\" \"2016-09-14\" ...\n",
      " $ date_pay             : POSIXct, format: \"2016-11-18\" \"2016-10-11\" ...\n",
      " $ Cover                : Factor w/ 3 levels \"B\",\"BO\",\"BOT\": 2 2 2 2 2 2 2 2 2 2 ...\n",
      " $ Brand                : num  2 2 2 2 2 2 2 2 2 2 ...\n",
      " $ Model                : num  0 3 3 3 3 3 1 1 1 1 ...\n",
      " $ Price                : num  550 837 837 837 837 837 633 633 633 633 ...\n",
      " $ reporting_delay      : int  208 146 146 146 146 146 136 136 136 136 ...\n",
      " $ flgSet               : num  2 1 1 1 1 1 1 1 1 1 ...\n",
      " $ date_pol_start_YYYYMM: chr  \"2016.01\" \"2016.01\" \"2016.01\" \"2016.01\" ...\n",
      " $ Count                : int  1 5 5 5 5 5 5 5 5 5 ...\n",
      " $ delay_uw_occ         : num  75 90 90 90 90 90 63 63 63 63 ...\n",
      " $ delay_occ_rep        : num  208 146 146 146 146 146 136 136 136 136 ...\n",
      " $ delay_rep_pay        : num  38 27 27 27 27 27 29 29 29 29 ...\n",
      " $ delay_uw_val         : num  269 249 249 249 249 249 221 221 221 221 ...\n",
      " $ date_uw              : num  16802 16822 16822 16822 16822 ...\n",
      " - attr(*, \".internal.selfref\")=<externalptr> \n",
      " - attr(*, \"sorted\")= chr [1:3] \"clm_number\" \"k\" \"j\"\n"
     ]
    }
   ],
   "source": [
    "str(dt_reporting_delay_train)\n",
    "str(dt_reporting_delay_test)\n",
    "str(dt_reporting_delay_all)\n"
   ]
  },
  {
   "cell_type": "code",
   "execution_count": 87,
   "id": "adcb880b-e6cf-41fb-adc4-f402d0a21e99",
   "metadata": {},
   "outputs": [
    {
     "data": {
      "text/plain": [
       "\n",
       "   1    2 \n",
       "1258 1449 "
      ]
     },
     "metadata": {},
     "output_type": "display_data"
    }
   ],
   "source": [
    "table(dt_reporting_delay_all$flgSet, useNA = \"ifany\")\n"
   ]
  },
  {
   "cell_type": "code",
   "execution_count": 88,
   "id": "56beea56-f8a6-4674-8e92-03d44d95f2df",
   "metadata": {
    "scrolled": true
   },
   "outputs": [
    {
     "name": "stdout",
     "output_type": "stream",
     "text": [
      "Classes 'data.table' and 'data.frame':\t2609 obs. of  15 variables:\n",
      " $ clm_number    : chr  \"201607150001\" \"201605110001\" \"201608020001\" \"201608190001\" ...\n",
      " $ pol_number    : chr  \"201601010103\" \"201601010130\" \"201601010141\" \"201601010190\" ...\n",
      " $ j             : int  1 1 1 1 1 1 1 1 1 1 ...\n",
      " $ k             : int  1 1 1 1 1 1 1 1 1 1 ...\n",
      " $ exposure      : num  1 1 1 1 1 1 1 1 1 1 ...\n",
      " $ date_pol_start: POSIXct, format: \"2016-01-01\" \"2016-01-01\" ...\n",
      " $ date_occur    : POSIXct, format: \"2016-07-15\" \"2016-05-11\" ...\n",
      " $ date_report   : POSIXct, format: \"2016-08-04\" \"2016-08-11\" ...\n",
      " $ date_pay      : POSIXct, format: \"2016-09-02\" \"2016-09-14\" ...\n",
      " $ Cover         : chr  \"B\" \"B\" \"B\" \"BOT\" ...\n",
      " $ Brand         : num  1 2 1 2 2 1 4 2 3 3 ...\n",
      " $ Model         : num  3 2 3 2 1 2 3 3 2 2 ...\n",
      " $ Price         : num  913 728 913 728 633 794 229 837 397 397 ...\n",
      " $ payment_delay : int  29 34 30 33 29 28 43 37 25 29 ...\n",
      " $ flgSet        : num  3 3 3 3 3 3 3 3 3 3 ...\n",
      " - attr(*, \".internal.selfref\")=<externalptr> \n",
      "Classes 'data.table' and 'data.frame':\t3104 obs. of  15 variables:\n",
      " $ clm_number    : chr  \"201609150001\" \"201609090001\" \"201609020001\" \"201606060001\" ...\n",
      " $ pol_number    : chr  \"201601010014\" \"201601010025\" \"201601010212\" \"201601010261\" ...\n",
      " $ j             : int  1 1 1 1 1 1 1 1 1 1 ...\n",
      " $ k             : int  1 1 1 1 1 1 1 1 1 1 ...\n",
      " $ exposure      : num  1 1 1 1 1 1 1 1 1 1 ...\n",
      " $ date_pol_start: POSIXct, format: \"2016-01-01\" \"2016-01-01\" ...\n",
      " $ date_occur    : POSIXct, format: \"2016-09-15\" \"2016-09-09\" ...\n",
      " $ date_report   : POSIXct, format: \"2016-09-15\" \"2016-09-09\" ...\n",
      " $ date_pay      : POSIXct, format: \"2016-10-17\" \"2016-10-07\" ...\n",
      " $ Cover         : chr  \"B\" \"B\" \"BOT\" \"BOT\" ...\n",
      " $ Brand         : num  2 1 2 1 1 1 2 3 1 1 ...\n",
      " $ Model         : num  3 2 3 1 3 2 2 3 3 2 ...\n",
      " $ Price         : num  837 794 837 690 913 794 728 457 913 794 ...\n",
      " $ payment_delay : int  32 28 28 29 33 36 32 28 30 35 ...\n",
      " $ flgSet        : num  4 4 4 4 4 4 4 4 4 4 ...\n",
      " - attr(*, \".internal.selfref\")=<externalptr> \n"
     ]
    }
   ],
   "source": [
    "str(dt_payment_delay_train)\n",
    "str(dt_payment_delay_test)\n"
   ]
  },
  {
   "cell_type": "code",
   "execution_count": 89,
   "id": "d2ae5089-1a64-4c70-8032-bfaeaa3e3fa9",
   "metadata": {},
   "outputs": [
    {
     "data": {
      "text/plain": [
       "\n",
       "   3    4 \n",
       "2609 3104 "
      ]
     },
     "metadata": {},
     "output_type": "display_data"
    }
   ],
   "source": [
    "table(dt_payment_delay_all$flgSet, useNA = \"ifany\")"
   ]
  },
  {
   "cell_type": "code",
   "execution_count": 202,
   "id": "c1bd8dda-da05-4e6e-8fe9-a667429c396b",
   "metadata": {},
   "outputs": [],
   "source": [
    "# Define the predictors for reporting delay\n",
    "reporting_delay_predictors <- c(\"j\",           # Development period\n",
    "                                \"k\",           # Model type (fixed)\n",
    "                                \"Cover\",       # Cover type\n",
    "                                \"Brand\",       # Brand\n",
    "                                \"Model\",       # Model\n",
    "                                \"Price\",       # Price\n",
    "                                \"delay_uw_val\",\n",
    "                                \"date_uw\")     # Underwriting date or any other relevant date features\n"
   ]
  },
  {
   "cell_type": "code",
   "execution_count": 203,
   "id": "a97791be-4a93-4dc1-a383-b8afafe41247",
   "metadata": {},
   "outputs": [],
   "source": [
    "# Create the date column for aggregation\n",
    "dt_reporting_delay_all[, date_pol_start_YYYYMM := as.character(year(date_pol_start) + month(date_pol_start)/100 )]\n",
    "\n",
    "# Aggregate the data\n",
    "dt_reporting_delay_all_F <- dt_reporting_delay_all[, .(exposure = sum(exposure), \n",
    "                                                        target_delay = sum(reporting_delay),\n",
    "                                                        target_count = sum(reporting_delay > 0)),\n",
    "                                                    by = c(reporting_delay_predictors, \"date_pol_start_YYYYMM\", \"flgSet\")]\n",
    "\n",
    "# Filter out rows with no exposure (to avoid training on empty data)\n",
    "dt_reporting_delay_all_F <- dt_reporting_delay_all_F[exposure > 0]\n"
   ]
  },
  {
   "cell_type": "code",
   "execution_count": 204,
   "id": "f040836f-49c0-415d-aa6a-639c48786718",
   "metadata": {},
   "outputs": [],
   "source": [
    "# Update the row indexing for train, test, and all sets\n",
    "rowList_ReportDelay_F <- list(\n",
    "  train = dt_reporting_delay_all_F[, which(flgSet == 1)],   # Training set (flgSet == 1)\n",
    "  test = dt_reporting_delay_all_F[, which(flgSet == 2)],    # Test set (flgSet == 2)\n",
    "  all = dt_reporting_delay_all_F[, which(flgSet %in% c(1, 2))]  # All data, including both train and test (flgSet == 1 or flgSet == 2)\n",
    ")\n"
   ]
  },
  {
   "cell_type": "code",
   "execution_count": 205,
   "id": "9dbb6d3b-d7ba-4366-82d2-b94776393d31",
   "metadata": {},
   "outputs": [],
   "source": [
    "# Preprocess the data (dummy encoding categorical variables)\n",
    "reporting_delay_rec <- recipe(~ ., data = dt_reporting_delay_all_F[, reporting_delay_predictors, with = FALSE]) %>%\n",
    "  step_dummy(all_nominal(), one_hot = TRUE) %>%\n",
    "  prep()\n",
    "\n",
    "# Apply the preprocessing steps to the train, test, and all datasets\n",
    "df.ReportingDelay_F_train <- bake(reporting_delay_rec, new_data = dt_reporting_delay_all_F[rowList_ReportDelay_F$train, ])\n",
    "df.ReportingDelay_F_test <- bake(reporting_delay_rec, new_data = dt_reporting_delay_all_F[rowList_ReportDelay_F$test, ])\n",
    "df.ReportingDelay_F_all <- bake(reporting_delay_rec, new_data = dt_reporting_delay_all_F[rowList_ReportDelay_F$all, ])\n"
   ]
  },
  {
   "cell_type": "code",
   "execution_count": 206,
   "id": "76433689-19cb-4dd1-a7f5-56c14e50bd48",
   "metadata": {},
   "outputs": [
    {
     "data": {
      "text/plain": [
       "\n",
       "   1    2 \n",
       "1156 1347 "
      ]
     },
     "metadata": {},
     "output_type": "display_data"
    }
   ],
   "source": [
    "# Check the distribution of flgSet\n",
    "table(dt_reporting_delay_all_F$flgSet)\n"
   ]
  },
  {
   "cell_type": "code",
   "execution_count": 207,
   "id": "306d13c6-459a-40e0-a3b8-c02eb8814b4a",
   "metadata": {},
   "outputs": [
    {
     "data": {
      "text/html": [
       "1156"
      ],
      "text/latex": [
       "1156"
      ],
      "text/markdown": [
       "1156"
      ],
      "text/plain": [
       "[1] 1156"
      ]
     },
     "metadata": {},
     "output_type": "display_data"
    },
    {
     "data": {
      "text/html": [
       "1347"
      ],
      "text/latex": [
       "1347"
      ],
      "text/markdown": [
       "1347"
      ],
      "text/plain": [
       "[1] 1347"
      ]
     },
     "metadata": {},
     "output_type": "display_data"
    },
    {
     "data": {
      "text/html": [
       "2503"
      ],
      "text/latex": [
       "2503"
      ],
      "text/markdown": [
       "2503"
      ],
      "text/plain": [
       "[1] 2503"
      ]
     },
     "metadata": {},
     "output_type": "display_data"
    }
   ],
   "source": [
    "# Check the lengths of train, test, and all subsets\n",
    "length(rowList_ReportDelay_F$train)\n",
    "length(rowList_ReportDelay_F$test)\n",
    "length(rowList_ReportDelay_F$all)\n"
   ]
  },
  {
   "cell_type": "code",
   "execution_count": 208,
   "id": "b60c58b2-2166-4b41-958a-4fa9efe4dc24",
   "metadata": {},
   "outputs": [
    {
     "data": {
      "text/html": [
       "<table class=\"dataframe\">\n",
       "<caption>A tibble: 6 × 10</caption>\n",
       "<thead>\n",
       "\t<tr><th scope=col>j</th><th scope=col>k</th><th scope=col>Brand</th><th scope=col>Model</th><th scope=col>Price</th><th scope=col>delay_uw_val</th><th scope=col>date_uw</th><th scope=col>Cover_B</th><th scope=col>Cover_BO</th><th scope=col>Cover_BOT</th></tr>\n",
       "\t<tr><th scope=col>&lt;int&gt;</th><th scope=col>&lt;int&gt;</th><th scope=col>&lt;dbl&gt;</th><th scope=col>&lt;dbl&gt;</th><th scope=col>&lt;dbl&gt;</th><th scope=col>&lt;dbl&gt;</th><th scope=col>&lt;dbl&gt;</th><th scope=col>&lt;dbl&gt;</th><th scope=col>&lt;dbl&gt;</th><th scope=col>&lt;dbl&gt;</th></tr>\n",
       "</thead>\n",
       "<tbody>\n",
       "\t<tr><td>1</td><td>1</td><td>2</td><td>0</td><td>550</td><td>269</td><td>16802</td><td>0</td><td>1</td><td>0</td></tr>\n",
       "\t<tr><td>1</td><td>1</td><td>1</td><td>1</td><td>690</td><td>126</td><td>16945</td><td>0</td><td>1</td><td>0</td></tr>\n",
       "\t<tr><td>1</td><td>1</td><td>4</td><td>3</td><td>229</td><td>167</td><td>16904</td><td>0</td><td>0</td><td>1</td></tr>\n",
       "\t<tr><td>1</td><td>1</td><td>3</td><td>1</td><td>345</td><td>135</td><td>16936</td><td>0</td><td>1</td><td>0</td></tr>\n",
       "\t<tr><td>1</td><td>1</td><td>4</td><td>2</td><td>199</td><td>269</td><td>16802</td><td>0</td><td>0</td><td>1</td></tr>\n",
       "\t<tr><td>1</td><td>1</td><td>2</td><td>3</td><td>837</td><td>221</td><td>16850</td><td>1</td><td>0</td><td>0</td></tr>\n",
       "</tbody>\n",
       "</table>\n"
      ],
      "text/latex": [
       "A tibble: 6 × 10\n",
       "\\begin{tabular}{llllllllll}\n",
       " j & k & Brand & Model & Price & delay\\_uw\\_val & date\\_uw & Cover\\_B & Cover\\_BO & Cover\\_BOT\\\\\n",
       " <int> & <int> & <dbl> & <dbl> & <dbl> & <dbl> & <dbl> & <dbl> & <dbl> & <dbl>\\\\\n",
       "\\hline\n",
       "\t 1 & 1 & 2 & 0 & 550 & 269 & 16802 & 0 & 1 & 0\\\\\n",
       "\t 1 & 1 & 1 & 1 & 690 & 126 & 16945 & 0 & 1 & 0\\\\\n",
       "\t 1 & 1 & 4 & 3 & 229 & 167 & 16904 & 0 & 0 & 1\\\\\n",
       "\t 1 & 1 & 3 & 1 & 345 & 135 & 16936 & 0 & 1 & 0\\\\\n",
       "\t 1 & 1 & 4 & 2 & 199 & 269 & 16802 & 0 & 0 & 1\\\\\n",
       "\t 1 & 1 & 2 & 3 & 837 & 221 & 16850 & 1 & 0 & 0\\\\\n",
       "\\end{tabular}\n"
      ],
      "text/markdown": [
       "\n",
       "A tibble: 6 × 10\n",
       "\n",
       "| j &lt;int&gt; | k &lt;int&gt; | Brand &lt;dbl&gt; | Model &lt;dbl&gt; | Price &lt;dbl&gt; | delay_uw_val &lt;dbl&gt; | date_uw &lt;dbl&gt; | Cover_B &lt;dbl&gt; | Cover_BO &lt;dbl&gt; | Cover_BOT &lt;dbl&gt; |\n",
       "|---|---|---|---|---|---|---|---|---|---|\n",
       "| 1 | 1 | 2 | 0 | 550 | 269 | 16802 | 0 | 1 | 0 |\n",
       "| 1 | 1 | 1 | 1 | 690 | 126 | 16945 | 0 | 1 | 0 |\n",
       "| 1 | 1 | 4 | 3 | 229 | 167 | 16904 | 0 | 0 | 1 |\n",
       "| 1 | 1 | 3 | 1 | 345 | 135 | 16936 | 0 | 1 | 0 |\n",
       "| 1 | 1 | 4 | 2 | 199 | 269 | 16802 | 0 | 0 | 1 |\n",
       "| 1 | 1 | 2 | 3 | 837 | 221 | 16850 | 1 | 0 | 0 |\n",
       "\n"
      ],
      "text/plain": [
       "  j k Brand Model Price delay_uw_val date_uw Cover_B Cover_BO Cover_BOT\n",
       "1 1 1 2     0     550   269          16802   0       1        0        \n",
       "2 1 1 1     1     690   126          16945   0       1        0        \n",
       "3 1 1 4     3     229   167          16904   0       0        1        \n",
       "4 1 1 3     1     345   135          16936   0       1        0        \n",
       "5 1 1 4     2     199   269          16802   0       0        1        \n",
       "6 1 1 2     3     837   221          16850   1       0        0        "
      ]
     },
     "metadata": {},
     "output_type": "display_data"
    }
   ],
   "source": [
    "head(df.ReportingDelay_F_test)"
   ]
  },
  {
   "cell_type": "code",
   "execution_count": 209,
   "id": "f38e198a-2a1f-43c8-9068-c55683f450db",
   "metadata": {},
   "outputs": [
    {
     "data": {
      "text/html": [
       "<table class=\"dataframe\">\n",
       "<caption>A tibble: 6 × 10</caption>\n",
       "<thead>\n",
       "\t<tr><th scope=col>j</th><th scope=col>k</th><th scope=col>Brand</th><th scope=col>Model</th><th scope=col>Price</th><th scope=col>delay_uw_val</th><th scope=col>date_uw</th><th scope=col>Cover_B</th><th scope=col>Cover_BO</th><th scope=col>Cover_BOT</th></tr>\n",
       "\t<tr><th scope=col>&lt;int&gt;</th><th scope=col>&lt;int&gt;</th><th scope=col>&lt;dbl&gt;</th><th scope=col>&lt;dbl&gt;</th><th scope=col>&lt;dbl&gt;</th><th scope=col>&lt;dbl&gt;</th><th scope=col>&lt;dbl&gt;</th><th scope=col>&lt;dbl&gt;</th><th scope=col>&lt;dbl&gt;</th><th scope=col>&lt;dbl&gt;</th></tr>\n",
       "</thead>\n",
       "<tbody>\n",
       "\t<tr><td>1</td><td>1</td><td>2</td><td>3</td><td>837</td><td>249</td><td>16822</td><td>0</td><td>1</td><td>0</td></tr>\n",
       "\t<tr><td>2</td><td>1</td><td>2</td><td>3</td><td>837</td><td>249</td><td>16822</td><td>0</td><td>1</td><td>0</td></tr>\n",
       "\t<tr><td>3</td><td>1</td><td>2</td><td>3</td><td>837</td><td>249</td><td>16822</td><td>0</td><td>1</td><td>0</td></tr>\n",
       "\t<tr><td>4</td><td>1</td><td>2</td><td>3</td><td>837</td><td>249</td><td>16822</td><td>0</td><td>1</td><td>0</td></tr>\n",
       "\t<tr><td>5</td><td>1</td><td>2</td><td>3</td><td>837</td><td>249</td><td>16822</td><td>0</td><td>1</td><td>0</td></tr>\n",
       "\t<tr><td>1</td><td>1</td><td>2</td><td>1</td><td>633</td><td>221</td><td>16850</td><td>0</td><td>1</td><td>0</td></tr>\n",
       "</tbody>\n",
       "</table>\n"
      ],
      "text/latex": [
       "A tibble: 6 × 10\n",
       "\\begin{tabular}{llllllllll}\n",
       " j & k & Brand & Model & Price & delay\\_uw\\_val & date\\_uw & Cover\\_B & Cover\\_BO & Cover\\_BOT\\\\\n",
       " <int> & <int> & <dbl> & <dbl> & <dbl> & <dbl> & <dbl> & <dbl> & <dbl> & <dbl>\\\\\n",
       "\\hline\n",
       "\t 1 & 1 & 2 & 3 & 837 & 249 & 16822 & 0 & 1 & 0\\\\\n",
       "\t 2 & 1 & 2 & 3 & 837 & 249 & 16822 & 0 & 1 & 0\\\\\n",
       "\t 3 & 1 & 2 & 3 & 837 & 249 & 16822 & 0 & 1 & 0\\\\\n",
       "\t 4 & 1 & 2 & 3 & 837 & 249 & 16822 & 0 & 1 & 0\\\\\n",
       "\t 5 & 1 & 2 & 3 & 837 & 249 & 16822 & 0 & 1 & 0\\\\\n",
       "\t 1 & 1 & 2 & 1 & 633 & 221 & 16850 & 0 & 1 & 0\\\\\n",
       "\\end{tabular}\n"
      ],
      "text/markdown": [
       "\n",
       "A tibble: 6 × 10\n",
       "\n",
       "| j &lt;int&gt; | k &lt;int&gt; | Brand &lt;dbl&gt; | Model &lt;dbl&gt; | Price &lt;dbl&gt; | delay_uw_val &lt;dbl&gt; | date_uw &lt;dbl&gt; | Cover_B &lt;dbl&gt; | Cover_BO &lt;dbl&gt; | Cover_BOT &lt;dbl&gt; |\n",
       "|---|---|---|---|---|---|---|---|---|---|\n",
       "| 1 | 1 | 2 | 3 | 837 | 249 | 16822 | 0 | 1 | 0 |\n",
       "| 2 | 1 | 2 | 3 | 837 | 249 | 16822 | 0 | 1 | 0 |\n",
       "| 3 | 1 | 2 | 3 | 837 | 249 | 16822 | 0 | 1 | 0 |\n",
       "| 4 | 1 | 2 | 3 | 837 | 249 | 16822 | 0 | 1 | 0 |\n",
       "| 5 | 1 | 2 | 3 | 837 | 249 | 16822 | 0 | 1 | 0 |\n",
       "| 1 | 1 | 2 | 1 | 633 | 221 | 16850 | 0 | 1 | 0 |\n",
       "\n"
      ],
      "text/plain": [
       "  j k Brand Model Price delay_uw_val date_uw Cover_B Cover_BO Cover_BOT\n",
       "1 1 1 2     3     837   249          16822   0       1        0        \n",
       "2 2 1 2     3     837   249          16822   0       1        0        \n",
       "3 3 1 2     3     837   249          16822   0       1        0        \n",
       "4 4 1 2     3     837   249          16822   0       1        0        \n",
       "5 5 1 2     3     837   249          16822   0       1        0        \n",
       "6 1 1 2     1     633   221          16850   0       1        0        "
      ]
     },
     "metadata": {},
     "output_type": "display_data"
    }
   ],
   "source": [
    "head(df.ReportingDelay_F_train)"
   ]
  },
  {
   "cell_type": "code",
   "execution_count": 210,
   "id": "a7a222f7-17bb-4b88-a501-eb8f66684013",
   "metadata": {},
   "outputs": [
    {
     "data": {
      "text/html": [
       "<table class=\"dataframe\">\n",
       "<caption>A tibble: 6 × 10</caption>\n",
       "<thead>\n",
       "\t<tr><th scope=col>j</th><th scope=col>k</th><th scope=col>Brand</th><th scope=col>Model</th><th scope=col>Price</th><th scope=col>delay_uw_val</th><th scope=col>date_uw</th><th scope=col>Cover_B</th><th scope=col>Cover_BO</th><th scope=col>Cover_BOT</th></tr>\n",
       "\t<tr><th scope=col>&lt;int&gt;</th><th scope=col>&lt;int&gt;</th><th scope=col>&lt;dbl&gt;</th><th scope=col>&lt;dbl&gt;</th><th scope=col>&lt;dbl&gt;</th><th scope=col>&lt;dbl&gt;</th><th scope=col>&lt;dbl&gt;</th><th scope=col>&lt;dbl&gt;</th><th scope=col>&lt;dbl&gt;</th><th scope=col>&lt;dbl&gt;</th></tr>\n",
       "</thead>\n",
       "<tbody>\n",
       "\t<tr><td>1</td><td>1</td><td>2</td><td>0</td><td>550</td><td>269</td><td>16802</td><td>0</td><td>1</td><td>0</td></tr>\n",
       "\t<tr><td>1</td><td>1</td><td>2</td><td>3</td><td>837</td><td>249</td><td>16822</td><td>0</td><td>1</td><td>0</td></tr>\n",
       "\t<tr><td>2</td><td>1</td><td>2</td><td>3</td><td>837</td><td>249</td><td>16822</td><td>0</td><td>1</td><td>0</td></tr>\n",
       "\t<tr><td>3</td><td>1</td><td>2</td><td>3</td><td>837</td><td>249</td><td>16822</td><td>0</td><td>1</td><td>0</td></tr>\n",
       "\t<tr><td>4</td><td>1</td><td>2</td><td>3</td><td>837</td><td>249</td><td>16822</td><td>0</td><td>1</td><td>0</td></tr>\n",
       "\t<tr><td>5</td><td>1</td><td>2</td><td>3</td><td>837</td><td>249</td><td>16822</td><td>0</td><td>1</td><td>0</td></tr>\n",
       "</tbody>\n",
       "</table>\n"
      ],
      "text/latex": [
       "A tibble: 6 × 10\n",
       "\\begin{tabular}{llllllllll}\n",
       " j & k & Brand & Model & Price & delay\\_uw\\_val & date\\_uw & Cover\\_B & Cover\\_BO & Cover\\_BOT\\\\\n",
       " <int> & <int> & <dbl> & <dbl> & <dbl> & <dbl> & <dbl> & <dbl> & <dbl> & <dbl>\\\\\n",
       "\\hline\n",
       "\t 1 & 1 & 2 & 0 & 550 & 269 & 16802 & 0 & 1 & 0\\\\\n",
       "\t 1 & 1 & 2 & 3 & 837 & 249 & 16822 & 0 & 1 & 0\\\\\n",
       "\t 2 & 1 & 2 & 3 & 837 & 249 & 16822 & 0 & 1 & 0\\\\\n",
       "\t 3 & 1 & 2 & 3 & 837 & 249 & 16822 & 0 & 1 & 0\\\\\n",
       "\t 4 & 1 & 2 & 3 & 837 & 249 & 16822 & 0 & 1 & 0\\\\\n",
       "\t 5 & 1 & 2 & 3 & 837 & 249 & 16822 & 0 & 1 & 0\\\\\n",
       "\\end{tabular}\n"
      ],
      "text/markdown": [
       "\n",
       "A tibble: 6 × 10\n",
       "\n",
       "| j &lt;int&gt; | k &lt;int&gt; | Brand &lt;dbl&gt; | Model &lt;dbl&gt; | Price &lt;dbl&gt; | delay_uw_val &lt;dbl&gt; | date_uw &lt;dbl&gt; | Cover_B &lt;dbl&gt; | Cover_BO &lt;dbl&gt; | Cover_BOT &lt;dbl&gt; |\n",
       "|---|---|---|---|---|---|---|---|---|---|\n",
       "| 1 | 1 | 2 | 0 | 550 | 269 | 16802 | 0 | 1 | 0 |\n",
       "| 1 | 1 | 2 | 3 | 837 | 249 | 16822 | 0 | 1 | 0 |\n",
       "| 2 | 1 | 2 | 3 | 837 | 249 | 16822 | 0 | 1 | 0 |\n",
       "| 3 | 1 | 2 | 3 | 837 | 249 | 16822 | 0 | 1 | 0 |\n",
       "| 4 | 1 | 2 | 3 | 837 | 249 | 16822 | 0 | 1 | 0 |\n",
       "| 5 | 1 | 2 | 3 | 837 | 249 | 16822 | 0 | 1 | 0 |\n",
       "\n"
      ],
      "text/plain": [
       "  j k Brand Model Price delay_uw_val date_uw Cover_B Cover_BO Cover_BOT\n",
       "1 1 1 2     0     550   269          16802   0       1        0        \n",
       "2 1 1 2     3     837   249          16822   0       1        0        \n",
       "3 2 1 2     3     837   249          16822   0       1        0        \n",
       "4 3 1 2     3     837   249          16822   0       1        0        \n",
       "5 4 1 2     3     837   249          16822   0       1        0        \n",
       "6 5 1 2     3     837   249          16822   0       1        0        "
      ]
     },
     "metadata": {},
     "output_type": "display_data"
    }
   ],
   "source": [
    "head(df.ReportingDelay_F_all)"
   ]
  },
  {
   "cell_type": "code",
   "execution_count": 170,
   "id": "ed43fa60-56b5-4498-be61-dba77574cfd9",
   "metadata": {},
   "outputs": [],
   "source": [
    "# Create DMatrix for the train, test, and all sets\n",
    "xgb.ReportingDelay_F_DMat.train <- xgb.DMatrix(\n",
    "  data = as.matrix(df.ReportingDelay_F_train),\n",
    "  weight = dt_reporting_delay_all_F[rowList_ReportDelay_F$train, exposure],  # Weight based on exposure (train set)\n",
    "  label = dt_reporting_delay_all_F[rowList_ReportDelay_F$train, target_delay]  # Target is target_delay (train set)\n",
    ")\n",
    "\n",
    "xgb.ReportingDelay_F_DMat.test <- xgb.DMatrix(\n",
    "  data = as.matrix(df.ReportingDelay_F_test),\n",
    "  weight = dt_reporting_delay_all_F[rowList_ReportDelay_F$test, exposure],  # Weight based on exposure (test set)\n",
    "  label = dt_reporting_delay_all_F[rowList_ReportDelay_F$test, target_delay]  # Target is target_delay (test set)\n",
    ")\n",
    "\n",
    "xgb.ReportingDelay_F_DMat.all <- xgb.DMatrix(\n",
    "  data = as.matrix(df.ReportingDelay_F_all),\n",
    "  weight = dt_reporting_delay_all_F[rowList_ReportDelay_F$all, exposure],  # Weight based on exposure (all set)\n",
    "  label = dt_reporting_delay_all_F[rowList_ReportDelay_F$all, target_delay]  # Target is target_delay (all set)\n",
    ")\n"
   ]
  },
  {
   "cell_type": "code",
   "execution_count": 211,
   "id": "83ff3a5e-c9fd-415c-ae60-cb70490945bb",
   "metadata": {},
   "outputs": [
    {
     "data": {
      "text/plain": [
       "xgb.DMatrix  dim: 1156 x 9  info: label weight  colnames: yes"
      ]
     },
     "metadata": {},
     "output_type": "display_data"
    }
   ],
   "source": [
    "xgb.ReportingDelay_F_DMat.train"
   ]
  },
  {
   "cell_type": "code",
   "execution_count": 212,
   "id": "4779894a-95a9-40f9-94cd-dbab1064378c",
   "metadata": {},
   "outputs": [
    {
     "data": {
      "text/plain": [
       "xgb.DMatrix  dim: 1347 x 9  info: label weight  colnames: yes"
      ]
     },
     "metadata": {},
     "output_type": "display_data"
    }
   ],
   "source": [
    "xgb.ReportingDelay_F_DMat.test"
   ]
  },
  {
   "cell_type": "code",
   "execution_count": 213,
   "id": "3b1889be-b6fe-42b6-bdf4-5eb8a59fc63a",
   "metadata": {},
   "outputs": [
    {
     "data": {
      "text/plain": [
       "xgb.DMatrix  dim: 2503 x 9  info: label weight  colnames: yes"
      ]
     },
     "metadata": {},
     "output_type": "display_data"
    }
   ],
   "source": [
    "xgb.ReportingDelay_F_DMat.all"
   ]
  },
  {
   "cell_type": "code",
   "execution_count": 214,
   "id": "37921056-66bf-4928-8807-faae07bff763",
   "metadata": {},
   "outputs": [
    {
     "data": {
      "text/plain": [
       "   Min. 1st Qu.  Median    Mean 3rd Qu.    Max. \n",
       "   1.00   18.00   34.00   41.48   57.00  174.00 "
      ]
     },
     "metadata": {},
     "output_type": "display_data"
    },
    {
     "data": {
      "image/png": "[encoded data removed]",
      "text/plain": [
       "Plot with title \"Histogram of Reporting Delay (Training Set)\""
      ]
     },
     "metadata": {
      "image/png": {
       "height": 420,
       "width": 420
      }
     },
     "output_type": "display_data"
    }
   ],
   "source": [
    "# Plot histogram of target_delay in the training set\n",
    "summary(dt_reporting_delay_all_F[rowList_ReportDelay_F$train, target_delay])\n",
    "hist(dt_reporting_delay_all_F[rowList_ReportDelay_F$train, target_delay], \n",
    "     main = \"Histogram of Reporting Delay (Training Set)\", \n",
    "     xlab = \"Reporting Delay\", \n",
    "     col = \"lightblue\", \n",
    "     border = \"black\")\n"
   ]
  },
  {
   "cell_type": "code",
   "execution_count": 215,
   "id": "77890514-c880-41dc-8bcb-71346b01bf07",
   "metadata": {},
   "outputs": [
    {
     "name": "stdout",
     "output_type": "stream",
     "text": [
      "[1]\ttrain-rmse:32.274762+0.495561\ttest-rmse:32.581469+1.733526 \n",
      "Multiple eval metrics are present. Will use test_rmse for early stopping.\n",
      "Will train until test_rmse hasn't improved in 50 rounds.\n",
      "\n",
      "[51]\ttrain-rmse:18.357517+0.697305\ttest-rmse:28.631967+1.453128 \n",
      "[101]\ttrain-rmse:14.175668+0.439841\ttest-rmse:28.670728+1.465253 \n",
      "Stopping. Best iteration:\n",
      "[79]\ttrain-rmse:15.657303+0.465717\ttest-rmse:28.523873+1.601770\n",
      "\n"
     ]
    }
   ],
   "source": [
    "# Hyperparameters for XGBoost model\n",
    "param <- list(\n",
    "  objective = \"reg:squarederror\",  # Regression for continuous target (reporting delay)\n",
    "  max_depth = 6L,                 # Maximum depth of the trees\n",
    "  subsample = 0.8,                # Fraction of rows to sample for each tree\n",
    "  colsample_bytree = 0.8,         # Fraction of features to sample for each tree\n",
    "  eta = 0.1,                      # Learning rate\n",
    "  min_child_weight = 1            # Minimum sum of instance weight per leaf (controls overfitting)\n",
    ")\n",
    "\n",
    "# Cross-validation to find best number of rounds\n",
    "set.seed(123)  # For repeatability\n",
    "\n",
    "xgb.ReportingDelay_F_CV <- xgb.cv(\n",
    "  params = param,\n",
    "  data = xgb.ReportingDelay_F_DMat.train,  # DMatrix for train set\n",
    "  nrounds = 2000,           # Maximum number of rounds to train\n",
    "  nfold = 5,               # 5-fold cross-validation\n",
    "  early_stopping_rounds = 50,  # Stop if performance doesn't improve after 50 rounds\n",
    "  print_every_n = 50,      # Print progress every 50 rounds\n",
    "  prediction = TRUE        # Save the predictions during CV\n",
    ")\n",
    "\n",
    "# Check the best number of rounds\n",
    "best_nrounds <- xgb.ReportingDelay_F_CV$best_iteration\n"
   ]
  },
  {
   "cell_type": "code",
   "execution_count": 216,
   "id": "04d4b6d3-d0b4-4e7d-ae7f-5a6be302771e",
   "metadata": {},
   "outputs": [],
   "source": [
    "# Store out-of-fold predictions in the train set\n",
    "dt_reporting_delay_all_F[rowList_ReportDelay_F$train, preds_oof_reporting_delay := xgb.ReportingDelay_F_CV$pred]\n"
   ]
  },
  {
   "cell_type": "code",
   "execution_count": 217,
   "id": "b9bd5d14-473a-48af-a010-39dc9f7f6146",
   "metadata": {},
   "outputs": [
    {
     "data": {
      "text/html": [
       "<table class=\"dataframe\">\n",
       "<caption>A data.table: 6 × 14</caption>\n",
       "<thead>\n",
       "\t<tr><th scope=col>j</th><th scope=col>k</th><th scope=col>Cover</th><th scope=col>Brand</th><th scope=col>Model</th><th scope=col>Price</th><th scope=col>delay_uw_val</th><th scope=col>date_uw</th><th scope=col>date_pol_start_YYYYMM</th><th scope=col>flgSet</th><th scope=col>exposure</th><th scope=col>target_delay</th><th scope=col>target_count</th><th scope=col>preds_oof_reporting_delay</th></tr>\n",
       "\t<tr><th scope=col>&lt;int&gt;</th><th scope=col>&lt;int&gt;</th><th scope=col>&lt;fct&gt;</th><th scope=col>&lt;dbl&gt;</th><th scope=col>&lt;dbl&gt;</th><th scope=col>&lt;dbl&gt;</th><th scope=col>&lt;dbl&gt;</th><th scope=col>&lt;dbl&gt;</th><th scope=col>&lt;chr&gt;</th><th scope=col>&lt;dbl&gt;</th><th scope=col>&lt;dbl&gt;</th><th scope=col>&lt;int&gt;</th><th scope=col>&lt;int&gt;</th><th scope=col>&lt;dbl&gt;</th></tr>\n",
       "</thead>\n",
       "<tbody>\n",
       "\t<tr><td>1</td><td>1</td><td>BO</td><td>2</td><td>0</td><td>550</td><td>269</td><td>16802</td><td>2016.01</td><td>2</td><td>1</td><td>208</td><td>1</td><td>       NA</td></tr>\n",
       "\t<tr><td>1</td><td>1</td><td>BO</td><td>2</td><td>3</td><td>837</td><td>249</td><td>16822</td><td>2016.01</td><td>1</td><td>2</td><td>155</td><td>2</td><td> 52.07990</td></tr>\n",
       "\t<tr><td>2</td><td>1</td><td>BO</td><td>2</td><td>3</td><td>837</td><td>249</td><td>16822</td><td>2016.01</td><td>1</td><td>1</td><td>146</td><td>1</td><td> 96.57033</td></tr>\n",
       "\t<tr><td>3</td><td>1</td><td>BO</td><td>2</td><td>3</td><td>837</td><td>249</td><td>16822</td><td>2016.01</td><td>1</td><td>1</td><td>146</td><td>1</td><td>124.07780</td></tr>\n",
       "\t<tr><td>4</td><td>1</td><td>BO</td><td>2</td><td>3</td><td>837</td><td>249</td><td>16822</td><td>2016.01</td><td>1</td><td>1</td><td>146</td><td>1</td><td>144.95689</td></tr>\n",
       "\t<tr><td>5</td><td>1</td><td>BO</td><td>2</td><td>3</td><td>837</td><td>249</td><td>16822</td><td>2016.01</td><td>1</td><td>1</td><td>146</td><td>1</td><td>146.33356</td></tr>\n",
       "</tbody>\n",
       "</table>\n"
      ],
      "text/latex": [
       "A data.table: 6 × 14\n",
       "\\begin{tabular}{llllllllllllll}\n",
       " j & k & Cover & Brand & Model & Price & delay\\_uw\\_val & date\\_uw & date\\_pol\\_start\\_YYYYMM & flgSet & exposure & target\\_delay & target\\_count & preds\\_oof\\_reporting\\_delay\\\\\n",
       " <int> & <int> & <fct> & <dbl> & <dbl> & <dbl> & <dbl> & <dbl> & <chr> & <dbl> & <dbl> & <int> & <int> & <dbl>\\\\\n",
       "\\hline\n",
       "\t 1 & 1 & BO & 2 & 0 & 550 & 269 & 16802 & 2016.01 & 2 & 1 & 208 & 1 &        NA\\\\\n",
       "\t 1 & 1 & BO & 2 & 3 & 837 & 249 & 16822 & 2016.01 & 1 & 2 & 155 & 2 &  52.07990\\\\\n",
       "\t 2 & 1 & BO & 2 & 3 & 837 & 249 & 16822 & 2016.01 & 1 & 1 & 146 & 1 &  96.57033\\\\\n",
       "\t 3 & 1 & BO & 2 & 3 & 837 & 249 & 16822 & 2016.01 & 1 & 1 & 146 & 1 & 124.07780\\\\\n",
       "\t 4 & 1 & BO & 2 & 3 & 837 & 249 & 16822 & 2016.01 & 1 & 1 & 146 & 1 & 144.95689\\\\\n",
       "\t 5 & 1 & BO & 2 & 3 & 837 & 249 & 16822 & 2016.01 & 1 & 1 & 146 & 1 & 146.33356\\\\\n",
       "\\end{tabular}\n"
      ],
      "text/markdown": [
       "\n",
       "A data.table: 6 × 14\n",
       "\n",
       "| j &lt;int&gt; | k &lt;int&gt; | Cover &lt;fct&gt; | Brand &lt;dbl&gt; | Model &lt;dbl&gt; | Price &lt;dbl&gt; | delay_uw_val &lt;dbl&gt; | date_uw &lt;dbl&gt; | date_pol_start_YYYYMM &lt;chr&gt; | flgSet &lt;dbl&gt; | exposure &lt;dbl&gt; | target_delay &lt;int&gt; | target_count &lt;int&gt; | preds_oof_reporting_delay &lt;dbl&gt; |\n",
       "|---|---|---|---|---|---|---|---|---|---|---|---|---|---|\n",
       "| 1 | 1 | BO | 2 | 0 | 550 | 269 | 16802 | 2016.01 | 2 | 1 | 208 | 1 |        NA |\n",
       "| 1 | 1 | BO | 2 | 3 | 837 | 249 | 16822 | 2016.01 | 1 | 2 | 155 | 2 |  52.07990 |\n",
       "| 2 | 1 | BO | 2 | 3 | 837 | 249 | 16822 | 2016.01 | 1 | 1 | 146 | 1 |  96.57033 |\n",
       "| 3 | 1 | BO | 2 | 3 | 837 | 249 | 16822 | 2016.01 | 1 | 1 | 146 | 1 | 124.07780 |\n",
       "| 4 | 1 | BO | 2 | 3 | 837 | 249 | 16822 | 2016.01 | 1 | 1 | 146 | 1 | 144.95689 |\n",
       "| 5 | 1 | BO | 2 | 3 | 837 | 249 | 16822 | 2016.01 | 1 | 1 | 146 | 1 | 146.33356 |\n",
       "\n"
      ],
      "text/plain": [
       "  j k Cover Brand Model Price delay_uw_val date_uw date_pol_start_YYYYMM flgSet\n",
       "1 1 1 BO    2     0     550   269          16802   2016.01               2     \n",
       "2 1 1 BO    2     3     837   249          16822   2016.01               1     \n",
       "3 2 1 BO    2     3     837   249          16822   2016.01               1     \n",
       "4 3 1 BO    2     3     837   249          16822   2016.01               1     \n",
       "5 4 1 BO    2     3     837   249          16822   2016.01               1     \n",
       "6 5 1 BO    2     3     837   249          16822   2016.01               1     \n",
       "  exposure target_delay target_count preds_oof_reporting_delay\n",
       "1 1        208          1                   NA                \n",
       "2 2        155          2             52.07990                \n",
       "3 1        146          1             96.57033                \n",
       "4 1        146          1            124.07780                \n",
       "5 1        146          1            144.95689                \n",
       "6 1        146          1            146.33356                "
      ]
     },
     "metadata": {},
     "output_type": "display_data"
    }
   ],
   "source": [
    "head(dt_reporting_delay_all_F)"
   ]
  },
  {
   "cell_type": "code",
   "execution_count": 218,
   "id": "a7e07640-92d3-4888-9faf-8c26c164e4ab",
   "metadata": {},
   "outputs": [],
   "source": [
    "# Scale predictions by exposure (similar to IBNR model)\n",
    "dt_reporting_delay_all_F[rowList_ReportDelay_F$train, preds_oof_reporting_delay_scaled := exposure * preds_oof_reporting_delay]\n"
   ]
  },
  {
   "cell_type": "code",
   "execution_count": 219,
   "id": "0ca001b1-60e3-4e6d-8088-eb0ed0d9c025",
   "metadata": {},
   "outputs": [
    {
     "data": {
      "text/html": [
       "<table class=\"dataframe\">\n",
       "<caption>A data.table: 6 × 15</caption>\n",
       "<thead>\n",
       "\t<tr><th scope=col>j</th><th scope=col>k</th><th scope=col>Cover</th><th scope=col>Brand</th><th scope=col>Model</th><th scope=col>Price</th><th scope=col>delay_uw_val</th><th scope=col>date_uw</th><th scope=col>date_pol_start_YYYYMM</th><th scope=col>flgSet</th><th scope=col>exposure</th><th scope=col>target_delay</th><th scope=col>target_count</th><th scope=col>preds_oof_reporting_delay</th><th scope=col>preds_oof_reporting_delay_scaled</th></tr>\n",
       "\t<tr><th scope=col>&lt;int&gt;</th><th scope=col>&lt;int&gt;</th><th scope=col>&lt;fct&gt;</th><th scope=col>&lt;dbl&gt;</th><th scope=col>&lt;dbl&gt;</th><th scope=col>&lt;dbl&gt;</th><th scope=col>&lt;dbl&gt;</th><th scope=col>&lt;dbl&gt;</th><th scope=col>&lt;chr&gt;</th><th scope=col>&lt;dbl&gt;</th><th scope=col>&lt;dbl&gt;</th><th scope=col>&lt;int&gt;</th><th scope=col>&lt;int&gt;</th><th scope=col>&lt;dbl&gt;</th><th scope=col>&lt;dbl&gt;</th></tr>\n",
       "</thead>\n",
       "<tbody>\n",
       "\t<tr><td>1</td><td>1</td><td>BO</td><td>2</td><td>0</td><td>550</td><td>269</td><td>16802</td><td>2016.01</td><td>2</td><td>1</td><td>208</td><td>1</td><td>       NA</td><td>       NA</td></tr>\n",
       "\t<tr><td>1</td><td>1</td><td>BO</td><td>2</td><td>3</td><td>837</td><td>249</td><td>16822</td><td>2016.01</td><td>1</td><td>2</td><td>155</td><td>2</td><td> 52.07990</td><td>104.15979</td></tr>\n",
       "\t<tr><td>2</td><td>1</td><td>BO</td><td>2</td><td>3</td><td>837</td><td>249</td><td>16822</td><td>2016.01</td><td>1</td><td>1</td><td>146</td><td>1</td><td> 96.57033</td><td> 96.57033</td></tr>\n",
       "\t<tr><td>3</td><td>1</td><td>BO</td><td>2</td><td>3</td><td>837</td><td>249</td><td>16822</td><td>2016.01</td><td>1</td><td>1</td><td>146</td><td>1</td><td>124.07780</td><td>124.07780</td></tr>\n",
       "\t<tr><td>4</td><td>1</td><td>BO</td><td>2</td><td>3</td><td>837</td><td>249</td><td>16822</td><td>2016.01</td><td>1</td><td>1</td><td>146</td><td>1</td><td>144.95689</td><td>144.95689</td></tr>\n",
       "\t<tr><td>5</td><td>1</td><td>BO</td><td>2</td><td>3</td><td>837</td><td>249</td><td>16822</td><td>2016.01</td><td>1</td><td>1</td><td>146</td><td>1</td><td>146.33356</td><td>146.33356</td></tr>\n",
       "</tbody>\n",
       "</table>\n"
      ],
      "text/latex": [
       "A data.table: 6 × 15\n",
       "\\begin{tabular}{lllllllllllllll}\n",
       " j & k & Cover & Brand & Model & Price & delay\\_uw\\_val & date\\_uw & date\\_pol\\_start\\_YYYYMM & flgSet & exposure & target\\_delay & target\\_count & preds\\_oof\\_reporting\\_delay & preds\\_oof\\_reporting\\_delay\\_scaled\\\\\n",
       " <int> & <int> & <fct> & <dbl> & <dbl> & <dbl> & <dbl> & <dbl> & <chr> & <dbl> & <dbl> & <int> & <int> & <dbl> & <dbl>\\\\\n",
       "\\hline\n",
       "\t 1 & 1 & BO & 2 & 0 & 550 & 269 & 16802 & 2016.01 & 2 & 1 & 208 & 1 &        NA &        NA\\\\\n",
       "\t 1 & 1 & BO & 2 & 3 & 837 & 249 & 16822 & 2016.01 & 1 & 2 & 155 & 2 &  52.07990 & 104.15979\\\\\n",
       "\t 2 & 1 & BO & 2 & 3 & 837 & 249 & 16822 & 2016.01 & 1 & 1 & 146 & 1 &  96.57033 &  96.57033\\\\\n",
       "\t 3 & 1 & BO & 2 & 3 & 837 & 249 & 16822 & 2016.01 & 1 & 1 & 146 & 1 & 124.07780 & 124.07780\\\\\n",
       "\t 4 & 1 & BO & 2 & 3 & 837 & 249 & 16822 & 2016.01 & 1 & 1 & 146 & 1 & 144.95689 & 144.95689\\\\\n",
       "\t 5 & 1 & BO & 2 & 3 & 837 & 249 & 16822 & 2016.01 & 1 & 1 & 146 & 1 & 146.33356 & 146.33356\\\\\n",
       "\\end{tabular}\n"
      ],
      "text/markdown": [
       "\n",
       "A data.table: 6 × 15\n",
       "\n",
       "| j &lt;int&gt; | k &lt;int&gt; | Cover &lt;fct&gt; | Brand &lt;dbl&gt; | Model &lt;dbl&gt; | Price &lt;dbl&gt; | delay_uw_val &lt;dbl&gt; | date_uw &lt;dbl&gt; | date_pol_start_YYYYMM &lt;chr&gt; | flgSet &lt;dbl&gt; | exposure &lt;dbl&gt; | target_delay &lt;int&gt; | target_count &lt;int&gt; | preds_oof_reporting_delay &lt;dbl&gt; | preds_oof_reporting_delay_scaled &lt;dbl&gt; |\n",
       "|---|---|---|---|---|---|---|---|---|---|---|---|---|---|---|\n",
       "| 1 | 1 | BO | 2 | 0 | 550 | 269 | 16802 | 2016.01 | 2 | 1 | 208 | 1 |        NA |        NA |\n",
       "| 1 | 1 | BO | 2 | 3 | 837 | 249 | 16822 | 2016.01 | 1 | 2 | 155 | 2 |  52.07990 | 104.15979 |\n",
       "| 2 | 1 | BO | 2 | 3 | 837 | 249 | 16822 | 2016.01 | 1 | 1 | 146 | 1 |  96.57033 |  96.57033 |\n",
       "| 3 | 1 | BO | 2 | 3 | 837 | 249 | 16822 | 2016.01 | 1 | 1 | 146 | 1 | 124.07780 | 124.07780 |\n",
       "| 4 | 1 | BO | 2 | 3 | 837 | 249 | 16822 | 2016.01 | 1 | 1 | 146 | 1 | 144.95689 | 144.95689 |\n",
       "| 5 | 1 | BO | 2 | 3 | 837 | 249 | 16822 | 2016.01 | 1 | 1 | 146 | 1 | 146.33356 | 146.33356 |\n",
       "\n"
      ],
      "text/plain": [
       "  j k Cover Brand Model Price delay_uw_val date_uw date_pol_start_YYYYMM flgSet\n",
       "1 1 1 BO    2     0     550   269          16802   2016.01               2     \n",
       "2 1 1 BO    2     3     837   249          16822   2016.01               1     \n",
       "3 2 1 BO    2     3     837   249          16822   2016.01               1     \n",
       "4 3 1 BO    2     3     837   249          16822   2016.01               1     \n",
       "5 4 1 BO    2     3     837   249          16822   2016.01               1     \n",
       "6 5 1 BO    2     3     837   249          16822   2016.01               1     \n",
       "  exposure target_delay target_count preds_oof_reporting_delay\n",
       "1 1        208          1                   NA                \n",
       "2 2        155          2             52.07990                \n",
       "3 1        146          1             96.57033                \n",
       "4 1        146          1            124.07780                \n",
       "5 1        146          1            144.95689                \n",
       "6 1        146          1            146.33356                \n",
       "  preds_oof_reporting_delay_scaled\n",
       "1        NA                       \n",
       "2 104.15979                       \n",
       "3  96.57033                       \n",
       "4 124.07780                       \n",
       "5 144.95689                       \n",
       "6 146.33356                       "
      ]
     },
     "metadata": {},
     "output_type": "display_data"
    }
   ],
   "source": [
    "head(dt_reporting_delay_all_F)"
   ]
  },
  {
   "cell_type": "code",
   "execution_count": 220,
   "id": "9ca0174e-c1d9-4ec9-8ebc-22eb1bd0f8cb",
   "metadata": {},
   "outputs": [
    {
     "name": "stdout",
     "output_type": "stream",
     "text": [
      "[1]\ttrain-rmse:32.233178\ttest-rmse:32.763949 \n",
      "[51]\ttrain-rmse:19.674078\ttest-rmse:29.417431 \n",
      "[79]\ttrain-rmse:17.789725\ttest-rmse:30.158099 \n"
     ]
    }
   ],
   "source": [
    "# Train the model using the best number of rounds from cross-validation\n",
    "xgb.ReportingDelay_F_Fit <- xgb.train(\n",
    "  params = param,  # Hyperparameters for the model\n",
    "  data = xgb.ReportingDelay_F_DMat.train,  # DMatrix for train set\n",
    "  nrounds = best_nrounds,  # Best number of rounds from cross-validation\n",
    "  watchlist = list(train = xgb.ReportingDelay_F_DMat.train, test = xgb.ReportingDelay_F_DMat.test),  # Watch performance on train and test sets\n",
    "  print_every_n = 50  # Print progress every 50 rounds\n",
    ")\n",
    "\n",
    "# Generate predictions on the full dataset (train + test)\n",
    "dt_reporting_delay_all_F[rowList_ReportDelay_F$all, preds_full_reporting_delay := predict(xgb.ReportingDelay_F_Fit, xgb.ReportingDelay_F_DMat.all)]\n"
   ]
  },
  {
   "cell_type": "code",
   "execution_count": 222,
   "id": "9bda97d6-935b-4a58-8dad-50da883b5861",
   "metadata": {},
   "outputs": [
    {
     "data": {
      "text/html": [
       "<table class=\"dataframe\">\n",
       "<caption>A data.table: 6 × 16</caption>\n",
       "<thead>\n",
       "\t<tr><th scope=col>j</th><th scope=col>k</th><th scope=col>Cover</th><th scope=col>Brand</th><th scope=col>Model</th><th scope=col>Price</th><th scope=col>delay_uw_val</th><th scope=col>date_uw</th><th scope=col>date_pol_start_YYYYMM</th><th scope=col>flgSet</th><th scope=col>exposure</th><th scope=col>target_delay</th><th scope=col>target_count</th><th scope=col>preds_oof_reporting_delay</th><th scope=col>preds_oof_reporting_delay_scaled</th><th scope=col>preds_full_reporting_delay</th></tr>\n",
       "\t<tr><th scope=col>&lt;int&gt;</th><th scope=col>&lt;int&gt;</th><th scope=col>&lt;fct&gt;</th><th scope=col>&lt;dbl&gt;</th><th scope=col>&lt;dbl&gt;</th><th scope=col>&lt;dbl&gt;</th><th scope=col>&lt;dbl&gt;</th><th scope=col>&lt;dbl&gt;</th><th scope=col>&lt;chr&gt;</th><th scope=col>&lt;dbl&gt;</th><th scope=col>&lt;dbl&gt;</th><th scope=col>&lt;int&gt;</th><th scope=col>&lt;int&gt;</th><th scope=col>&lt;dbl&gt;</th><th scope=col>&lt;dbl&gt;</th><th scope=col>&lt;dbl&gt;</th></tr>\n",
       "</thead>\n",
       "<tbody>\n",
       "\t<tr><td>1</td><td>1</td><td>BO</td><td>2</td><td>0</td><td>550</td><td>269</td><td>16802</td><td>2016.01</td><td>2</td><td>1</td><td>208</td><td>1</td><td>       NA</td><td>       NA</td><td> 38.83886</td></tr>\n",
       "\t<tr><td>1</td><td>1</td><td>BO</td><td>2</td><td>3</td><td>837</td><td>249</td><td>16822</td><td>2016.01</td><td>1</td><td>2</td><td>155</td><td>2</td><td> 52.07990</td><td>104.15979</td><td>107.00132</td></tr>\n",
       "\t<tr><td>2</td><td>1</td><td>BO</td><td>2</td><td>3</td><td>837</td><td>249</td><td>16822</td><td>2016.01</td><td>1</td><td>1</td><td>146</td><td>1</td><td> 96.57033</td><td> 96.57033</td><td>123.01775</td></tr>\n",
       "\t<tr><td>3</td><td>1</td><td>BO</td><td>2</td><td>3</td><td>837</td><td>249</td><td>16822</td><td>2016.01</td><td>1</td><td>1</td><td>146</td><td>1</td><td>124.07780</td><td>124.07780</td><td>135.37230</td></tr>\n",
       "\t<tr><td>4</td><td>1</td><td>BO</td><td>2</td><td>3</td><td>837</td><td>249</td><td>16822</td><td>2016.01</td><td>1</td><td>1</td><td>146</td><td>1</td><td>144.95689</td><td>144.95689</td><td>144.96960</td></tr>\n",
       "\t<tr><td>5</td><td>1</td><td>BO</td><td>2</td><td>3</td><td>837</td><td>249</td><td>16822</td><td>2016.01</td><td>1</td><td>1</td><td>146</td><td>1</td><td>146.33356</td><td>146.33356</td><td>145.64227</td></tr>\n",
       "</tbody>\n",
       "</table>\n"
      ],
      "text/latex": [
       "A data.table: 6 × 16\n",
       "\\begin{tabular}{llllllllllllllll}\n",
       " j & k & Cover & Brand & Model & Price & delay\\_uw\\_val & date\\_uw & date\\_pol\\_start\\_YYYYMM & flgSet & exposure & target\\_delay & target\\_count & preds\\_oof\\_reporting\\_delay & preds\\_oof\\_reporting\\_delay\\_scaled & preds\\_full\\_reporting\\_delay\\\\\n",
       " <int> & <int> & <fct> & <dbl> & <dbl> & <dbl> & <dbl> & <dbl> & <chr> & <dbl> & <dbl> & <int> & <int> & <dbl> & <dbl> & <dbl>\\\\\n",
       "\\hline\n",
       "\t 1 & 1 & BO & 2 & 0 & 550 & 269 & 16802 & 2016.01 & 2 & 1 & 208 & 1 &        NA &        NA &  38.83886\\\\\n",
       "\t 1 & 1 & BO & 2 & 3 & 837 & 249 & 16822 & 2016.01 & 1 & 2 & 155 & 2 &  52.07990 & 104.15979 & 107.00132\\\\\n",
       "\t 2 & 1 & BO & 2 & 3 & 837 & 249 & 16822 & 2016.01 & 1 & 1 & 146 & 1 &  96.57033 &  96.57033 & 123.01775\\\\\n",
       "\t 3 & 1 & BO & 2 & 3 & 837 & 249 & 16822 & 2016.01 & 1 & 1 & 146 & 1 & 124.07780 & 124.07780 & 135.37230\\\\\n",
       "\t 4 & 1 & BO & 2 & 3 & 837 & 249 & 16822 & 2016.01 & 1 & 1 & 146 & 1 & 144.95689 & 144.95689 & 144.96960\\\\\n",
       "\t 5 & 1 & BO & 2 & 3 & 837 & 249 & 16822 & 2016.01 & 1 & 1 & 146 & 1 & 146.33356 & 146.33356 & 145.64227\\\\\n",
       "\\end{tabular}\n"
      ],
      "text/markdown": [
       "\n",
       "A data.table: 6 × 16\n",
       "\n",
       "| j &lt;int&gt; | k &lt;int&gt; | Cover &lt;fct&gt; | Brand &lt;dbl&gt; | Model &lt;dbl&gt; | Price &lt;dbl&gt; | delay_uw_val &lt;dbl&gt; | date_uw &lt;dbl&gt; | date_pol_start_YYYYMM &lt;chr&gt; | flgSet &lt;dbl&gt; | exposure &lt;dbl&gt; | target_delay &lt;int&gt; | target_count &lt;int&gt; | preds_oof_reporting_delay &lt;dbl&gt; | preds_oof_reporting_delay_scaled &lt;dbl&gt; | preds_full_reporting_delay &lt;dbl&gt; |\n",
       "|---|---|---|---|---|---|---|---|---|---|---|---|---|---|---|---|\n",
       "| 1 | 1 | BO | 2 | 0 | 550 | 269 | 16802 | 2016.01 | 2 | 1 | 208 | 1 |        NA |        NA |  38.83886 |\n",
       "| 1 | 1 | BO | 2 | 3 | 837 | 249 | 16822 | 2016.01 | 1 | 2 | 155 | 2 |  52.07990 | 104.15979 | 107.00132 |\n",
       "| 2 | 1 | BO | 2 | 3 | 837 | 249 | 16822 | 2016.01 | 1 | 1 | 146 | 1 |  96.57033 |  96.57033 | 123.01775 |\n",
       "| 3 | 1 | BO | 2 | 3 | 837 | 249 | 16822 | 2016.01 | 1 | 1 | 146 | 1 | 124.07780 | 124.07780 | 135.37230 |\n",
       "| 4 | 1 | BO | 2 | 3 | 837 | 249 | 16822 | 2016.01 | 1 | 1 | 146 | 1 | 144.95689 | 144.95689 | 144.96960 |\n",
       "| 5 | 1 | BO | 2 | 3 | 837 | 249 | 16822 | 2016.01 | 1 | 1 | 146 | 1 | 146.33356 | 146.33356 | 145.64227 |\n",
       "\n"
      ],
      "text/plain": [
       "  j k Cover Brand Model Price delay_uw_val date_uw date_pol_start_YYYYMM flgSet\n",
       "1 1 1 BO    2     0     550   269          16802   2016.01               2     \n",
       "2 1 1 BO    2     3     837   249          16822   2016.01               1     \n",
       "3 2 1 BO    2     3     837   249          16822   2016.01               1     \n",
       "4 3 1 BO    2     3     837   249          16822   2016.01               1     \n",
       "5 4 1 BO    2     3     837   249          16822   2016.01               1     \n",
       "6 5 1 BO    2     3     837   249          16822   2016.01               1     \n",
       "  exposure target_delay target_count preds_oof_reporting_delay\n",
       "1 1        208          1                   NA                \n",
       "2 2        155          2             52.07990                \n",
       "3 1        146          1             96.57033                \n",
       "4 1        146          1            124.07780                \n",
       "5 1        146          1            144.95689                \n",
       "6 1        146          1            146.33356                \n",
       "  preds_oof_reporting_delay_scaled preds_full_reporting_delay\n",
       "1        NA                         38.83886                 \n",
       "2 104.15979                        107.00132                 \n",
       "3  96.57033                        123.01775                 \n",
       "4 124.07780                        135.37230                 \n",
       "5 144.95689                        144.96960                 \n",
       "6 146.33356                        145.64227                 "
      ]
     },
     "metadata": {},
     "output_type": "display_data"
    }
   ],
   "source": [
    "head(dt_reporting_delay_all_F)"
   ]
  },
  {
   "cell_type": "code",
   "execution_count": 227,
   "id": "1aa48d19-19b4-4b28-bc53-1f9001bfad4b",
   "metadata": {},
   "outputs": [
    {
     "data": {
      "text/html": [
       "<table class=\"dataframe\">\n",
       "<caption>A data.table: 10 × 2</caption>\n",
       "<thead>\n",
       "\t<tr><th scope=col>target_delay</th><th scope=col>preds_full_reporting_delay</th></tr>\n",
       "\t<tr><th scope=col>&lt;int&gt;</th><th scope=col>&lt;dbl&gt;</th></tr>\n",
       "</thead>\n",
       "<tbody>\n",
       "\t<tr><td>208</td><td> 38.83886</td></tr>\n",
       "\t<tr><td>155</td><td>107.00132</td></tr>\n",
       "\t<tr><td>146</td><td>123.01775</td></tr>\n",
       "\t<tr><td>146</td><td>135.37230</td></tr>\n",
       "\t<tr><td>146</td><td>144.96960</td></tr>\n",
       "\t<tr><td>146</td><td>145.64227</td></tr>\n",
       "\t<tr><td>136</td><td> 71.41648</td></tr>\n",
       "\t<tr><td>136</td><td>101.04620</td></tr>\n",
       "\t<tr><td>136</td><td>130.99684</td></tr>\n",
       "\t<tr><td>136</td><td>139.54512</td></tr>\n",
       "</tbody>\n",
       "</table>\n"
      ],
      "text/latex": [
       "A data.table: 10 × 2\n",
       "\\begin{tabular}{ll}\n",
       " target\\_delay & preds\\_full\\_reporting\\_delay\\\\\n",
       " <int> & <dbl>\\\\\n",
       "\\hline\n",
       "\t 208 &  38.83886\\\\\n",
       "\t 155 & 107.00132\\\\\n",
       "\t 146 & 123.01775\\\\\n",
       "\t 146 & 135.37230\\\\\n",
       "\t 146 & 144.96960\\\\\n",
       "\t 146 & 145.64227\\\\\n",
       "\t 136 &  71.41648\\\\\n",
       "\t 136 & 101.04620\\\\\n",
       "\t 136 & 130.99684\\\\\n",
       "\t 136 & 139.54512\\\\\n",
       "\\end{tabular}\n"
      ],
      "text/markdown": [
       "\n",
       "A data.table: 10 × 2\n",
       "\n",
       "| target_delay &lt;int&gt; | preds_full_reporting_delay &lt;dbl&gt; |\n",
       "|---|---|\n",
       "| 208 |  38.83886 |\n",
       "| 155 | 107.00132 |\n",
       "| 146 | 123.01775 |\n",
       "| 146 | 135.37230 |\n",
       "| 146 | 144.96960 |\n",
       "| 146 | 145.64227 |\n",
       "| 136 |  71.41648 |\n",
       "| 136 | 101.04620 |\n",
       "| 136 | 130.99684 |\n",
       "| 136 | 139.54512 |\n",
       "\n"
      ],
      "text/plain": [
       "   target_delay preds_full_reporting_delay\n",
       "1  208           38.83886                 \n",
       "2  155          107.00132                 \n",
       "3  146          123.01775                 \n",
       "4  146          135.37230                 \n",
       "5  146          144.96960                 \n",
       "6  146          145.64227                 \n",
       "7  136           71.41648                 \n",
       "8  136          101.04620                 \n",
       "9  136          130.99684                 \n",
       "10 136          139.54512                 "
      ]
     },
     "metadata": {},
     "output_type": "display_data"
    }
   ],
   "source": [
    "head(dt_reporting_delay_all_F[, .(target_delay, preds_full_reporting_delay)], 10)"
   ]
  },
  {
   "cell_type": "code",
   "execution_count": 228,
   "id": "1894bda8-c573-4152-9081-61b8fb40a0dc",
   "metadata": {},
   "outputs": [
    {
     "data": {
      "text/plain": [
       "     Min.   1st Qu.    Median      Mean   3rd Qu.      Max. \n",
       "-169.1611  -20.3961   -0.7693   -4.3557   13.6821   78.1734 "
      ]
     },
     "metadata": {},
     "output_type": "display_data"
    },
    {
     "data": {
      "text/plain": [
       "    Min.  1st Qu.   Median     Mean  3rd Qu.     Max. \n",
       " -87.070  -35.451   -1.899   71.760   67.470 2886.147 "
      ]
     },
     "metadata": {},
     "output_type": "display_data"
    }
   ],
   "source": [
    "# Evaluate performance by calculating the difference and percentage difference\n",
    "dt_reporting_delay_all_F[rowList_ReportDelay_F$test, Diff := preds_full_reporting_delay - target_delay]\n",
    "dt_reporting_delay_all_F[rowList_ReportDelay_F$test, Diff_pcnt := (Diff / target_delay) * 100]\n",
    "\n",
    "# Print summary statistics\n",
    "summary(dt_reporting_delay_all_F[rowList_ReportDelay_F$test, Diff])\n",
    "summary(dt_reporting_delay_all_F[rowList_ReportDelay_F$test, Diff_pcnt])\n"
   ]
  },
  {
   "cell_type": "code",
   "execution_count": 229,
   "id": "6d83a95d-ddd3-4418-8978-e9902781b13b",
   "metadata": {},
   "outputs": [
    {
     "data": {
      "image/png": "[encoded data removed]",
      "text/plain": [
       "Plot with title \"Feature Importance - Reporting Delay\""
      ]
     },
     "metadata": {
      "image/png": {
       "height": 420,
       "width": 420
      }
     },
     "output_type": "display_data"
    }
   ],
   "source": [
    "# Extract feature importance from the trained model\n",
    "featImp_reporting_delay <- xgb.importance(model = xgb.ReportingDelay_F_Fit)\n",
    "\n",
    "# Plot the feature importance\n",
    "xgb.plot.importance(featImp_reporting_delay, main = \"Feature Importance - Reporting Delay\")\n"
   ]
  },
  {
   "cell_type": "code",
   "execution_count": 234,
   "id": "074b034d-e445-41fe-8df2-9da09f7aabb5",
   "metadata": {},
   "outputs": [
    {
     "data": {
      "text/html": [
       "<table class=\"dataframe\">\n",
       "<caption>A data.table: 6 × 18</caption>\n",
       "<thead>\n",
       "\t<tr><th scope=col>j</th><th scope=col>k</th><th scope=col>Cover</th><th scope=col>Brand</th><th scope=col>Model</th><th scope=col>Price</th><th scope=col>delay_uw_val</th><th scope=col>date_uw</th><th scope=col>date_pol_start_YYYYMM</th><th scope=col>flgSet</th><th scope=col>exposure</th><th scope=col>target_delay</th><th scope=col>target_count</th><th scope=col>preds_oof_reporting_delay</th><th scope=col>preds_oof_reporting_delay_scaled</th><th scope=col>preds_full_reporting_delay</th><th scope=col>Diff</th><th scope=col>Diff_pcnt</th></tr>\n",
       "\t<tr><th scope=col>&lt;int&gt;</th><th scope=col>&lt;int&gt;</th><th scope=col>&lt;fct&gt;</th><th scope=col>&lt;dbl&gt;</th><th scope=col>&lt;dbl&gt;</th><th scope=col>&lt;dbl&gt;</th><th scope=col>&lt;dbl&gt;</th><th scope=col>&lt;dbl&gt;</th><th scope=col>&lt;chr&gt;</th><th scope=col>&lt;dbl&gt;</th><th scope=col>&lt;dbl&gt;</th><th scope=col>&lt;int&gt;</th><th scope=col>&lt;int&gt;</th><th scope=col>&lt;dbl&gt;</th><th scope=col>&lt;dbl&gt;</th><th scope=col>&lt;dbl&gt;</th><th scope=col>&lt;dbl&gt;</th><th scope=col>&lt;dbl&gt;</th></tr>\n",
       "</thead>\n",
       "<tbody>\n",
       "\t<tr><td>1</td><td>1</td><td>BO</td><td>2</td><td>0</td><td>550</td><td>269</td><td>16802</td><td>2016.01</td><td>2</td><td>1</td><td>208</td><td>1</td><td>       NA</td><td>       NA</td><td> 38.83886</td><td>-169.1611</td><td>-81.32747</td></tr>\n",
       "\t<tr><td>1</td><td>1</td><td>BO</td><td>2</td><td>3</td><td>837</td><td>249</td><td>16822</td><td>2016.01</td><td>1</td><td>2</td><td>155</td><td>2</td><td> 52.07990</td><td>104.15979</td><td>107.00132</td><td>       NA</td><td>       NA</td></tr>\n",
       "\t<tr><td>2</td><td>1</td><td>BO</td><td>2</td><td>3</td><td>837</td><td>249</td><td>16822</td><td>2016.01</td><td>1</td><td>1</td><td>146</td><td>1</td><td> 96.57033</td><td> 96.57033</td><td>123.01775</td><td>       NA</td><td>       NA</td></tr>\n",
       "\t<tr><td>3</td><td>1</td><td>BO</td><td>2</td><td>3</td><td>837</td><td>249</td><td>16822</td><td>2016.01</td><td>1</td><td>1</td><td>146</td><td>1</td><td>124.07780</td><td>124.07780</td><td>135.37230</td><td>       NA</td><td>       NA</td></tr>\n",
       "\t<tr><td>4</td><td>1</td><td>BO</td><td>2</td><td>3</td><td>837</td><td>249</td><td>16822</td><td>2016.01</td><td>1</td><td>1</td><td>146</td><td>1</td><td>144.95689</td><td>144.95689</td><td>144.96960</td><td>       NA</td><td>       NA</td></tr>\n",
       "\t<tr><td>5</td><td>1</td><td>BO</td><td>2</td><td>3</td><td>837</td><td>249</td><td>16822</td><td>2016.01</td><td>1</td><td>1</td><td>146</td><td>1</td><td>146.33356</td><td>146.33356</td><td>145.64227</td><td>       NA</td><td>       NA</td></tr>\n",
       "</tbody>\n",
       "</table>\n"
      ],
      "text/latex": [
       "A data.table: 6 × 18\n",
       "\\begin{tabular}{llllllllllllllllll}\n",
       " j & k & Cover & Brand & Model & Price & delay\\_uw\\_val & date\\_uw & date\\_pol\\_start\\_YYYYMM & flgSet & exposure & target\\_delay & target\\_count & preds\\_oof\\_reporting\\_delay & preds\\_oof\\_reporting\\_delay\\_scaled & preds\\_full\\_reporting\\_delay & Diff & Diff\\_pcnt\\\\\n",
       " <int> & <int> & <fct> & <dbl> & <dbl> & <dbl> & <dbl> & <dbl> & <chr> & <dbl> & <dbl> & <int> & <int> & <dbl> & <dbl> & <dbl> & <dbl> & <dbl>\\\\\n",
       "\\hline\n",
       "\t 1 & 1 & BO & 2 & 0 & 550 & 269 & 16802 & 2016.01 & 2 & 1 & 208 & 1 &        NA &        NA &  38.83886 & -169.1611 & -81.32747\\\\\n",
       "\t 1 & 1 & BO & 2 & 3 & 837 & 249 & 16822 & 2016.01 & 1 & 2 & 155 & 2 &  52.07990 & 104.15979 & 107.00132 &        NA &        NA\\\\\n",
       "\t 2 & 1 & BO & 2 & 3 & 837 & 249 & 16822 & 2016.01 & 1 & 1 & 146 & 1 &  96.57033 &  96.57033 & 123.01775 &        NA &        NA\\\\\n",
       "\t 3 & 1 & BO & 2 & 3 & 837 & 249 & 16822 & 2016.01 & 1 & 1 & 146 & 1 & 124.07780 & 124.07780 & 135.37230 &        NA &        NA\\\\\n",
       "\t 4 & 1 & BO & 2 & 3 & 837 & 249 & 16822 & 2016.01 & 1 & 1 & 146 & 1 & 144.95689 & 144.95689 & 144.96960 &        NA &        NA\\\\\n",
       "\t 5 & 1 & BO & 2 & 3 & 837 & 249 & 16822 & 2016.01 & 1 & 1 & 146 & 1 & 146.33356 & 146.33356 & 145.64227 &        NA &        NA\\\\\n",
       "\\end{tabular}\n"
      ],
      "text/markdown": [
       "\n",
       "A data.table: 6 × 18\n",
       "\n",
       "| j &lt;int&gt; | k &lt;int&gt; | Cover &lt;fct&gt; | Brand &lt;dbl&gt; | Model &lt;dbl&gt; | Price &lt;dbl&gt; | delay_uw_val &lt;dbl&gt; | date_uw &lt;dbl&gt; | date_pol_start_YYYYMM &lt;chr&gt; | flgSet &lt;dbl&gt; | exposure &lt;dbl&gt; | target_delay &lt;int&gt; | target_count &lt;int&gt; | preds_oof_reporting_delay &lt;dbl&gt; | preds_oof_reporting_delay_scaled &lt;dbl&gt; | preds_full_reporting_delay &lt;dbl&gt; | Diff &lt;dbl&gt; | Diff_pcnt &lt;dbl&gt; |\n",
       "|---|---|---|---|---|---|---|---|---|---|---|---|---|---|---|---|---|---|\n",
       "| 1 | 1 | BO | 2 | 0 | 550 | 269 | 16802 | 2016.01 | 2 | 1 | 208 | 1 |        NA |        NA |  38.83886 | -169.1611 | -81.32747 |\n",
       "| 1 | 1 | BO | 2 | 3 | 837 | 249 | 16822 | 2016.01 | 1 | 2 | 155 | 2 |  52.07990 | 104.15979 | 107.00132 |        NA |        NA |\n",
       "| 2 | 1 | BO | 2 | 3 | 837 | 249 | 16822 | 2016.01 | 1 | 1 | 146 | 1 |  96.57033 |  96.57033 | 123.01775 |        NA |        NA |\n",
       "| 3 | 1 | BO | 2 | 3 | 837 | 249 | 16822 | 2016.01 | 1 | 1 | 146 | 1 | 124.07780 | 124.07780 | 135.37230 |        NA |        NA |\n",
       "| 4 | 1 | BO | 2 | 3 | 837 | 249 | 16822 | 2016.01 | 1 | 1 | 146 | 1 | 144.95689 | 144.95689 | 144.96960 |        NA |        NA |\n",
       "| 5 | 1 | BO | 2 | 3 | 837 | 249 | 16822 | 2016.01 | 1 | 1 | 146 | 1 | 146.33356 | 146.33356 | 145.64227 |        NA |        NA |\n",
       "\n"
      ],
      "text/plain": [
       "  j k Cover Brand Model Price delay_uw_val date_uw date_pol_start_YYYYMM flgSet\n",
       "1 1 1 BO    2     0     550   269          16802   2016.01               2     \n",
       "2 1 1 BO    2     3     837   249          16822   2016.01               1     \n",
       "3 2 1 BO    2     3     837   249          16822   2016.01               1     \n",
       "4 3 1 BO    2     3     837   249          16822   2016.01               1     \n",
       "5 4 1 BO    2     3     837   249          16822   2016.01               1     \n",
       "6 5 1 BO    2     3     837   249          16822   2016.01               1     \n",
       "  exposure target_delay target_count preds_oof_reporting_delay\n",
       "1 1        208          1                   NA                \n",
       "2 2        155          2             52.07990                \n",
       "3 1        146          1             96.57033                \n",
       "4 1        146          1            124.07780                \n",
       "5 1        146          1            144.95689                \n",
       "6 1        146          1            146.33356                \n",
       "  preds_oof_reporting_delay_scaled preds_full_reporting_delay Diff     \n",
       "1        NA                         38.83886                  -169.1611\n",
       "2 104.15979                        107.00132                         NA\n",
       "3  96.57033                        123.01775                         NA\n",
       "4 124.07780                        135.37230                         NA\n",
       "5 144.95689                        144.96960                         NA\n",
       "6 146.33356                        145.64227                         NA\n",
       "  Diff_pcnt\n",
       "1 -81.32747\n",
       "2        NA\n",
       "3        NA\n",
       "4        NA\n",
       "5        NA\n",
       "6        NA"
      ]
     },
     "metadata": {},
     "output_type": "display_data"
    }
   ],
   "source": [
    "head(dt_reporting_delay_all_F)"
   ]
  },
  {
   "cell_type": "code",
   "execution_count": 239,
   "id": "7c52753a-a20f-4c1e-bb7c-2847a45db61b",
   "metadata": {
    "scrolled": true
   },
   "outputs": [
    {
     "data": {
      "text/html": [
       "<table class=\"dataframe\">\n",
       "<caption>A data.table: 9 × 8</caption>\n",
       "<thead>\n",
       "\t<tr><th scope=col>date_pol_start_YYYYMM</th><th scope=col>avg_preds</th><th scope=col>avg_target</th><th scope=col>MAE</th><th scope=col>RMSE</th><th scope=col>count</th><th scope=col>Diff</th><th scope=col>Diff_pcnt</th></tr>\n",
       "\t<tr><th scope=col>&lt;chr&gt;</th><th scope=col>&lt;dbl&gt;</th><th scope=col>&lt;dbl&gt;</th><th scope=col>&lt;dbl&gt;</th><th scope=col>&lt;dbl&gt;</th><th scope=col>&lt;int&gt;</th><th scope=col>&lt;dbl&gt;</th><th scope=col>&lt;chr&gt;</th></tr>\n",
       "</thead>\n",
       "<tbody>\n",
       "\t<tr><td>2016.01</td><td>49.50623</td><td>47.26543</td><td>25.94814</td><td>35.07458</td><td>162</td><td>  2.2407934</td><td>4.7%  </td></tr>\n",
       "\t<tr><td>2016.02</td><td>44.64895</td><td>48.47273</td><td>20.54842</td><td>26.47041</td><td>165</td><td> -3.8237808</td><td>-7.9% </td></tr>\n",
       "\t<tr><td>2016.03</td><td>45.10712</td><td>44.52027</td><td>20.92354</td><td>26.42786</td><td>148</td><td>  0.5868494</td><td>1.3%  </td></tr>\n",
       "\t<tr><td>2016.04</td><td>44.51089</td><td>49.62252</td><td>22.81834</td><td>29.80481</td><td>151</td><td> -5.1116305</td><td>-10.3%</td></tr>\n",
       "\t<tr><td>2016.05</td><td>43.87881</td><td>50.03867</td><td>24.29031</td><td>33.11544</td><td>181</td><td> -6.1598683</td><td>-12.3%</td></tr>\n",
       "\t<tr><td>2016.06</td><td>43.74379</td><td>45.45294</td><td>21.70017</td><td>28.76285</td><td>170</td><td> -1.7091467</td><td>-3.8% </td></tr>\n",
       "\t<tr><td>2016.07</td><td>37.80636</td><td>44.89937</td><td>19.42861</td><td>24.71522</td><td>159</td><td> -7.0930144</td><td>-15.8%</td></tr>\n",
       "\t<tr><td>2016.08</td><td>28.82198</td><td>42.62987</td><td>17.86653</td><td>22.86526</td><td>154</td><td>-13.8078925</td><td>-32.4%</td></tr>\n",
       "\t<tr><td>2016.09</td><td>24.13133</td><td>28.59649</td><td>10.62317</td><td>13.12825</td><td> 57</td><td> -4.4651599</td><td>-15.6%</td></tr>\n",
       "</tbody>\n",
       "</table>\n"
      ],
      "text/latex": [
       "A data.table: 9 × 8\n",
       "\\begin{tabular}{llllllll}\n",
       " date\\_pol\\_start\\_YYYYMM & avg\\_preds & avg\\_target & MAE & RMSE & count & Diff & Diff\\_pcnt\\\\\n",
       " <chr> & <dbl> & <dbl> & <dbl> & <dbl> & <int> & <dbl> & <chr>\\\\\n",
       "\\hline\n",
       "\t 2016.01 & 49.50623 & 47.26543 & 25.94814 & 35.07458 & 162 &   2.2407934 & 4.7\\%  \\\\\n",
       "\t 2016.02 & 44.64895 & 48.47273 & 20.54842 & 26.47041 & 165 &  -3.8237808 & -7.9\\% \\\\\n",
       "\t 2016.03 & 45.10712 & 44.52027 & 20.92354 & 26.42786 & 148 &   0.5868494 & 1.3\\%  \\\\\n",
       "\t 2016.04 & 44.51089 & 49.62252 & 22.81834 & 29.80481 & 151 &  -5.1116305 & -10.3\\%\\\\\n",
       "\t 2016.05 & 43.87881 & 50.03867 & 24.29031 & 33.11544 & 181 &  -6.1598683 & -12.3\\%\\\\\n",
       "\t 2016.06 & 43.74379 & 45.45294 & 21.70017 & 28.76285 & 170 &  -1.7091467 & -3.8\\% \\\\\n",
       "\t 2016.07 & 37.80636 & 44.89937 & 19.42861 & 24.71522 & 159 &  -7.0930144 & -15.8\\%\\\\\n",
       "\t 2016.08 & 28.82198 & 42.62987 & 17.86653 & 22.86526 & 154 & -13.8078925 & -32.4\\%\\\\\n",
       "\t 2016.09 & 24.13133 & 28.59649 & 10.62317 & 13.12825 &  57 &  -4.4651599 & -15.6\\%\\\\\n",
       "\\end{tabular}\n"
      ],
      "text/markdown": [
       "\n",
       "A data.table: 9 × 8\n",
       "\n",
       "| date_pol_start_YYYYMM &lt;chr&gt; | avg_preds &lt;dbl&gt; | avg_target &lt;dbl&gt; | MAE &lt;dbl&gt; | RMSE &lt;dbl&gt; | count &lt;int&gt; | Diff &lt;dbl&gt; | Diff_pcnt &lt;chr&gt; |\n",
       "|---|---|---|---|---|---|---|---|\n",
       "| 2016.01 | 49.50623 | 47.26543 | 25.94814 | 35.07458 | 162 |   2.2407934 | 4.7%   |\n",
       "| 2016.02 | 44.64895 | 48.47273 | 20.54842 | 26.47041 | 165 |  -3.8237808 | -7.9%  |\n",
       "| 2016.03 | 45.10712 | 44.52027 | 20.92354 | 26.42786 | 148 |   0.5868494 | 1.3%   |\n",
       "| 2016.04 | 44.51089 | 49.62252 | 22.81834 | 29.80481 | 151 |  -5.1116305 | -10.3% |\n",
       "| 2016.05 | 43.87881 | 50.03867 | 24.29031 | 33.11544 | 181 |  -6.1598683 | -12.3% |\n",
       "| 2016.06 | 43.74379 | 45.45294 | 21.70017 | 28.76285 | 170 |  -1.7091467 | -3.8%  |\n",
       "| 2016.07 | 37.80636 | 44.89937 | 19.42861 | 24.71522 | 159 |  -7.0930144 | -15.8% |\n",
       "| 2016.08 | 28.82198 | 42.62987 | 17.86653 | 22.86526 | 154 | -13.8078925 | -32.4% |\n",
       "| 2016.09 | 24.13133 | 28.59649 | 10.62317 | 13.12825 |  57 |  -4.4651599 | -15.6% |\n",
       "\n"
      ],
      "text/plain": [
       "  date_pol_start_YYYYMM avg_preds avg_target MAE      RMSE     count\n",
       "1 2016.01               49.50623  47.26543   25.94814 35.07458 162  \n",
       "2 2016.02               44.64895  48.47273   20.54842 26.47041 165  \n",
       "3 2016.03               45.10712  44.52027   20.92354 26.42786 148  \n",
       "4 2016.04               44.51089  49.62252   22.81834 29.80481 151  \n",
       "5 2016.05               43.87881  50.03867   24.29031 33.11544 181  \n",
       "6 2016.06               43.74379  45.45294   21.70017 28.76285 170  \n",
       "7 2016.07               37.80636  44.89937   19.42861 24.71522 159  \n",
       "8 2016.08               28.82198  42.62987   17.86653 22.86526 154  \n",
       "9 2016.09               24.13133  28.59649   10.62317 13.12825  57  \n",
       "  Diff        Diff_pcnt\n",
       "1   2.2407934 4.7%     \n",
       "2  -3.8237808 -7.9%    \n",
       "3   0.5868494 1.3%     \n",
       "4  -5.1116305 -10.3%   \n",
       "5  -6.1598683 -12.3%   \n",
       "6  -1.7091467 -3.8%    \n",
       "7  -7.0930144 -15.8%   \n",
       "8 -13.8078925 -32.4%   \n",
       "9  -4.4651599 -15.6%   "
      ]
     },
     "metadata": {},
     "output_type": "display_data"
    }
   ],
   "source": [
    "# Summarize the reporting delay predictions and targets for the test set using date_pol_start_YYYYMM\n",
    "dt_reporting_delay_summary <- dt_reporting_delay_all_F[rowList_ReportDelay_F$test,\n",
    "  .(\n",
    "    avg_preds = mean(preds_full_reporting_delay, na.rm = TRUE),   # Average predicted delay\n",
    "    avg_target = mean(target_delay, na.rm = TRUE),            # Average actual target delay\n",
    "    MAE = mean(abs(preds_full_reporting_delay - target_delay), na.rm = TRUE),  # Mean Absolute Error\n",
    "    RMSE = sqrt(mean((preds_full_reporting_delay - target_delay)^2, na.rm = TRUE)),  # Root Mean Squared Error\n",
    "    count = .N  # Number of observations\n",
    "  ),\n",
    "  keyby = date_pol_start_YYYYMM  # Group by month (date_pol_start_YYYYMM)\n",
    "]\n",
    "\n",
    "# Calculate Diff and % Diff for avg delay\n",
    "dt_reporting_delay_summary[, ':='(\n",
    "  Diff = (avg_preds - avg_target),  # Difference between predicted and actual delay\n",
    "  Diff_pcnt = scales::percent((avg_preds - avg_target) / avg_target, accuracy = 0.1)  # Percentage difference\n",
    ")]\n",
    "\n",
    "# Show the first few rows of the summarized table\n",
    "head(dt_reporting_delay_summary, 15)\n"
   ]
  },
  {
   "cell_type": "code",
   "execution_count": 244,
   "id": "de336147-7366-4892-a141-dc62fb246dc3",
   "metadata": {},
   "outputs": [
    {
     "data": {
      "text/html": [
       "<table class=\"dataframe\">\n",
       "<caption>A data.table: 6 × 22</caption>\n",
       "<thead>\n",
       "\t<tr><th scope=col>clm_number</th><th scope=col>pol_number</th><th scope=col>j</th><th scope=col>k</th><th scope=col>exposure</th><th scope=col>date_pol_start</th><th scope=col>date_occur</th><th scope=col>date_report</th><th scope=col>date_pay</th><th scope=col>Cover</th><th scope=col>...</th><th scope=col>Price</th><th scope=col>payment_delay</th><th scope=col>flgSet</th><th scope=col>Count</th><th scope=col>delay_uw_occ</th><th scope=col>delay_occ_rep</th><th scope=col>delay_rep_pay</th><th scope=col>delay_uw_val</th><th scope=col>date_uw</th><th scope=col>date_occur_YYYYMM</th></tr>\n",
       "\t<tr><th scope=col>&lt;chr&gt;</th><th scope=col>&lt;chr&gt;</th><th scope=col>&lt;int&gt;</th><th scope=col>&lt;int&gt;</th><th scope=col>&lt;dbl&gt;</th><th scope=col>&lt;dttm&gt;</th><th scope=col>&lt;dttm&gt;</th><th scope=col>&lt;dttm&gt;</th><th scope=col>&lt;dttm&gt;</th><th scope=col>&lt;fct&gt;</th><th scope=col>...</th><th scope=col>&lt;dbl&gt;</th><th scope=col>&lt;int&gt;</th><th scope=col>&lt;dbl&gt;</th><th scope=col>&lt;int&gt;</th><th scope=col>&lt;dbl&gt;</th><th scope=col>&lt;dbl&gt;</th><th scope=col>&lt;dbl&gt;</th><th scope=col>&lt;dbl&gt;</th><th scope=col>&lt;dbl&gt;</th><th scope=col>&lt;chr&gt;</th></tr>\n",
       "</thead>\n",
       "<tbody>\n",
       "\t<tr><td>201602190014</td><td>201602080485</td><td>1</td><td>1</td><td>1</td><td>2016-02-08</td><td>2016-02-19</td><td>2016-08-11</td><td>2016-09-15</td><td>BO </td><td>...</td><td>794</td><td>35</td><td>3</td><td>1</td><td>11</td><td>174</td><td>35</td><td>232</td><td>16839</td><td>2016.02</td></tr>\n",
       "\t<tr><td>201603030014</td><td>201602150415</td><td>1</td><td>1</td><td>1</td><td>2016-02-15</td><td>2016-03-03</td><td>2016-07-29</td><td>2016-08-30</td><td>BO </td><td>...</td><td>913</td><td>32</td><td>3</td><td>1</td><td>17</td><td>148</td><td>32</td><td>225</td><td>16846</td><td>2016.03</td></tr>\n",
       "\t<tr><td>201604090031</td><td>201602290519</td><td>1</td><td>1</td><td>1</td><td>2016-02-29</td><td>2016-04-09</td><td>2016-08-11</td><td>2016-09-13</td><td>BO </td><td>...</td><td>199</td><td>33</td><td>3</td><td>1</td><td>40</td><td>124</td><td>33</td><td>211</td><td>16860</td><td>2016.04</td></tr>\n",
       "\t<tr><td>201604140015</td><td>201601280407</td><td>1</td><td>1</td><td>1</td><td>2016-01-28</td><td>2016-04-14</td><td>2016-08-15</td><td>2016-09-10</td><td>BO </td><td>...</td><td>397</td><td>26</td><td>3</td><td>1</td><td>77</td><td>123</td><td>26</td><td>243</td><td>16828</td><td>2016.04</td></tr>\n",
       "\t<tr><td>201604150013</td><td>201601270218</td><td>1</td><td>1</td><td>1</td><td>2016-01-27</td><td>2016-04-15</td><td>2016-08-11</td><td>2016-09-09</td><td>BOT</td><td>...</td><td>728</td><td>29</td><td>3</td><td>1</td><td>79</td><td>118</td><td>29</td><td>244</td><td>16827</td><td>2016.04</td></tr>\n",
       "\t<tr><td>201604150056</td><td>201604130247</td><td>1</td><td>1</td><td>1</td><td>2016-04-13</td><td>2016-04-15</td><td>2016-08-03</td><td>2016-09-03</td><td>BOT</td><td>...</td><td>457</td><td>31</td><td>3</td><td>1</td><td> 2</td><td>110</td><td>31</td><td>167</td><td>16904</td><td>2016.04</td></tr>\n",
       "</tbody>\n",
       "</table>\n"
      ],
      "text/latex": [
       "A data.table: 6 × 22\n",
       "\\begin{tabular}{lllllllllllllllllllll}\n",
       " clm\\_number & pol\\_number & j & k & exposure & date\\_pol\\_start & date\\_occur & date\\_report & date\\_pay & Cover & ... & Price & payment\\_delay & flgSet & Count & delay\\_uw\\_occ & delay\\_occ\\_rep & delay\\_rep\\_pay & delay\\_uw\\_val & date\\_uw & date\\_occur\\_YYYYMM\\\\\n",
       " <chr> & <chr> & <int> & <int> & <dbl> & <dttm> & <dttm> & <dttm> & <dttm> & <fct> & ... & <dbl> & <int> & <dbl> & <int> & <dbl> & <dbl> & <dbl> & <dbl> & <dbl> & <chr>\\\\\n",
       "\\hline\n",
       "\t 201602190014 & 201602080485 & 1 & 1 & 1 & 2016-02-08 & 2016-02-19 & 2016-08-11 & 2016-09-15 & BO  & ... & 794 & 35 & 3 & 1 & 11 & 174 & 35 & 232 & 16839 & 2016.02\\\\\n",
       "\t 201603030014 & 201602150415 & 1 & 1 & 1 & 2016-02-15 & 2016-03-03 & 2016-07-29 & 2016-08-30 & BO  & ... & 913 & 32 & 3 & 1 & 17 & 148 & 32 & 225 & 16846 & 2016.03\\\\\n",
       "\t 201604090031 & 201602290519 & 1 & 1 & 1 & 2016-02-29 & 2016-04-09 & 2016-08-11 & 2016-09-13 & BO  & ... & 199 & 33 & 3 & 1 & 40 & 124 & 33 & 211 & 16860 & 2016.04\\\\\n",
       "\t 201604140015 & 201601280407 & 1 & 1 & 1 & 2016-01-28 & 2016-04-14 & 2016-08-15 & 2016-09-10 & BO  & ... & 397 & 26 & 3 & 1 & 77 & 123 & 26 & 243 & 16828 & 2016.04\\\\\n",
       "\t 201604150013 & 201601270218 & 1 & 1 & 1 & 2016-01-27 & 2016-04-15 & 2016-08-11 & 2016-09-09 & BOT & ... & 728 & 29 & 3 & 1 & 79 & 118 & 29 & 244 & 16827 & 2016.04\\\\\n",
       "\t 201604150056 & 201604130247 & 1 & 1 & 1 & 2016-04-13 & 2016-04-15 & 2016-08-03 & 2016-09-03 & BOT & ... & 457 & 31 & 3 & 1 &  2 & 110 & 31 & 167 & 16904 & 2016.04\\\\\n",
       "\\end{tabular}\n"
      ],
      "text/markdown": [
       "\n",
       "A data.table: 6 × 22\n",
       "\n",
       "| clm_number &lt;chr&gt; | pol_number &lt;chr&gt; | j &lt;int&gt; | k &lt;int&gt; | exposure &lt;dbl&gt; | date_pol_start &lt;dttm&gt; | date_occur &lt;dttm&gt; | date_report &lt;dttm&gt; | date_pay &lt;dttm&gt; | Cover &lt;fct&gt; | ... ... | Price &lt;dbl&gt; | payment_delay &lt;int&gt; | flgSet &lt;dbl&gt; | Count &lt;int&gt; | delay_uw_occ &lt;dbl&gt; | delay_occ_rep &lt;dbl&gt; | delay_rep_pay &lt;dbl&gt; | delay_uw_val &lt;dbl&gt; | date_uw &lt;dbl&gt; | date_occur_YYYYMM &lt;chr&gt; |\n",
       "|---|---|---|---|---|---|---|---|---|---|---|---|---|---|---|---|---|---|---|---|---|\n",
       "| 201602190014 | 201602080485 | 1 | 1 | 1 | 2016-02-08 | 2016-02-19 | 2016-08-11 | 2016-09-15 | BO  | ... | 794 | 35 | 3 | 1 | 11 | 174 | 35 | 232 | 16839 | 2016.02 |\n",
       "| 201603030014 | 201602150415 | 1 | 1 | 1 | 2016-02-15 | 2016-03-03 | 2016-07-29 | 2016-08-30 | BO  | ... | 913 | 32 | 3 | 1 | 17 | 148 | 32 | 225 | 16846 | 2016.03 |\n",
       "| 201604090031 | 201602290519 | 1 | 1 | 1 | 2016-02-29 | 2016-04-09 | 2016-08-11 | 2016-09-13 | BO  | ... | 199 | 33 | 3 | 1 | 40 | 124 | 33 | 211 | 16860 | 2016.04 |\n",
       "| 201604140015 | 201601280407 | 1 | 1 | 1 | 2016-01-28 | 2016-04-14 | 2016-08-15 | 2016-09-10 | BO  | ... | 397 | 26 | 3 | 1 | 77 | 123 | 26 | 243 | 16828 | 2016.04 |\n",
       "| 201604150013 | 201601270218 | 1 | 1 | 1 | 2016-01-27 | 2016-04-15 | 2016-08-11 | 2016-09-09 | BOT | ... | 728 | 29 | 3 | 1 | 79 | 118 | 29 | 244 | 16827 | 2016.04 |\n",
       "| 201604150056 | 201604130247 | 1 | 1 | 1 | 2016-04-13 | 2016-04-15 | 2016-08-03 | 2016-09-03 | BOT | ... | 457 | 31 | 3 | 1 |  2 | 110 | 31 | 167 | 16904 | 2016.04 |\n",
       "\n"
      ],
      "text/plain": [
       "  clm_number   pol_number   j k exposure date_pol_start date_occur date_report\n",
       "1 201602190014 201602080485 1 1 1        2016-02-08     2016-02-19 2016-08-11 \n",
       "2 201603030014 201602150415 1 1 1        2016-02-15     2016-03-03 2016-07-29 \n",
       "3 201604090031 201602290519 1 1 1        2016-02-29     2016-04-09 2016-08-11 \n",
       "4 201604140015 201601280407 1 1 1        2016-01-28     2016-04-14 2016-08-15 \n",
       "5 201604150013 201601270218 1 1 1        2016-01-27     2016-04-15 2016-08-11 \n",
       "6 201604150056 201604130247 1 1 1        2016-04-13     2016-04-15 2016-08-03 \n",
       "  date_pay   Cover ... Price payment_delay flgSet Count delay_uw_occ\n",
       "1 2016-09-15 BO    ... 794   35            3      1     11          \n",
       "2 2016-08-30 BO    ... 913   32            3      1     17          \n",
       "3 2016-09-13 BO    ... 199   33            3      1     40          \n",
       "4 2016-09-10 BO    ... 397   26            3      1     77          \n",
       "5 2016-09-09 BOT   ... 728   29            3      1     79          \n",
       "6 2016-09-03 BOT   ... 457   31            3      1      2          \n",
       "  delay_occ_rep delay_rep_pay delay_uw_val date_uw date_occur_YYYYMM\n",
       "1 174           35            232          16839   2016.02          \n",
       "2 148           32            225          16846   2016.03          \n",
       "3 124           33            211          16860   2016.04          \n",
       "4 123           26            243          16828   2016.04          \n",
       "5 118           29            244          16827   2016.04          \n",
       "6 110           31            167          16904   2016.04          "
      ]
     },
     "metadata": {},
     "output_type": "display_data"
    }
   ],
   "source": [
    "head(dt_payment_delay_all)"
   ]
  },
  {
   "cell_type": "code",
   "execution_count": 280,
   "id": "af6c23eb-feef-46da-89c9-037d14fc9f91",
   "metadata": {},
   "outputs": [],
   "source": [
    "# Define the predictors for Payment Delay model\n",
    "payment_delay_predictors <- c(\n",
    "  \"j\",                 # Development period (adjust as needed)\n",
    "  \"k\",                 # Development period (adjust as needed)\n",
    "  \"Cover\",             # Type of cover (e.g., B, BO, BOT)\n",
    "  \"Brand\",             # Brand of the product\n",
    "  \"Model\",             # Model of the product\n",
    "  \"Price\",             # Price of the product\n",
    "  \"delay_uw_val\",      # Delay from underwriting or other relevant field\n",
    "  \"date_uw\"            # Underwriting date\n",
    ")\n",
    "\n",
    "# Format the occurrence date to year-month\n",
    "dt_payment_delay_all[, date_occur_YYYYMM := as.character(year(date_occur) + month(date_occur)/100)]\n",
    "dt_payment_delay_all[, date_pol_start_YYYYMM := as.character(year(date_pol_start) + month(date_pol_start)/100)]\n",
    "\n",
    "\n",
    "# Aggregate the data for Payment Delay model\n",
    "dt_payment_delay_all_F <- dt_payment_delay_all[, .(exposure = sum(payment_delay > 0),\n",
    "                                                    target_delay_sum = sum(payment_delay)),\n",
    "                                               by = c(payment_delay_predictors, \"date_occur_YYYYMM\", \"flgSet\")]\n",
    "\n",
    "# Filter out rows with zero exposure\n",
    "dt_payment_delay_all_F <- dt_payment_delay_all_F[exposure > 0]\n",
    "\n",
    "# Setup train, test, and all datasets for XGBoost\n",
    "rowList_Payment_Delay <- list(\n",
    "  train = dt_payment_delay_all_F[, which(flgSet == 3)],  # Train set (flgSet == 3)\n",
    "  test = dt_payment_delay_all_F[, which(flgSet == 4)],   # Test set (flgSet == 4)\n",
    "  all = dt_payment_delay_all_F[, which(flgSet %in% c(3, 4))]  # All data (train and test)\n",
    ")\n",
    "\n",
    "# Setup data for XGBoost\n",
    "payment_delay_rec <- recipe( ~ ., data = dt_payment_delay_all_F[, payment_delay_predictors, with = FALSE]) %>%\n",
    "  step_dummy(all_nominal(), one_hot = TRUE) %>%\n",
    "  prep()\n",
    "\n",
    "df.Payment_Delay_train <- bake(payment_delay_rec, new_data = dt_payment_delay_all_F[rowList_Payment_Delay$train,])\n",
    "df.Payment_Delay_test <- bake(payment_delay_rec, new_data = dt_payment_delay_all_F[rowList_Payment_Delay$test,])\n",
    "df.Payment_Delay_all <- bake(payment_delay_rec, new_data = dt_payment_delay_all_F[rowList_Payment_Delay$all,])\n",
    "\n",
    "# Create DMatrix for XGBoost\n"
   ]
  },
  {
   "cell_type": "code",
   "execution_count": 281,
   "id": "b8b3dca9-5d4d-4526-8b1d-66d004b48277",
   "metadata": {},
   "outputs": [
    {
     "data": {
      "text/html": [
       "<table class=\"dataframe\">\n",
       "<caption>A tibble: 6 × 10</caption>\n",
       "<thead>\n",
       "\t<tr><th scope=col>j</th><th scope=col>k</th><th scope=col>Brand</th><th scope=col>Model</th><th scope=col>Price</th><th scope=col>delay_uw_val</th><th scope=col>date_uw</th><th scope=col>Cover_B</th><th scope=col>Cover_BO</th><th scope=col>Cover_BOT</th></tr>\n",
       "\t<tr><th scope=col>&lt;int&gt;</th><th scope=col>&lt;int&gt;</th><th scope=col>&lt;dbl&gt;</th><th scope=col>&lt;dbl&gt;</th><th scope=col>&lt;dbl&gt;</th><th scope=col>&lt;dbl&gt;</th><th scope=col>&lt;dbl&gt;</th><th scope=col>&lt;dbl&gt;</th><th scope=col>&lt;dbl&gt;</th><th scope=col>&lt;dbl&gt;</th></tr>\n",
       "</thead>\n",
       "<tbody>\n",
       "\t<tr><td>1</td><td>1</td><td>1</td><td>2</td><td>794</td><td>232</td><td>16839</td><td>0</td><td>1</td><td>0</td></tr>\n",
       "\t<tr><td>1</td><td>1</td><td>1</td><td>3</td><td>913</td><td>225</td><td>16846</td><td>0</td><td>1</td><td>0</td></tr>\n",
       "\t<tr><td>1</td><td>1</td><td>4</td><td>2</td><td>199</td><td>211</td><td>16860</td><td>0</td><td>1</td><td>0</td></tr>\n",
       "\t<tr><td>1</td><td>1</td><td>3</td><td>2</td><td>397</td><td>243</td><td>16828</td><td>0</td><td>1</td><td>0</td></tr>\n",
       "\t<tr><td>1</td><td>1</td><td>2</td><td>2</td><td>728</td><td>244</td><td>16827</td><td>0</td><td>0</td><td>1</td></tr>\n",
       "\t<tr><td>1</td><td>1</td><td>3</td><td>3</td><td>457</td><td>167</td><td>16904</td><td>0</td><td>0</td><td>1</td></tr>\n",
       "</tbody>\n",
       "</table>\n"
      ],
      "text/latex": [
       "A tibble: 6 × 10\n",
       "\\begin{tabular}{llllllllll}\n",
       " j & k & Brand & Model & Price & delay\\_uw\\_val & date\\_uw & Cover\\_B & Cover\\_BO & Cover\\_BOT\\\\\n",
       " <int> & <int> & <dbl> & <dbl> & <dbl> & <dbl> & <dbl> & <dbl> & <dbl> & <dbl>\\\\\n",
       "\\hline\n",
       "\t 1 & 1 & 1 & 2 & 794 & 232 & 16839 & 0 & 1 & 0\\\\\n",
       "\t 1 & 1 & 1 & 3 & 913 & 225 & 16846 & 0 & 1 & 0\\\\\n",
       "\t 1 & 1 & 4 & 2 & 199 & 211 & 16860 & 0 & 1 & 0\\\\\n",
       "\t 1 & 1 & 3 & 2 & 397 & 243 & 16828 & 0 & 1 & 0\\\\\n",
       "\t 1 & 1 & 2 & 2 & 728 & 244 & 16827 & 0 & 0 & 1\\\\\n",
       "\t 1 & 1 & 3 & 3 & 457 & 167 & 16904 & 0 & 0 & 1\\\\\n",
       "\\end{tabular}\n"
      ],
      "text/markdown": [
       "\n",
       "A tibble: 6 × 10\n",
       "\n",
       "| j &lt;int&gt; | k &lt;int&gt; | Brand &lt;dbl&gt; | Model &lt;dbl&gt; | Price &lt;dbl&gt; | delay_uw_val &lt;dbl&gt; | date_uw &lt;dbl&gt; | Cover_B &lt;dbl&gt; | Cover_BO &lt;dbl&gt; | Cover_BOT &lt;dbl&gt; |\n",
       "|---|---|---|---|---|---|---|---|---|---|\n",
       "| 1 | 1 | 1 | 2 | 794 | 232 | 16839 | 0 | 1 | 0 |\n",
       "| 1 | 1 | 1 | 3 | 913 | 225 | 16846 | 0 | 1 | 0 |\n",
       "| 1 | 1 | 4 | 2 | 199 | 211 | 16860 | 0 | 1 | 0 |\n",
       "| 1 | 1 | 3 | 2 | 397 | 243 | 16828 | 0 | 1 | 0 |\n",
       "| 1 | 1 | 2 | 2 | 728 | 244 | 16827 | 0 | 0 | 1 |\n",
       "| 1 | 1 | 3 | 3 | 457 | 167 | 16904 | 0 | 0 | 1 |\n",
       "\n"
      ],
      "text/plain": [
       "  j k Brand Model Price delay_uw_val date_uw Cover_B Cover_BO Cover_BOT\n",
       "1 1 1 1     2     794   232          16839   0       1        0        \n",
       "2 1 1 1     3     913   225          16846   0       1        0        \n",
       "3 1 1 4     2     199   211          16860   0       1        0        \n",
       "4 1 1 3     2     397   243          16828   0       1        0        \n",
       "5 1 1 2     2     728   244          16827   0       0        1        \n",
       "6 1 1 3     3     457   167          16904   0       0        1        "
      ]
     },
     "metadata": {},
     "output_type": "display_data"
    },
    {
     "name": "stdout",
     "output_type": "stream",
     "text": [
      "tibble [2,307 x 10] (S3: tbl_df/tbl/data.frame)\n",
      " $ j           : int [1:2307] 1 1 1 1 1 1 1 1 1 1 ...\n",
      " $ k           : int [1:2307] 1 1 1 1 1 1 1 1 1 1 ...\n",
      " $ Brand       : num [1:2307] 1 1 4 3 2 3 1 2 1 3 ...\n",
      " $ Model       : num [1:2307] 2 3 2 2 2 3 2 3 3 2 ...\n",
      " $ Price       : num [1:2307] 794 913 199 397 728 457 794 837 913 397 ...\n",
      " $ delay_uw_val: num [1:2307] 232 225 211 243 244 167 237 238 183 249 ...\n",
      " $ date_uw     : num [1:2307] 16839 16846 16860 16828 16827 ...\n",
      " $ Cover_B     : num [1:2307] 0 0 0 0 0 0 0 1 1 0 ...\n",
      "  ..- attr(*, \"assign\")= int [1:3] 1 1 1\n",
      "  ..- attr(*, \"contrasts\")=List of 1\n",
      "  .. ..$ Cover: chr \"contr.treatment\"\n",
      " $ Cover_BO    : num [1:2307] 1 1 1 1 0 0 0 0 0 1 ...\n",
      "  ..- attr(*, \"assign\")= int [1:3] 1 1 1\n",
      "  ..- attr(*, \"contrasts\")=List of 1\n",
      "  .. ..$ Cover: chr \"contr.treatment\"\n",
      " $ Cover_BOT   : num [1:2307] 0 0 0 0 1 1 1 0 0 0 ...\n",
      "  ..- attr(*, \"assign\")= int [1:3] 1 1 1\n",
      "  ..- attr(*, \"contrasts\")=List of 1\n",
      "  .. ..$ Cover: chr \"contr.treatment\"\n"
     ]
    }
   ],
   "source": [
    "head(df.Payment_Delay_train)\n",
    "str(df.Payment_Delay_train)"
   ]
  },
  {
   "cell_type": "code",
   "execution_count": 282,
   "id": "6e184d13-4a5d-4438-9037-997fda3eef45",
   "metadata": {},
   "outputs": [
    {
     "data": {
      "text/html": [
       "<table class=\"dataframe\">\n",
       "<caption>A tibble: 6 × 10</caption>\n",
       "<thead>\n",
       "\t<tr><th scope=col>j</th><th scope=col>k</th><th scope=col>Brand</th><th scope=col>Model</th><th scope=col>Price</th><th scope=col>delay_uw_val</th><th scope=col>date_uw</th><th scope=col>Cover_B</th><th scope=col>Cover_BO</th><th scope=col>Cover_BOT</th></tr>\n",
       "\t<tr><th scope=col>&lt;int&gt;</th><th scope=col>&lt;int&gt;</th><th scope=col>&lt;dbl&gt;</th><th scope=col>&lt;dbl&gt;</th><th scope=col>&lt;dbl&gt;</th><th scope=col>&lt;dbl&gt;</th><th scope=col>&lt;dbl&gt;</th><th scope=col>&lt;dbl&gt;</th><th scope=col>&lt;dbl&gt;</th><th scope=col>&lt;dbl&gt;</th></tr>\n",
       "</thead>\n",
       "<tbody>\n",
       "\t<tr><td>1</td><td>1</td><td>2</td><td>3</td><td>837</td><td>249</td><td>16822</td><td>0</td><td>1</td><td>0</td></tr>\n",
       "\t<tr><td>1</td><td>1</td><td>2</td><td>1</td><td>633</td><td>221</td><td>16850</td><td>0</td><td>1</td><td>0</td></tr>\n",
       "\t<tr><td>1</td><td>1</td><td>1</td><td>2</td><td>794</td><td>227</td><td>16844</td><td>0</td><td>1</td><td>0</td></tr>\n",
       "\t<tr><td>1</td><td>1</td><td>2</td><td>1</td><td>633</td><td>204</td><td>16867</td><td>0</td><td>0</td><td>1</td></tr>\n",
       "\t<tr><td>1</td><td>1</td><td>1</td><td>2</td><td>794</td><td>256</td><td>16815</td><td>0</td><td>0</td><td>1</td></tr>\n",
       "\t<tr><td>1</td><td>1</td><td>1</td><td>2</td><td>794</td><td>193</td><td>16878</td><td>0</td><td>0</td><td>1</td></tr>\n",
       "</tbody>\n",
       "</table>\n"
      ],
      "text/latex": [
       "A tibble: 6 × 10\n",
       "\\begin{tabular}{llllllllll}\n",
       " j & k & Brand & Model & Price & delay\\_uw\\_val & date\\_uw & Cover\\_B & Cover\\_BO & Cover\\_BOT\\\\\n",
       " <int> & <int> & <dbl> & <dbl> & <dbl> & <dbl> & <dbl> & <dbl> & <dbl> & <dbl>\\\\\n",
       "\\hline\n",
       "\t 1 & 1 & 2 & 3 & 837 & 249 & 16822 & 0 & 1 & 0\\\\\n",
       "\t 1 & 1 & 2 & 1 & 633 & 221 & 16850 & 0 & 1 & 0\\\\\n",
       "\t 1 & 1 & 1 & 2 & 794 & 227 & 16844 & 0 & 1 & 0\\\\\n",
       "\t 1 & 1 & 2 & 1 & 633 & 204 & 16867 & 0 & 0 & 1\\\\\n",
       "\t 1 & 1 & 1 & 2 & 794 & 256 & 16815 & 0 & 0 & 1\\\\\n",
       "\t 1 & 1 & 1 & 2 & 794 & 193 & 16878 & 0 & 0 & 1\\\\\n",
       "\\end{tabular}\n"
      ],
      "text/markdown": [
       "\n",
       "A tibble: 6 × 10\n",
       "\n",
       "| j &lt;int&gt; | k &lt;int&gt; | Brand &lt;dbl&gt; | Model &lt;dbl&gt; | Price &lt;dbl&gt; | delay_uw_val &lt;dbl&gt; | date_uw &lt;dbl&gt; | Cover_B &lt;dbl&gt; | Cover_BO &lt;dbl&gt; | Cover_BOT &lt;dbl&gt; |\n",
       "|---|---|---|---|---|---|---|---|---|---|\n",
       "| 1 | 1 | 2 | 3 | 837 | 249 | 16822 | 0 | 1 | 0 |\n",
       "| 1 | 1 | 2 | 1 | 633 | 221 | 16850 | 0 | 1 | 0 |\n",
       "| 1 | 1 | 1 | 2 | 794 | 227 | 16844 | 0 | 1 | 0 |\n",
       "| 1 | 1 | 2 | 1 | 633 | 204 | 16867 | 0 | 0 | 1 |\n",
       "| 1 | 1 | 1 | 2 | 794 | 256 | 16815 | 0 | 0 | 1 |\n",
       "| 1 | 1 | 1 | 2 | 794 | 193 | 16878 | 0 | 0 | 1 |\n",
       "\n"
      ],
      "text/plain": [
       "  j k Brand Model Price delay_uw_val date_uw Cover_B Cover_BO Cover_BOT\n",
       "1 1 1 2     3     837   249          16822   0       1        0        \n",
       "2 1 1 2     1     633   221          16850   0       1        0        \n",
       "3 1 1 1     2     794   227          16844   0       1        0        \n",
       "4 1 1 2     1     633   204          16867   0       0        1        \n",
       "5 1 1 1     2     794   256          16815   0       0        1        \n",
       "6 1 1 1     2     794   193          16878   0       0        1        "
      ]
     },
     "metadata": {},
     "output_type": "display_data"
    }
   ],
   "source": [
    "head(df.Payment_Delay_test)"
   ]
  },
  {
   "cell_type": "code",
   "execution_count": 283,
   "id": "7aa830e1-883f-4641-abc3-1e36b0078a13",
   "metadata": {},
   "outputs": [
    {
     "data": {
      "text/html": [
       "<table class=\"dataframe\">\n",
       "<caption>A tibble: 6 × 10</caption>\n",
       "<thead>\n",
       "\t<tr><th scope=col>j</th><th scope=col>k</th><th scope=col>Brand</th><th scope=col>Model</th><th scope=col>Price</th><th scope=col>delay_uw_val</th><th scope=col>date_uw</th><th scope=col>Cover_B</th><th scope=col>Cover_BO</th><th scope=col>Cover_BOT</th></tr>\n",
       "\t<tr><th scope=col>&lt;int&gt;</th><th scope=col>&lt;int&gt;</th><th scope=col>&lt;dbl&gt;</th><th scope=col>&lt;dbl&gt;</th><th scope=col>&lt;dbl&gt;</th><th scope=col>&lt;dbl&gt;</th><th scope=col>&lt;dbl&gt;</th><th scope=col>&lt;dbl&gt;</th><th scope=col>&lt;dbl&gt;</th><th scope=col>&lt;dbl&gt;</th></tr>\n",
       "</thead>\n",
       "<tbody>\n",
       "\t<tr><td>1</td><td>1</td><td>1</td><td>2</td><td>794</td><td>232</td><td>16839</td><td>0</td><td>1</td><td>0</td></tr>\n",
       "\t<tr><td>1</td><td>1</td><td>1</td><td>3</td><td>913</td><td>225</td><td>16846</td><td>0</td><td>1</td><td>0</td></tr>\n",
       "\t<tr><td>1</td><td>1</td><td>4</td><td>2</td><td>199</td><td>211</td><td>16860</td><td>0</td><td>1</td><td>0</td></tr>\n",
       "\t<tr><td>1</td><td>1</td><td>3</td><td>2</td><td>397</td><td>243</td><td>16828</td><td>0</td><td>1</td><td>0</td></tr>\n",
       "\t<tr><td>1</td><td>1</td><td>2</td><td>2</td><td>728</td><td>244</td><td>16827</td><td>0</td><td>0</td><td>1</td></tr>\n",
       "\t<tr><td>1</td><td>1</td><td>3</td><td>3</td><td>457</td><td>167</td><td>16904</td><td>0</td><td>0</td><td>1</td></tr>\n",
       "</tbody>\n",
       "</table>\n"
      ],
      "text/latex": [
       "A tibble: 6 × 10\n",
       "\\begin{tabular}{llllllllll}\n",
       " j & k & Brand & Model & Price & delay\\_uw\\_val & date\\_uw & Cover\\_B & Cover\\_BO & Cover\\_BOT\\\\\n",
       " <int> & <int> & <dbl> & <dbl> & <dbl> & <dbl> & <dbl> & <dbl> & <dbl> & <dbl>\\\\\n",
       "\\hline\n",
       "\t 1 & 1 & 1 & 2 & 794 & 232 & 16839 & 0 & 1 & 0\\\\\n",
       "\t 1 & 1 & 1 & 3 & 913 & 225 & 16846 & 0 & 1 & 0\\\\\n",
       "\t 1 & 1 & 4 & 2 & 199 & 211 & 16860 & 0 & 1 & 0\\\\\n",
       "\t 1 & 1 & 3 & 2 & 397 & 243 & 16828 & 0 & 1 & 0\\\\\n",
       "\t 1 & 1 & 2 & 2 & 728 & 244 & 16827 & 0 & 0 & 1\\\\\n",
       "\t 1 & 1 & 3 & 3 & 457 & 167 & 16904 & 0 & 0 & 1\\\\\n",
       "\\end{tabular}\n"
      ],
      "text/markdown": [
       "\n",
       "A tibble: 6 × 10\n",
       "\n",
       "| j &lt;int&gt; | k &lt;int&gt; | Brand &lt;dbl&gt; | Model &lt;dbl&gt; | Price &lt;dbl&gt; | delay_uw_val &lt;dbl&gt; | date_uw &lt;dbl&gt; | Cover_B &lt;dbl&gt; | Cover_BO &lt;dbl&gt; | Cover_BOT &lt;dbl&gt; |\n",
       "|---|---|---|---|---|---|---|---|---|---|\n",
       "| 1 | 1 | 1 | 2 | 794 | 232 | 16839 | 0 | 1 | 0 |\n",
       "| 1 | 1 | 1 | 3 | 913 | 225 | 16846 | 0 | 1 | 0 |\n",
       "| 1 | 1 | 4 | 2 | 199 | 211 | 16860 | 0 | 1 | 0 |\n",
       "| 1 | 1 | 3 | 2 | 397 | 243 | 16828 | 0 | 1 | 0 |\n",
       "| 1 | 1 | 2 | 2 | 728 | 244 | 16827 | 0 | 0 | 1 |\n",
       "| 1 | 1 | 3 | 3 | 457 | 167 | 16904 | 0 | 0 | 1 |\n",
       "\n"
      ],
      "text/plain": [
       "  j k Brand Model Price delay_uw_val date_uw Cover_B Cover_BO Cover_BOT\n",
       "1 1 1 1     2     794   232          16839   0       1        0        \n",
       "2 1 1 1     3     913   225          16846   0       1        0        \n",
       "3 1 1 4     2     199   211          16860   0       1        0        \n",
       "4 1 1 3     2     397   243          16828   0       1        0        \n",
       "5 1 1 2     2     728   244          16827   0       0        1        \n",
       "6 1 1 3     3     457   167          16904   0       0        1        "
      ]
     },
     "metadata": {},
     "output_type": "display_data"
    }
   ],
   "source": [
    "head(df.Payment_Delay_all)"
   ]
  },
  {
   "cell_type": "code",
   "execution_count": 284,
   "id": "43df41a8-d7f7-4489-9cfa-74967c8bf3f3",
   "metadata": {},
   "outputs": [
    {
     "name": "stdout",
     "output_type": "stream",
     "text": [
      "tibble [2,307 x 10] (S3: tbl_df/tbl/data.frame)\n",
      " $ j           : int [1:2307] 1 1 1 1 1 1 1 1 1 1 ...\n",
      " $ k           : int [1:2307] 1 1 1 1 1 1 1 1 1 1 ...\n",
      " $ Brand       : num [1:2307] 1 1 4 3 2 3 1 2 1 3 ...\n",
      " $ Model       : num [1:2307] 2 3 2 2 2 3 2 3 3 2 ...\n",
      " $ Price       : num [1:2307] 794 913 199 397 728 457 794 837 913 397 ...\n",
      " $ delay_uw_val: num [1:2307] 232 225 211 243 244 167 237 238 183 249 ...\n",
      " $ date_uw     : num [1:2307] 16839 16846 16860 16828 16827 ...\n",
      " $ Cover_B     : num [1:2307] 0 0 0 0 0 0 0 1 1 0 ...\n",
      "  ..- attr(*, \"assign\")= int [1:3] 1 1 1\n",
      "  ..- attr(*, \"contrasts\")=List of 1\n",
      "  .. ..$ Cover: chr \"contr.treatment\"\n",
      " $ Cover_BO    : num [1:2307] 1 1 1 1 0 0 0 0 0 1 ...\n",
      "  ..- attr(*, \"assign\")= int [1:3] 1 1 1\n",
      "  ..- attr(*, \"contrasts\")=List of 1\n",
      "  .. ..$ Cover: chr \"contr.treatment\"\n",
      " $ Cover_BOT   : num [1:2307] 0 0 0 0 1 1 1 0 0 0 ...\n",
      "  ..- attr(*, \"assign\")= int [1:3] 1 1 1\n",
      "  ..- attr(*, \"contrasts\")=List of 1\n",
      "  .. ..$ Cover: chr \"contr.treatment\"\n"
     ]
    }
   ],
   "source": [
    "# Check the structure of df.Payment_Delay_train to identify non-numeric columns\n",
    "str(df.Payment_Delay_train)\n",
    "\n",
    "# Select only the numeric columns for XGBoost\n",
    "df.Payment_Delay_train_numeric <- df.Payment_Delay_train[, sapply(df.Payment_Delay_train, is.numeric), with = FALSE]\n",
    "\n",
    "# Convert the data to a numeric matrix (ensure that no non-numeric columns are included)\n",
    "df.Payment_Delay_train_matrix <- as.matrix(df.Payment_Delay_train_numeric)\n",
    "\n",
    "# Ensure the matrix is numeric\n",
    "if (!is.numeric(df.Payment_Delay_train_matrix)) {\n",
    "  stop(\"The training data is not numeric!\")\n",
    "}\n",
    "\n",
    "# Create the DMatrix for XGBoost with the proper data type\n",
    "xgb.Payment_Delay_DMat.train <- xgb.DMatrix(\n",
    "  data = df.Payment_Delay_train_matrix,  # Numeric matrix of predictors\n",
    "  weight = dt_payment_delay_all_F[rowList_Payment_Delay$train, exposure],  # Weight based on exposure\n",
    "  label = dt_payment_delay_all_F[rowList_Payment_Delay$train, target_delay_sum]  # Label is the target_delay_sum\n",
    ")\n"
   ]
  },
  {
   "cell_type": "code",
   "execution_count": 285,
   "id": "63849600-f4f9-43c8-810e-a2f9869f089a",
   "metadata": {},
   "outputs": [],
   "source": [
    "xgb.Payment_Delay_DMat.train <- xgb.DMatrix(data = as.matrix(df.Payment_Delay_train),\n",
    "                                            weight = dt_payment_delay_all_F[rowList_Payment_Delay$train, exposure],\n",
    "                                            label = dt_payment_delay_all_F[rowList_Payment_Delay$train, target_delay_sum])\n",
    "\n",
    "xgb.Payment_Delay_DMat.test <- xgb.DMatrix(data = as.matrix(df.Payment_Delay_test),\n",
    "                                           weight = dt_payment_delay_all_F[rowList_Payment_Delay$test, exposure],\n",
    "                                           label = dt_payment_delay_all_F[rowList_Payment_Delay$test, target_delay_sum])\n",
    "\n",
    "xgb.Payment_Delay_DMat.all <- xgb.DMatrix(data = as.matrix(df.Payment_Delay_all),\n",
    "                                          weight = dt_payment_delay_all_F[rowList_Payment_Delay$all, exposure],\n",
    "                                          label = dt_payment_delay_all_F[rowList_Payment_Delay$all, target_delay_sum])\n"
   ]
  },
  {
   "cell_type": "code",
   "execution_count": 286,
   "id": "b2f2564c-2523-4ff9-b58e-11220f42a519",
   "metadata": {},
   "outputs": [
    {
     "data": {
      "text/plain": [
       "   Min. 1st Qu.  Median    Mean 3rd Qu.    Max. \n",
       "  15.00   28.00   32.00   34.44   36.00  136.00 "
      ]
     },
     "metadata": {},
     "output_type": "display_data"
    }
   ],
   "source": [
    "# Summary of the target_delay_sum for the training set\n",
    "summary(dt_payment_delay_all_F[rowList_Payment_Delay$train, target_delay_sum])\n"
   ]
  },
  {
   "cell_type": "code",
   "execution_count": 287,
   "id": "b8d7be13-33e2-4725-b810-d5ef30be2068",
   "metadata": {},
   "outputs": [
    {
     "data": {
      "image/png": "[encoded data removed]",
      "text/plain": [
       "Plot with title \"Histogram of Payment Delay (Train Set)\""
      ]
     },
     "metadata": {
      "image/png": {
       "height": 420,
       "width": 420
      }
     },
     "output_type": "display_data"
    }
   ],
   "source": [
    "# Histogram of the target_delay_sum for the training set\n",
    "hist(dt_payment_delay_all_F[rowList_Payment_Delay$train, target_delay_sum], \n",
    "     main = \"Histogram of Payment Delay (Train Set)\",\n",
    "     xlab = \"Payment Delay\",\n",
    "     col = \"skyblue\", \n",
    "     border = \"white\")\n"
   ]
  },
  {
   "cell_type": "code",
   "execution_count": 288,
   "id": "72ea44bd-502a-4c7c-81a7-5fefdee81e11",
   "metadata": {},
   "outputs": [
    {
     "name": "stdout",
     "output_type": "stream",
     "text": [
      "[1]\ttrain-rmse:16.223986+0.324907\ttest-rmse:16.427136+1.391390 \n",
      "Multiple eval metrics are present. Will use test_rmse for early stopping.\n",
      "Will train until test_rmse hasn't improved in 50 rounds.\n",
      "\n",
      "[51]\ttrain-rmse:11.163978+0.257088\ttest-rmse:16.194474+1.217201 \n",
      "Stopping. Best iteration:\n",
      "[17]\ttrain-rmse:13.219493+0.311006\ttest-rmse:15.800160+1.247923\n",
      "\n"
     ]
    }
   ],
   "source": [
    "# Set hyperparameters for XGBoost model for Payment Delay\n",
    "param <- list(\n",
    "  objective = \"reg:squarederror\",  # Regression for continuous target (payment delay)\n",
    "  max_depth = 6L,                 # Maximum depth of the trees\n",
    "  subsample = 0.8,                # Fraction of rows to sample for each tree\n",
    "  colsample_bytree = 0.8,         # Fraction of features to sample for each tree\n",
    "  eta = 0.1,                      # Learning rate\n",
    "  min_child_weight = 1            # Minimum sum of instance weight per leaf (controls overfitting)\n",
    ")\n",
    "\n",
    "# Cross-validation to find best number of rounds for Payment Delay model\n",
    "set.seed(123)  # For repeatability\n",
    "\n",
    "xgb.PaymentDelay_F_CV <- xgb.cv(\n",
    "  params = param,\n",
    "  data = xgb.Payment_Delay_DMat.train,  # DMatrix for train set\n",
    "  nrounds = 2000,           # Maximum number of rounds to train\n",
    "  nfold = 5,                # 5-fold cross-validation\n",
    "  early_stopping_rounds = 50,  # Stop if performance doesn't improve after 50 rounds\n",
    "  print_every_n = 50,      # Print progress every 50 rounds\n",
    "  prediction = TRUE        # Save the predictions during CV\n",
    ")\n",
    "\n",
    "# Check the best number of rounds\n",
    "best_nrounds_payment_delay <- xgb.PaymentDelay_F_CV$best_iteration\n"
   ]
  },
  {
   "cell_type": "code",
   "execution_count": 289,
   "id": "3dd9dcaa-3c81-4d08-8bbb-4ffb30d6ffe8",
   "metadata": {},
   "outputs": [],
   "source": [
    "# Store the out-of-fold predictions for the train set\n",
    "dt_payment_delay_all_F[rowList_Payment_Delay$train, preds_oof_PaymentDelay := xgb.PaymentDelay_F_CV$pred]\n",
    "\n",
    "# Multiply the predictions by exposure to get the weighted predictions\n",
    "dt_payment_delay_all_F[rowList_Payment_Delay$train, preds_oof_PaymentDelay_Weighted := exposure * preds_oof_PaymentDelay]\n"
   ]
  },
  {
   "cell_type": "code",
   "execution_count": 290,
   "id": "7d2448c4-6954-4da1-aa4d-a94313cb3903",
   "metadata": {},
   "outputs": [
    {
     "data": {
      "text/html": [
       "<table class=\"dataframe\">\n",
       "<caption>A data.table: 6 × 14</caption>\n",
       "<thead>\n",
       "\t<tr><th scope=col>j</th><th scope=col>k</th><th scope=col>Cover</th><th scope=col>Brand</th><th scope=col>Model</th><th scope=col>Price</th><th scope=col>delay_uw_val</th><th scope=col>date_uw</th><th scope=col>date_occur_YYYYMM</th><th scope=col>flgSet</th><th scope=col>exposure</th><th scope=col>target_delay_sum</th><th scope=col>preds_oof_PaymentDelay</th><th scope=col>preds_oof_PaymentDelay_Weighted</th></tr>\n",
       "\t<tr><th scope=col>&lt;int&gt;</th><th scope=col>&lt;int&gt;</th><th scope=col>&lt;fct&gt;</th><th scope=col>&lt;dbl&gt;</th><th scope=col>&lt;dbl&gt;</th><th scope=col>&lt;dbl&gt;</th><th scope=col>&lt;dbl&gt;</th><th scope=col>&lt;dbl&gt;</th><th scope=col>&lt;chr&gt;</th><th scope=col>&lt;dbl&gt;</th><th scope=col>&lt;int&gt;</th><th scope=col>&lt;int&gt;</th><th scope=col>&lt;dbl&gt;</th><th scope=col>&lt;dbl&gt;</th></tr>\n",
       "</thead>\n",
       "<tbody>\n",
       "\t<tr><td>1</td><td>1</td><td>BO </td><td>1</td><td>2</td><td>794</td><td>232</td><td>16839</td><td>2016.02</td><td>3</td><td>1</td><td>35</td><td>55.72214</td><td>55.72214</td></tr>\n",
       "\t<tr><td>1</td><td>1</td><td>BO </td><td>1</td><td>3</td><td>913</td><td>225</td><td>16846</td><td>2016.03</td><td>3</td><td>1</td><td>32</td><td>43.73399</td><td>43.73399</td></tr>\n",
       "\t<tr><td>1</td><td>1</td><td>BO </td><td>4</td><td>2</td><td>199</td><td>211</td><td>16860</td><td>2016.04</td><td>3</td><td>1</td><td>33</td><td>35.51548</td><td>35.51548</td></tr>\n",
       "\t<tr><td>1</td><td>1</td><td>BO </td><td>3</td><td>2</td><td>397</td><td>243</td><td>16828</td><td>2016.04</td><td>3</td><td>1</td><td>26</td><td>34.50753</td><td>34.50753</td></tr>\n",
       "\t<tr><td>1</td><td>1</td><td>BOT</td><td>2</td><td>2</td><td>728</td><td>244</td><td>16827</td><td>2016.04</td><td>3</td><td>1</td><td>29</td><td>34.49866</td><td>34.49866</td></tr>\n",
       "\t<tr><td>1</td><td>1</td><td>BOT</td><td>3</td><td>3</td><td>457</td><td>167</td><td>16904</td><td>2016.04</td><td>3</td><td>1</td><td>31</td><td>33.16668</td><td>33.16668</td></tr>\n",
       "</tbody>\n",
       "</table>\n"
      ],
      "text/latex": [
       "A data.table: 6 × 14\n",
       "\\begin{tabular}{llllllllllllll}\n",
       " j & k & Cover & Brand & Model & Price & delay\\_uw\\_val & date\\_uw & date\\_occur\\_YYYYMM & flgSet & exposure & target\\_delay\\_sum & preds\\_oof\\_PaymentDelay & preds\\_oof\\_PaymentDelay\\_Weighted\\\\\n",
       " <int> & <int> & <fct> & <dbl> & <dbl> & <dbl> & <dbl> & <dbl> & <chr> & <dbl> & <int> & <int> & <dbl> & <dbl>\\\\\n",
       "\\hline\n",
       "\t 1 & 1 & BO  & 1 & 2 & 794 & 232 & 16839 & 2016.02 & 3 & 1 & 35 & 55.72214 & 55.72214\\\\\n",
       "\t 1 & 1 & BO  & 1 & 3 & 913 & 225 & 16846 & 2016.03 & 3 & 1 & 32 & 43.73399 & 43.73399\\\\\n",
       "\t 1 & 1 & BO  & 4 & 2 & 199 & 211 & 16860 & 2016.04 & 3 & 1 & 33 & 35.51548 & 35.51548\\\\\n",
       "\t 1 & 1 & BO  & 3 & 2 & 397 & 243 & 16828 & 2016.04 & 3 & 1 & 26 & 34.50753 & 34.50753\\\\\n",
       "\t 1 & 1 & BOT & 2 & 2 & 728 & 244 & 16827 & 2016.04 & 3 & 1 & 29 & 34.49866 & 34.49866\\\\\n",
       "\t 1 & 1 & BOT & 3 & 3 & 457 & 167 & 16904 & 2016.04 & 3 & 1 & 31 & 33.16668 & 33.16668\\\\\n",
       "\\end{tabular}\n"
      ],
      "text/markdown": [
       "\n",
       "A data.table: 6 × 14\n",
       "\n",
       "| j &lt;int&gt; | k &lt;int&gt; | Cover &lt;fct&gt; | Brand &lt;dbl&gt; | Model &lt;dbl&gt; | Price &lt;dbl&gt; | delay_uw_val &lt;dbl&gt; | date_uw &lt;dbl&gt; | date_occur_YYYYMM &lt;chr&gt; | flgSet &lt;dbl&gt; | exposure &lt;int&gt; | target_delay_sum &lt;int&gt; | preds_oof_PaymentDelay &lt;dbl&gt; | preds_oof_PaymentDelay_Weighted &lt;dbl&gt; |\n",
       "|---|---|---|---|---|---|---|---|---|---|---|---|---|---|\n",
       "| 1 | 1 | BO  | 1 | 2 | 794 | 232 | 16839 | 2016.02 | 3 | 1 | 35 | 55.72214 | 55.72214 |\n",
       "| 1 | 1 | BO  | 1 | 3 | 913 | 225 | 16846 | 2016.03 | 3 | 1 | 32 | 43.73399 | 43.73399 |\n",
       "| 1 | 1 | BO  | 4 | 2 | 199 | 211 | 16860 | 2016.04 | 3 | 1 | 33 | 35.51548 | 35.51548 |\n",
       "| 1 | 1 | BO  | 3 | 2 | 397 | 243 | 16828 | 2016.04 | 3 | 1 | 26 | 34.50753 | 34.50753 |\n",
       "| 1 | 1 | BOT | 2 | 2 | 728 | 244 | 16827 | 2016.04 | 3 | 1 | 29 | 34.49866 | 34.49866 |\n",
       "| 1 | 1 | BOT | 3 | 3 | 457 | 167 | 16904 | 2016.04 | 3 | 1 | 31 | 33.16668 | 33.16668 |\n",
       "\n"
      ],
      "text/plain": [
       "  j k Cover Brand Model Price delay_uw_val date_uw date_occur_YYYYMM flgSet\n",
       "1 1 1 BO    1     2     794   232          16839   2016.02           3     \n",
       "2 1 1 BO    1     3     913   225          16846   2016.03           3     \n",
       "3 1 1 BO    4     2     199   211          16860   2016.04           3     \n",
       "4 1 1 BO    3     2     397   243          16828   2016.04           3     \n",
       "5 1 1 BOT   2     2     728   244          16827   2016.04           3     \n",
       "6 1 1 BOT   3     3     457   167          16904   2016.04           3     \n",
       "  exposure target_delay_sum preds_oof_PaymentDelay\n",
       "1 1        35               55.72214              \n",
       "2 1        32               43.73399              \n",
       "3 1        33               35.51548              \n",
       "4 1        26               34.50753              \n",
       "5 1        29               34.49866              \n",
       "6 1        31               33.16668              \n",
       "  preds_oof_PaymentDelay_Weighted\n",
       "1 55.72214                       \n",
       "2 43.73399                       \n",
       "3 35.51548                       \n",
       "4 34.50753                       \n",
       "5 34.49866                       \n",
       "6 33.16668                       "
      ]
     },
     "metadata": {},
     "output_type": "display_data"
    }
   ],
   "source": [
    "head(dt_payment_delay_all_F)"
   ]
  },
  {
   "cell_type": "code",
   "execution_count": 291,
   "id": "d4ce7a70-71ed-4b64-81cf-356466ee82bf",
   "metadata": {},
   "outputs": [
    {
     "name": "stdout",
     "output_type": "stream",
     "text": [
      "[1]\ttrain-rmse:16.192648\ttest-rmse:15.019667 \n",
      "[17]\ttrain-rmse:13.384141\ttest-rmse:15.019080 \n"
     ]
    }
   ],
   "source": [
    "# Train the final model using the best number of rounds from cross-validation\n",
    "xgb.PaymentDelay_F_Fit <- xgb.train(\n",
    "  params = param,  # Hyperparameters for the model\n",
    "  data = xgb.Payment_Delay_DMat.train,  # DMatrix for train set\n",
    "  nrounds = best_nrounds_payment_delay,  # Best number of rounds from cross-validation\n",
    "  watchlist = list(train = xgb.Payment_Delay_DMat.train, test = xgb.Payment_Delay_DMat.test),  # Watch performance on train and test sets\n",
    "  print_every_n = 50  # Print progress every 50 rounds\n",
    ")\n",
    "\n",
    "# Store the predictions for the 'all' dataset\n",
    "dt_payment_delay_all_F[rowList_Payment_Delay$all, preds_full_PaymentDelay := predict(xgb.PaymentDelay_F_Fit, xgb.Payment_Delay_DMat.all)]\n"
   ]
  },
  {
   "cell_type": "code",
   "execution_count": 292,
   "id": "23996f25-6e73-43ac-bd14-2d548c272352",
   "metadata": {},
   "outputs": [
    {
     "data": {
      "text/html": [
       "<table class=\"dataframe\">\n",
       "<caption>A data.table: 6 × 15</caption>\n",
       "<thead>\n",
       "\t<tr><th scope=col>j</th><th scope=col>k</th><th scope=col>Cover</th><th scope=col>Brand</th><th scope=col>Model</th><th scope=col>Price</th><th scope=col>delay_uw_val</th><th scope=col>date_uw</th><th scope=col>date_occur_YYYYMM</th><th scope=col>flgSet</th><th scope=col>exposure</th><th scope=col>target_delay_sum</th><th scope=col>preds_oof_PaymentDelay</th><th scope=col>preds_oof_PaymentDelay_Weighted</th><th scope=col>preds_full_PaymentDelay</th></tr>\n",
       "\t<tr><th scope=col>&lt;int&gt;</th><th scope=col>&lt;int&gt;</th><th scope=col>&lt;fct&gt;</th><th scope=col>&lt;dbl&gt;</th><th scope=col>&lt;dbl&gt;</th><th scope=col>&lt;dbl&gt;</th><th scope=col>&lt;dbl&gt;</th><th scope=col>&lt;dbl&gt;</th><th scope=col>&lt;chr&gt;</th><th scope=col>&lt;dbl&gt;</th><th scope=col>&lt;int&gt;</th><th scope=col>&lt;int&gt;</th><th scope=col>&lt;dbl&gt;</th><th scope=col>&lt;dbl&gt;</th><th scope=col>&lt;dbl&gt;</th></tr>\n",
       "</thead>\n",
       "<tbody>\n",
       "\t<tr><td>1</td><td>1</td><td>BO </td><td>1</td><td>2</td><td>794</td><td>232</td><td>16839</td><td>2016.02</td><td>3</td><td>1</td><td>35</td><td>55.72214</td><td>55.72214</td><td>51.50059</td></tr>\n",
       "\t<tr><td>1</td><td>1</td><td>BO </td><td>1</td><td>3</td><td>913</td><td>225</td><td>16846</td><td>2016.03</td><td>3</td><td>1</td><td>32</td><td>43.73399</td><td>43.73399</td><td>42.40193</td></tr>\n",
       "\t<tr><td>1</td><td>1</td><td>BO </td><td>4</td><td>2</td><td>199</td><td>211</td><td>16860</td><td>2016.04</td><td>3</td><td>1</td><td>33</td><td>35.51548</td><td>35.51548</td><td>35.15765</td></tr>\n",
       "\t<tr><td>1</td><td>1</td><td>BO </td><td>3</td><td>2</td><td>397</td><td>243</td><td>16828</td><td>2016.04</td><td>3</td><td>1</td><td>26</td><td>34.50753</td><td>34.50753</td><td>35.18293</td></tr>\n",
       "\t<tr><td>1</td><td>1</td><td>BOT</td><td>2</td><td>2</td><td>728</td><td>244</td><td>16827</td><td>2016.04</td><td>3</td><td>1</td><td>29</td><td>34.49866</td><td>34.49866</td><td>35.58997</td></tr>\n",
       "\t<tr><td>1</td><td>1</td><td>BOT</td><td>3</td><td>3</td><td>457</td><td>167</td><td>16904</td><td>2016.04</td><td>3</td><td>1</td><td>31</td><td>33.16668</td><td>33.16668</td><td>35.08879</td></tr>\n",
       "</tbody>\n",
       "</table>\n"
      ],
      "text/latex": [
       "A data.table: 6 × 15\n",
       "\\begin{tabular}{lllllllllllllll}\n",
       " j & k & Cover & Brand & Model & Price & delay\\_uw\\_val & date\\_uw & date\\_occur\\_YYYYMM & flgSet & exposure & target\\_delay\\_sum & preds\\_oof\\_PaymentDelay & preds\\_oof\\_PaymentDelay\\_Weighted & preds\\_full\\_PaymentDelay\\\\\n",
       " <int> & <int> & <fct> & <dbl> & <dbl> & <dbl> & <dbl> & <dbl> & <chr> & <dbl> & <int> & <int> & <dbl> & <dbl> & <dbl>\\\\\n",
       "\\hline\n",
       "\t 1 & 1 & BO  & 1 & 2 & 794 & 232 & 16839 & 2016.02 & 3 & 1 & 35 & 55.72214 & 55.72214 & 51.50059\\\\\n",
       "\t 1 & 1 & BO  & 1 & 3 & 913 & 225 & 16846 & 2016.03 & 3 & 1 & 32 & 43.73399 & 43.73399 & 42.40193\\\\\n",
       "\t 1 & 1 & BO  & 4 & 2 & 199 & 211 & 16860 & 2016.04 & 3 & 1 & 33 & 35.51548 & 35.51548 & 35.15765\\\\\n",
       "\t 1 & 1 & BO  & 3 & 2 & 397 & 243 & 16828 & 2016.04 & 3 & 1 & 26 & 34.50753 & 34.50753 & 35.18293\\\\\n",
       "\t 1 & 1 & BOT & 2 & 2 & 728 & 244 & 16827 & 2016.04 & 3 & 1 & 29 & 34.49866 & 34.49866 & 35.58997\\\\\n",
       "\t 1 & 1 & BOT & 3 & 3 & 457 & 167 & 16904 & 2016.04 & 3 & 1 & 31 & 33.16668 & 33.16668 & 35.08879\\\\\n",
       "\\end{tabular}\n"
      ],
      "text/markdown": [
       "\n",
       "A data.table: 6 × 15\n",
       "\n",
       "| j &lt;int&gt; | k &lt;int&gt; | Cover &lt;fct&gt; | Brand &lt;dbl&gt; | Model &lt;dbl&gt; | Price &lt;dbl&gt; | delay_uw_val &lt;dbl&gt; | date_uw &lt;dbl&gt; | date_occur_YYYYMM &lt;chr&gt; | flgSet &lt;dbl&gt; | exposure &lt;int&gt; | target_delay_sum &lt;int&gt; | preds_oof_PaymentDelay &lt;dbl&gt; | preds_oof_PaymentDelay_Weighted &lt;dbl&gt; | preds_full_PaymentDelay &lt;dbl&gt; |\n",
       "|---|---|---|---|---|---|---|---|---|---|---|---|---|---|---|\n",
       "| 1 | 1 | BO  | 1 | 2 | 794 | 232 | 16839 | 2016.02 | 3 | 1 | 35 | 55.72214 | 55.72214 | 51.50059 |\n",
       "| 1 | 1 | BO  | 1 | 3 | 913 | 225 | 16846 | 2016.03 | 3 | 1 | 32 | 43.73399 | 43.73399 | 42.40193 |\n",
       "| 1 | 1 | BO  | 4 | 2 | 199 | 211 | 16860 | 2016.04 | 3 | 1 | 33 | 35.51548 | 35.51548 | 35.15765 |\n",
       "| 1 | 1 | BO  | 3 | 2 | 397 | 243 | 16828 | 2016.04 | 3 | 1 | 26 | 34.50753 | 34.50753 | 35.18293 |\n",
       "| 1 | 1 | BOT | 2 | 2 | 728 | 244 | 16827 | 2016.04 | 3 | 1 | 29 | 34.49866 | 34.49866 | 35.58997 |\n",
       "| 1 | 1 | BOT | 3 | 3 | 457 | 167 | 16904 | 2016.04 | 3 | 1 | 31 | 33.16668 | 33.16668 | 35.08879 |\n",
       "\n"
      ],
      "text/plain": [
       "  j k Cover Brand Model Price delay_uw_val date_uw date_occur_YYYYMM flgSet\n",
       "1 1 1 BO    1     2     794   232          16839   2016.02           3     \n",
       "2 1 1 BO    1     3     913   225          16846   2016.03           3     \n",
       "3 1 1 BO    4     2     199   211          16860   2016.04           3     \n",
       "4 1 1 BO    3     2     397   243          16828   2016.04           3     \n",
       "5 1 1 BOT   2     2     728   244          16827   2016.04           3     \n",
       "6 1 1 BOT   3     3     457   167          16904   2016.04           3     \n",
       "  exposure target_delay_sum preds_oof_PaymentDelay\n",
       "1 1        35               55.72214              \n",
       "2 1        32               43.73399              \n",
       "3 1        33               35.51548              \n",
       "4 1        26               34.50753              \n",
       "5 1        29               34.49866              \n",
       "6 1        31               33.16668              \n",
       "  preds_oof_PaymentDelay_Weighted preds_full_PaymentDelay\n",
       "1 55.72214                        51.50059               \n",
       "2 43.73399                        42.40193               \n",
       "3 35.51548                        35.15765               \n",
       "4 34.50753                        35.18293               \n",
       "5 34.49866                        35.58997               \n",
       "6 33.16668                        35.08879               "
      ]
     },
     "metadata": {},
     "output_type": "display_data"
    }
   ],
   "source": [
    "head(dt_payment_delay_all_F)"
   ]
  },
  {
   "cell_type": "code",
   "execution_count": 293,
   "id": "f55d6fea-72f5-448d-8592-d9e6c8a32237",
   "metadata": {},
   "outputs": [
    {
     "data": {
      "text/html": [
       "<table class=\"dataframe\">\n",
       "<caption>A data.table: 10 × 2</caption>\n",
       "<thead>\n",
       "\t<tr><th scope=col>target_delay_sum</th><th scope=col>preds_full_PaymentDelay</th></tr>\n",
       "\t<tr><th scope=col>&lt;int&gt;</th><th scope=col>&lt;dbl&gt;</th></tr>\n",
       "</thead>\n",
       "<tbody>\n",
       "\t<tr><td>35</td><td>51.50059</td></tr>\n",
       "\t<tr><td>32</td><td>42.40193</td></tr>\n",
       "\t<tr><td>33</td><td>35.15765</td></tr>\n",
       "\t<tr><td>26</td><td>35.18293</td></tr>\n",
       "\t<tr><td>29</td><td>35.58997</td></tr>\n",
       "\t<tr><td>31</td><td>35.08879</td></tr>\n",
       "\t<tr><td>27</td><td>39.73269</td></tr>\n",
       "\t<tr><td>24</td><td>37.67533</td></tr>\n",
       "\t<tr><td>29</td><td>32.66422</td></tr>\n",
       "\t<tr><td>34</td><td>38.46578</td></tr>\n",
       "</tbody>\n",
       "</table>\n"
      ],
      "text/latex": [
       "A data.table: 10 × 2\n",
       "\\begin{tabular}{ll}\n",
       " target\\_delay\\_sum & preds\\_full\\_PaymentDelay\\\\\n",
       " <int> & <dbl>\\\\\n",
       "\\hline\n",
       "\t 35 & 51.50059\\\\\n",
       "\t 32 & 42.40193\\\\\n",
       "\t 33 & 35.15765\\\\\n",
       "\t 26 & 35.18293\\\\\n",
       "\t 29 & 35.58997\\\\\n",
       "\t 31 & 35.08879\\\\\n",
       "\t 27 & 39.73269\\\\\n",
       "\t 24 & 37.67533\\\\\n",
       "\t 29 & 32.66422\\\\\n",
       "\t 34 & 38.46578\\\\\n",
       "\\end{tabular}\n"
      ],
      "text/markdown": [
       "\n",
       "A data.table: 10 × 2\n",
       "\n",
       "| target_delay_sum &lt;int&gt; | preds_full_PaymentDelay &lt;dbl&gt; |\n",
       "|---|---|\n",
       "| 35 | 51.50059 |\n",
       "| 32 | 42.40193 |\n",
       "| 33 | 35.15765 |\n",
       "| 26 | 35.18293 |\n",
       "| 29 | 35.58997 |\n",
       "| 31 | 35.08879 |\n",
       "| 27 | 39.73269 |\n",
       "| 24 | 37.67533 |\n",
       "| 29 | 32.66422 |\n",
       "| 34 | 38.46578 |\n",
       "\n"
      ],
      "text/plain": [
       "   target_delay_sum preds_full_PaymentDelay\n",
       "1  35               51.50059               \n",
       "2  32               42.40193               \n",
       "3  33               35.15765               \n",
       "4  26               35.18293               \n",
       "5  29               35.58997               \n",
       "6  31               35.08879               \n",
       "7  27               39.73269               \n",
       "8  24               37.67533               \n",
       "9  29               32.66422               \n",
       "10 34               38.46578               "
      ]
     },
     "metadata": {},
     "output_type": "display_data"
    }
   ],
   "source": [
    "head(dt_payment_delay_all_F[, .(target_delay_sum, preds_full_PaymentDelay)], 10)"
   ]
  },
  {
   "cell_type": "code",
   "execution_count": 294,
   "id": "caf8df64-402c-491f-8e1d-c5dcee408410",
   "metadata": {},
   "outputs": [
    {
     "data": {
      "image/png": "[encoded data removed]",
      "text/plain": [
       "Plot with title \"Feature Importance - Payment Delay\""
      ]
     },
     "metadata": {
      "image/png": {
       "height": 420,
       "width": 420
      }
     },
     "output_type": "display_data"
    }
   ],
   "source": [
    "# Default feature importance by gain\n",
    "featImp_PaymentDelay <- xgb.importance(\n",
    "  model = xgb.PaymentDelay_F_Fit, \n",
    "  feature_names = colnames(xgb.Payment_Delay_DMat.train)\n",
    ")\n",
    "\n",
    "# Plot the feature importance\n",
    "xgb.plot.importance(\n",
    "  featImp_PaymentDelay, \n",
    "  main = \"Feature Importance - Payment Delay\"\n",
    ")\n"
   ]
  },
  {
   "cell_type": "code",
   "execution_count": 295,
   "id": "a64a080e-eec9-43c5-864d-58755501e280",
   "metadata": {},
   "outputs": [
    {
     "data": {
      "text/html": [
       "<table class=\"dataframe\">\n",
       "<caption>A data.table: 6 × 8</caption>\n",
       "<thead>\n",
       "\t<tr><th scope=col>date_occur_YYYYMM</th><th scope=col>avg_preds</th><th scope=col>avg_target</th><th scope=col>MAE</th><th scope=col>RMSE</th><th scope=col>count</th><th scope=col>Diff</th><th scope=col>Diff_pcnt</th></tr>\n",
       "\t<tr><th scope=col>&lt;chr&gt;</th><th scope=col>&lt;dbl&gt;</th><th scope=col>&lt;dbl&gt;</th><th scope=col>&lt;dbl&gt;</th><th scope=col>&lt;dbl&gt;</th><th scope=col>&lt;int&gt;</th><th scope=col>&lt;dbl&gt;</th><th scope=col>&lt;chr&gt;</th></tr>\n",
       "</thead>\n",
       "<tbody>\n",
       "\t<tr><td>2016.04</td><td>36.19846</td><td>28.00000</td><td>8.198458</td><td> 9.368778</td><td>   2</td><td>8.198458</td><td>29.3%</td></tr>\n",
       "\t<tr><td>2016.05</td><td>37.79565</td><td>34.60000</td><td>4.563029</td><td> 5.697694</td><td>  10</td><td>3.195648</td><td>9.2% </td></tr>\n",
       "\t<tr><td>2016.06</td><td>37.04943</td><td>32.18182</td><td>6.370793</td><td> 7.569308</td><td>  33</td><td>4.867615</td><td>15.1%</td></tr>\n",
       "\t<tr><td>2016.07</td><td>37.36594</td><td>32.38068</td><td>8.370438</td><td>10.559399</td><td> 176</td><td>4.985261</td><td>15.4%</td></tr>\n",
       "\t<tr><td>2016.08</td><td>36.81675</td><td>34.08246</td><td>8.179246</td><td>11.466482</td><td> 958</td><td>2.734282</td><td>8.0% </td></tr>\n",
       "\t<tr><td>2016.09</td><td>36.45621</td><td>33.63608</td><td>9.186205</td><td>12.645608</td><td>1624</td><td>2.820126</td><td>8.4% </td></tr>\n",
       "</tbody>\n",
       "</table>\n"
      ],
      "text/latex": [
       "A data.table: 6 × 8\n",
       "\\begin{tabular}{llllllll}\n",
       " date\\_occur\\_YYYYMM & avg\\_preds & avg\\_target & MAE & RMSE & count & Diff & Diff\\_pcnt\\\\\n",
       " <chr> & <dbl> & <dbl> & <dbl> & <dbl> & <int> & <dbl> & <chr>\\\\\n",
       "\\hline\n",
       "\t 2016.04 & 36.19846 & 28.00000 & 8.198458 &  9.368778 &    2 & 8.198458 & 29.3\\%\\\\\n",
       "\t 2016.05 & 37.79565 & 34.60000 & 4.563029 &  5.697694 &   10 & 3.195648 & 9.2\\% \\\\\n",
       "\t 2016.06 & 37.04943 & 32.18182 & 6.370793 &  7.569308 &   33 & 4.867615 & 15.1\\%\\\\\n",
       "\t 2016.07 & 37.36594 & 32.38068 & 8.370438 & 10.559399 &  176 & 4.985261 & 15.4\\%\\\\\n",
       "\t 2016.08 & 36.81675 & 34.08246 & 8.179246 & 11.466482 &  958 & 2.734282 & 8.0\\% \\\\\n",
       "\t 2016.09 & 36.45621 & 33.63608 & 9.186205 & 12.645608 & 1624 & 2.820126 & 8.4\\% \\\\\n",
       "\\end{tabular}\n"
      ],
      "text/markdown": [
       "\n",
       "A data.table: 6 × 8\n",
       "\n",
       "| date_occur_YYYYMM &lt;chr&gt; | avg_preds &lt;dbl&gt; | avg_target &lt;dbl&gt; | MAE &lt;dbl&gt; | RMSE &lt;dbl&gt; | count &lt;int&gt; | Diff &lt;dbl&gt; | Diff_pcnt &lt;chr&gt; |\n",
       "|---|---|---|---|---|---|---|---|\n",
       "| 2016.04 | 36.19846 | 28.00000 | 8.198458 |  9.368778 |    2 | 8.198458 | 29.3% |\n",
       "| 2016.05 | 37.79565 | 34.60000 | 4.563029 |  5.697694 |   10 | 3.195648 | 9.2%  |\n",
       "| 2016.06 | 37.04943 | 32.18182 | 6.370793 |  7.569308 |   33 | 4.867615 | 15.1% |\n",
       "| 2016.07 | 37.36594 | 32.38068 | 8.370438 | 10.559399 |  176 | 4.985261 | 15.4% |\n",
       "| 2016.08 | 36.81675 | 34.08246 | 8.179246 | 11.466482 |  958 | 2.734282 | 8.0%  |\n",
       "| 2016.09 | 36.45621 | 33.63608 | 9.186205 | 12.645608 | 1624 | 2.820126 | 8.4%  |\n",
       "\n"
      ],
      "text/plain": [
       "  date_occur_YYYYMM avg_preds avg_target MAE      RMSE      count Diff    \n",
       "1 2016.04           36.19846  28.00000   8.198458  9.368778    2  8.198458\n",
       "2 2016.05           37.79565  34.60000   4.563029  5.697694   10  3.195648\n",
       "3 2016.06           37.04943  32.18182   6.370793  7.569308   33  4.867615\n",
       "4 2016.07           37.36594  32.38068   8.370438 10.559399  176  4.985261\n",
       "5 2016.08           36.81675  34.08246   8.179246 11.466482  958  2.734282\n",
       "6 2016.09           36.45621  33.63608   9.186205 12.645608 1624  2.820126\n",
       "  Diff_pcnt\n",
       "1 29.3%    \n",
       "2 9.2%     \n",
       "3 15.1%    \n",
       "4 15.4%    \n",
       "5 8.0%     \n",
       "6 8.4%     "
      ]
     },
     "metadata": {},
     "output_type": "display_data"
    }
   ],
   "source": [
    "# Summarize the payment delay predictions and targets for the test set, grouped by occurrence month (date_occur_YYYYMM)\n",
    "dt_payment_delay_summary <- dt_payment_delay_all_F[rowList_Payment_Delay$test,\n",
    "  .(\n",
    "    avg_preds = mean(preds_full_PaymentDelay, na.rm = TRUE),   # Average predicted delay\n",
    "    avg_target = mean(target_delay_sum, na.rm = TRUE),         # Average actual target delay\n",
    "    MAE = mean(abs(preds_full_PaymentDelay - target_delay_sum), na.rm = TRUE),  # Mean Absolute Error\n",
    "    RMSE = sqrt(mean((preds_full_PaymentDelay - target_delay_sum)^2, na.rm = TRUE)),  # Root Mean Squared Error\n",
    "    count = .N  # Number of observations\n",
    "  ),\n",
    "  keyby = date_occur_YYYYMM  # Group by occurrence month (date_occur_YYYYMM)\n",
    "]\n",
    "\n",
    "# Calculate Diff and % Diff for avg delay\n",
    "dt_payment_delay_summary[, ':='(\n",
    "  Diff = (avg_preds - avg_target),  # Difference between predicted and actual delay\n",
    "  Diff_pcnt = scales::percent((avg_preds - avg_target) / avg_target, accuracy = 0.1)  # Percentage difference\n",
    ")]\n",
    "\n",
    "# Show the first few rows of the summarized table\n",
    "head(dt_payment_delay_summary, 15)\n"
   ]
  },
  {
   "cell_type": "code",
   "execution_count": 296,
   "id": "3281b1f7-7055-4dac-b99a-f30c6ca68269",
   "metadata": {},
   "outputs": [
    {
     "ename": "ERROR",
     "evalue": "Error in eval(bysub, parent.frame(), parent.frame()): object 'date_pol_start_YYYYMM' not found\n",
     "output_type": "error",
     "traceback": [
      "Error in eval(bysub, parent.frame(), parent.frame()): object 'date_pol_start_YYYYMM' not found\nTraceback:\n",
      "1. dt_payment_delay_all_F[rowList_Payment_Delay$test, .(avg_preds = mean(preds_full_PaymentDelay, \n .     na.rm = TRUE), avg_target = mean(target_delay_sum, na.rm = TRUE), \n .     MAE = mean(abs(preds_full_PaymentDelay - target_delay_sum), \n .         na.rm = TRUE), RMSE = sqrt(mean((preds_full_PaymentDelay - \n .         target_delay_sum)^2, na.rm = TRUE)), count = .N), keyby = date_pol_start_YYYYMM]",
      "2. `[.data.table`(dt_payment_delay_all_F, rowList_Payment_Delay$test, \n .     .(avg_preds = mean(preds_full_PaymentDelay, na.rm = TRUE), \n .         avg_target = mean(target_delay_sum, na.rm = TRUE), MAE = mean(abs(preds_full_PaymentDelay - \n .             target_delay_sum), na.rm = TRUE), RMSE = sqrt(mean((preds_full_PaymentDelay - \n .             target_delay_sum)^2, na.rm = TRUE)), count = .N), \n .     keyby = date_pol_start_YYYYMM)",
      "3. eval(bysub, parent.frame(), parent.frame())",
      "4. eval(bysub, parent.frame(), parent.frame())"
     ]
    }
   ],
   "source": [
    "# Summarize the payment delay predictions and targets for the test set, grouped by policy start month (date_pol_start_YYYYMM)\n",
    "dt_payment_delay_summary_polstart <- dt_payment_delay_all_F[rowList_Payment_Delay$test,\n",
    "  .(\n",
    "    avg_preds = mean(preds_full_PaymentDelay, na.rm = TRUE),   # Average predicted delay\n",
    "    avg_target = mean(target_delay_sum, na.rm = TRUE),         # Average actual target delay\n",
    "    MAE = mean(abs(preds_full_PaymentDelay - target_delay_sum), na.rm = TRUE),  # Mean Absolute Error\n",
    "    RMSE = sqrt(mean((preds_full_PaymentDelay - target_delay_sum)^2, na.rm = TRUE)),  # Root Mean Squared Error\n",
    "    count = .N  # Number of observations\n",
    "  ),\n",
    "  keyby = date_pol_start_YYYYMM  # Group by policy start month (date_pol_start_YYYYMM)\n",
    "]\n",
    "\n",
    "# Calculate Diff and % Diff for avg delay\n",
    "dt_payment_delay_summary_polstart[, ':='(\n",
    "  Diff = (avg_preds - avg_target),  # Difference between predicted and actual delay\n",
    "  Diff_pcnt = scales::percent((avg_preds - avg_target) / avg_target, accuracy = 0.1)  # Percentage difference\n",
    ")]\n",
    "\n",
    "# Show the first few rows of the summarized table\n",
    "head(dt_payment_delay_summary_polstart, 15)\n"
   ]
  }
 ],
 "metadata": {
  "kernelspec": {
   "display_name": "myr_env",
   "language": "R",
   "name": "r-conda"
  },
  "language_info": {
   "codemirror_mode": "r",
   "file_extension": ".r",
   "mimetype": "text/x-r-source",
   "name": "R",
   "pygments_lexer": "r",
   "version": "4.1.3"
  }
 },
 "nbformat": 4,
 "nbformat_minor": 5
}
